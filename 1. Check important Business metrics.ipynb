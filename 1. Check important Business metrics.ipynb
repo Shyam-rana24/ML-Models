{
 "cells": [
  {
   "cell_type": "markdown",
   "metadata": {
    "id": "kFeNXc0rLpm4"
   },
   "source": [
    "### Download Dataset\n",
    "\n",
    "<b>Dataset</b>: Online Retail Dataset\n",
    "\n",
    "<a href='https://archive.ics.uci.edu/ml/datasets/Online+Retail' target=\"_blank\">https://archive.ics.uci.edu/ml/datasets/Online+Retail</a>\n",
    "\n",
    "This is a transnational data set which contains all the transactions occurring between 01/12/2010 and 09/12/2011 for a UK-based and registered non-store online retail.The company mainly sells unique all-occasion gifts. Many customers of the company are wholesalers.\n",
    "\n",
    "\n",
    "Number of records: 541909\n",
    "\n",
    "Number of Features: 8\n",
    "\n",
    "<b>Feature Information </b>\n",
    "1. InvoiceNo\n",
    "2. StockCode\n",
    "3. Description\n",
    "4. Quantity\n",
    "5. InvoiceDate\n",
    "6. UnitPrice\n",
    "7. CustomerID\n",
    "8. Country"
   ]
  },
  {
   "cell_type": "markdown",
   "metadata": {
    "id": "Vs02Y3hrlc3u"
   },
   "source": [
    "### Business Metric "
   ]
  },
  {
   "cell_type": "markdown",
   "metadata": {
    "id": "h4c8HhbZlgIY"
   },
   "source": [
    "Understand ke metrices that matters to Business\n",
    "\n",
    "1. **Monthly Revenue**\n",
    "2. **Monthly Active Users**\n",
    "3. **Monthly Sales Quantity**\n",
    "4. **Average Revenue per Order**\n",
    "5. **New Customers Monthly**\n",
    "6. **Revenue from New vs Old customers**\n",
    "7. **Customer Retention Rate**\n",
    "8. **Churn Rate**"
   ]
  },
  {
   "cell_type": "code",
   "execution_count": 1,
   "metadata": {
    "id": "kag5FzQVlfbX"
   },
   "outputs": [],
   "source": [
    "import pandas as pd"
   ]
  },
  {
   "cell_type": "code",
   "execution_count": 2,
   "metadata": {
    "id": "bZsojMTDmGp5"
   },
   "outputs": [],
   "source": [
    "#df = pd.read_csv('OnlineRetail.csv', encoding= 'unicode_escape')\n",
    "df = pd.read_excel('Online Retail.xlsx')"
   ]
  },
  {
   "cell_type": "code",
   "execution_count": 3,
   "metadata": {
    "id": "1gPJu8yomP3_"
   },
   "outputs": [
    {
     "data": {
      "text/html": [
       "<div>\n",
       "<style scoped>\n",
       "    .dataframe tbody tr th:only-of-type {\n",
       "        vertical-align: middle;\n",
       "    }\n",
       "\n",
       "    .dataframe tbody tr th {\n",
       "        vertical-align: top;\n",
       "    }\n",
       "\n",
       "    .dataframe thead th {\n",
       "        text-align: right;\n",
       "    }\n",
       "</style>\n",
       "<table border=\"1\" class=\"dataframe\">\n",
       "  <thead>\n",
       "    <tr style=\"text-align: right;\">\n",
       "      <th></th>\n",
       "      <th>InvoiceNo</th>\n",
       "      <th>StockCode</th>\n",
       "      <th>Description</th>\n",
       "      <th>Quantity</th>\n",
       "      <th>InvoiceDate</th>\n",
       "      <th>UnitPrice</th>\n",
       "      <th>CustomerID</th>\n",
       "      <th>Country</th>\n",
       "    </tr>\n",
       "  </thead>\n",
       "  <tbody>\n",
       "    <tr>\n",
       "      <th>0</th>\n",
       "      <td>536365</td>\n",
       "      <td>85123A</td>\n",
       "      <td>WHITE HANGING HEART T-LIGHT HOLDER</td>\n",
       "      <td>6</td>\n",
       "      <td>2010-12-01 08:26:00</td>\n",
       "      <td>2.55</td>\n",
       "      <td>17850.0</td>\n",
       "      <td>United Kingdom</td>\n",
       "    </tr>\n",
       "    <tr>\n",
       "      <th>1</th>\n",
       "      <td>536365</td>\n",
       "      <td>71053</td>\n",
       "      <td>WHITE METAL LANTERN</td>\n",
       "      <td>6</td>\n",
       "      <td>2010-12-01 08:26:00</td>\n",
       "      <td>3.39</td>\n",
       "      <td>17850.0</td>\n",
       "      <td>United Kingdom</td>\n",
       "    </tr>\n",
       "    <tr>\n",
       "      <th>2</th>\n",
       "      <td>536365</td>\n",
       "      <td>84406B</td>\n",
       "      <td>CREAM CUPID HEARTS COAT HANGER</td>\n",
       "      <td>8</td>\n",
       "      <td>2010-12-01 08:26:00</td>\n",
       "      <td>2.75</td>\n",
       "      <td>17850.0</td>\n",
       "      <td>United Kingdom</td>\n",
       "    </tr>\n",
       "    <tr>\n",
       "      <th>3</th>\n",
       "      <td>536365</td>\n",
       "      <td>84029G</td>\n",
       "      <td>KNITTED UNION FLAG HOT WATER BOTTLE</td>\n",
       "      <td>6</td>\n",
       "      <td>2010-12-01 08:26:00</td>\n",
       "      <td>3.39</td>\n",
       "      <td>17850.0</td>\n",
       "      <td>United Kingdom</td>\n",
       "    </tr>\n",
       "    <tr>\n",
       "      <th>4</th>\n",
       "      <td>536365</td>\n",
       "      <td>84029E</td>\n",
       "      <td>RED WOOLLY HOTTIE WHITE HEART.</td>\n",
       "      <td>6</td>\n",
       "      <td>2010-12-01 08:26:00</td>\n",
       "      <td>3.39</td>\n",
       "      <td>17850.0</td>\n",
       "      <td>United Kingdom</td>\n",
       "    </tr>\n",
       "    <tr>\n",
       "      <th>5</th>\n",
       "      <td>536365</td>\n",
       "      <td>22752</td>\n",
       "      <td>SET 7 BABUSHKA NESTING BOXES</td>\n",
       "      <td>2</td>\n",
       "      <td>2010-12-01 08:26:00</td>\n",
       "      <td>7.65</td>\n",
       "      <td>17850.0</td>\n",
       "      <td>United Kingdom</td>\n",
       "    </tr>\n",
       "    <tr>\n",
       "      <th>6</th>\n",
       "      <td>536365</td>\n",
       "      <td>21730</td>\n",
       "      <td>GLASS STAR FROSTED T-LIGHT HOLDER</td>\n",
       "      <td>6</td>\n",
       "      <td>2010-12-01 08:26:00</td>\n",
       "      <td>4.25</td>\n",
       "      <td>17850.0</td>\n",
       "      <td>United Kingdom</td>\n",
       "    </tr>\n",
       "    <tr>\n",
       "      <th>7</th>\n",
       "      <td>536366</td>\n",
       "      <td>22633</td>\n",
       "      <td>HAND WARMER UNION JACK</td>\n",
       "      <td>6</td>\n",
       "      <td>2010-12-01 08:28:00</td>\n",
       "      <td>1.85</td>\n",
       "      <td>17850.0</td>\n",
       "      <td>United Kingdom</td>\n",
       "    </tr>\n",
       "    <tr>\n",
       "      <th>8</th>\n",
       "      <td>536366</td>\n",
       "      <td>22632</td>\n",
       "      <td>HAND WARMER RED POLKA DOT</td>\n",
       "      <td>6</td>\n",
       "      <td>2010-12-01 08:28:00</td>\n",
       "      <td>1.85</td>\n",
       "      <td>17850.0</td>\n",
       "      <td>United Kingdom</td>\n",
       "    </tr>\n",
       "    <tr>\n",
       "      <th>9</th>\n",
       "      <td>536367</td>\n",
       "      <td>84879</td>\n",
       "      <td>ASSORTED COLOUR BIRD ORNAMENT</td>\n",
       "      <td>32</td>\n",
       "      <td>2010-12-01 08:34:00</td>\n",
       "      <td>1.69</td>\n",
       "      <td>13047.0</td>\n",
       "      <td>United Kingdom</td>\n",
       "    </tr>\n",
       "  </tbody>\n",
       "</table>\n",
       "</div>"
      ],
      "text/plain": [
       "  InvoiceNo StockCode                          Description  Quantity  \\\n",
       "0    536365    85123A   WHITE HANGING HEART T-LIGHT HOLDER         6   \n",
       "1    536365     71053                  WHITE METAL LANTERN         6   \n",
       "2    536365    84406B       CREAM CUPID HEARTS COAT HANGER         8   \n",
       "3    536365    84029G  KNITTED UNION FLAG HOT WATER BOTTLE         6   \n",
       "4    536365    84029E       RED WOOLLY HOTTIE WHITE HEART.         6   \n",
       "5    536365     22752         SET 7 BABUSHKA NESTING BOXES         2   \n",
       "6    536365     21730    GLASS STAR FROSTED T-LIGHT HOLDER         6   \n",
       "7    536366     22633               HAND WARMER UNION JACK         6   \n",
       "8    536366     22632            HAND WARMER RED POLKA DOT         6   \n",
       "9    536367     84879        ASSORTED COLOUR BIRD ORNAMENT        32   \n",
       "\n",
       "          InvoiceDate  UnitPrice  CustomerID         Country  \n",
       "0 2010-12-01 08:26:00       2.55     17850.0  United Kingdom  \n",
       "1 2010-12-01 08:26:00       3.39     17850.0  United Kingdom  \n",
       "2 2010-12-01 08:26:00       2.75     17850.0  United Kingdom  \n",
       "3 2010-12-01 08:26:00       3.39     17850.0  United Kingdom  \n",
       "4 2010-12-01 08:26:00       3.39     17850.0  United Kingdom  \n",
       "5 2010-12-01 08:26:00       7.65     17850.0  United Kingdom  \n",
       "6 2010-12-01 08:26:00       4.25     17850.0  United Kingdom  \n",
       "7 2010-12-01 08:28:00       1.85     17850.0  United Kingdom  \n",
       "8 2010-12-01 08:28:00       1.85     17850.0  United Kingdom  \n",
       "9 2010-12-01 08:34:00       1.69     13047.0  United Kingdom  "
      ]
     },
     "execution_count": 3,
     "metadata": {},
     "output_type": "execute_result"
    }
   ],
   "source": [
    "df.head(10)"
   ]
  },
  {
   "cell_type": "code",
   "execution_count": 4,
   "metadata": {
    "id": "8eIT9DNOqYm7"
   },
   "outputs": [
    {
     "data": {
      "text/plain": [
       "(541909, 8)"
      ]
     },
     "execution_count": 4,
     "metadata": {},
     "output_type": "execute_result"
    }
   ],
   "source": [
    "#Number of records\n",
    "df.shape"
   ]
  },
  {
   "cell_type": "code",
   "execution_count": 5,
   "metadata": {
    "id": "BbViQ1N9Lpm-"
   },
   "outputs": [
    {
     "data": {
      "text/plain": [
       "InvoiceNo           0\n",
       "StockCode           0\n",
       "Description      1454\n",
       "Quantity            0\n",
       "InvoiceDate         0\n",
       "UnitPrice           0\n",
       "CustomerID     135080\n",
       "Country             0\n",
       "dtype: int64"
      ]
     },
     "execution_count": 5,
     "metadata": {},
     "output_type": "execute_result"
    }
   ],
   "source": [
    "#Missing data\n",
    "df.isnull().sum()"
   ]
  },
  {
   "cell_type": "code",
   "execution_count": 5,
   "metadata": {
    "id": "n065HvKDXJ_W"
   },
   "outputs": [
    {
     "name": "stdout",
     "output_type": "stream",
     "text": [
      "<class 'pandas.core.frame.DataFrame'>\n",
      "RangeIndex: 541909 entries, 0 to 541908\n",
      "Data columns (total 8 columns):\n",
      " #   Column       Non-Null Count   Dtype         \n",
      "---  ------       --------------   -----         \n",
      " 0   InvoiceNo    541909 non-null  object        \n",
      " 1   StockCode    541909 non-null  object        \n",
      " 2   Description  540455 non-null  object        \n",
      " 3   Quantity     541909 non-null  int64         \n",
      " 4   InvoiceDate  541909 non-null  datetime64[ns]\n",
      " 5   UnitPrice    541909 non-null  float64       \n",
      " 6   CustomerID   406829 non-null  float64       \n",
      " 7   Country      541909 non-null  object        \n",
      "dtypes: datetime64[ns](1), float64(2), int64(1), object(4)\n",
      "memory usage: 33.1+ MB\n"
     ]
    }
   ],
   "source": [
    "df.info()"
   ]
  },
  {
   "cell_type": "markdown",
   "metadata": {
    "id": "Go9_dIFwm8B8"
   },
   "source": [
    "**1. Monthly Revenue**"
   ]
  },
  {
   "cell_type": "code",
   "execution_count": 11,
   "metadata": {
    "id": "kgrDISmMm_W5"
   },
   "outputs": [],
   "source": [
    "#Convert invoice date to date time\n",
    "df['InvoiceDate'] = pd.to_datetime(df['InvoiceDate'])"
   ]
  },
  {
   "cell_type": "code",
   "execution_count": 12,
   "metadata": {
    "id": "sY42T7uJnRJK"
   },
   "outputs": [],
   "source": [
    "#Create a new column for year-month to look at monthly revenue\n",
    "df['InvoiceYearMonth'] = df['InvoiceDate'].map(lambda date: date.year*100 +date.month)"
   ]
  },
  {
   "cell_type": "code",
   "execution_count": 9,
   "metadata": {
    "id": "-lhfoI7qnvMc"
   },
   "outputs": [
    {
     "data": {
      "text/html": [
       "<div>\n",
       "<style scoped>\n",
       "    .dataframe tbody tr th:only-of-type {\n",
       "        vertical-align: middle;\n",
       "    }\n",
       "\n",
       "    .dataframe tbody tr th {\n",
       "        vertical-align: top;\n",
       "    }\n",
       "\n",
       "    .dataframe thead th {\n",
       "        text-align: right;\n",
       "    }\n",
       "</style>\n",
       "<table border=\"1\" class=\"dataframe\">\n",
       "  <thead>\n",
       "    <tr style=\"text-align: right;\">\n",
       "      <th></th>\n",
       "      <th>InvoiceNo</th>\n",
       "      <th>StockCode</th>\n",
       "      <th>Description</th>\n",
       "      <th>Quantity</th>\n",
       "      <th>InvoiceDate</th>\n",
       "      <th>UnitPrice</th>\n",
       "      <th>CustomerID</th>\n",
       "      <th>Country</th>\n",
       "    </tr>\n",
       "  </thead>\n",
       "  <tbody>\n",
       "    <tr>\n",
       "      <th>0</th>\n",
       "      <td>536365</td>\n",
       "      <td>85123A</td>\n",
       "      <td>WHITE HANGING HEART T-LIGHT HOLDER</td>\n",
       "      <td>6</td>\n",
       "      <td>2010-12-01 08:26:00</td>\n",
       "      <td>2.55</td>\n",
       "      <td>17850.0</td>\n",
       "      <td>United Kingdom</td>\n",
       "    </tr>\n",
       "    <tr>\n",
       "      <th>1</th>\n",
       "      <td>536365</td>\n",
       "      <td>71053</td>\n",
       "      <td>WHITE METAL LANTERN</td>\n",
       "      <td>6</td>\n",
       "      <td>2010-12-01 08:26:00</td>\n",
       "      <td>3.39</td>\n",
       "      <td>17850.0</td>\n",
       "      <td>United Kingdom</td>\n",
       "    </tr>\n",
       "    <tr>\n",
       "      <th>2</th>\n",
       "      <td>536365</td>\n",
       "      <td>84406B</td>\n",
       "      <td>CREAM CUPID HEARTS COAT HANGER</td>\n",
       "      <td>8</td>\n",
       "      <td>2010-12-01 08:26:00</td>\n",
       "      <td>2.75</td>\n",
       "      <td>17850.0</td>\n",
       "      <td>United Kingdom</td>\n",
       "    </tr>\n",
       "    <tr>\n",
       "      <th>3</th>\n",
       "      <td>536365</td>\n",
       "      <td>84029G</td>\n",
       "      <td>KNITTED UNION FLAG HOT WATER BOTTLE</td>\n",
       "      <td>6</td>\n",
       "      <td>2010-12-01 08:26:00</td>\n",
       "      <td>3.39</td>\n",
       "      <td>17850.0</td>\n",
       "      <td>United Kingdom</td>\n",
       "    </tr>\n",
       "    <tr>\n",
       "      <th>4</th>\n",
       "      <td>536365</td>\n",
       "      <td>84029E</td>\n",
       "      <td>RED WOOLLY HOTTIE WHITE HEART.</td>\n",
       "      <td>6</td>\n",
       "      <td>2010-12-01 08:26:00</td>\n",
       "      <td>3.39</td>\n",
       "      <td>17850.0</td>\n",
       "      <td>United Kingdom</td>\n",
       "    </tr>\n",
       "  </tbody>\n",
       "</table>\n",
       "</div>"
      ],
      "text/plain": [
       "  InvoiceNo StockCode                          Description  Quantity  \\\n",
       "0    536365    85123A   WHITE HANGING HEART T-LIGHT HOLDER         6   \n",
       "1    536365     71053                  WHITE METAL LANTERN         6   \n",
       "2    536365    84406B       CREAM CUPID HEARTS COAT HANGER         8   \n",
       "3    536365    84029G  KNITTED UNION FLAG HOT WATER BOTTLE         6   \n",
       "4    536365    84029E       RED WOOLLY HOTTIE WHITE HEART.         6   \n",
       "\n",
       "          InvoiceDate  UnitPrice  CustomerID         Country  \n",
       "0 2010-12-01 08:26:00       2.55     17850.0  United Kingdom  \n",
       "1 2010-12-01 08:26:00       3.39     17850.0  United Kingdom  \n",
       "2 2010-12-01 08:26:00       2.75     17850.0  United Kingdom  \n",
       "3 2010-12-01 08:26:00       3.39     17850.0  United Kingdom  \n",
       "4 2010-12-01 08:26:00       3.39     17850.0  United Kingdom  "
      ]
     },
     "execution_count": 9,
     "metadata": {},
     "output_type": "execute_result"
    }
   ],
   "source": [
    "#Verify the new columns\n",
    "df.head()"
   ]
  },
  {
   "cell_type": "code",
   "execution_count": 13,
   "metadata": {
    "id": "O0bcrPgcqhg8"
   },
   "outputs": [
    {
     "data": {
      "text/plain": [
       "array([201012, 201101, 201102, 201103, 201104, 201105, 201106, 201107,\n",
       "       201108, 201109, 201110, 201111, 201112], dtype=int64)"
      ]
     },
     "execution_count": 13,
     "metadata": {},
     "output_type": "execute_result"
    }
   ],
   "source": [
    "#Number of unique months\n",
    "df.InvoiceYearMonth.unique()"
   ]
  },
  {
   "cell_type": "code",
   "execution_count": 14,
   "metadata": {
    "id": "Q014WD4Qn_V0"
   },
   "outputs": [],
   "source": [
    "#Calculate Revenue column\n",
    "df['Revenue'] = df['Quantity']*df['UnitPrice']"
   ]
  },
  {
   "cell_type": "code",
   "execution_count": 15,
   "metadata": {
    "id": "CdrptwaHoISb"
   },
   "outputs": [
    {
     "data": {
      "text/html": [
       "<div>\n",
       "<style scoped>\n",
       "    .dataframe tbody tr th:only-of-type {\n",
       "        vertical-align: middle;\n",
       "    }\n",
       "\n",
       "    .dataframe tbody tr th {\n",
       "        vertical-align: top;\n",
       "    }\n",
       "\n",
       "    .dataframe thead th {\n",
       "        text-align: right;\n",
       "    }\n",
       "</style>\n",
       "<table border=\"1\" class=\"dataframe\">\n",
       "  <thead>\n",
       "    <tr style=\"text-align: right;\">\n",
       "      <th></th>\n",
       "      <th>InvoiceNo</th>\n",
       "      <th>StockCode</th>\n",
       "      <th>Description</th>\n",
       "      <th>Quantity</th>\n",
       "      <th>InvoiceDate</th>\n",
       "      <th>UnitPrice</th>\n",
       "      <th>CustomerID</th>\n",
       "      <th>Country</th>\n",
       "      <th>InvoiceYearMonth</th>\n",
       "      <th>Revenue</th>\n",
       "    </tr>\n",
       "  </thead>\n",
       "  <tbody>\n",
       "    <tr>\n",
       "      <th>0</th>\n",
       "      <td>536365</td>\n",
       "      <td>85123A</td>\n",
       "      <td>WHITE HANGING HEART T-LIGHT HOLDER</td>\n",
       "      <td>6</td>\n",
       "      <td>2010-12-01 08:26:00</td>\n",
       "      <td>2.55</td>\n",
       "      <td>17850.0</td>\n",
       "      <td>United Kingdom</td>\n",
       "      <td>201012</td>\n",
       "      <td>15.30</td>\n",
       "    </tr>\n",
       "    <tr>\n",
       "      <th>1</th>\n",
       "      <td>536365</td>\n",
       "      <td>71053</td>\n",
       "      <td>WHITE METAL LANTERN</td>\n",
       "      <td>6</td>\n",
       "      <td>2010-12-01 08:26:00</td>\n",
       "      <td>3.39</td>\n",
       "      <td>17850.0</td>\n",
       "      <td>United Kingdom</td>\n",
       "      <td>201012</td>\n",
       "      <td>20.34</td>\n",
       "    </tr>\n",
       "    <tr>\n",
       "      <th>2</th>\n",
       "      <td>536365</td>\n",
       "      <td>84406B</td>\n",
       "      <td>CREAM CUPID HEARTS COAT HANGER</td>\n",
       "      <td>8</td>\n",
       "      <td>2010-12-01 08:26:00</td>\n",
       "      <td>2.75</td>\n",
       "      <td>17850.0</td>\n",
       "      <td>United Kingdom</td>\n",
       "      <td>201012</td>\n",
       "      <td>22.00</td>\n",
       "    </tr>\n",
       "    <tr>\n",
       "      <th>3</th>\n",
       "      <td>536365</td>\n",
       "      <td>84029G</td>\n",
       "      <td>KNITTED UNION FLAG HOT WATER BOTTLE</td>\n",
       "      <td>6</td>\n",
       "      <td>2010-12-01 08:26:00</td>\n",
       "      <td>3.39</td>\n",
       "      <td>17850.0</td>\n",
       "      <td>United Kingdom</td>\n",
       "      <td>201012</td>\n",
       "      <td>20.34</td>\n",
       "    </tr>\n",
       "    <tr>\n",
       "      <th>4</th>\n",
       "      <td>536365</td>\n",
       "      <td>84029E</td>\n",
       "      <td>RED WOOLLY HOTTIE WHITE HEART.</td>\n",
       "      <td>6</td>\n",
       "      <td>2010-12-01 08:26:00</td>\n",
       "      <td>3.39</td>\n",
       "      <td>17850.0</td>\n",
       "      <td>United Kingdom</td>\n",
       "      <td>201012</td>\n",
       "      <td>20.34</td>\n",
       "    </tr>\n",
       "  </tbody>\n",
       "</table>\n",
       "</div>"
      ],
      "text/plain": [
       "  InvoiceNo StockCode                          Description  Quantity  \\\n",
       "0    536365    85123A   WHITE HANGING HEART T-LIGHT HOLDER         6   \n",
       "1    536365     71053                  WHITE METAL LANTERN         6   \n",
       "2    536365    84406B       CREAM CUPID HEARTS COAT HANGER         8   \n",
       "3    536365    84029G  KNITTED UNION FLAG HOT WATER BOTTLE         6   \n",
       "4    536365    84029E       RED WOOLLY HOTTIE WHITE HEART.         6   \n",
       "\n",
       "          InvoiceDate  UnitPrice  CustomerID         Country  \\\n",
       "0 2010-12-01 08:26:00       2.55     17850.0  United Kingdom   \n",
       "1 2010-12-01 08:26:00       3.39     17850.0  United Kingdom   \n",
       "2 2010-12-01 08:26:00       2.75     17850.0  United Kingdom   \n",
       "3 2010-12-01 08:26:00       3.39     17850.0  United Kingdom   \n",
       "4 2010-12-01 08:26:00       3.39     17850.0  United Kingdom   \n",
       "\n",
       "   InvoiceYearMonth  Revenue  \n",
       "0            201012    15.30  \n",
       "1            201012    20.34  \n",
       "2            201012    22.00  \n",
       "3            201012    20.34  \n",
       "4            201012    20.34  "
      ]
     },
     "execution_count": 15,
     "metadata": {},
     "output_type": "execute_result"
    }
   ],
   "source": [
    "df.head()"
   ]
  },
  {
   "cell_type": "markdown",
   "metadata": {
    "id": "QpE3Vj3woUPx"
   },
   "source": [
    "Summarize revenue by month"
   ]
  },
  {
   "cell_type": "code",
   "execution_count": 16,
   "metadata": {
    "id": "BeciT3eaoW-D"
   },
   "outputs": [],
   "source": [
    "revenue_df = df.groupby(['InvoiceYearMonth'])['Revenue'].sum().reset_index()"
   ]
  },
  {
   "cell_type": "code",
   "execution_count": 17,
   "metadata": {
    "id": "Dig-LsF2oyTT"
   },
   "outputs": [
    {
     "data": {
      "text/html": [
       "<div>\n",
       "<style scoped>\n",
       "    .dataframe tbody tr th:only-of-type {\n",
       "        vertical-align: middle;\n",
       "    }\n",
       "\n",
       "    .dataframe tbody tr th {\n",
       "        vertical-align: top;\n",
       "    }\n",
       "\n",
       "    .dataframe thead th {\n",
       "        text-align: right;\n",
       "    }\n",
       "</style>\n",
       "<table border=\"1\" class=\"dataframe\">\n",
       "  <thead>\n",
       "    <tr style=\"text-align: right;\">\n",
       "      <th></th>\n",
       "      <th>InvoiceYearMonth</th>\n",
       "      <th>Revenue</th>\n",
       "    </tr>\n",
       "  </thead>\n",
       "  <tbody>\n",
       "    <tr>\n",
       "      <th>0</th>\n",
       "      <td>201012</td>\n",
       "      <td>748957.020</td>\n",
       "    </tr>\n",
       "    <tr>\n",
       "      <th>1</th>\n",
       "      <td>201101</td>\n",
       "      <td>560000.260</td>\n",
       "    </tr>\n",
       "    <tr>\n",
       "      <th>2</th>\n",
       "      <td>201102</td>\n",
       "      <td>498062.650</td>\n",
       "    </tr>\n",
       "    <tr>\n",
       "      <th>3</th>\n",
       "      <td>201103</td>\n",
       "      <td>683267.080</td>\n",
       "    </tr>\n",
       "    <tr>\n",
       "      <th>4</th>\n",
       "      <td>201104</td>\n",
       "      <td>493207.121</td>\n",
       "    </tr>\n",
       "    <tr>\n",
       "      <th>5</th>\n",
       "      <td>201105</td>\n",
       "      <td>723333.510</td>\n",
       "    </tr>\n",
       "    <tr>\n",
       "      <th>6</th>\n",
       "      <td>201106</td>\n",
       "      <td>691123.120</td>\n",
       "    </tr>\n",
       "    <tr>\n",
       "      <th>7</th>\n",
       "      <td>201107</td>\n",
       "      <td>681300.111</td>\n",
       "    </tr>\n",
       "    <tr>\n",
       "      <th>8</th>\n",
       "      <td>201108</td>\n",
       "      <td>682680.510</td>\n",
       "    </tr>\n",
       "    <tr>\n",
       "      <th>9</th>\n",
       "      <td>201109</td>\n",
       "      <td>1019687.622</td>\n",
       "    </tr>\n",
       "    <tr>\n",
       "      <th>10</th>\n",
       "      <td>201110</td>\n",
       "      <td>1070704.670</td>\n",
       "    </tr>\n",
       "    <tr>\n",
       "      <th>11</th>\n",
       "      <td>201111</td>\n",
       "      <td>1461756.250</td>\n",
       "    </tr>\n",
       "    <tr>\n",
       "      <th>12</th>\n",
       "      <td>201112</td>\n",
       "      <td>433668.010</td>\n",
       "    </tr>\n",
       "  </tbody>\n",
       "</table>\n",
       "</div>"
      ],
      "text/plain": [
       "    InvoiceYearMonth      Revenue\n",
       "0             201012   748957.020\n",
       "1             201101   560000.260\n",
       "2             201102   498062.650\n",
       "3             201103   683267.080\n",
       "4             201104   493207.121\n",
       "5             201105   723333.510\n",
       "6             201106   691123.120\n",
       "7             201107   681300.111\n",
       "8             201108   682680.510\n",
       "9             201109  1019687.622\n",
       "10            201110  1070704.670\n",
       "11            201111  1461756.250\n",
       "12            201112   433668.010"
      ]
     },
     "execution_count": 17,
     "metadata": {},
     "output_type": "execute_result"
    }
   ],
   "source": [
    "revenue_df"
   ]
  },
  {
   "cell_type": "markdown",
   "metadata": {
    "id": "F8lUs26UpPVu"
   },
   "source": [
    "Visualize data"
   ]
  },
  {
   "cell_type": "code",
   "execution_count": 18,
   "metadata": {
    "id": "lg6M_ZExqw9D"
   },
   "outputs": [],
   "source": [
    "from matplotlib import pyplot as plt"
   ]
  },
  {
   "cell_type": "code",
   "execution_count": 19,
   "metadata": {
    "id": "O9fJ1wfkpQaM"
   },
   "outputs": [
    {
     "data": {
      "image/png": "[encoded data removed]",
      "text/plain": [
       "<Figure size 1080x360 with 1 Axes>"
      ]
     },
     "metadata": {
      "needs_background": "light"
     },
     "output_type": "display_data"
    }
   ],
   "source": [
    "revenue_df.plot(x='InvoiceYearMonth', y='Revenue', kind='bar', figsize=(15,5))\n",
    "plt.show()"
   ]
  },
  {
   "cell_type": "markdown",
   "metadata": {
    "id": "hicKH179tRxM"
   },
   "source": [
    "**2. Monthly Active Users**"
   ]
  },
  {
   "cell_type": "code",
   "execution_count": 20,
   "metadata": {
    "id": "PVIxgYwbpSEv"
   },
   "outputs": [
    {
     "data": {
      "text/plain": [
       "array(['United Kingdom', 'France', 'Australia', 'Netherlands', 'Germany',\n",
       "       'Norway', 'EIRE', 'Switzerland', 'Spain', 'Poland', 'Portugal',\n",
       "       'Italy', 'Belgium', 'Lithuania', 'Japan', 'Iceland',\n",
       "       'Channel Islands', 'Denmark', 'Cyprus', 'Sweden', 'Austria',\n",
       "       'Israel', 'Finland', 'Bahrain', 'Greece', 'Hong Kong', 'Singapore',\n",
       "       'Lebanon', 'United Arab Emirates', 'Saudi Arabia',\n",
       "       'Czech Republic', 'Canada', 'Unspecified', 'Brazil', 'USA',\n",
       "       'European Community', 'Malta', 'RSA'], dtype=object)"
      ]
     },
     "execution_count": 20,
     "metadata": {},
     "output_type": "execute_result"
    }
   ],
   "source": [
    "#Data from several countries\n",
    "df.Country.unique()"
   ]
  },
  {
   "cell_type": "code",
   "execution_count": 21,
   "metadata": {
    "id": "YWkGf0zHth-u"
   },
   "outputs": [],
   "source": [
    "#Number of Unique users\n",
    "cust_df = df.groupby(['InvoiceYearMonth'])['CustomerID'].nunique().reset_index()\n",
    "cust_df.rename(columns={'CustomerID':'# of Customers'}, inplace=True)"
   ]
  },
  {
   "cell_type": "code",
   "execution_count": 22,
   "metadata": {
    "id": "zda8nvCDwE84"
   },
   "outputs": [
    {
     "data": {
      "text/html": [
       "<div>\n",
       "<style scoped>\n",
       "    .dataframe tbody tr th:only-of-type {\n",
       "        vertical-align: middle;\n",
       "    }\n",
       "\n",
       "    .dataframe tbody tr th {\n",
       "        vertical-align: top;\n",
       "    }\n",
       "\n",
       "    .dataframe thead th {\n",
       "        text-align: right;\n",
       "    }\n",
       "</style>\n",
       "<table border=\"1\" class=\"dataframe\">\n",
       "  <thead>\n",
       "    <tr style=\"text-align: right;\">\n",
       "      <th></th>\n",
       "      <th>InvoiceYearMonth</th>\n",
       "      <th># of Customers</th>\n",
       "    </tr>\n",
       "  </thead>\n",
       "  <tbody>\n",
       "    <tr>\n",
       "      <th>0</th>\n",
       "      <td>201012</td>\n",
       "      <td>948</td>\n",
       "    </tr>\n",
       "    <tr>\n",
       "      <th>1</th>\n",
       "      <td>201101</td>\n",
       "      <td>783</td>\n",
       "    </tr>\n",
       "    <tr>\n",
       "      <th>2</th>\n",
       "      <td>201102</td>\n",
       "      <td>798</td>\n",
       "    </tr>\n",
       "    <tr>\n",
       "      <th>3</th>\n",
       "      <td>201103</td>\n",
       "      <td>1020</td>\n",
       "    </tr>\n",
       "    <tr>\n",
       "      <th>4</th>\n",
       "      <td>201104</td>\n",
       "      <td>899</td>\n",
       "    </tr>\n",
       "    <tr>\n",
       "      <th>5</th>\n",
       "      <td>201105</td>\n",
       "      <td>1079</td>\n",
       "    </tr>\n",
       "    <tr>\n",
       "      <th>6</th>\n",
       "      <td>201106</td>\n",
       "      <td>1051</td>\n",
       "    </tr>\n",
       "    <tr>\n",
       "      <th>7</th>\n",
       "      <td>201107</td>\n",
       "      <td>993</td>\n",
       "    </tr>\n",
       "    <tr>\n",
       "      <th>8</th>\n",
       "      <td>201108</td>\n",
       "      <td>980</td>\n",
       "    </tr>\n",
       "    <tr>\n",
       "      <th>9</th>\n",
       "      <td>201109</td>\n",
       "      <td>1302</td>\n",
       "    </tr>\n",
       "    <tr>\n",
       "      <th>10</th>\n",
       "      <td>201110</td>\n",
       "      <td>1425</td>\n",
       "    </tr>\n",
       "    <tr>\n",
       "      <th>11</th>\n",
       "      <td>201111</td>\n",
       "      <td>1711</td>\n",
       "    </tr>\n",
       "    <tr>\n",
       "      <th>12</th>\n",
       "      <td>201112</td>\n",
       "      <td>686</td>\n",
       "    </tr>\n",
       "  </tbody>\n",
       "</table>\n",
       "</div>"
      ],
      "text/plain": [
       "    InvoiceYearMonth  # of Customers\n",
       "0             201012             948\n",
       "1             201101             783\n",
       "2             201102             798\n",
       "3             201103            1020\n",
       "4             201104             899\n",
       "5             201105            1079\n",
       "6             201106            1051\n",
       "7             201107             993\n",
       "8             201108             980\n",
       "9             201109            1302\n",
       "10            201110            1425\n",
       "11            201111            1711\n",
       "12            201112             686"
      ]
     },
     "execution_count": 22,
     "metadata": {},
     "output_type": "execute_result"
    }
   ],
   "source": [
    "cust_df"
   ]
  },
  {
   "cell_type": "code",
   "execution_count": 23,
   "metadata": {
    "id": "xOg_ubqNt2g-"
   },
   "outputs": [
    {
     "data": {
      "image/png": "[encoded data removed]",
      "text/plain": [
       "<Figure size 1080x360 with 1 Axes>"
      ]
     },
     "metadata": {
      "needs_background": "light"
     },
     "output_type": "display_data"
    }
   ],
   "source": [
    "cust_df.plot.bar(x='InvoiceYearMonth', y='# of Customers', figsize=(15,5), color='purple')\n",
    "plt.show()"
   ]
  },
  {
   "cell_type": "markdown",
   "metadata": {
    "id": "R2JWJzG7wZaX"
   },
   "source": [
    "**3. Monthly Sales Quantity**"
   ]
  },
  {
   "cell_type": "code",
   "execution_count": 24,
   "metadata": {
    "id": "rAqYYOaOwdMY"
   },
   "outputs": [
    {
     "data": {
      "text/html": [
       "<div>\n",
       "<style scoped>\n",
       "    .dataframe tbody tr th:only-of-type {\n",
       "        vertical-align: middle;\n",
       "    }\n",
       "\n",
       "    .dataframe tbody tr th {\n",
       "        vertical-align: top;\n",
       "    }\n",
       "\n",
       "    .dataframe thead th {\n",
       "        text-align: right;\n",
       "    }\n",
       "</style>\n",
       "<table border=\"1\" class=\"dataframe\">\n",
       "  <thead>\n",
       "    <tr style=\"text-align: right;\">\n",
       "      <th></th>\n",
       "      <th>InvoiceYearMonth</th>\n",
       "      <th>Quantity</th>\n",
       "    </tr>\n",
       "  </thead>\n",
       "  <tbody>\n",
       "    <tr>\n",
       "      <th>0</th>\n",
       "      <td>201012</td>\n",
       "      <td>342228</td>\n",
       "    </tr>\n",
       "    <tr>\n",
       "      <th>1</th>\n",
       "      <td>201101</td>\n",
       "      <td>308966</td>\n",
       "    </tr>\n",
       "    <tr>\n",
       "      <th>2</th>\n",
       "      <td>201102</td>\n",
       "      <td>277989</td>\n",
       "    </tr>\n",
       "    <tr>\n",
       "      <th>3</th>\n",
       "      <td>201103</td>\n",
       "      <td>351872</td>\n",
       "    </tr>\n",
       "    <tr>\n",
       "      <th>4</th>\n",
       "      <td>201104</td>\n",
       "      <td>289098</td>\n",
       "    </tr>\n",
       "    <tr>\n",
       "      <th>5</th>\n",
       "      <td>201105</td>\n",
       "      <td>380391</td>\n",
       "    </tr>\n",
       "    <tr>\n",
       "      <th>6</th>\n",
       "      <td>201106</td>\n",
       "      <td>341623</td>\n",
       "    </tr>\n",
       "    <tr>\n",
       "      <th>7</th>\n",
       "      <td>201107</td>\n",
       "      <td>391116</td>\n",
       "    </tr>\n",
       "    <tr>\n",
       "      <th>8</th>\n",
       "      <td>201108</td>\n",
       "      <td>406199</td>\n",
       "    </tr>\n",
       "    <tr>\n",
       "      <th>9</th>\n",
       "      <td>201109</td>\n",
       "      <td>549817</td>\n",
       "    </tr>\n",
       "    <tr>\n",
       "      <th>10</th>\n",
       "      <td>201110</td>\n",
       "      <td>570532</td>\n",
       "    </tr>\n",
       "    <tr>\n",
       "      <th>11</th>\n",
       "      <td>201111</td>\n",
       "      <td>740286</td>\n",
       "    </tr>\n",
       "    <tr>\n",
       "      <th>12</th>\n",
       "      <td>201112</td>\n",
       "      <td>226333</td>\n",
       "    </tr>\n",
       "  </tbody>\n",
       "</table>\n",
       "</div>"
      ],
      "text/plain": [
       "    InvoiceYearMonth  Quantity\n",
       "0             201012    342228\n",
       "1             201101    308966\n",
       "2             201102    277989\n",
       "3             201103    351872\n",
       "4             201104    289098\n",
       "5             201105    380391\n",
       "6             201106    341623\n",
       "7             201107    391116\n",
       "8             201108    406199\n",
       "9             201109    549817\n",
       "10            201110    570532\n",
       "11            201111    740286\n",
       "12            201112    226333"
      ]
     },
     "execution_count": 24,
     "metadata": {},
     "output_type": "execute_result"
    }
   ],
   "source": [
    "sales_df = df.groupby(['InvoiceYearMonth'])['Quantity'].sum().reset_index()\n",
    "sales_df"
   ]
  },
  {
   "cell_type": "code",
   "execution_count": 25,
   "metadata": {
    "id": "yxofQ4cQw5-S"
   },
   "outputs": [
    {
     "data": {
      "image/png": "[encoded data removed]",
      "text/plain": [
       "<Figure size 1080x360 with 1 Axes>"
      ]
     },
     "metadata": {
      "needs_background": "light"
     },
     "output_type": "display_data"
    }
   ],
   "source": [
    "sales_df.plot.bar(x='InvoiceYearMonth', y='Quantity', figsize=(15,5))\n",
    "plt.show()"
   ]
  },
  {
   "cell_type": "markdown",
   "metadata": {
    "id": "FWc4TF65xd2o"
   },
   "source": [
    "**4. Average Revenue per Order**"
   ]
  },
  {
   "cell_type": "code",
   "execution_count": 26,
   "metadata": {
    "id": "SFx33L49xh1g"
   },
   "outputs": [
    {
     "data": {
      "text/html": [
       "<div>\n",
       "<style scoped>\n",
       "    .dataframe tbody tr th:only-of-type {\n",
       "        vertical-align: middle;\n",
       "    }\n",
       "\n",
       "    .dataframe tbody tr th {\n",
       "        vertical-align: top;\n",
       "    }\n",
       "\n",
       "    .dataframe thead th {\n",
       "        text-align: right;\n",
       "    }\n",
       "</style>\n",
       "<table border=\"1\" class=\"dataframe\">\n",
       "  <thead>\n",
       "    <tr style=\"text-align: right;\">\n",
       "      <th></th>\n",
       "      <th>InvoiceYearMonth</th>\n",
       "      <th>Invoices</th>\n",
       "    </tr>\n",
       "  </thead>\n",
       "  <tbody>\n",
       "    <tr>\n",
       "      <th>0</th>\n",
       "      <td>201012</td>\n",
       "      <td>2025</td>\n",
       "    </tr>\n",
       "    <tr>\n",
       "      <th>1</th>\n",
       "      <td>201101</td>\n",
       "      <td>1476</td>\n",
       "    </tr>\n",
       "    <tr>\n",
       "      <th>2</th>\n",
       "      <td>201102</td>\n",
       "      <td>1393</td>\n",
       "    </tr>\n",
       "    <tr>\n",
       "      <th>3</th>\n",
       "      <td>201103</td>\n",
       "      <td>1983</td>\n",
       "    </tr>\n",
       "    <tr>\n",
       "      <th>4</th>\n",
       "      <td>201104</td>\n",
       "      <td>1744</td>\n",
       "    </tr>\n",
       "    <tr>\n",
       "      <th>5</th>\n",
       "      <td>201105</td>\n",
       "      <td>2162</td>\n",
       "    </tr>\n",
       "    <tr>\n",
       "      <th>6</th>\n",
       "      <td>201106</td>\n",
       "      <td>2012</td>\n",
       "    </tr>\n",
       "    <tr>\n",
       "      <th>7</th>\n",
       "      <td>201107</td>\n",
       "      <td>1927</td>\n",
       "    </tr>\n",
       "    <tr>\n",
       "      <th>8</th>\n",
       "      <td>201108</td>\n",
       "      <td>1737</td>\n",
       "    </tr>\n",
       "    <tr>\n",
       "      <th>9</th>\n",
       "      <td>201109</td>\n",
       "      <td>2327</td>\n",
       "    </tr>\n",
       "    <tr>\n",
       "      <th>10</th>\n",
       "      <td>201110</td>\n",
       "      <td>2637</td>\n",
       "    </tr>\n",
       "    <tr>\n",
       "      <th>11</th>\n",
       "      <td>201111</td>\n",
       "      <td>3462</td>\n",
       "    </tr>\n",
       "    <tr>\n",
       "      <th>12</th>\n",
       "      <td>201112</td>\n",
       "      <td>1015</td>\n",
       "    </tr>\n",
       "  </tbody>\n",
       "</table>\n",
       "</div>"
      ],
      "text/plain": [
       "    InvoiceYearMonth  Invoices\n",
       "0             201012      2025\n",
       "1             201101      1476\n",
       "2             201102      1393\n",
       "3             201103      1983\n",
       "4             201104      1744\n",
       "5             201105      2162\n",
       "6             201106      2012\n",
       "7             201107      1927\n",
       "8             201108      1737\n",
       "9             201109      2327\n",
       "10            201110      2637\n",
       "11            201111      3462\n",
       "12            201112      1015"
      ]
     },
     "execution_count": 26,
     "metadata": {},
     "output_type": "execute_result"
    }
   ],
   "source": [
    "#Invoices per month\n",
    "invoices_df = df.groupby(['InvoiceYearMonth'])['InvoiceNo'].nunique().reset_index()\n",
    "invoices_df.rename(columns={'InvoiceNo':'Invoices'}, inplace=True)\n",
    "invoices_df"
   ]
  },
  {
   "cell_type": "code",
   "execution_count": 27,
   "metadata": {
    "id": "KxO80O4byiV2"
   },
   "outputs": [
    {
     "data": {
      "image/png": "[encoded data removed]",
      "text/plain": [
       "<Figure size 1080x360 with 1 Axes>"
      ]
     },
     "metadata": {
      "needs_background": "light"
     },
     "output_type": "display_data"
    }
   ],
   "source": [
    "#Visualize\n",
    "invoices_df.plot.bar(x='InvoiceYearMonth', y='Invoices', figsize=(15,5), color='orange')\n",
    "plt.show()"
   ]
  },
  {
   "cell_type": "markdown",
   "metadata": {
    "id": "oNblaTvOyrAI"
   },
   "source": [
    "Combine Revenue and Invoices data by month"
   ]
  },
  {
   "cell_type": "code",
   "execution_count": 28,
   "metadata": {
    "id": "r8vpYnWmyvR4"
   },
   "outputs": [
    {
     "data": {
      "text/html": [
       "<div>\n",
       "<style scoped>\n",
       "    .dataframe tbody tr th:only-of-type {\n",
       "        vertical-align: middle;\n",
       "    }\n",
       "\n",
       "    .dataframe tbody tr th {\n",
       "        vertical-align: top;\n",
       "    }\n",
       "\n",
       "    .dataframe thead th {\n",
       "        text-align: right;\n",
       "    }\n",
       "</style>\n",
       "<table border=\"1\" class=\"dataframe\">\n",
       "  <thead>\n",
       "    <tr style=\"text-align: right;\">\n",
       "      <th></th>\n",
       "      <th>InvoiceYearMonth</th>\n",
       "      <th>Revenue</th>\n",
       "      <th>Invoices</th>\n",
       "    </tr>\n",
       "  </thead>\n",
       "  <tbody>\n",
       "    <tr>\n",
       "      <th>0</th>\n",
       "      <td>201012</td>\n",
       "      <td>748957.020</td>\n",
       "      <td>2025</td>\n",
       "    </tr>\n",
       "    <tr>\n",
       "      <th>1</th>\n",
       "      <td>201101</td>\n",
       "      <td>560000.260</td>\n",
       "      <td>1476</td>\n",
       "    </tr>\n",
       "    <tr>\n",
       "      <th>2</th>\n",
       "      <td>201102</td>\n",
       "      <td>498062.650</td>\n",
       "      <td>1393</td>\n",
       "    </tr>\n",
       "    <tr>\n",
       "      <th>3</th>\n",
       "      <td>201103</td>\n",
       "      <td>683267.080</td>\n",
       "      <td>1983</td>\n",
       "    </tr>\n",
       "    <tr>\n",
       "      <th>4</th>\n",
       "      <td>201104</td>\n",
       "      <td>493207.121</td>\n",
       "      <td>1744</td>\n",
       "    </tr>\n",
       "    <tr>\n",
       "      <th>5</th>\n",
       "      <td>201105</td>\n",
       "      <td>723333.510</td>\n",
       "      <td>2162</td>\n",
       "    </tr>\n",
       "    <tr>\n",
       "      <th>6</th>\n",
       "      <td>201106</td>\n",
       "      <td>691123.120</td>\n",
       "      <td>2012</td>\n",
       "    </tr>\n",
       "    <tr>\n",
       "      <th>7</th>\n",
       "      <td>201107</td>\n",
       "      <td>681300.111</td>\n",
       "      <td>1927</td>\n",
       "    </tr>\n",
       "    <tr>\n",
       "      <th>8</th>\n",
       "      <td>201108</td>\n",
       "      <td>682680.510</td>\n",
       "      <td>1737</td>\n",
       "    </tr>\n",
       "    <tr>\n",
       "      <th>9</th>\n",
       "      <td>201109</td>\n",
       "      <td>1019687.622</td>\n",
       "      <td>2327</td>\n",
       "    </tr>\n",
       "    <tr>\n",
       "      <th>10</th>\n",
       "      <td>201110</td>\n",
       "      <td>1070704.670</td>\n",
       "      <td>2637</td>\n",
       "    </tr>\n",
       "    <tr>\n",
       "      <th>11</th>\n",
       "      <td>201111</td>\n",
       "      <td>1461756.250</td>\n",
       "      <td>3462</td>\n",
       "    </tr>\n",
       "    <tr>\n",
       "      <th>12</th>\n",
       "      <td>201112</td>\n",
       "      <td>433668.010</td>\n",
       "      <td>1015</td>\n",
       "    </tr>\n",
       "  </tbody>\n",
       "</table>\n",
       "</div>"
      ],
      "text/plain": [
       "    InvoiceYearMonth      Revenue  Invoices\n",
       "0             201012   748957.020      2025\n",
       "1             201101   560000.260      1476\n",
       "2             201102   498062.650      1393\n",
       "3             201103   683267.080      1983\n",
       "4             201104   493207.121      1744\n",
       "5             201105   723333.510      2162\n",
       "6             201106   691123.120      2012\n",
       "7             201107   681300.111      1927\n",
       "8             201108   682680.510      1737\n",
       "9             201109  1019687.622      2327\n",
       "10            201110  1070704.670      2637\n",
       "11            201111  1461756.250      3462\n",
       "12            201112   433668.010      1015"
      ]
     },
     "execution_count": 28,
     "metadata": {},
     "output_type": "execute_result"
    }
   ],
   "source": [
    "avg_rev_df = pd.merge(left=revenue_df, right=invoices_df, left_on='InvoiceYearMonth', right_on='InvoiceYearMonth')\n",
    "avg_rev_df"
   ]
  },
  {
   "cell_type": "code",
   "execution_count": 29,
   "metadata": {
    "id": "ppyHDbsi0P9X"
   },
   "outputs": [
    {
     "data": {
      "text/html": [
       "<div>\n",
       "<style scoped>\n",
       "    .dataframe tbody tr th:only-of-type {\n",
       "        vertical-align: middle;\n",
       "    }\n",
       "\n",
       "    .dataframe tbody tr th {\n",
       "        vertical-align: top;\n",
       "    }\n",
       "\n",
       "    .dataframe thead th {\n",
       "        text-align: right;\n",
       "    }\n",
       "</style>\n",
       "<table border=\"1\" class=\"dataframe\">\n",
       "  <thead>\n",
       "    <tr style=\"text-align: right;\">\n",
       "      <th></th>\n",
       "      <th>InvoiceYearMonth</th>\n",
       "      <th>Revenue</th>\n",
       "      <th>Invoices</th>\n",
       "      <th>Avg revenue per order</th>\n",
       "    </tr>\n",
       "  </thead>\n",
       "  <tbody>\n",
       "    <tr>\n",
       "      <th>0</th>\n",
       "      <td>201012</td>\n",
       "      <td>748957.020</td>\n",
       "      <td>2025</td>\n",
       "      <td>369.855319</td>\n",
       "    </tr>\n",
       "    <tr>\n",
       "      <th>1</th>\n",
       "      <td>201101</td>\n",
       "      <td>560000.260</td>\n",
       "      <td>1476</td>\n",
       "      <td>379.403970</td>\n",
       "    </tr>\n",
       "    <tr>\n",
       "      <th>2</th>\n",
       "      <td>201102</td>\n",
       "      <td>498062.650</td>\n",
       "      <td>1393</td>\n",
       "      <td>357.546770</td>\n",
       "    </tr>\n",
       "    <tr>\n",
       "      <th>3</th>\n",
       "      <td>201103</td>\n",
       "      <td>683267.080</td>\n",
       "      <td>1983</td>\n",
       "      <td>344.562320</td>\n",
       "    </tr>\n",
       "    <tr>\n",
       "      <th>4</th>\n",
       "      <td>201104</td>\n",
       "      <td>493207.121</td>\n",
       "      <td>1744</td>\n",
       "      <td>282.802248</td>\n",
       "    </tr>\n",
       "    <tr>\n",
       "      <th>5</th>\n",
       "      <td>201105</td>\n",
       "      <td>723333.510</td>\n",
       "      <td>2162</td>\n",
       "      <td>334.566841</td>\n",
       "    </tr>\n",
       "    <tr>\n",
       "      <th>6</th>\n",
       "      <td>201106</td>\n",
       "      <td>691123.120</td>\n",
       "      <td>2012</td>\n",
       "      <td>343.500557</td>\n",
       "    </tr>\n",
       "    <tr>\n",
       "      <th>7</th>\n",
       "      <td>201107</td>\n",
       "      <td>681300.111</td>\n",
       "      <td>1927</td>\n",
       "      <td>353.554806</td>\n",
       "    </tr>\n",
       "    <tr>\n",
       "      <th>8</th>\n",
       "      <td>201108</td>\n",
       "      <td>682680.510</td>\n",
       "      <td>1737</td>\n",
       "      <td>393.022746</td>\n",
       "    </tr>\n",
       "    <tr>\n",
       "      <th>9</th>\n",
       "      <td>201109</td>\n",
       "      <td>1019687.622</td>\n",
       "      <td>2327</td>\n",
       "      <td>438.198376</td>\n",
       "    </tr>\n",
       "    <tr>\n",
       "      <th>10</th>\n",
       "      <td>201110</td>\n",
       "      <td>1070704.670</td>\n",
       "      <td>2637</td>\n",
       "      <td>406.031350</td>\n",
       "    </tr>\n",
       "    <tr>\n",
       "      <th>11</th>\n",
       "      <td>201111</td>\n",
       "      <td>1461756.250</td>\n",
       "      <td>3462</td>\n",
       "      <td>422.228842</td>\n",
       "    </tr>\n",
       "    <tr>\n",
       "      <th>12</th>\n",
       "      <td>201112</td>\n",
       "      <td>433668.010</td>\n",
       "      <td>1015</td>\n",
       "      <td>427.259123</td>\n",
       "    </tr>\n",
       "  </tbody>\n",
       "</table>\n",
       "</div>"
      ],
      "text/plain": [
       "    InvoiceYearMonth      Revenue  Invoices  Avg revenue per order\n",
       "0             201012   748957.020      2025             369.855319\n",
       "1             201101   560000.260      1476             379.403970\n",
       "2             201102   498062.650      1393             357.546770\n",
       "3             201103   683267.080      1983             344.562320\n",
       "4             201104   493207.121      1744             282.802248\n",
       "5             201105   723333.510      2162             334.566841\n",
       "6             201106   691123.120      2012             343.500557\n",
       "7             201107   681300.111      1927             353.554806\n",
       "8             201108   682680.510      1737             393.022746\n",
       "9             201109  1019687.622      2327             438.198376\n",
       "10            201110  1070704.670      2637             406.031350\n",
       "11            201111  1461756.250      3462             422.228842\n",
       "12            201112   433668.010      1015             427.259123"
      ]
     },
     "execution_count": 29,
     "metadata": {},
     "output_type": "execute_result"
    }
   ],
   "source": [
    "avg_rev_df['Avg revenue per order'] = avg_rev_df['Revenue']/avg_rev_df['Invoices']\n",
    "avg_rev_df"
   ]
  },
  {
   "cell_type": "code",
   "execution_count": 30,
   "metadata": {
    "id": "WPcCjzHc0kag"
   },
   "outputs": [
    {
     "data": {
      "image/png": "[encoded data removed]",
      "text/plain": [
       "<Figure size 1080x360 with 1 Axes>"
      ]
     },
     "metadata": {
      "needs_background": "light"
     },
     "output_type": "display_data"
    }
   ],
   "source": [
    "#Visualize\n",
    "avg_rev_df.plot.bar(x='InvoiceYearMonth', y='Avg revenue per order', figsize=(15,5), color='g')\n",
    "plt.show()"
   ]
  },
  {
   "cell_type": "markdown",
   "metadata": {
    "id": "aKETyyNj2bRx"
   },
   "source": [
    "**5. New Customers Monthly**"
   ]
  },
  {
   "cell_type": "code",
   "execution_count": 31,
   "metadata": {
    "id": "RsazirQ-2qtD"
   },
   "outputs": [],
   "source": [
    "#Get first Puchase date for each customer\n",
    "new_cust_df = df.groupby(['CustomerID'])['InvoiceDate'].min().reset_index()\n",
    "new_cust_df['FirstPurchaseMonth'] = new_cust_df['InvoiceDate'].map(lambda date: date.year*100+date.month)"
   ]
  },
  {
   "cell_type": "code",
   "execution_count": 32,
   "metadata": {
    "id": "29tZJjmxf4yi"
   },
   "outputs": [
    {
     "data": {
      "text/html": [
       "<div>\n",
       "<style scoped>\n",
       "    .dataframe tbody tr th:only-of-type {\n",
       "        vertical-align: middle;\n",
       "    }\n",
       "\n",
       "    .dataframe tbody tr th {\n",
       "        vertical-align: top;\n",
       "    }\n",
       "\n",
       "    .dataframe thead th {\n",
       "        text-align: right;\n",
       "    }\n",
       "</style>\n",
       "<table border=\"1\" class=\"dataframe\">\n",
       "  <thead>\n",
       "    <tr style=\"text-align: right;\">\n",
       "      <th></th>\n",
       "      <th>CustomerID</th>\n",
       "      <th>InvoiceDate</th>\n",
       "      <th>FirstPurchaseMonth</th>\n",
       "    </tr>\n",
       "  </thead>\n",
       "  <tbody>\n",
       "    <tr>\n",
       "      <th>0</th>\n",
       "      <td>12346.0</td>\n",
       "      <td>2011-01-18 10:01:00</td>\n",
       "      <td>201101</td>\n",
       "    </tr>\n",
       "    <tr>\n",
       "      <th>1</th>\n",
       "      <td>12347.0</td>\n",
       "      <td>2010-12-07 14:57:00</td>\n",
       "      <td>201012</td>\n",
       "    </tr>\n",
       "    <tr>\n",
       "      <th>2</th>\n",
       "      <td>12348.0</td>\n",
       "      <td>2010-12-16 19:09:00</td>\n",
       "      <td>201012</td>\n",
       "    </tr>\n",
       "    <tr>\n",
       "      <th>3</th>\n",
       "      <td>12349.0</td>\n",
       "      <td>2011-11-21 09:51:00</td>\n",
       "      <td>201111</td>\n",
       "    </tr>\n",
       "    <tr>\n",
       "      <th>4</th>\n",
       "      <td>12350.0</td>\n",
       "      <td>2011-02-02 16:01:00</td>\n",
       "      <td>201102</td>\n",
       "    </tr>\n",
       "    <tr>\n",
       "      <th>...</th>\n",
       "      <td>...</td>\n",
       "      <td>...</td>\n",
       "      <td>...</td>\n",
       "    </tr>\n",
       "    <tr>\n",
       "      <th>4367</th>\n",
       "      <td>18280.0</td>\n",
       "      <td>2011-03-07 09:52:00</td>\n",
       "      <td>201103</td>\n",
       "    </tr>\n",
       "    <tr>\n",
       "      <th>4368</th>\n",
       "      <td>18281.0</td>\n",
       "      <td>2011-06-12 10:53:00</td>\n",
       "      <td>201106</td>\n",
       "    </tr>\n",
       "    <tr>\n",
       "      <th>4369</th>\n",
       "      <td>18282.0</td>\n",
       "      <td>2011-08-05 13:35:00</td>\n",
       "      <td>201108</td>\n",
       "    </tr>\n",
       "    <tr>\n",
       "      <th>4370</th>\n",
       "      <td>18283.0</td>\n",
       "      <td>2011-01-06 14:14:00</td>\n",
       "      <td>201101</td>\n",
       "    </tr>\n",
       "    <tr>\n",
       "      <th>4371</th>\n",
       "      <td>18287.0</td>\n",
       "      <td>2011-05-22 10:39:00</td>\n",
       "      <td>201105</td>\n",
       "    </tr>\n",
       "  </tbody>\n",
       "</table>\n",
       "<p>4372 rows × 3 columns</p>\n",
       "</div>"
      ],
      "text/plain": [
       "      CustomerID         InvoiceDate  FirstPurchaseMonth\n",
       "0        12346.0 2011-01-18 10:01:00              201101\n",
       "1        12347.0 2010-12-07 14:57:00              201012\n",
       "2        12348.0 2010-12-16 19:09:00              201012\n",
       "3        12349.0 2011-11-21 09:51:00              201111\n",
       "4        12350.0 2011-02-02 16:01:00              201102\n",
       "...          ...                 ...                 ...\n",
       "4367     18280.0 2011-03-07 09:52:00              201103\n",
       "4368     18281.0 2011-06-12 10:53:00              201106\n",
       "4369     18282.0 2011-08-05 13:35:00              201108\n",
       "4370     18283.0 2011-01-06 14:14:00              201101\n",
       "4371     18287.0 2011-05-22 10:39:00              201105\n",
       "\n",
       "[4372 rows x 3 columns]"
      ]
     },
     "execution_count": 32,
     "metadata": {},
     "output_type": "execute_result"
    }
   ],
   "source": [
    "new_cust_df"
   ]
  },
  {
   "cell_type": "code",
   "execution_count": 33,
   "metadata": {
    "id": "mzFl_UCz3ame"
   },
   "outputs": [],
   "source": [
    "#New customers per month\n",
    "new_cust_month_df = new_cust_df.groupby(['FirstPurchaseMonth'])['CustomerID'].nunique().reset_index()\n",
    "new_cust_month_df.rename(columns={'CustomerID':'# of New Customers'}, inplace=True)"
   ]
  },
  {
   "cell_type": "code",
   "execution_count": 34,
   "metadata": {
    "id": "kWsUhhX359UV"
   },
   "outputs": [
    {
     "data": {
      "image/png": "[encoded data removed]",
      "text/plain": [
       "<Figure size 1080x360 with 1 Axes>"
      ]
     },
     "metadata": {
      "needs_background": "light"
     },
     "output_type": "display_data"
    }
   ],
   "source": [
    "#Visualize\n",
    "new_cust_month_df.plot.bar(x='FirstPurchaseMonth', y='# of New Customers', figsize=(15,5), color='darkblue')\n",
    "plt.show()"
   ]
  },
  {
   "cell_type": "markdown",
   "metadata": {
    "id": "vfDEMGGr6fpn"
   },
   "source": [
    "**6. Revenue from New vs Old customers**"
   ]
  },
  {
   "cell_type": "code",
   "execution_count": 35,
   "metadata": {
    "id": "UW-q55V365XQ"
   },
   "outputs": [],
   "source": [
    "#Remove InvoiceDate column from new_cust_df\n",
    "new_cust_df.drop(['InvoiceDate'], axis=1, inplace=True)"
   ]
  },
  {
   "cell_type": "code",
   "execution_count": 36,
   "metadata": {
    "id": "cDBWFYEqjJki"
   },
   "outputs": [
    {
     "data": {
      "text/html": [
       "<div>\n",
       "<style scoped>\n",
       "    .dataframe tbody tr th:only-of-type {\n",
       "        vertical-align: middle;\n",
       "    }\n",
       "\n",
       "    .dataframe tbody tr th {\n",
       "        vertical-align: top;\n",
       "    }\n",
       "\n",
       "    .dataframe thead th {\n",
       "        text-align: right;\n",
       "    }\n",
       "</style>\n",
       "<table border=\"1\" class=\"dataframe\">\n",
       "  <thead>\n",
       "    <tr style=\"text-align: right;\">\n",
       "      <th></th>\n",
       "      <th>CustomerID</th>\n",
       "      <th>FirstPurchaseMonth</th>\n",
       "    </tr>\n",
       "  </thead>\n",
       "  <tbody>\n",
       "    <tr>\n",
       "      <th>0</th>\n",
       "      <td>12346.0</td>\n",
       "      <td>201101</td>\n",
       "    </tr>\n",
       "    <tr>\n",
       "      <th>1</th>\n",
       "      <td>12347.0</td>\n",
       "      <td>201012</td>\n",
       "    </tr>\n",
       "    <tr>\n",
       "      <th>2</th>\n",
       "      <td>12348.0</td>\n",
       "      <td>201012</td>\n",
       "    </tr>\n",
       "    <tr>\n",
       "      <th>3</th>\n",
       "      <td>12349.0</td>\n",
       "      <td>201111</td>\n",
       "    </tr>\n",
       "    <tr>\n",
       "      <th>4</th>\n",
       "      <td>12350.0</td>\n",
       "      <td>201102</td>\n",
       "    </tr>\n",
       "    <tr>\n",
       "      <th>...</th>\n",
       "      <td>...</td>\n",
       "      <td>...</td>\n",
       "    </tr>\n",
       "    <tr>\n",
       "      <th>4367</th>\n",
       "      <td>18280.0</td>\n",
       "      <td>201103</td>\n",
       "    </tr>\n",
       "    <tr>\n",
       "      <th>4368</th>\n",
       "      <td>18281.0</td>\n",
       "      <td>201106</td>\n",
       "    </tr>\n",
       "    <tr>\n",
       "      <th>4369</th>\n",
       "      <td>18282.0</td>\n",
       "      <td>201108</td>\n",
       "    </tr>\n",
       "    <tr>\n",
       "      <th>4370</th>\n",
       "      <td>18283.0</td>\n",
       "      <td>201101</td>\n",
       "    </tr>\n",
       "    <tr>\n",
       "      <th>4371</th>\n",
       "      <td>18287.0</td>\n",
       "      <td>201105</td>\n",
       "    </tr>\n",
       "  </tbody>\n",
       "</table>\n",
       "<p>4372 rows × 2 columns</p>\n",
       "</div>"
      ],
      "text/plain": [
       "      CustomerID  FirstPurchaseMonth\n",
       "0        12346.0              201101\n",
       "1        12347.0              201012\n",
       "2        12348.0              201012\n",
       "3        12349.0              201111\n",
       "4        12350.0              201102\n",
       "...          ...                 ...\n",
       "4367     18280.0              201103\n",
       "4368     18281.0              201106\n",
       "4369     18282.0              201108\n",
       "4370     18283.0              201101\n",
       "4371     18287.0              201105\n",
       "\n",
       "[4372 rows x 2 columns]"
      ]
     },
     "execution_count": 36,
     "metadata": {},
     "output_type": "execute_result"
    }
   ],
   "source": [
    "new_cust_df"
   ]
  },
  {
   "cell_type": "code",
   "execution_count": 37,
   "metadata": {
    "id": "NAdYgpuNjRpj"
   },
   "outputs": [
    {
     "data": {
      "text/html": [
       "<div>\n",
       "<style scoped>\n",
       "    .dataframe tbody tr th:only-of-type {\n",
       "        vertical-align: middle;\n",
       "    }\n",
       "\n",
       "    .dataframe tbody tr th {\n",
       "        vertical-align: top;\n",
       "    }\n",
       "\n",
       "    .dataframe thead th {\n",
       "        text-align: right;\n",
       "    }\n",
       "</style>\n",
       "<table border=\"1\" class=\"dataframe\">\n",
       "  <thead>\n",
       "    <tr style=\"text-align: right;\">\n",
       "      <th></th>\n",
       "      <th>InvoiceNo</th>\n",
       "      <th>StockCode</th>\n",
       "      <th>Description</th>\n",
       "      <th>Quantity</th>\n",
       "      <th>InvoiceDate</th>\n",
       "      <th>UnitPrice</th>\n",
       "      <th>CustomerID</th>\n",
       "      <th>Country</th>\n",
       "      <th>InvoiceYearMonth</th>\n",
       "      <th>Revenue</th>\n",
       "    </tr>\n",
       "  </thead>\n",
       "  <tbody>\n",
       "    <tr>\n",
       "      <th>0</th>\n",
       "      <td>536365</td>\n",
       "      <td>85123A</td>\n",
       "      <td>WHITE HANGING HEART T-LIGHT HOLDER</td>\n",
       "      <td>6</td>\n",
       "      <td>2010-12-01 08:26:00</td>\n",
       "      <td>2.55</td>\n",
       "      <td>17850.0</td>\n",
       "      <td>United Kingdom</td>\n",
       "      <td>201012</td>\n",
       "      <td>15.30</td>\n",
       "    </tr>\n",
       "    <tr>\n",
       "      <th>1</th>\n",
       "      <td>536365</td>\n",
       "      <td>71053</td>\n",
       "      <td>WHITE METAL LANTERN</td>\n",
       "      <td>6</td>\n",
       "      <td>2010-12-01 08:26:00</td>\n",
       "      <td>3.39</td>\n",
       "      <td>17850.0</td>\n",
       "      <td>United Kingdom</td>\n",
       "      <td>201012</td>\n",
       "      <td>20.34</td>\n",
       "    </tr>\n",
       "    <tr>\n",
       "      <th>2</th>\n",
       "      <td>536365</td>\n",
       "      <td>84406B</td>\n",
       "      <td>CREAM CUPID HEARTS COAT HANGER</td>\n",
       "      <td>8</td>\n",
       "      <td>2010-12-01 08:26:00</td>\n",
       "      <td>2.75</td>\n",
       "      <td>17850.0</td>\n",
       "      <td>United Kingdom</td>\n",
       "      <td>201012</td>\n",
       "      <td>22.00</td>\n",
       "    </tr>\n",
       "    <tr>\n",
       "      <th>3</th>\n",
       "      <td>536365</td>\n",
       "      <td>84029G</td>\n",
       "      <td>KNITTED UNION FLAG HOT WATER BOTTLE</td>\n",
       "      <td>6</td>\n",
       "      <td>2010-12-01 08:26:00</td>\n",
       "      <td>3.39</td>\n",
       "      <td>17850.0</td>\n",
       "      <td>United Kingdom</td>\n",
       "      <td>201012</td>\n",
       "      <td>20.34</td>\n",
       "    </tr>\n",
       "    <tr>\n",
       "      <th>4</th>\n",
       "      <td>536365</td>\n",
       "      <td>84029E</td>\n",
       "      <td>RED WOOLLY HOTTIE WHITE HEART.</td>\n",
       "      <td>6</td>\n",
       "      <td>2010-12-01 08:26:00</td>\n",
       "      <td>3.39</td>\n",
       "      <td>17850.0</td>\n",
       "      <td>United Kingdom</td>\n",
       "      <td>201012</td>\n",
       "      <td>20.34</td>\n",
       "    </tr>\n",
       "  </tbody>\n",
       "</table>\n",
       "</div>"
      ],
      "text/plain": [
       "  InvoiceNo StockCode                          Description  Quantity  \\\n",
       "0    536365    85123A   WHITE HANGING HEART T-LIGHT HOLDER         6   \n",
       "1    536365     71053                  WHITE METAL LANTERN         6   \n",
       "2    536365    84406B       CREAM CUPID HEARTS COAT HANGER         8   \n",
       "3    536365    84029G  KNITTED UNION FLAG HOT WATER BOTTLE         6   \n",
       "4    536365    84029E       RED WOOLLY HOTTIE WHITE HEART.         6   \n",
       "\n",
       "          InvoiceDate  UnitPrice  CustomerID         Country  \\\n",
       "0 2010-12-01 08:26:00       2.55     17850.0  United Kingdom   \n",
       "1 2010-12-01 08:26:00       3.39     17850.0  United Kingdom   \n",
       "2 2010-12-01 08:26:00       2.75     17850.0  United Kingdom   \n",
       "3 2010-12-01 08:26:00       3.39     17850.0  United Kingdom   \n",
       "4 2010-12-01 08:26:00       3.39     17850.0  United Kingdom   \n",
       "\n",
       "   InvoiceYearMonth  Revenue  \n",
       "0            201012    15.30  \n",
       "1            201012    20.34  \n",
       "2            201012    22.00  \n",
       "3            201012    20.34  \n",
       "4            201012    20.34  "
      ]
     },
     "execution_count": 37,
     "metadata": {},
     "output_type": "execute_result"
    }
   ],
   "source": [
    "df.head()"
   ]
  },
  {
   "cell_type": "code",
   "execution_count": 38,
   "metadata": {
    "id": "niRZSk8w6lzu"
   },
   "outputs": [],
   "source": [
    "#First purchase date for each customer\n",
    "df = pd.merge(left=df, right=new_cust_df, on='CustomerID')"
   ]
  },
  {
   "cell_type": "code",
   "execution_count": 39,
   "metadata": {
    "id": "WjLMCd8c7JQx"
   },
   "outputs": [
    {
     "data": {
      "text/html": [
       "<div>\n",
       "<style scoped>\n",
       "    .dataframe tbody tr th:only-of-type {\n",
       "        vertical-align: middle;\n",
       "    }\n",
       "\n",
       "    .dataframe tbody tr th {\n",
       "        vertical-align: top;\n",
       "    }\n",
       "\n",
       "    .dataframe thead th {\n",
       "        text-align: right;\n",
       "    }\n",
       "</style>\n",
       "<table border=\"1\" class=\"dataframe\">\n",
       "  <thead>\n",
       "    <tr style=\"text-align: right;\">\n",
       "      <th></th>\n",
       "      <th>InvoiceNo</th>\n",
       "      <th>StockCode</th>\n",
       "      <th>Description</th>\n",
       "      <th>Quantity</th>\n",
       "      <th>InvoiceDate</th>\n",
       "      <th>UnitPrice</th>\n",
       "      <th>CustomerID</th>\n",
       "      <th>Country</th>\n",
       "      <th>InvoiceYearMonth</th>\n",
       "      <th>Revenue</th>\n",
       "      <th>FirstPurchaseMonth</th>\n",
       "    </tr>\n",
       "  </thead>\n",
       "  <tbody>\n",
       "    <tr>\n",
       "      <th>9559</th>\n",
       "      <td>539307</td>\n",
       "      <td>35646</td>\n",
       "      <td>VINTAGE BEAD PINK EVENING BAG</td>\n",
       "      <td>24</td>\n",
       "      <td>2010-12-16 17:43:00</td>\n",
       "      <td>1.25</td>\n",
       "      <td>13694.0</td>\n",
       "      <td>United Kingdom</td>\n",
       "      <td>201012</td>\n",
       "      <td>30.00</td>\n",
       "      <td>201012</td>\n",
       "    </tr>\n",
       "    <tr>\n",
       "      <th>63621</th>\n",
       "      <td>565116</td>\n",
       "      <td>23223</td>\n",
       "      <td>CHRISTMAS TREE HANGING SILVER</td>\n",
       "      <td>48</td>\n",
       "      <td>2011-09-01 11:30:00</td>\n",
       "      <td>0.83</td>\n",
       "      <td>13089.0</td>\n",
       "      <td>United Kingdom</td>\n",
       "      <td>201109</td>\n",
       "      <td>39.84</td>\n",
       "      <td>201012</td>\n",
       "    </tr>\n",
       "    <tr>\n",
       "      <th>175463</th>\n",
       "      <td>569129</td>\n",
       "      <td>23340</td>\n",
       "      <td>VINTAGE CHRISTMAS CAKE FRILL</td>\n",
       "      <td>4</td>\n",
       "      <td>2011-09-30 13:40:00</td>\n",
       "      <td>1.65</td>\n",
       "      <td>15034.0</td>\n",
       "      <td>United Kingdom</td>\n",
       "      <td>201109</td>\n",
       "      <td>6.60</td>\n",
       "      <td>201012</td>\n",
       "    </tr>\n",
       "    <tr>\n",
       "      <th>80381</th>\n",
       "      <td>541259</td>\n",
       "      <td>22376</td>\n",
       "      <td>AIRLINE BAG VINTAGE JET SET WHITE</td>\n",
       "      <td>1</td>\n",
       "      <td>2011-01-16 15:38:00</td>\n",
       "      <td>4.25</td>\n",
       "      <td>14404.0</td>\n",
       "      <td>United Kingdom</td>\n",
       "      <td>201101</td>\n",
       "      <td>4.25</td>\n",
       "      <td>201012</td>\n",
       "    </tr>\n",
       "    <tr>\n",
       "      <th>379827</th>\n",
       "      <td>570086</td>\n",
       "      <td>23203</td>\n",
       "      <td>JUMBO BAG VINTAGE DOILY</td>\n",
       "      <td>10</td>\n",
       "      <td>2011-10-07 11:22:00</td>\n",
       "      <td>2.08</td>\n",
       "      <td>17086.0</td>\n",
       "      <td>United Kingdom</td>\n",
       "      <td>201110</td>\n",
       "      <td>20.80</td>\n",
       "      <td>201110</td>\n",
       "    </tr>\n",
       "  </tbody>\n",
       "</table>\n",
       "</div>"
      ],
      "text/plain": [
       "       InvoiceNo StockCode                        Description  Quantity  \\\n",
       "9559      539307     35646      VINTAGE BEAD PINK EVENING BAG        24   \n",
       "63621     565116     23223     CHRISTMAS TREE HANGING SILVER         48   \n",
       "175463    569129     23340       VINTAGE CHRISTMAS CAKE FRILL         4   \n",
       "80381     541259     22376  AIRLINE BAG VINTAGE JET SET WHITE         1   \n",
       "379827    570086     23203           JUMBO BAG VINTAGE DOILY         10   \n",
       "\n",
       "               InvoiceDate  UnitPrice  CustomerID         Country  \\\n",
       "9559   2010-12-16 17:43:00       1.25     13694.0  United Kingdom   \n",
       "63621  2011-09-01 11:30:00       0.83     13089.0  United Kingdom   \n",
       "175463 2011-09-30 13:40:00       1.65     15034.0  United Kingdom   \n",
       "80381  2011-01-16 15:38:00       4.25     14404.0  United Kingdom   \n",
       "379827 2011-10-07 11:22:00       2.08     17086.0  United Kingdom   \n",
       "\n",
       "        InvoiceYearMonth  Revenue  FirstPurchaseMonth  \n",
       "9559              201012    30.00              201012  \n",
       "63621             201109    39.84              201012  \n",
       "175463            201109     6.60              201012  \n",
       "80381             201101     4.25              201012  \n",
       "379827            201110    20.80              201110  "
      ]
     },
     "execution_count": 39,
     "metadata": {},
     "output_type": "execute_result"
    }
   ],
   "source": [
    "df.sample(5)"
   ]
  },
  {
   "cell_type": "code",
   "execution_count": 40,
   "metadata": {
    "id": "TIvKvaCB7Vz-"
   },
   "outputs": [],
   "source": [
    "#Add Columns for revenue from new or existing customers\n",
    "df['New Revenue'] = df['Revenue'].where(df['FirstPurchaseMonth'] == df['InvoiceYearMonth'], 0)\n",
    "df['Existing Revenue'] = df['Revenue'].where(df['FirstPurchaseMonth'] != df['InvoiceYearMonth'], 0)"
   ]
  },
  {
   "cell_type": "code",
   "execution_count": 41,
   "metadata": {
    "id": "bJI-2Gac8XND"
   },
   "outputs": [
    {
     "data": {
      "text/html": [
       "<div>\n",
       "<style scoped>\n",
       "    .dataframe tbody tr th:only-of-type {\n",
       "        vertical-align: middle;\n",
       "    }\n",
       "\n",
       "    .dataframe tbody tr th {\n",
       "        vertical-align: top;\n",
       "    }\n",
       "\n",
       "    .dataframe thead th {\n",
       "        text-align: right;\n",
       "    }\n",
       "</style>\n",
       "<table border=\"1\" class=\"dataframe\">\n",
       "  <thead>\n",
       "    <tr style=\"text-align: right;\">\n",
       "      <th></th>\n",
       "      <th>InvoiceNo</th>\n",
       "      <th>StockCode</th>\n",
       "      <th>Description</th>\n",
       "      <th>Quantity</th>\n",
       "      <th>InvoiceDate</th>\n",
       "      <th>UnitPrice</th>\n",
       "      <th>CustomerID</th>\n",
       "      <th>Country</th>\n",
       "      <th>InvoiceYearMonth</th>\n",
       "      <th>Revenue</th>\n",
       "      <th>FirstPurchaseMonth</th>\n",
       "      <th>New Revenue</th>\n",
       "      <th>Existing Revenue</th>\n",
       "    </tr>\n",
       "  </thead>\n",
       "  <tbody>\n",
       "    <tr>\n",
       "      <th>68799</th>\n",
       "      <td>549553</td>\n",
       "      <td>21135</td>\n",
       "      <td>VICTORIAN  METAL POSTCARD SPRING</td>\n",
       "      <td>6</td>\n",
       "      <td>2011-04-10 12:22:00</td>\n",
       "      <td>1.69</td>\n",
       "      <td>16931.0</td>\n",
       "      <td>United Kingdom</td>\n",
       "      <td>201104</td>\n",
       "      <td>10.14</td>\n",
       "      <td>201012</td>\n",
       "      <td>0.00</td>\n",
       "      <td>10.14</td>\n",
       "    </tr>\n",
       "    <tr>\n",
       "      <th>396517</th>\n",
       "      <td>574777</td>\n",
       "      <td>21014</td>\n",
       "      <td>SWISS CHALET TREE DECORATION</td>\n",
       "      <td>24</td>\n",
       "      <td>2011-11-07 10:23:00</td>\n",
       "      <td>0.29</td>\n",
       "      <td>17761.0</td>\n",
       "      <td>United Kingdom</td>\n",
       "      <td>201111</td>\n",
       "      <td>6.96</td>\n",
       "      <td>201111</td>\n",
       "      <td>6.96</td>\n",
       "      <td>0.00</td>\n",
       "    </tr>\n",
       "    <tr>\n",
       "      <th>350582</th>\n",
       "      <td>562046</td>\n",
       "      <td>22325</td>\n",
       "      <td>MOBILE VINTAGE HEARTS</td>\n",
       "      <td>9</td>\n",
       "      <td>2011-08-02 10:34:00</td>\n",
       "      <td>4.95</td>\n",
       "      <td>12378.0</td>\n",
       "      <td>Switzerland</td>\n",
       "      <td>201108</td>\n",
       "      <td>44.55</td>\n",
       "      <td>201108</td>\n",
       "      <td>44.55</td>\n",
       "      <td>0.00</td>\n",
       "    </tr>\n",
       "    <tr>\n",
       "      <th>401443</th>\n",
       "      <td>577511</td>\n",
       "      <td>22694</td>\n",
       "      <td>WICKER STAR</td>\n",
       "      <td>1</td>\n",
       "      <td>2011-11-20 12:53:00</td>\n",
       "      <td>2.10</td>\n",
       "      <td>17561.0</td>\n",
       "      <td>United Kingdom</td>\n",
       "      <td>201111</td>\n",
       "      <td>2.10</td>\n",
       "      <td>201111</td>\n",
       "      <td>2.10</td>\n",
       "      <td>0.00</td>\n",
       "    </tr>\n",
       "    <tr>\n",
       "      <th>230387</th>\n",
       "      <td>548500</td>\n",
       "      <td>20719</td>\n",
       "      <td>WOODLAND CHARLOTTE BAG</td>\n",
       "      <td>4</td>\n",
       "      <td>2011-03-31 13:49:00</td>\n",
       "      <td>0.85</td>\n",
       "      <td>17071.0</td>\n",
       "      <td>United Kingdom</td>\n",
       "      <td>201103</td>\n",
       "      <td>3.40</td>\n",
       "      <td>201102</td>\n",
       "      <td>0.00</td>\n",
       "      <td>3.40</td>\n",
       "    </tr>\n",
       "    <tr>\n",
       "      <th>38360</th>\n",
       "      <td>571848</td>\n",
       "      <td>72799E</td>\n",
       "      <td>IVORY PILLAR CANDLE SILVER FLOCK</td>\n",
       "      <td>6</td>\n",
       "      <td>2011-10-19 12:50:00</td>\n",
       "      <td>2.95</td>\n",
       "      <td>13576.0</td>\n",
       "      <td>United Kingdom</td>\n",
       "      <td>201110</td>\n",
       "      <td>17.70</td>\n",
       "      <td>201012</td>\n",
       "      <td>0.00</td>\n",
       "      <td>17.70</td>\n",
       "    </tr>\n",
       "    <tr>\n",
       "      <th>253709</th>\n",
       "      <td>549566</td>\n",
       "      <td>21713</td>\n",
       "      <td>CITRONELLA CANDLE FLOWERPOT</td>\n",
       "      <td>4</td>\n",
       "      <td>2011-04-10 14:27:00</td>\n",
       "      <td>2.10</td>\n",
       "      <td>13610.0</td>\n",
       "      <td>United Kingdom</td>\n",
       "      <td>201104</td>\n",
       "      <td>8.40</td>\n",
       "      <td>201102</td>\n",
       "      <td>0.00</td>\n",
       "      <td>8.40</td>\n",
       "    </tr>\n",
       "    <tr>\n",
       "      <th>25089</th>\n",
       "      <td>550829</td>\n",
       "      <td>23150</td>\n",
       "      <td>IVORY SWEETHEART SOAP DISH</td>\n",
       "      <td>1</td>\n",
       "      <td>2011-04-21 10:19:00</td>\n",
       "      <td>2.49</td>\n",
       "      <td>17841.0</td>\n",
       "      <td>United Kingdom</td>\n",
       "      <td>201104</td>\n",
       "      <td>2.49</td>\n",
       "      <td>201012</td>\n",
       "      <td>0.00</td>\n",
       "      <td>2.49</td>\n",
       "    </tr>\n",
       "    <tr>\n",
       "      <th>289165</th>\n",
       "      <td>556290</td>\n",
       "      <td>22138</td>\n",
       "      <td>BAKING SET 9 PIECE RETROSPOT</td>\n",
       "      <td>3</td>\n",
       "      <td>2011-06-10 09:23:00</td>\n",
       "      <td>4.95</td>\n",
       "      <td>17088.0</td>\n",
       "      <td>United Kingdom</td>\n",
       "      <td>201106</td>\n",
       "      <td>14.85</td>\n",
       "      <td>201103</td>\n",
       "      <td>0.00</td>\n",
       "      <td>14.85</td>\n",
       "    </tr>\n",
       "    <tr>\n",
       "      <th>281793</th>\n",
       "      <td>547412</td>\n",
       "      <td>21210</td>\n",
       "      <td>SET OF 72 RETROSPOT PAPER  DOILIES</td>\n",
       "      <td>12</td>\n",
       "      <td>2011-03-23 09:42:00</td>\n",
       "      <td>1.45</td>\n",
       "      <td>12399.0</td>\n",
       "      <td>Belgium</td>\n",
       "      <td>201103</td>\n",
       "      <td>17.40</td>\n",
       "      <td>201103</td>\n",
       "      <td>17.40</td>\n",
       "      <td>0.00</td>\n",
       "    </tr>\n",
       "  </tbody>\n",
       "</table>\n",
       "</div>"
      ],
      "text/plain": [
       "       InvoiceNo StockCode                         Description  Quantity  \\\n",
       "68799     549553     21135    VICTORIAN  METAL POSTCARD SPRING         6   \n",
       "396517    574777     21014       SWISS CHALET TREE DECORATION         24   \n",
       "350582    562046     22325              MOBILE VINTAGE HEARTS          9   \n",
       "401443    577511     22694                        WICKER STAR          1   \n",
       "230387    548500     20719              WOODLAND CHARLOTTE BAG         4   \n",
       "38360     571848    72799E    IVORY PILLAR CANDLE SILVER FLOCK         6   \n",
       "253709    549566     21713         CITRONELLA CANDLE FLOWERPOT         4   \n",
       "25089     550829     23150          IVORY SWEETHEART SOAP DISH         1   \n",
       "289165    556290     22138       BAKING SET 9 PIECE RETROSPOT          3   \n",
       "281793    547412     21210  SET OF 72 RETROSPOT PAPER  DOILIES        12   \n",
       "\n",
       "               InvoiceDate  UnitPrice  CustomerID         Country  \\\n",
       "68799  2011-04-10 12:22:00       1.69     16931.0  United Kingdom   \n",
       "396517 2011-11-07 10:23:00       0.29     17761.0  United Kingdom   \n",
       "350582 2011-08-02 10:34:00       4.95     12378.0     Switzerland   \n",
       "401443 2011-11-20 12:53:00       2.10     17561.0  United Kingdom   \n",
       "230387 2011-03-31 13:49:00       0.85     17071.0  United Kingdom   \n",
       "38360  2011-10-19 12:50:00       2.95     13576.0  United Kingdom   \n",
       "253709 2011-04-10 14:27:00       2.10     13610.0  United Kingdom   \n",
       "25089  2011-04-21 10:19:00       2.49     17841.0  United Kingdom   \n",
       "289165 2011-06-10 09:23:00       4.95     17088.0  United Kingdom   \n",
       "281793 2011-03-23 09:42:00       1.45     12399.0         Belgium   \n",
       "\n",
       "        InvoiceYearMonth  Revenue  FirstPurchaseMonth  New Revenue  \\\n",
       "68799             201104    10.14              201012         0.00   \n",
       "396517            201111     6.96              201111         6.96   \n",
       "350582            201108    44.55              201108        44.55   \n",
       "401443            201111     2.10              201111         2.10   \n",
       "230387            201103     3.40              201102         0.00   \n",
       "38360             201110    17.70              201012         0.00   \n",
       "253709            201104     8.40              201102         0.00   \n",
       "25089             201104     2.49              201012         0.00   \n",
       "289165            201106    14.85              201103         0.00   \n",
       "281793            201103    17.40              201103        17.40   \n",
       "\n",
       "        Existing Revenue  \n",
       "68799              10.14  \n",
       "396517              0.00  \n",
       "350582              0.00  \n",
       "401443              0.00  \n",
       "230387              3.40  \n",
       "38360              17.70  \n",
       "253709              8.40  \n",
       "25089               2.49  \n",
       "289165             14.85  \n",
       "281793              0.00  "
      ]
     },
     "execution_count": 41,
     "metadata": {},
     "output_type": "execute_result"
    }
   ],
   "source": [
    "df.sample(10)"
   ]
  },
  {
   "cell_type": "markdown",
   "metadata": {
    "id": "KqPouBWL8hnc"
   },
   "source": [
    "Calculare New and Existing customers revenue per month"
   ]
  },
  {
   "cell_type": "code",
   "execution_count": 42,
   "metadata": {
    "id": "O0tUaiCq8k58"
   },
   "outputs": [
    {
     "name": "stderr",
     "output_type": "stream",
     "text": [
      "<ipython-input-42-9e9f9430b714>:1: FutureWarning: Indexing with multiple keys (implicitly converted to a tuple of keys) will be deprecated, use a list instead.\n",
      "  new_exist_rev_df = df.groupby(['InvoiceYearMonth'])['New Revenue', 'Existing Revenue','Revenue'].sum().reset_index()\n"
     ]
    },
    {
     "data": {
      "text/html": [
       "<div>\n",
       "<style scoped>\n",
       "    .dataframe tbody tr th:only-of-type {\n",
       "        vertical-align: middle;\n",
       "    }\n",
       "\n",
       "    .dataframe tbody tr th {\n",
       "        vertical-align: top;\n",
       "    }\n",
       "\n",
       "    .dataframe thead th {\n",
       "        text-align: right;\n",
       "    }\n",
       "</style>\n",
       "<table border=\"1\" class=\"dataframe\">\n",
       "  <thead>\n",
       "    <tr style=\"text-align: right;\">\n",
       "      <th></th>\n",
       "      <th>InvoiceYearMonth</th>\n",
       "      <th>New Revenue</th>\n",
       "      <th>Existing Revenue</th>\n",
       "      <th>Revenue</th>\n",
       "    </tr>\n",
       "  </thead>\n",
       "  <tbody>\n",
       "    <tr>\n",
       "      <th>0</th>\n",
       "      <td>201012</td>\n",
       "      <td>554604.020</td>\n",
       "      <td>0.000</td>\n",
       "      <td>554604.020</td>\n",
       "    </tr>\n",
       "    <tr>\n",
       "      <th>1</th>\n",
       "      <td>201101</td>\n",
       "      <td>203457.860</td>\n",
       "      <td>271616.520</td>\n",
       "      <td>475074.380</td>\n",
       "    </tr>\n",
       "    <tr>\n",
       "      <th>2</th>\n",
       "      <td>201102</td>\n",
       "      <td>149521.380</td>\n",
       "      <td>287024.770</td>\n",
       "      <td>436546.150</td>\n",
       "    </tr>\n",
       "    <tr>\n",
       "      <th>3</th>\n",
       "      <td>201103</td>\n",
       "      <td>189930.080</td>\n",
       "      <td>390034.530</td>\n",
       "      <td>579964.610</td>\n",
       "    </tr>\n",
       "    <tr>\n",
       "      <th>4</th>\n",
       "      <td>201104</td>\n",
       "      <td>119764.251</td>\n",
       "      <td>306283.600</td>\n",
       "      <td>426047.851</td>\n",
       "    </tr>\n",
       "    <tr>\n",
       "      <th>5</th>\n",
       "      <td>201105</td>\n",
       "      <td>115858.740</td>\n",
       "      <td>532392.340</td>\n",
       "      <td>648251.080</td>\n",
       "    </tr>\n",
       "    <tr>\n",
       "      <th>6</th>\n",
       "      <td>201106</td>\n",
       "      <td>92526.510</td>\n",
       "      <td>515486.650</td>\n",
       "      <td>608013.160</td>\n",
       "    </tr>\n",
       "    <tr>\n",
       "      <th>7</th>\n",
       "      <td>201107</td>\n",
       "      <td>65882.871</td>\n",
       "      <td>508355.610</td>\n",
       "      <td>574238.481</td>\n",
       "    </tr>\n",
       "    <tr>\n",
       "      <th>8</th>\n",
       "      <td>201108</td>\n",
       "      <td>77658.230</td>\n",
       "      <td>538709.770</td>\n",
       "      <td>616368.000</td>\n",
       "    </tr>\n",
       "    <tr>\n",
       "      <th>9</th>\n",
       "      <td>201109</td>\n",
       "      <td>153278.591</td>\n",
       "      <td>778161.781</td>\n",
       "      <td>931440.372</td>\n",
       "    </tr>\n",
       "    <tr>\n",
       "      <th>10</th>\n",
       "      <td>201110</td>\n",
       "      <td>154930.690</td>\n",
       "      <td>819672.900</td>\n",
       "      <td>974603.590</td>\n",
       "    </tr>\n",
       "    <tr>\n",
       "      <th>11</th>\n",
       "      <td>201111</td>\n",
       "      <td>134231.380</td>\n",
       "      <td>998176.360</td>\n",
       "      <td>1132407.740</td>\n",
       "    </tr>\n",
       "    <tr>\n",
       "      <th>12</th>\n",
       "      <td>201112</td>\n",
       "      <td>26776.750</td>\n",
       "      <td>315729.630</td>\n",
       "      <td>342506.380</td>\n",
       "    </tr>\n",
       "  </tbody>\n",
       "</table>\n",
       "</div>"
      ],
      "text/plain": [
       "    InvoiceYearMonth  New Revenue  Existing Revenue      Revenue\n",
       "0             201012   554604.020             0.000   554604.020\n",
       "1             201101   203457.860        271616.520   475074.380\n",
       "2             201102   149521.380        287024.770   436546.150\n",
       "3             201103   189930.080        390034.530   579964.610\n",
       "4             201104   119764.251        306283.600   426047.851\n",
       "5             201105   115858.740        532392.340   648251.080\n",
       "6             201106    92526.510        515486.650   608013.160\n",
       "7             201107    65882.871        508355.610   574238.481\n",
       "8             201108    77658.230        538709.770   616368.000\n",
       "9             201109   153278.591        778161.781   931440.372\n",
       "10            201110   154930.690        819672.900   974603.590\n",
       "11            201111   134231.380        998176.360  1132407.740\n",
       "12            201112    26776.750        315729.630   342506.380"
      ]
     },
     "execution_count": 42,
     "metadata": {},
     "output_type": "execute_result"
    }
   ],
   "source": [
    "new_exist_rev_df = df.groupby(['InvoiceYearMonth'])['New Revenue', 'Existing Revenue','Revenue'].sum().reset_index()\n",
    "new_exist_rev_df"
   ]
  },
  {
   "cell_type": "code",
   "execution_count": 43,
   "metadata": {
    "id": "ZxwXFr2z9Tji"
   },
   "outputs": [
    {
     "data": {
      "image/png": "[encoded data removed]",
      "text/plain": [
       "<Figure size 1080x360 with 1 Axes>"
      ]
     },
     "metadata": {
      "needs_background": "light"
     },
     "output_type": "display_data"
    }
   ],
   "source": [
    "#Plot by ignoring first and last month\n",
    "new_exist_rev_df[['New Revenue', 'Existing Revenue']][1:-1].plot.area(figsize=(15,5))\n",
    "plt.show()"
   ]
  },
  {
   "cell_type": "markdown",
   "metadata": {
    "id": "CVhOF6feCSHg"
   },
   "source": [
    "Revenue ratio for new customers"
   ]
  },
  {
   "cell_type": "code",
   "execution_count": 44,
   "metadata": {
    "id": "6JQpJwG8CVKt"
   },
   "outputs": [
    {
     "data": {
      "image/png": "[encoded data removed]",
      "text/plain": [
       "<Figure size 1080x360 with 1 Axes>"
      ]
     },
     "metadata": {
      "needs_background": "light"
     },
     "output_type": "display_data"
    }
   ],
   "source": [
    "new_exist_rev_df['New vs Total'] = new_exist_rev_df['New Revenue'] / new_exist_rev_df['Revenue']\n",
    "new_exist_rev_df[['InvoiceYearMonth', 'New vs Total']][1:-1].plot.bar(x = 'InvoiceYearMonth', y='New vs Total', figsize=(15,5))\n",
    "plt.show()"
   ]
  },
  {
   "cell_type": "markdown",
   "metadata": {
    "id": "94155cdhHcqP"
   },
   "source": [
    "**7. Customer Retention Rate**"
   ]
  },
  {
   "cell_type": "code",
   "execution_count": 45,
   "metadata": {
    "id": "w1i_KIZ_Hhtd"
   },
   "outputs": [
    {
     "data": {
      "text/html": [
       "<div>\n",
       "<style scoped>\n",
       "    .dataframe tbody tr th:only-of-type {\n",
       "        vertical-align: middle;\n",
       "    }\n",
       "\n",
       "    .dataframe tbody tr th {\n",
       "        vertical-align: top;\n",
       "    }\n",
       "\n",
       "    .dataframe thead th {\n",
       "        text-align: right;\n",
       "    }\n",
       "</style>\n",
       "<table border=\"1\" class=\"dataframe\">\n",
       "  <thead>\n",
       "    <tr style=\"text-align: right;\">\n",
       "      <th></th>\n",
       "      <th>CustomerID</th>\n",
       "      <th>InvoiceYearMonth</th>\n",
       "      <th>Revenue</th>\n",
       "    </tr>\n",
       "  </thead>\n",
       "  <tbody>\n",
       "    <tr>\n",
       "      <th>0</th>\n",
       "      <td>12346.0</td>\n",
       "      <td>201101</td>\n",
       "      <td>0.00</td>\n",
       "    </tr>\n",
       "    <tr>\n",
       "      <th>1</th>\n",
       "      <td>12347.0</td>\n",
       "      <td>201012</td>\n",
       "      <td>711.79</td>\n",
       "    </tr>\n",
       "    <tr>\n",
       "      <th>2</th>\n",
       "      <td>12347.0</td>\n",
       "      <td>201101</td>\n",
       "      <td>475.39</td>\n",
       "    </tr>\n",
       "    <tr>\n",
       "      <th>3</th>\n",
       "      <td>12347.0</td>\n",
       "      <td>201104</td>\n",
       "      <td>636.25</td>\n",
       "    </tr>\n",
       "    <tr>\n",
       "      <th>4</th>\n",
       "      <td>12347.0</td>\n",
       "      <td>201106</td>\n",
       "      <td>382.52</td>\n",
       "    </tr>\n",
       "  </tbody>\n",
       "</table>\n",
       "</div>"
      ],
      "text/plain": [
       "   CustomerID  InvoiceYearMonth  Revenue\n",
       "0     12346.0            201101     0.00\n",
       "1     12347.0            201012   711.79\n",
       "2     12347.0            201101   475.39\n",
       "3     12347.0            201104   636.25\n",
       "4     12347.0            201106   382.52"
      ]
     },
     "execution_count": 45,
     "metadata": {},
     "output_type": "execute_result"
    }
   ],
   "source": [
    "#How many customers from previous month shopped in next month\n",
    "cust_by_month_df = df.groupby(['CustomerID', 'InvoiceYearMonth'])['Revenue'].sum().reset_index()\n",
    "cust_by_month_df.head()"
   ]
  },
  {
   "cell_type": "code",
   "execution_count": 46,
   "metadata": {
    "id": "4inm9drDIeuY"
   },
   "outputs": [
    {
     "data": {
      "text/html": [
       "<div>\n",
       "<style scoped>\n",
       "    .dataframe tbody tr th:only-of-type {\n",
       "        vertical-align: middle;\n",
       "    }\n",
       "\n",
       "    .dataframe tbody tr th {\n",
       "        vertical-align: top;\n",
       "    }\n",
       "\n",
       "    .dataframe thead th {\n",
       "        text-align: right;\n",
       "    }\n",
       "</style>\n",
       "<table border=\"1\" class=\"dataframe\">\n",
       "  <thead>\n",
       "    <tr style=\"text-align: right;\">\n",
       "      <th>InvoiceYearMonth</th>\n",
       "      <th>201012</th>\n",
       "      <th>201101</th>\n",
       "      <th>201102</th>\n",
       "      <th>201103</th>\n",
       "      <th>201104</th>\n",
       "      <th>201105</th>\n",
       "      <th>201106</th>\n",
       "      <th>201107</th>\n",
       "      <th>201108</th>\n",
       "      <th>201109</th>\n",
       "      <th>201110</th>\n",
       "      <th>201111</th>\n",
       "      <th>201112</th>\n",
       "    </tr>\n",
       "    <tr>\n",
       "      <th>CustomerID</th>\n",
       "      <th></th>\n",
       "      <th></th>\n",
       "      <th></th>\n",
       "      <th></th>\n",
       "      <th></th>\n",
       "      <th></th>\n",
       "      <th></th>\n",
       "      <th></th>\n",
       "      <th></th>\n",
       "      <th></th>\n",
       "      <th></th>\n",
       "      <th></th>\n",
       "      <th></th>\n",
       "    </tr>\n",
       "  </thead>\n",
       "  <tbody>\n",
       "    <tr>\n",
       "      <th>12346.0</th>\n",
       "      <td>0</td>\n",
       "      <td>1</td>\n",
       "      <td>0</td>\n",
       "      <td>0</td>\n",
       "      <td>0</td>\n",
       "      <td>0</td>\n",
       "      <td>0</td>\n",
       "      <td>0</td>\n",
       "      <td>0</td>\n",
       "      <td>0</td>\n",
       "      <td>0</td>\n",
       "      <td>0</td>\n",
       "      <td>0</td>\n",
       "    </tr>\n",
       "    <tr>\n",
       "      <th>12347.0</th>\n",
       "      <td>1</td>\n",
       "      <td>1</td>\n",
       "      <td>0</td>\n",
       "      <td>0</td>\n",
       "      <td>1</td>\n",
       "      <td>0</td>\n",
       "      <td>1</td>\n",
       "      <td>0</td>\n",
       "      <td>1</td>\n",
       "      <td>0</td>\n",
       "      <td>1</td>\n",
       "      <td>0</td>\n",
       "      <td>1</td>\n",
       "    </tr>\n",
       "    <tr>\n",
       "      <th>12348.0</th>\n",
       "      <td>1</td>\n",
       "      <td>1</td>\n",
       "      <td>0</td>\n",
       "      <td>0</td>\n",
       "      <td>1</td>\n",
       "      <td>0</td>\n",
       "      <td>0</td>\n",
       "      <td>0</td>\n",
       "      <td>0</td>\n",
       "      <td>1</td>\n",
       "      <td>0</td>\n",
       "      <td>0</td>\n",
       "      <td>0</td>\n",
       "    </tr>\n",
       "    <tr>\n",
       "      <th>12349.0</th>\n",
       "      <td>0</td>\n",
       "      <td>0</td>\n",
       "      <td>0</td>\n",
       "      <td>0</td>\n",
       "      <td>0</td>\n",
       "      <td>0</td>\n",
       "      <td>0</td>\n",
       "      <td>0</td>\n",
       "      <td>0</td>\n",
       "      <td>0</td>\n",
       "      <td>0</td>\n",
       "      <td>1</td>\n",
       "      <td>0</td>\n",
       "    </tr>\n",
       "    <tr>\n",
       "      <th>12350.0</th>\n",
       "      <td>0</td>\n",
       "      <td>0</td>\n",
       "      <td>1</td>\n",
       "      <td>0</td>\n",
       "      <td>0</td>\n",
       "      <td>0</td>\n",
       "      <td>0</td>\n",
       "      <td>0</td>\n",
       "      <td>0</td>\n",
       "      <td>0</td>\n",
       "      <td>0</td>\n",
       "      <td>0</td>\n",
       "      <td>0</td>\n",
       "    </tr>\n",
       "  </tbody>\n",
       "</table>\n",
       "</div>"
      ],
      "text/plain": [
       "InvoiceYearMonth  201012  201101  201102  201103  201104  201105  201106  \\\n",
       "CustomerID                                                                 \n",
       "12346.0                0       1       0       0       0       0       0   \n",
       "12347.0                1       1       0       0       1       0       1   \n",
       "12348.0                1       1       0       0       1       0       0   \n",
       "12349.0                0       0       0       0       0       0       0   \n",
       "12350.0                0       0       1       0       0       0       0   \n",
       "\n",
       "InvoiceYearMonth  201107  201108  201109  201110  201111  201112  \n",
       "CustomerID                                                        \n",
       "12346.0                0       0       0       0       0       0  \n",
       "12347.0                0       1       0       1       0       1  \n",
       "12348.0                0       0       1       0       0       0  \n",
       "12349.0                0       0       0       0       1       0  \n",
       "12350.0                0       0       0       0       0       0  "
      ]
     },
     "execution_count": 46,
     "metadata": {},
     "output_type": "execute_result"
    }
   ],
   "source": [
    "#Use cross-tab\n",
    "retention_df = pd.crosstab(cust_by_month_df['CustomerID'], cust_by_month_df['InvoiceYearMonth'])\n",
    "retention_df.head()"
   ]
  },
  {
   "cell_type": "markdown",
   "metadata": {
    "id": "jsF64q7-J1kG"
   },
   "source": [
    "Calculate retention"
   ]
  },
  {
   "cell_type": "code",
   "execution_count": 47,
   "metadata": {
    "id": "pexqWRPxJ3ml"
   },
   "outputs": [],
   "source": [
    "months = retention_df.columns[1:]"
   ]
  },
  {
   "cell_type": "code",
   "execution_count": 48,
   "metadata": {
    "id": "-WjxbPNgLpnI"
   },
   "outputs": [
    {
     "data": {
      "text/plain": [
       "Int64Index([201101, 201102, 201103, 201104, 201105, 201106, 201107, 201108,\n",
       "            201109, 201110, 201111, 201112],\n",
       "           dtype='int64', name='InvoiceYearMonth')"
      ]
     },
     "execution_count": 48,
     "metadata": {},
     "output_type": "execute_result"
    }
   ],
   "source": [
    "months"
   ]
  },
  {
   "cell_type": "code",
   "execution_count": 49,
   "metadata": {
    "id": "mCe4gkg6LpnI"
   },
   "outputs": [],
   "source": [
    "retention_array = []\n",
    "for i in range(len(months)-1):\n",
    "    retention_data = {}\n",
    "    selected_month = months[i+1]\n",
    "    prev_month = months[i]\n",
    "    retention_data['InvoiceYearMonth'] = int(selected_month)\n",
    "    retention_data['TotalUserCount'] = retention_df[selected_month].sum()\n",
    "    retention_data['RetainedUserCount'] = retention_df[(retention_df[selected_month]>0) & (retention_df[prev_month]>0)][selected_month].sum()\n",
    "    retention_array.append(retention_data)"
   ]
  },
  {
   "cell_type": "code",
   "execution_count": 50,
   "metadata": {
    "id": "O97UNiUknyja"
   },
   "outputs": [
    {
     "data": {
      "text/plain": [
       "[{'InvoiceYearMonth': 201102, 'TotalUserCount': 798, 'RetainedUserCount': 299},\n",
       " {'InvoiceYearMonth': 201103,\n",
       "  'TotalUserCount': 1020,\n",
       "  'RetainedUserCount': 345},\n",
       " {'InvoiceYearMonth': 201104, 'TotalUserCount': 899, 'RetainedUserCount': 346},\n",
       " {'InvoiceYearMonth': 201105,\n",
       "  'TotalUserCount': 1079,\n",
       "  'RetainedUserCount': 399},\n",
       " {'InvoiceYearMonth': 201106,\n",
       "  'TotalUserCount': 1051,\n",
       "  'RetainedUserCount': 464},\n",
       " {'InvoiceYearMonth': 201107, 'TotalUserCount': 993, 'RetainedUserCount': 415},\n",
       " {'InvoiceYearMonth': 201108, 'TotalUserCount': 980, 'RetainedUserCount': 433},\n",
       " {'InvoiceYearMonth': 201109,\n",
       "  'TotalUserCount': 1302,\n",
       "  'RetainedUserCount': 465},\n",
       " {'InvoiceYearMonth': 201110,\n",
       "  'TotalUserCount': 1425,\n",
       "  'RetainedUserCount': 552},\n",
       " {'InvoiceYearMonth': 201111,\n",
       "  'TotalUserCount': 1711,\n",
       "  'RetainedUserCount': 690},\n",
       " {'InvoiceYearMonth': 201112, 'TotalUserCount': 686, 'RetainedUserCount': 443}]"
      ]
     },
     "execution_count": 50,
     "metadata": {},
     "output_type": "execute_result"
    }
   ],
   "source": [
    "retention_array"
   ]
  },
  {
   "cell_type": "code",
   "execution_count": 51,
   "metadata": {
    "id": "8jzPooyiLpnI"
   },
   "outputs": [],
   "source": [
    "retention_rate_df = pd.DataFrame(retention_array)"
   ]
  },
  {
   "cell_type": "code",
   "execution_count": 52,
   "metadata": {
    "id": "4FSWx8iZLpnJ"
   },
   "outputs": [
    {
     "data": {
      "text/html": [
       "<div>\n",
       "<style scoped>\n",
       "    .dataframe tbody tr th:only-of-type {\n",
       "        vertical-align: middle;\n",
       "    }\n",
       "\n",
       "    .dataframe tbody tr th {\n",
       "        vertical-align: top;\n",
       "    }\n",
       "\n",
       "    .dataframe thead th {\n",
       "        text-align: right;\n",
       "    }\n",
       "</style>\n",
       "<table border=\"1\" class=\"dataframe\">\n",
       "  <thead>\n",
       "    <tr style=\"text-align: right;\">\n",
       "      <th></th>\n",
       "      <th>InvoiceYearMonth</th>\n",
       "      <th>TotalUserCount</th>\n",
       "      <th>RetainedUserCount</th>\n",
       "    </tr>\n",
       "  </thead>\n",
       "  <tbody>\n",
       "    <tr>\n",
       "      <th>0</th>\n",
       "      <td>201102</td>\n",
       "      <td>798</td>\n",
       "      <td>299</td>\n",
       "    </tr>\n",
       "    <tr>\n",
       "      <th>1</th>\n",
       "      <td>201103</td>\n",
       "      <td>1020</td>\n",
       "      <td>345</td>\n",
       "    </tr>\n",
       "    <tr>\n",
       "      <th>2</th>\n",
       "      <td>201104</td>\n",
       "      <td>899</td>\n",
       "      <td>346</td>\n",
       "    </tr>\n",
       "    <tr>\n",
       "      <th>3</th>\n",
       "      <td>201105</td>\n",
       "      <td>1079</td>\n",
       "      <td>399</td>\n",
       "    </tr>\n",
       "    <tr>\n",
       "      <th>4</th>\n",
       "      <td>201106</td>\n",
       "      <td>1051</td>\n",
       "      <td>464</td>\n",
       "    </tr>\n",
       "  </tbody>\n",
       "</table>\n",
       "</div>"
      ],
      "text/plain": [
       "   InvoiceYearMonth  TotalUserCount  RetainedUserCount\n",
       "0            201102             798                299\n",
       "1            201103            1020                345\n",
       "2            201104             899                346\n",
       "3            201105            1079                399\n",
       "4            201106            1051                464"
      ]
     },
     "execution_count": 52,
     "metadata": {},
     "output_type": "execute_result"
    }
   ],
   "source": [
    "retention_rate_df.head()"
   ]
  },
  {
   "cell_type": "code",
   "execution_count": 53,
   "metadata": {
    "id": "R457rlkBLpnJ"
   },
   "outputs": [],
   "source": [
    "retention_rate_df['RetentionRate'] = retention_rate_df['RetainedUserCount']/retention_rate_df['TotalUserCount']"
   ]
  },
  {
   "cell_type": "code",
   "execution_count": 54,
   "metadata": {
    "id": "M-v-ECuOLpnJ"
   },
   "outputs": [
    {
     "data": {
      "text/html": [
       "<div>\n",
       "<style scoped>\n",
       "    .dataframe tbody tr th:only-of-type {\n",
       "        vertical-align: middle;\n",
       "    }\n",
       "\n",
       "    .dataframe tbody tr th {\n",
       "        vertical-align: top;\n",
       "    }\n",
       "\n",
       "    .dataframe thead th {\n",
       "        text-align: right;\n",
       "    }\n",
       "</style>\n",
       "<table border=\"1\" class=\"dataframe\">\n",
       "  <thead>\n",
       "    <tr style=\"text-align: right;\">\n",
       "      <th></th>\n",
       "      <th>InvoiceYearMonth</th>\n",
       "      <th>TotalUserCount</th>\n",
       "      <th>RetainedUserCount</th>\n",
       "      <th>RetentionRate</th>\n",
       "    </tr>\n",
       "  </thead>\n",
       "  <tbody>\n",
       "    <tr>\n",
       "      <th>0</th>\n",
       "      <td>201102</td>\n",
       "      <td>798</td>\n",
       "      <td>299</td>\n",
       "      <td>0.374687</td>\n",
       "    </tr>\n",
       "    <tr>\n",
       "      <th>1</th>\n",
       "      <td>201103</td>\n",
       "      <td>1020</td>\n",
       "      <td>345</td>\n",
       "      <td>0.338235</td>\n",
       "    </tr>\n",
       "    <tr>\n",
       "      <th>2</th>\n",
       "      <td>201104</td>\n",
       "      <td>899</td>\n",
       "      <td>346</td>\n",
       "      <td>0.384872</td>\n",
       "    </tr>\n",
       "    <tr>\n",
       "      <th>3</th>\n",
       "      <td>201105</td>\n",
       "      <td>1079</td>\n",
       "      <td>399</td>\n",
       "      <td>0.369787</td>\n",
       "    </tr>\n",
       "    <tr>\n",
       "      <th>4</th>\n",
       "      <td>201106</td>\n",
       "      <td>1051</td>\n",
       "      <td>464</td>\n",
       "      <td>0.441484</td>\n",
       "    </tr>\n",
       "  </tbody>\n",
       "</table>\n",
       "</div>"
      ],
      "text/plain": [
       "   InvoiceYearMonth  TotalUserCount  RetainedUserCount  RetentionRate\n",
       "0            201102             798                299       0.374687\n",
       "1            201103            1020                345       0.338235\n",
       "2            201104             899                346       0.384872\n",
       "3            201105            1079                399       0.369787\n",
       "4            201106            1051                464       0.441484"
      ]
     },
     "execution_count": 54,
     "metadata": {},
     "output_type": "execute_result"
    }
   ],
   "source": [
    "retention_rate_df.head()"
   ]
  },
  {
   "cell_type": "code",
   "execution_count": 55,
   "metadata": {
    "id": "Bnt-Y5GpLpnJ"
   },
   "outputs": [
    {
     "data": {
      "image/png": "[encoded data removed]",
      "text/plain": [
       "<Figure size 1080x360 with 1 Axes>"
      ]
     },
     "metadata": {
      "needs_background": "light"
     },
     "output_type": "display_data"
    }
   ],
   "source": [
    "retention_rate_df.plot.line(x='InvoiceYearMonth', y='RetentionRate', figsize=(15,5))\n",
    "plt.show()"
   ]
  },
  {
   "cell_type": "markdown",
   "metadata": {
    "id": "90JSVXX7LpnJ"
   },
   "source": [
    "**8. Churn Rate**"
   ]
  },
  {
   "cell_type": "code",
   "execution_count": 56,
   "metadata": {
    "id": "M2xNxkbaLpnJ"
   },
   "outputs": [],
   "source": [
    "retention_rate_df['ChurnRate'] =  1- retention_rate_df['RetentionRate']"
   ]
  },
  {
   "cell_type": "code",
   "execution_count": 57,
   "metadata": {
    "id": "LVvQLxFELpnJ"
   },
   "outputs": [
    {
     "data": {
      "image/png": "[encoded data removed]",
      "text/plain": [
       "<Figure size 1080x360 with 1 Axes>"
      ]
     },
     "metadata": {
      "needs_background": "light"
     },
     "output_type": "display_data"
    }
   ],
   "source": [
    "retention_rate_df.plot.bar(x='InvoiceYearMonth', y='ChurnRate', figsize=(15,5), color='lightgreen')\n",
    "plt.show()"
   ]
  },
  {
   "cell_type": "code",
   "execution_count": null,
   "metadata": {},
   "outputs": [],
   "source": []
  }
 ],
 "metadata": {
  "colab": {
   "name": "1. Check important Business metrics.ipynb",
   "private_outputs": true,
   "provenance": []
  },
  "kernelspec": {
   "display_name": "Python 3",
   "language": "python",
   "name": "python3"
  },
  "language_info": {
   "codemirror_mode": {
    "name": "ipython",
    "version": 3
   },
   "file_extension": ".py",
   "mimetype": "text/x-python",
   "name": "python",
   "nbconvert_exporter": "python",
   "pygments_lexer": "ipython3",
   "version": "3.8.8"
  }
 },
 "nbformat": 4,
 "nbformat_minor": 1
}
