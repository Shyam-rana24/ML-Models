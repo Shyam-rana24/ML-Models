{
 "cells": [
  {
   "cell_type": "markdown",
   "id": "12bca98b",
   "metadata": {},
   "source": [
    "![Crime](https://storage.googleapis.com/kaggle-competitions/kaggle/4458/media/sfcrime_banner.png)"
   ]
  },
  {
   "cell_type": "markdown",
   "id": "542a2f1b",
   "metadata": {},
   "source": [
    "# Data fields"
   ]
  },
  {
   "cell_type": "markdown",
   "id": "438b0ff6",
   "metadata": {},
   "source": [
    "Dates - timestamp of the crime incident\n",
    "\n",
    "* Category - category of the crime incident. This is the target variable you are going to predict.\n",
    "* Descript - detailed description of the crime incident\n",
    "\n",
    "* DayOfWeek - the day of the week\n",
    "\n",
    "* PdDistrict - name of the Police Department District\n",
    "\n",
    "* Resolution - how the crime incident was resolved \n",
    "\n",
    "* Address - the approximate street address of the crime incident \n",
    "\n",
    "* X - Longitude\n",
    "\n",
    "* Y - Latitude"
   ]
  },
  {
   "cell_type": "code",
   "execution_count": 1,
   "id": "5fc3f3b9",
   "metadata": {},
   "outputs": [],
   "source": [
    "import warnings\n",
    "warnings.simplefilter(\"ignore\")\n",
    "\n",
    "import pandas as pd\n",
    "import numpy as np\n",
    "from scipy.stats import zscore\n",
    "\n",
    "\n",
    "import seaborn as sns\n",
    "import matplotlib.pyplot as plt"
   ]
  },
  {
   "cell_type": "code",
   "execution_count": 2,
   "id": "303219f9",
   "metadata": {},
   "outputs": [],
   "source": [
    "df = pd.read_csv(\"train.csv\")"
   ]
  },
  {
   "cell_type": "code",
   "execution_count": 3,
   "id": "59f77e7e",
   "metadata": {},
   "outputs": [
    {
     "data": {
      "text/html": [
       "<div>\n",
       "<style scoped>\n",
       "    .dataframe tbody tr th:only-of-type {\n",
       "        vertical-align: middle;\n",
       "    }\n",
       "\n",
       "    .dataframe tbody tr th {\n",
       "        vertical-align: top;\n",
       "    }\n",
       "\n",
       "    .dataframe thead th {\n",
       "        text-align: right;\n",
       "    }\n",
       "</style>\n",
       "<table border=\"1\" class=\"dataframe\">\n",
       "  <thead>\n",
       "    <tr style=\"text-align: right;\">\n",
       "      <th></th>\n",
       "      <th>Dates</th>\n",
       "      <th>Category</th>\n",
       "      <th>Descript</th>\n",
       "      <th>DayOfWeek</th>\n",
       "      <th>PdDistrict</th>\n",
       "      <th>Resolution</th>\n",
       "      <th>Address</th>\n",
       "      <th>X</th>\n",
       "      <th>Y</th>\n",
       "    </tr>\n",
       "  </thead>\n",
       "  <tbody>\n",
       "    <tr>\n",
       "      <th>0</th>\n",
       "      <td>2015-05-13 23:53:00</td>\n",
       "      <td>WARRANTS</td>\n",
       "      <td>WARRANT ARREST</td>\n",
       "      <td>Wednesday</td>\n",
       "      <td>NORTHERN</td>\n",
       "      <td>ARREST, BOOKED</td>\n",
       "      <td>OAK ST / LAGUNA ST</td>\n",
       "      <td>-122.425892</td>\n",
       "      <td>37.774599</td>\n",
       "    </tr>\n",
       "    <tr>\n",
       "      <th>1</th>\n",
       "      <td>2015-05-13 23:53:00</td>\n",
       "      <td>OTHER OFFENSES</td>\n",
       "      <td>TRAFFIC VIOLATION ARREST</td>\n",
       "      <td>Wednesday</td>\n",
       "      <td>NORTHERN</td>\n",
       "      <td>ARREST, BOOKED</td>\n",
       "      <td>OAK ST / LAGUNA ST</td>\n",
       "      <td>-122.425892</td>\n",
       "      <td>37.774599</td>\n",
       "    </tr>\n",
       "    <tr>\n",
       "      <th>2</th>\n",
       "      <td>2015-05-13 23:33:00</td>\n",
       "      <td>OTHER OFFENSES</td>\n",
       "      <td>TRAFFIC VIOLATION ARREST</td>\n",
       "      <td>Wednesday</td>\n",
       "      <td>NORTHERN</td>\n",
       "      <td>ARREST, BOOKED</td>\n",
       "      <td>VANNESS AV / GREENWICH ST</td>\n",
       "      <td>-122.424363</td>\n",
       "      <td>37.800414</td>\n",
       "    </tr>\n",
       "    <tr>\n",
       "      <th>3</th>\n",
       "      <td>2015-05-13 23:30:00</td>\n",
       "      <td>LARCENY/THEFT</td>\n",
       "      <td>GRAND THEFT FROM LOCKED AUTO</td>\n",
       "      <td>Wednesday</td>\n",
       "      <td>NORTHERN</td>\n",
       "      <td>NONE</td>\n",
       "      <td>1500 Block of LOMBARD ST</td>\n",
       "      <td>-122.426995</td>\n",
       "      <td>37.800873</td>\n",
       "    </tr>\n",
       "    <tr>\n",
       "      <th>4</th>\n",
       "      <td>2015-05-13 23:30:00</td>\n",
       "      <td>LARCENY/THEFT</td>\n",
       "      <td>GRAND THEFT FROM LOCKED AUTO</td>\n",
       "      <td>Wednesday</td>\n",
       "      <td>PARK</td>\n",
       "      <td>NONE</td>\n",
       "      <td>100 Block of BRODERICK ST</td>\n",
       "      <td>-122.438738</td>\n",
       "      <td>37.771541</td>\n",
       "    </tr>\n",
       "  </tbody>\n",
       "</table>\n",
       "</div>"
      ],
      "text/plain": [
       "                 Dates        Category                      Descript  \\\n",
       "0  2015-05-13 23:53:00        WARRANTS                WARRANT ARREST   \n",
       "1  2015-05-13 23:53:00  OTHER OFFENSES      TRAFFIC VIOLATION ARREST   \n",
       "2  2015-05-13 23:33:00  OTHER OFFENSES      TRAFFIC VIOLATION ARREST   \n",
       "3  2015-05-13 23:30:00   LARCENY/THEFT  GRAND THEFT FROM LOCKED AUTO   \n",
       "4  2015-05-13 23:30:00   LARCENY/THEFT  GRAND THEFT FROM LOCKED AUTO   \n",
       "\n",
       "   DayOfWeek PdDistrict      Resolution                    Address  \\\n",
       "0  Wednesday   NORTHERN  ARREST, BOOKED         OAK ST / LAGUNA ST   \n",
       "1  Wednesday   NORTHERN  ARREST, BOOKED         OAK ST / LAGUNA ST   \n",
       "2  Wednesday   NORTHERN  ARREST, BOOKED  VANNESS AV / GREENWICH ST   \n",
       "3  Wednesday   NORTHERN            NONE   1500 Block of LOMBARD ST   \n",
       "4  Wednesday       PARK            NONE  100 Block of BRODERICK ST   \n",
       "\n",
       "            X          Y  \n",
       "0 -122.425892  37.774599  \n",
       "1 -122.425892  37.774599  \n",
       "2 -122.424363  37.800414  \n",
       "3 -122.426995  37.800873  \n",
       "4 -122.438738  37.771541  "
      ]
     },
     "execution_count": 3,
     "metadata": {},
     "output_type": "execute_result"
    }
   ],
   "source": [
    "df.head()"
   ]
  },
  {
   "cell_type": "code",
   "execution_count": 4,
   "id": "f6d65bec",
   "metadata": {},
   "outputs": [
    {
     "data": {
      "text/plain": [
       "(878049, 9)"
      ]
     },
     "execution_count": 4,
     "metadata": {},
     "output_type": "execute_result"
    }
   ],
   "source": [
    "df.shape"
   ]
  },
  {
   "cell_type": "code",
   "execution_count": 5,
   "id": "23005c24",
   "metadata": {},
   "outputs": [
    {
     "name": "stdout",
     "output_type": "stream",
     "text": [
      "<class 'pandas.core.frame.DataFrame'>\n",
      "RangeIndex: 878049 entries, 0 to 878048\n",
      "Data columns (total 9 columns):\n",
      " #   Column      Non-Null Count   Dtype  \n",
      "---  ------      --------------   -----  \n",
      " 0   Dates       878049 non-null  object \n",
      " 1   Category    878049 non-null  object \n",
      " 2   Descript    878049 non-null  object \n",
      " 3   DayOfWeek   878049 non-null  object \n",
      " 4   PdDistrict  878049 non-null  object \n",
      " 5   Resolution  878049 non-null  object \n",
      " 6   Address     878049 non-null  object \n",
      " 7   X           878049 non-null  float64\n",
      " 8   Y           878049 non-null  float64\n",
      "dtypes: float64(2), object(7)\n",
      "memory usage: 60.3+ MB\n"
     ]
    }
   ],
   "source": [
    "df.info()\n",
    "\n",
    "# There is no null value in Dataset.."
   ]
  },
  {
   "cell_type": "code",
   "execution_count": 6,
   "id": "b174056f",
   "metadata": {},
   "outputs": [
    {
     "data": {
      "text/html": [
       "<div>\n",
       "<style scoped>\n",
       "    .dataframe tbody tr th:only-of-type {\n",
       "        vertical-align: middle;\n",
       "    }\n",
       "\n",
       "    .dataframe tbody tr th {\n",
       "        vertical-align: top;\n",
       "    }\n",
       "\n",
       "    .dataframe thead th {\n",
       "        text-align: right;\n",
       "    }\n",
       "</style>\n",
       "<table border=\"1\" class=\"dataframe\">\n",
       "  <thead>\n",
       "    <tr style=\"text-align: right;\">\n",
       "      <th></th>\n",
       "      <th>X</th>\n",
       "      <th>Y</th>\n",
       "    </tr>\n",
       "  </thead>\n",
       "  <tbody>\n",
       "    <tr>\n",
       "      <th>count</th>\n",
       "      <td>878049.000000</td>\n",
       "      <td>878049.000000</td>\n",
       "    </tr>\n",
       "    <tr>\n",
       "      <th>mean</th>\n",
       "      <td>-122.422616</td>\n",
       "      <td>37.771020</td>\n",
       "    </tr>\n",
       "    <tr>\n",
       "      <th>std</th>\n",
       "      <td>0.030354</td>\n",
       "      <td>0.456893</td>\n",
       "    </tr>\n",
       "    <tr>\n",
       "      <th>min</th>\n",
       "      <td>-122.513642</td>\n",
       "      <td>37.707879</td>\n",
       "    </tr>\n",
       "    <tr>\n",
       "      <th>25%</th>\n",
       "      <td>-122.432952</td>\n",
       "      <td>37.752427</td>\n",
       "    </tr>\n",
       "    <tr>\n",
       "      <th>50%</th>\n",
       "      <td>-122.416420</td>\n",
       "      <td>37.775421</td>\n",
       "    </tr>\n",
       "    <tr>\n",
       "      <th>75%</th>\n",
       "      <td>-122.406959</td>\n",
       "      <td>37.784369</td>\n",
       "    </tr>\n",
       "    <tr>\n",
       "      <th>max</th>\n",
       "      <td>-120.500000</td>\n",
       "      <td>90.000000</td>\n",
       "    </tr>\n",
       "  </tbody>\n",
       "</table>\n",
       "</div>"
      ],
      "text/plain": [
       "                   X              Y\n",
       "count  878049.000000  878049.000000\n",
       "mean     -122.422616      37.771020\n",
       "std         0.030354       0.456893\n",
       "min      -122.513642      37.707879\n",
       "25%      -122.432952      37.752427\n",
       "50%      -122.416420      37.775421\n",
       "75%      -122.406959      37.784369\n",
       "max      -120.500000      90.000000"
      ]
     },
     "execution_count": 6,
     "metadata": {},
     "output_type": "execute_result"
    }
   ],
   "source": [
    "df.describe()"
   ]
  },
  {
   "cell_type": "markdown",
   "id": "8c334d10",
   "metadata": {},
   "source": [
    "\n",
    "<span style=\"font-family: Westways; font-weight:bold;font-size:3em;color: Red\">*EDA(Exploratory Data Analysis)*\n",
    "         "
   ]
  },
  {
   "cell_type": "code",
   "execution_count": 7,
   "id": "83beba07",
   "metadata": {},
   "outputs": [
    {
     "data": {
      "text/plain": [
       "Dates         389257\n",
       "Category          39\n",
       "Descript         879\n",
       "DayOfWeek          7\n",
       "PdDistrict        10\n",
       "Resolution        17\n",
       "Address        23228\n",
       "X              34243\n",
       "Y              34243\n",
       "dtype: int64"
      ]
     },
     "execution_count": 7,
     "metadata": {},
     "output_type": "execute_result"
    }
   ],
   "source": [
    "df.nunique()"
   ]
  },
  {
   "cell_type": "code",
   "execution_count": 8,
   "id": "1ac9866c",
   "metadata": {},
   "outputs": [
    {
     "data": {
      "text/plain": [
       "0         2015-05-13 23:53:00\n",
       "1         2015-05-13 23:53:00\n",
       "2         2015-05-13 23:33:00\n",
       "3         2015-05-13 23:30:00\n",
       "4         2015-05-13 23:30:00\n",
       "                 ...         \n",
       "878044    2003-01-06 00:15:00\n",
       "878045    2003-01-06 00:01:00\n",
       "878046    2003-01-06 00:01:00\n",
       "878047    2003-01-06 00:01:00\n",
       "878048    2003-01-06 00:01:00\n",
       "Name: Dates, Length: 878049, dtype: object"
      ]
     },
     "execution_count": 8,
     "metadata": {},
     "output_type": "execute_result"
    }
   ],
   "source": [
    "df[\"Dates\"] "
   ]
  },
  {
   "cell_type": "code",
   "execution_count": 9,
   "id": "be0f4b74",
   "metadata": {},
   "outputs": [
    {
     "data": {
      "text/plain": [
       "dtype('O')"
      ]
     },
     "execution_count": 9,
     "metadata": {},
     "output_type": "execute_result"
    }
   ],
   "source": [
    "df[\"Dates\"].dtypes"
   ]
  },
  {
   "cell_type": "markdown",
   "id": "b82a5a44",
   "metadata": {},
   "source": [
    "**Extract other variables from date**\n",
    "\n",
    "* Year, Month, Quarter, Day_of_Month, Day_of_week, Hour.."
   ]
  },
  {
   "cell_type": "code",
   "execution_count": 10,
   "id": "6c2a9453",
   "metadata": {},
   "outputs": [],
   "source": [
    "df.loc[:,'Year']=pd.to_datetime(df.loc[:,'Dates'] ).dt.year"
   ]
  },
  {
   "cell_type": "code",
   "execution_count": 11,
   "id": "1c277392",
   "metadata": {},
   "outputs": [],
   "source": [
    "df.loc[:,'Quarter']=pd.to_datetime(df.loc[:,'Dates'] ).dt.quarter"
   ]
  },
  {
   "cell_type": "code",
   "execution_count": 12,
   "id": "b1671098",
   "metadata": {},
   "outputs": [],
   "source": [
    "df.loc[:,'Month']=pd.to_datetime(df.loc[:,'Dates'] ).dt.month"
   ]
  },
  {
   "cell_type": "code",
   "execution_count": 13,
   "id": "e9758670",
   "metadata": {},
   "outputs": [],
   "source": [
    "df.loc[:,'Day_of_month']=pd.to_datetime(df.loc[:,'Dates'] ).dt.day"
   ]
  },
  {
   "cell_type": "code",
   "execution_count": 14,
   "id": "819207c0",
   "metadata": {},
   "outputs": [],
   "source": [
    "df.loc[:,'Day_of_week']=pd.to_datetime(df.loc[:,'Dates'] ).dt.weekday\n",
    "\n",
    "#  Week day start from monday means 0."
   ]
  },
  {
   "cell_type": "code",
   "execution_count": 15,
   "id": "f91888d4",
   "metadata": {},
   "outputs": [],
   "source": [
    "df.loc[:,'Hours']=pd.to_datetime(df.loc[:,'Dates'] ).dt.hour"
   ]
  },
  {
   "cell_type": "code",
   "execution_count": 16,
   "id": "8ef40708",
   "metadata": {},
   "outputs": [
    {
     "data": {
      "text/html": [
       "<div>\n",
       "<style scoped>\n",
       "    .dataframe tbody tr th:only-of-type {\n",
       "        vertical-align: middle;\n",
       "    }\n",
       "\n",
       "    .dataframe tbody tr th {\n",
       "        vertical-align: top;\n",
       "    }\n",
       "\n",
       "    .dataframe thead th {\n",
       "        text-align: right;\n",
       "    }\n",
       "</style>\n",
       "<table border=\"1\" class=\"dataframe\">\n",
       "  <thead>\n",
       "    <tr style=\"text-align: right;\">\n",
       "      <th></th>\n",
       "      <th>Dates</th>\n",
       "      <th>Category</th>\n",
       "      <th>Descript</th>\n",
       "      <th>DayOfWeek</th>\n",
       "      <th>PdDistrict</th>\n",
       "      <th>Resolution</th>\n",
       "      <th>Address</th>\n",
       "      <th>X</th>\n",
       "      <th>Y</th>\n",
       "      <th>Year</th>\n",
       "      <th>Quarter</th>\n",
       "      <th>Month</th>\n",
       "      <th>Day_of_month</th>\n",
       "      <th>Day_of_week</th>\n",
       "      <th>Hours</th>\n",
       "    </tr>\n",
       "  </thead>\n",
       "  <tbody>\n",
       "    <tr>\n",
       "      <th>0</th>\n",
       "      <td>2015-05-13 23:53:00</td>\n",
       "      <td>WARRANTS</td>\n",
       "      <td>WARRANT ARREST</td>\n",
       "      <td>Wednesday</td>\n",
       "      <td>NORTHERN</td>\n",
       "      <td>ARREST, BOOKED</td>\n",
       "      <td>OAK ST / LAGUNA ST</td>\n",
       "      <td>-122.425892</td>\n",
       "      <td>37.774599</td>\n",
       "      <td>2015</td>\n",
       "      <td>2</td>\n",
       "      <td>5</td>\n",
       "      <td>13</td>\n",
       "      <td>2</td>\n",
       "      <td>23</td>\n",
       "    </tr>\n",
       "    <tr>\n",
       "      <th>1</th>\n",
       "      <td>2015-05-13 23:53:00</td>\n",
       "      <td>OTHER OFFENSES</td>\n",
       "      <td>TRAFFIC VIOLATION ARREST</td>\n",
       "      <td>Wednesday</td>\n",
       "      <td>NORTHERN</td>\n",
       "      <td>ARREST, BOOKED</td>\n",
       "      <td>OAK ST / LAGUNA ST</td>\n",
       "      <td>-122.425892</td>\n",
       "      <td>37.774599</td>\n",
       "      <td>2015</td>\n",
       "      <td>2</td>\n",
       "      <td>5</td>\n",
       "      <td>13</td>\n",
       "      <td>2</td>\n",
       "      <td>23</td>\n",
       "    </tr>\n",
       "    <tr>\n",
       "      <th>2</th>\n",
       "      <td>2015-05-13 23:33:00</td>\n",
       "      <td>OTHER OFFENSES</td>\n",
       "      <td>TRAFFIC VIOLATION ARREST</td>\n",
       "      <td>Wednesday</td>\n",
       "      <td>NORTHERN</td>\n",
       "      <td>ARREST, BOOKED</td>\n",
       "      <td>VANNESS AV / GREENWICH ST</td>\n",
       "      <td>-122.424363</td>\n",
       "      <td>37.800414</td>\n",
       "      <td>2015</td>\n",
       "      <td>2</td>\n",
       "      <td>5</td>\n",
       "      <td>13</td>\n",
       "      <td>2</td>\n",
       "      <td>23</td>\n",
       "    </tr>\n",
       "    <tr>\n",
       "      <th>3</th>\n",
       "      <td>2015-05-13 23:30:00</td>\n",
       "      <td>LARCENY/THEFT</td>\n",
       "      <td>GRAND THEFT FROM LOCKED AUTO</td>\n",
       "      <td>Wednesday</td>\n",
       "      <td>NORTHERN</td>\n",
       "      <td>NONE</td>\n",
       "      <td>1500 Block of LOMBARD ST</td>\n",
       "      <td>-122.426995</td>\n",
       "      <td>37.800873</td>\n",
       "      <td>2015</td>\n",
       "      <td>2</td>\n",
       "      <td>5</td>\n",
       "      <td>13</td>\n",
       "      <td>2</td>\n",
       "      <td>23</td>\n",
       "    </tr>\n",
       "    <tr>\n",
       "      <th>4</th>\n",
       "      <td>2015-05-13 23:30:00</td>\n",
       "      <td>LARCENY/THEFT</td>\n",
       "      <td>GRAND THEFT FROM LOCKED AUTO</td>\n",
       "      <td>Wednesday</td>\n",
       "      <td>PARK</td>\n",
       "      <td>NONE</td>\n",
       "      <td>100 Block of BRODERICK ST</td>\n",
       "      <td>-122.438738</td>\n",
       "      <td>37.771541</td>\n",
       "      <td>2015</td>\n",
       "      <td>2</td>\n",
       "      <td>5</td>\n",
       "      <td>13</td>\n",
       "      <td>2</td>\n",
       "      <td>23</td>\n",
       "    </tr>\n",
       "  </tbody>\n",
       "</table>\n",
       "</div>"
      ],
      "text/plain": [
       "                 Dates        Category                      Descript  \\\n",
       "0  2015-05-13 23:53:00        WARRANTS                WARRANT ARREST   \n",
       "1  2015-05-13 23:53:00  OTHER OFFENSES      TRAFFIC VIOLATION ARREST   \n",
       "2  2015-05-13 23:33:00  OTHER OFFENSES      TRAFFIC VIOLATION ARREST   \n",
       "3  2015-05-13 23:30:00   LARCENY/THEFT  GRAND THEFT FROM LOCKED AUTO   \n",
       "4  2015-05-13 23:30:00   LARCENY/THEFT  GRAND THEFT FROM LOCKED AUTO   \n",
       "\n",
       "   DayOfWeek PdDistrict      Resolution                    Address  \\\n",
       "0  Wednesday   NORTHERN  ARREST, BOOKED         OAK ST / LAGUNA ST   \n",
       "1  Wednesday   NORTHERN  ARREST, BOOKED         OAK ST / LAGUNA ST   \n",
       "2  Wednesday   NORTHERN  ARREST, BOOKED  VANNESS AV / GREENWICH ST   \n",
       "3  Wednesday   NORTHERN            NONE   1500 Block of LOMBARD ST   \n",
       "4  Wednesday       PARK            NONE  100 Block of BRODERICK ST   \n",
       "\n",
       "            X          Y  Year  Quarter  Month  Day_of_month  Day_of_week  \\\n",
       "0 -122.425892  37.774599  2015        2      5            13            2   \n",
       "1 -122.425892  37.774599  2015        2      5            13            2   \n",
       "2 -122.424363  37.800414  2015        2      5            13            2   \n",
       "3 -122.426995  37.800873  2015        2      5            13            2   \n",
       "4 -122.438738  37.771541  2015        2      5            13            2   \n",
       "\n",
       "   Hours  \n",
       "0     23  \n",
       "1     23  \n",
       "2     23  \n",
       "3     23  \n",
       "4     23  "
      ]
     },
     "execution_count": 16,
     "metadata": {},
     "output_type": "execute_result"
    }
   ],
   "source": [
    "df.head()"
   ]
  },
  {
   "cell_type": "markdown",
   "id": "91aac5fc",
   "metadata": {},
   "source": [
    "## Univariate Analysis"
   ]
  },
  {
   "cell_type": "code",
   "execution_count": 17,
   "id": "d7431997",
   "metadata": {},
   "outputs": [
    {
     "data": {
      "text/plain": [
       "2011-01-01 00:01:00    185\n",
       "2006-01-01 00:01:00    136\n",
       "2012-01-01 00:01:00     94\n",
       "2006-01-01 12:00:00     63\n",
       "2007-06-01 00:01:00     61\n",
       "2006-06-01 00:01:00     58\n",
       "2010-06-01 00:01:00     56\n",
       "2010-08-01 00:01:00     55\n",
       "2008-04-01 00:01:00     53\n",
       "2013-11-01 00:01:00     52\n",
       "Name: Dates, dtype: int64"
      ]
     },
     "execution_count": 17,
     "metadata": {},
     "output_type": "execute_result"
    }
   ],
   "source": [
    "df[\"Dates\"].value_counts().head(10)\n",
    "\n",
    "# On 2011-01-01 crime rate is high..meaning criminal active on New year eve.."
   ]
  },
  {
   "cell_type": "code",
   "execution_count": 18,
   "id": "5b6e7756",
   "metadata": {},
   "outputs": [
    {
     "data": {
      "text/plain": [
       "LARCENY/THEFT     174900\n",
       "OTHER OFFENSES    126182\n",
       "NON-CRIMINAL       92304\n",
       "ASSAULT            76876\n",
       "DRUG/NARCOTIC      53971\n",
       "VEHICLE THEFT      53781\n",
       "VANDALISM          44725\n",
       "WARRANTS           42214\n",
       "BURGLARY           36755\n",
       "SUSPICIOUS OCC     31414\n",
       "Name: Category, dtype: int64"
      ]
     },
     "execution_count": 18,
     "metadata": {},
     "output_type": "execute_result"
    }
   ],
   "source": [
    "df[\"Category\"].value_counts().head(10)\n",
    "\n",
    "#  LARCENY/THEFT have high rate and this crime belong from proporty crime.."
   ]
  },
  {
   "cell_type": "code",
   "execution_count": 19,
   "id": "f9619267",
   "metadata": {},
   "outputs": [
    {
     "data": {
      "text/plain": [
       "GRAND THEFT FROM LOCKED AUTO                 60022\n",
       "LOST PROPERTY                                31729\n",
       "BATTERY                                      27441\n",
       "STOLEN AUTOMOBILE                            26897\n",
       "DRIVERS LICENSE, SUSPENDED OR REVOKED        26839\n",
       "WARRANT ARREST                               23754\n",
       "SUSPICIOUS OCCURRENCE                        21891\n",
       "AIDED CASE, MENTAL DISTURBED                 21497\n",
       "PETTY THEFT FROM LOCKED AUTO                 19771\n",
       "MALICIOUS MISCHIEF, VANDALISM OF VEHICLES    17789\n",
       "Name: Descript, dtype: int64"
      ]
     },
     "execution_count": 19,
     "metadata": {},
     "output_type": "execute_result"
    }
   ],
   "source": [
    "df[\"Descript\"].value_counts().head(10)\n",
    "\n",
    "# 60022 case happen of \"GRAND THEFT FROM LOCKED AUTO\" crime.."
   ]
  },
  {
   "cell_type": "code",
   "execution_count": 20,
   "id": "4ad50337",
   "metadata": {},
   "outputs": [
    {
     "data": {
      "text/plain": [
       "Friday       133734\n",
       "Wednesday    129211\n",
       "Saturday     126810\n",
       "Thursday     125038\n",
       "Tuesday      124965\n",
       "Monday       121584\n",
       "Sunday       116707\n",
       "Name: DayOfWeek, dtype: int64"
      ]
     },
     "execution_count": 20,
     "metadata": {},
     "output_type": "execute_result"
    }
   ],
   "source": [
    "df[\"DayOfWeek\"].value_counts()\n",
    "\n",
    "#  On Friday crime rate (133734) is high..means on week end"
   ]
  },
  {
   "cell_type": "code",
   "execution_count": 21,
   "id": "f8e8d4b7",
   "metadata": {},
   "outputs": [
    {
     "data": {
      "text/plain": [
       "SOUTHERN      157182\n",
       "MISSION       119908\n",
       "NORTHERN      105296\n",
       "BAYVIEW        89431\n",
       "CENTRAL        85460\n",
       "TENDERLOIN     81809\n",
       "INGLESIDE      78845\n",
       "TARAVAL        65596\n",
       "PARK           49313\n",
       "RICHMOND       45209\n",
       "Name: PdDistrict, dtype: int64"
      ]
     },
     "execution_count": 21,
     "metadata": {},
     "output_type": "execute_result"
    }
   ],
   "source": [
    "df[\"PdDistrict\"].value_counts()\n",
    "\n",
    "# In south 157182 crime case is happen.."
   ]
  },
  {
   "cell_type": "code",
   "execution_count": 22,
   "id": "da8470f7",
   "metadata": {},
   "outputs": [
    {
     "data": {
      "text/plain": [
       "NONE                                      526790\n",
       "ARREST, BOOKED                            206403\n",
       "ARREST, CITED                              77004\n",
       "LOCATED                                    17101\n",
       "PSYCHOPATHIC CASE                          14534\n",
       "UNFOUNDED                                   9585\n",
       "JUVENILE BOOKED                             5564\n",
       "COMPLAINANT REFUSES TO PROSECUTE            3976\n",
       "DISTRICT ATTORNEY REFUSES TO PROSECUTE      3934\n",
       "NOT PROSECUTED                              3714\n",
       "Name: Resolution, dtype: int64"
      ]
     },
     "execution_count": 22,
     "metadata": {},
     "output_type": "execute_result"
    }
   ],
   "source": [
    "df[\"Resolution\"].value_counts().head(10)\n",
    "\n",
    "#  526790 case are not resolve, 206403 case of ARREST & BOOKED is resloved.."
   ]
  },
  {
   "cell_type": "code",
   "execution_count": 23,
   "id": "ef24c0f6",
   "metadata": {},
   "outputs": [
    {
     "data": {
      "text/plain": [
       "17"
      ]
     },
     "execution_count": 23,
     "metadata": {},
     "output_type": "execute_result"
    }
   ],
   "source": [
    "df[\"Resolution\"].nunique()"
   ]
  },
  {
   "cell_type": "code",
   "execution_count": 24,
   "id": "cc1dc6b0",
   "metadata": {},
   "outputs": [
    {
     "data": {
      "text/plain": [
       "800 Block of BRYANT ST      26533\n",
       "800 Block of MARKET ST       6581\n",
       "2000 Block of MISSION ST     5097\n",
       "1000 Block of POTRERO AV     4063\n",
       "900 Block of MARKET ST       3251\n",
       "0 Block of TURK ST           3228\n",
       "0 Block of 6TH ST            2884\n",
       "300 Block of ELLIS ST        2703\n",
       "400 Block of ELLIS ST        2590\n",
       "16TH ST / MISSION ST         2504\n",
       "Name: Address, dtype: int64"
      ]
     },
     "execution_count": 24,
     "metadata": {},
     "output_type": "execute_result"
    }
   ],
   "source": [
    "df[\"Address\"].value_counts().head(10)\n",
    "\n",
    "# On \"800 Block of BRYANT ST\" address crime was occur 26533 times"
   ]
  },
  {
   "cell_type": "code",
   "execution_count": 25,
   "id": "6c7beb95",
   "metadata": {},
   "outputs": [
    {
     "name": "stdout",
     "output_type": "stream",
     "text": [
      "Longitude \n",
      " -122.403405    26354\n",
      "-122.419658     4449\n",
      "-122.406539     3891\n",
      "-122.407634     3170\n",
      "-122.419672     3006\n",
      "Name: X, dtype: int64 \n",
      "\n",
      "Latitude \n",
      " 37.775421    26354\n",
      "37.764221     4449\n",
      "37.756486     3891\n",
      "37.784189     3170\n",
      "37.765050     3006\n",
      "Name: Y, dtype: int64\n"
     ]
    }
   ],
   "source": [
    "print(\"Longitude\",\"\\n\",df['X'].value_counts().head(),\"\\n\")\n",
    "print(\"Latitude\",\"\\n\",df['Y'].value_counts().head())\n",
    "\n",
    "# On longitude -122.403405 and Latitude 37.775421 crime occur 26354 times.."
   ]
  },
  {
   "cell_type": "code",
   "execution_count": 26,
   "id": "5cfdae83",
   "metadata": {},
   "outputs": [
    {
     "data": {
      "text/plain": [
       "37.775421    26354\n",
       "37.764221     4449\n",
       "37.756486     3891\n",
       "37.784189     3170\n",
       "37.765050     3006\n",
       "Name: Y, dtype: int64"
      ]
     },
     "execution_count": 26,
     "metadata": {},
     "output_type": "execute_result"
    }
   ],
   "source": [
    "df['Y'].value_counts().head()"
   ]
  },
  {
   "cell_type": "code",
   "execution_count": 27,
   "id": "ecbe6f23",
   "metadata": {},
   "outputs": [
    {
     "data": {
      "image/png": "[encoded data removed]",
      "text/plain": [
       "<Figure size 432x288 with 1 Axes>"
      ]
     },
     "metadata": {
      "needs_background": "light"
     },
     "output_type": "display_data"
    },
    {
     "name": "stdout",
     "output_type": "stream",
     "text": [
      "Counts of Year\n"
     ]
    },
    {
     "data": {
      "text/plain": [
       "2013    75606\n",
       "2014    74766\n",
       "2003    73902\n",
       "2004    73422\n",
       "2012    71731\n",
       "2005    70779\n",
       "2008    70174\n",
       "2006    69909\n",
       "2009    69000\n",
       "2007    68015\n",
       "2011    66619\n",
       "2010    66542\n",
       "2015    27584\n",
       "Name: Year, dtype: int64"
      ]
     },
     "execution_count": 27,
     "metadata": {},
     "output_type": "execute_result"
    }
   ],
   "source": [
    "df['Year'].value_counts().plot(kind = 'bar')\n",
    "plt.xlabel(\"Year\")\n",
    "plt.ylabel(\"COUNTS\")\n",
    "plt.show()\n",
    "\n",
    "print(\"Counts of Year\")\n",
    "df['Year'].value_counts() \n",
    "\n",
    "# In 2013 year the crime rate is high..\n"
   ]
  },
  {
   "cell_type": "code",
   "execution_count": 28,
   "id": "cbb4efe2",
   "metadata": {},
   "outputs": [
    {
     "data": {
      "image/png": "[encoded data removed]",
      "text/plain": [
       "<Figure size 432x288 with 1 Axes>"
      ]
     },
     "metadata": {
      "needs_background": "light"
     },
     "output_type": "display_data"
    },
    {
     "name": "stdout",
     "output_type": "stream",
     "text": [
      "Counts of Quarters\n"
     ]
    },
    {
     "data": {
      "text/plain": [
       "2    228632\n",
       "1    220669\n",
       "4    218255\n",
       "3    210493\n",
       "Name: Quarter, dtype: int64"
      ]
     },
     "execution_count": 28,
     "metadata": {},
     "output_type": "execute_result"
    }
   ],
   "source": [
    "df['Quarter'].value_counts().plot(kind = 'bar')\n",
    "plt.xlabel(\"Quarter\")\n",
    "plt.ylabel(\"COUNTS\")\n",
    "plt.show()\n",
    "\n",
    "print(\"Counts of Quarters\")\n",
    "df['Quarter'].value_counts()\n",
    "\n",
    "#  In the 2nd quarter crime is high.."
   ]
  },
  {
   "cell_type": "code",
   "execution_count": 29,
   "id": "eb3b3300",
   "metadata": {},
   "outputs": [
    {
     "data": {
      "image/png": "[encoded data removed]",
      "text/plain": [
       "<Figure size 432x288 with 1 Axes>"
      ]
     },
     "metadata": {
      "needs_background": "light"
     },
     "output_type": "display_data"
    },
    {
     "name": "stdout",
     "output_type": "stream",
     "text": [
      "Counts of Months\n"
     ]
    },
    {
     "data": {
      "text/plain": [
       "10    80274\n",
       "5     79644\n",
       "4     78096\n",
       "3     76320\n",
       "1     73536\n",
       "11    72975\n",
       "9     71982\n",
       "6     70892\n",
       "2     70813\n",
       "7     69971\n",
       "8     68540\n",
       "12    65006\n",
       "Name: Month, dtype: int64"
      ]
     },
     "execution_count": 29,
     "metadata": {},
     "output_type": "execute_result"
    }
   ],
   "source": [
    "df['Month'].value_counts().plot(kind = 'bar')\n",
    "plt.xlabel(\"Months\")\n",
    "plt.ylabel(\"COUNTS\")\n",
    "plt.show()\n",
    "\n",
    "print(\"Counts of Months\")\n",
    "df['Month'].value_counts() \n",
    "\n",
    "\n",
    "\n",
    "#  In 10th month of year crime rate is high.."
   ]
  },
  {
   "cell_type": "code",
   "execution_count": 30,
   "id": "3533602f",
   "metadata": {},
   "outputs": [
    {
     "data": {
      "image/png": "[encoded data removed]",
      "text/plain": [
       "<Figure size 432x288 with 1 Axes>"
      ]
     },
     "metadata": {
      "needs_background": "light"
     },
     "output_type": "display_data"
    },
    {
     "name": "stdout",
     "output_type": "stream",
     "text": [
      "Counts of Day_of_month\n"
     ]
    },
    {
     "data": {
      "text/plain": [
       "1     32167\n",
       "22    30589\n",
       "8     30339\n",
       "21    30038\n",
       "19    30012\n",
       "20    29963\n",
       "4     29905\n",
       "18    29793\n",
       "7     29685\n",
       "5     29557\n",
       "23    29547\n",
       "9     29502\n",
       "6     29482\n",
       "17    29031\n",
       "3     28691\n",
       "13    28580\n",
       "10    28395\n",
       "15    28224\n",
       "12    28223\n",
       "16    28146\n",
       "24    27987\n",
       "11    27952\n",
       "14    27670\n",
       "27    27577\n",
       "2     27471\n",
       "28    27269\n",
       "29    27108\n",
       "25    26932\n",
       "26    26870\n",
       "30    26589\n",
       "31    14755\n",
       "Name: Day_of_month, dtype: int64"
      ]
     },
     "execution_count": 30,
     "metadata": {},
     "output_type": "execute_result"
    }
   ],
   "source": [
    "df['Day_of_month'].value_counts().plot(kind = 'bar')\n",
    "plt.xlabel(\"Day_of_month\")\n",
    "plt.ylabel(\"COUNTS\")\n",
    "plt.show()\n",
    "\n",
    "print(\"Counts of Day_of_month\")\n",
    "df['Day_of_month'].value_counts() \n",
    " \n",
    "\n",
    "# On the first day of month the crime rate is highest but on last day crime is half..  "
   ]
  },
  {
   "cell_type": "code",
   "execution_count": 31,
   "id": "b81ac1c7",
   "metadata": {},
   "outputs": [
    {
     "data": {
      "text/plain": [
       "18    55104\n",
       "17    53553\n",
       "12    51934\n",
       "16    50137\n",
       "19    49475\n",
       "15    48058\n",
       "22    45741\n",
       "0     44865\n",
       "20    44694\n",
       "14    44424\n",
       "21    43661\n",
       "13    43145\n",
       "23    42460\n",
       "11    38373\n",
       "10    37806\n",
       "9     35555\n",
       "8     32900\n",
       "1     26173\n",
       "2     22296\n",
       "7     22048\n",
       "3     14014\n",
       "6     13133\n",
       "4      9863\n",
       "5      8637\n",
       "Name: Hours, dtype: int64"
      ]
     },
     "execution_count": 31,
     "metadata": {},
     "output_type": "execute_result"
    }
   ],
   "source": [
    "df['Hours'].value_counts()\n",
    "\n",
    "#  In between 15:00 to 19:00 the crime cases occur..but mostly in 17:00 to 18:00.."
   ]
  },
  {
   "cell_type": "markdown",
   "id": "8b8d1f36",
   "metadata": {},
   "source": [
    "\n",
    "<span style=\"font-family: Westways; font-weight:bold;font-size:3em;color: Red\">*SUMMARY*\n",
    "       "
   ]
  },
  {
   "cell_type": "markdown",
   "id": "e834400e",
   "metadata": {},
   "source": [
    "* **Date** - **2011-01-01 00:01:00** (185) crime rate is high..meaning criminal active on New year eve..\n",
    "\n",
    "\n",
    "* **Category** **LARCENY/THEFT** is occur 174900 time  and this crime belong from proporty crime..\n",
    "\n",
    "\n",
    "* **Descript** - 60022 case happen of **GRAND THEFT FROM LOCKED AUTO** crime..\n",
    "\n",
    "\n",
    "* **DayOfWeek** - On **Friday** crime rate (133734) is high..means on week end.\n",
    "\n",
    "\n",
    "* **PdDistrict** - In **south** 157182 crime case is happen..\n",
    "\n",
    "\n",
    "\n",
    "* **Resolution** - 526790 case are **None** resolve, 206403 case of **ARREST & BOOKED** is resloved..\n",
    "\n",
    "\n",
    "* **Address** On **800 Block of BRYANT ST** address crime was occur 26533 times.\n",
    "\n",
    "\n",
    "* **Longitude(X) and Latitude(Y)**  On longitude **-122.403405 and Latitude 37.775421** crime occur 26354 times..\n",
    "\n",
    "\n",
    "* **Year** In **2013** year the crime extreamly is high..the case are 75606. This is **13 years** data from 2003 to 2015.\n",
    "\n",
    "\n",
    "* **Quarter** In the **2nd quarter** crime is high..and case are 228632 but in other quarter numbers are same.\n",
    "\n",
    "\n",
    "* **Month** In **10th month** of year 80274 crime cases happen.\n",
    "\n",
    "\n",
    "* **Day_of_month** On the **first day** of month the crime rate is highest but on last day crime is half..  the numbers are 32167 on 1 day of month & 14755 cases on (31)last day of the month.\n",
    "\n",
    " \n",
    "\n",
    "* **Hours** In between **15:00 to 19:00** the crime cases occur..but mostly in **17:00 to 18:00**.."
   ]
  },
  {
   "cell_type": "code",
   "execution_count": null,
   "id": "fb380e2b",
   "metadata": {},
   "outputs": [],
   "source": []
  },
  {
   "cell_type": "markdown",
   "id": "0b877b26",
   "metadata": {},
   "source": [
    "## Bivariate Analysis"
   ]
  },
  {
   "cell_type": "code",
   "execution_count": 32,
   "id": "546c9b0e",
   "metadata": {},
   "outputs": [
    {
     "data": {
      "text/html": [
       "<div>\n",
       "<style scoped>\n",
       "    .dataframe tbody tr th:only-of-type {\n",
       "        vertical-align: middle;\n",
       "    }\n",
       "\n",
       "    .dataframe tbody tr th {\n",
       "        vertical-align: top;\n",
       "    }\n",
       "\n",
       "    .dataframe thead th {\n",
       "        text-align: right;\n",
       "    }\n",
       "</style>\n",
       "<table border=\"1\" class=\"dataframe\">\n",
       "  <thead>\n",
       "    <tr style=\"text-align: right;\">\n",
       "      <th></th>\n",
       "      <th>Dates</th>\n",
       "      <th>Category</th>\n",
       "      <th>Descript</th>\n",
       "      <th>DayOfWeek</th>\n",
       "      <th>PdDistrict</th>\n",
       "      <th>Resolution</th>\n",
       "      <th>Address</th>\n",
       "      <th>X</th>\n",
       "      <th>Y</th>\n",
       "      <th>Year</th>\n",
       "      <th>Quarter</th>\n",
       "      <th>Month</th>\n",
       "      <th>Day_of_month</th>\n",
       "      <th>Day_of_week</th>\n",
       "      <th>Hours</th>\n",
       "    </tr>\n",
       "  </thead>\n",
       "  <tbody>\n",
       "    <tr>\n",
       "      <th>0</th>\n",
       "      <td>2015-05-13 23:53:00</td>\n",
       "      <td>WARRANTS</td>\n",
       "      <td>WARRANT ARREST</td>\n",
       "      <td>Wednesday</td>\n",
       "      <td>NORTHERN</td>\n",
       "      <td>ARREST, BOOKED</td>\n",
       "      <td>OAK ST / LAGUNA ST</td>\n",
       "      <td>-122.425892</td>\n",
       "      <td>37.774599</td>\n",
       "      <td>2015</td>\n",
       "      <td>2</td>\n",
       "      <td>5</td>\n",
       "      <td>13</td>\n",
       "      <td>2</td>\n",
       "      <td>23</td>\n",
       "    </tr>\n",
       "    <tr>\n",
       "      <th>1</th>\n",
       "      <td>2015-05-13 23:53:00</td>\n",
       "      <td>OTHER OFFENSES</td>\n",
       "      <td>TRAFFIC VIOLATION ARREST</td>\n",
       "      <td>Wednesday</td>\n",
       "      <td>NORTHERN</td>\n",
       "      <td>ARREST, BOOKED</td>\n",
       "      <td>OAK ST / LAGUNA ST</td>\n",
       "      <td>-122.425892</td>\n",
       "      <td>37.774599</td>\n",
       "      <td>2015</td>\n",
       "      <td>2</td>\n",
       "      <td>5</td>\n",
       "      <td>13</td>\n",
       "      <td>2</td>\n",
       "      <td>23</td>\n",
       "    </tr>\n",
       "  </tbody>\n",
       "</table>\n",
       "</div>"
      ],
      "text/plain": [
       "                 Dates        Category                  Descript  DayOfWeek  \\\n",
       "0  2015-05-13 23:53:00        WARRANTS            WARRANT ARREST  Wednesday   \n",
       "1  2015-05-13 23:53:00  OTHER OFFENSES  TRAFFIC VIOLATION ARREST  Wednesday   \n",
       "\n",
       "  PdDistrict      Resolution             Address           X          Y  Year  \\\n",
       "0   NORTHERN  ARREST, BOOKED  OAK ST / LAGUNA ST -122.425892  37.774599  2015   \n",
       "1   NORTHERN  ARREST, BOOKED  OAK ST / LAGUNA ST -122.425892  37.774599  2015   \n",
       "\n",
       "   Quarter  Month  Day_of_month  Day_of_week  Hours  \n",
       "0        2      5            13            2     23  \n",
       "1        2      5            13            2     23  "
      ]
     },
     "execution_count": 32,
     "metadata": {},
     "output_type": "execute_result"
    }
   ],
   "source": [
    " df.head(2)"
   ]
  },
  {
   "cell_type": "markdown",
   "id": "b1d7a945",
   "metadata": {},
   "source": [
    "### Interpretation of Date - **2011-01-01 00:01:00** (185) in which crime rate is high."
   ]
  },
  {
   "cell_type": "code",
   "execution_count": 33,
   "id": "8eba90ce",
   "metadata": {},
   "outputs": [
    {
     "data": {
      "text/html": [
       "<div>\n",
       "<style scoped>\n",
       "    .dataframe tbody tr th:only-of-type {\n",
       "        vertical-align: middle;\n",
       "    }\n",
       "\n",
       "    .dataframe tbody tr th {\n",
       "        vertical-align: top;\n",
       "    }\n",
       "\n",
       "    .dataframe thead th {\n",
       "        text-align: right;\n",
       "    }\n",
       "</style>\n",
       "<table border=\"1\" class=\"dataframe\">\n",
       "  <thead>\n",
       "    <tr style=\"text-align: right;\">\n",
       "      <th></th>\n",
       "      <th>Dates</th>\n",
       "      <th>Category</th>\n",
       "      <th>Descript</th>\n",
       "      <th>DayOfWeek</th>\n",
       "      <th>PdDistrict</th>\n",
       "      <th>Resolution</th>\n",
       "      <th>Address</th>\n",
       "      <th>X</th>\n",
       "      <th>Y</th>\n",
       "      <th>Year</th>\n",
       "      <th>Quarter</th>\n",
       "      <th>Month</th>\n",
       "      <th>Day_of_month</th>\n",
       "      <th>Day_of_week</th>\n",
       "      <th>Hours</th>\n",
       "    </tr>\n",
       "  </thead>\n",
       "  <tbody>\n",
       "    <tr>\n",
       "      <th>316121</th>\n",
       "      <td>2011-01-01 00:01:00</td>\n",
       "      <td>LARCENY/THEFT</td>\n",
       "      <td>EMBEZZLEMENT FROM DEPENDENT OR ELDER ADULT BY ...</td>\n",
       "      <td>Saturday</td>\n",
       "      <td>NORTHERN</td>\n",
       "      <td>EXCEPTIONAL CLEARANCE</td>\n",
       "      <td>1800 Block of SUTTER ST</td>\n",
       "      <td>-122.430792</td>\n",
       "      <td>37.786456</td>\n",
       "      <td>2011</td>\n",
       "      <td>1</td>\n",
       "      <td>1</td>\n",
       "      <td>1</td>\n",
       "      <td>5</td>\n",
       "      <td>0</td>\n",
       "    </tr>\n",
       "    <tr>\n",
       "      <th>316122</th>\n",
       "      <td>2011-01-01 00:01:00</td>\n",
       "      <td>FRAUD</td>\n",
       "      <td>FORGERY, CREDIT CARD</td>\n",
       "      <td>Saturday</td>\n",
       "      <td>SOUTHERN</td>\n",
       "      <td>NONE</td>\n",
       "      <td>400 Block of JESSIE ST</td>\n",
       "      <td>-122.408534</td>\n",
       "      <td>37.782033</td>\n",
       "      <td>2011</td>\n",
       "      <td>1</td>\n",
       "      <td>1</td>\n",
       "      <td>1</td>\n",
       "      <td>5</td>\n",
       "      <td>0</td>\n",
       "    </tr>\n",
       "    <tr>\n",
       "      <th>316123</th>\n",
       "      <td>2011-01-01 00:01:00</td>\n",
       "      <td>OTHER OFFENSES</td>\n",
       "      <td>FALSE PERSONATION TO RECEIVE MONEY OR PROPERTY</td>\n",
       "      <td>Saturday</td>\n",
       "      <td>BAYVIEW</td>\n",
       "      <td>NONE</td>\n",
       "      <td>0 Block of DAKOTA ST</td>\n",
       "      <td>-122.395635</td>\n",
       "      <td>37.753565</td>\n",
       "      <td>2011</td>\n",
       "      <td>1</td>\n",
       "      <td>1</td>\n",
       "      <td>1</td>\n",
       "      <td>5</td>\n",
       "      <td>0</td>\n",
       "    </tr>\n",
       "    <tr>\n",
       "      <th>316124</th>\n",
       "      <td>2011-01-01 00:01:00</td>\n",
       "      <td>NON-CRIMINAL</td>\n",
       "      <td>CASE CLOSURE</td>\n",
       "      <td>Saturday</td>\n",
       "      <td>BAYVIEW</td>\n",
       "      <td>PROSECUTED BY OUTSIDE AGENCY</td>\n",
       "      <td>0 Block of GARLINGTON CT</td>\n",
       "      <td>-122.384358</td>\n",
       "      <td>37.732500</td>\n",
       "      <td>2011</td>\n",
       "      <td>1</td>\n",
       "      <td>1</td>\n",
       "      <td>1</td>\n",
       "      <td>5</td>\n",
       "      <td>0</td>\n",
       "    </tr>\n",
       "    <tr>\n",
       "      <th>316125</th>\n",
       "      <td>2011-01-01 00:01:00</td>\n",
       "      <td>OTHER OFFENSES</td>\n",
       "      <td>FALSE PERSONATION TO RECEIVE MONEY OR PROPERTY</td>\n",
       "      <td>Saturday</td>\n",
       "      <td>TARAVAL</td>\n",
       "      <td>NONE</td>\n",
       "      <td>1300 Block of 24TH AV</td>\n",
       "      <td>-122.482347</td>\n",
       "      <td>37.762380</td>\n",
       "      <td>2011</td>\n",
       "      <td>1</td>\n",
       "      <td>1</td>\n",
       "      <td>1</td>\n",
       "      <td>5</td>\n",
       "      <td>0</td>\n",
       "    </tr>\n",
       "    <tr>\n",
       "      <th>316126</th>\n",
       "      <td>2011-01-01 00:01:00</td>\n",
       "      <td>OTHER OFFENSES</td>\n",
       "      <td>FALSE PERSONATION TO RECEIVE MONEY OR PROPERTY</td>\n",
       "      <td>Saturday</td>\n",
       "      <td>BAYVIEW</td>\n",
       "      <td>NONE</td>\n",
       "      <td>1200 Block of REVERE AV</td>\n",
       "      <td>-122.383599</td>\n",
       "      <td>37.728010</td>\n",
       "      <td>2011</td>\n",
       "      <td>1</td>\n",
       "      <td>1</td>\n",
       "      <td>1</td>\n",
       "      <td>5</td>\n",
       "      <td>0</td>\n",
       "    </tr>\n",
       "    <tr>\n",
       "      <th>316127</th>\n",
       "      <td>2011-01-01 00:01:00</td>\n",
       "      <td>OTHER OFFENSES</td>\n",
       "      <td>DRIVERS LICENSE, SUSPENDED OR REVOKED</td>\n",
       "      <td>Saturday</td>\n",
       "      <td>BAYVIEW</td>\n",
       "      <td>ARREST, CITED</td>\n",
       "      <td>2700 Block of SAN BRUNO AV</td>\n",
       "      <td>-122.403277</td>\n",
       "      <td>37.727039</td>\n",
       "      <td>2011</td>\n",
       "      <td>1</td>\n",
       "      <td>1</td>\n",
       "      <td>1</td>\n",
       "      <td>5</td>\n",
       "      <td>0</td>\n",
       "    </tr>\n",
       "    <tr>\n",
       "      <th>316128</th>\n",
       "      <td>2011-01-01 00:01:00</td>\n",
       "      <td>OTHER OFFENSES</td>\n",
       "      <td>FALSE PERSONATION TO RECEIVE MONEY OR PROPERTY</td>\n",
       "      <td>Saturday</td>\n",
       "      <td>INGLESIDE</td>\n",
       "      <td>NONE</td>\n",
       "      <td>200 Block of PORTOLA DR</td>\n",
       "      <td>-122.444276</td>\n",
       "      <td>37.748497</td>\n",
       "      <td>2011</td>\n",
       "      <td>1</td>\n",
       "      <td>1</td>\n",
       "      <td>1</td>\n",
       "      <td>5</td>\n",
       "      <td>0</td>\n",
       "    </tr>\n",
       "    <tr>\n",
       "      <th>316129</th>\n",
       "      <td>2011-01-01 00:01:00</td>\n",
       "      <td>VANDALISM</td>\n",
       "      <td>MALICIOUS MISCHIEF, VANDALISM OF VEHICLES</td>\n",
       "      <td>Saturday</td>\n",
       "      <td>INGLESIDE</td>\n",
       "      <td>NONE</td>\n",
       "      <td>200 Block of STAPLES AV</td>\n",
       "      <td>-122.447728</td>\n",
       "      <td>37.729023</td>\n",
       "      <td>2011</td>\n",
       "      <td>1</td>\n",
       "      <td>1</td>\n",
       "      <td>1</td>\n",
       "      <td>5</td>\n",
       "      <td>0</td>\n",
       "    </tr>\n",
       "    <tr>\n",
       "      <th>316130</th>\n",
       "      <td>2011-01-01 00:01:00</td>\n",
       "      <td>NON-CRIMINAL</td>\n",
       "      <td>COURTESY REPORT</td>\n",
       "      <td>Saturday</td>\n",
       "      <td>SOUTHERN</td>\n",
       "      <td>NONE</td>\n",
       "      <td>800 Block of BRYANT ST</td>\n",
       "      <td>-122.403405</td>\n",
       "      <td>37.775421</td>\n",
       "      <td>2011</td>\n",
       "      <td>1</td>\n",
       "      <td>1</td>\n",
       "      <td>1</td>\n",
       "      <td>5</td>\n",
       "      <td>0</td>\n",
       "    </tr>\n",
       "  </tbody>\n",
       "</table>\n",
       "</div>"
      ],
      "text/plain": [
       "                      Dates        Category  \\\n",
       "316121  2011-01-01 00:01:00   LARCENY/THEFT   \n",
       "316122  2011-01-01 00:01:00           FRAUD   \n",
       "316123  2011-01-01 00:01:00  OTHER OFFENSES   \n",
       "316124  2011-01-01 00:01:00    NON-CRIMINAL   \n",
       "316125  2011-01-01 00:01:00  OTHER OFFENSES   \n",
       "316126  2011-01-01 00:01:00  OTHER OFFENSES   \n",
       "316127  2011-01-01 00:01:00  OTHER OFFENSES   \n",
       "316128  2011-01-01 00:01:00  OTHER OFFENSES   \n",
       "316129  2011-01-01 00:01:00       VANDALISM   \n",
       "316130  2011-01-01 00:01:00    NON-CRIMINAL   \n",
       "\n",
       "                                                 Descript DayOfWeek  \\\n",
       "316121  EMBEZZLEMENT FROM DEPENDENT OR ELDER ADULT BY ...  Saturday   \n",
       "316122                               FORGERY, CREDIT CARD  Saturday   \n",
       "316123     FALSE PERSONATION TO RECEIVE MONEY OR PROPERTY  Saturday   \n",
       "316124                                       CASE CLOSURE  Saturday   \n",
       "316125     FALSE PERSONATION TO RECEIVE MONEY OR PROPERTY  Saturday   \n",
       "316126     FALSE PERSONATION TO RECEIVE MONEY OR PROPERTY  Saturday   \n",
       "316127              DRIVERS LICENSE, SUSPENDED OR REVOKED  Saturday   \n",
       "316128     FALSE PERSONATION TO RECEIVE MONEY OR PROPERTY  Saturday   \n",
       "316129          MALICIOUS MISCHIEF, VANDALISM OF VEHICLES  Saturday   \n",
       "316130                                    COURTESY REPORT  Saturday   \n",
       "\n",
       "       PdDistrict                    Resolution                     Address  \\\n",
       "316121   NORTHERN         EXCEPTIONAL CLEARANCE     1800 Block of SUTTER ST   \n",
       "316122   SOUTHERN                          NONE      400 Block of JESSIE ST   \n",
       "316123    BAYVIEW                          NONE        0 Block of DAKOTA ST   \n",
       "316124    BAYVIEW  PROSECUTED BY OUTSIDE AGENCY    0 Block of GARLINGTON CT   \n",
       "316125    TARAVAL                          NONE       1300 Block of 24TH AV   \n",
       "316126    BAYVIEW                          NONE     1200 Block of REVERE AV   \n",
       "316127    BAYVIEW                 ARREST, CITED  2700 Block of SAN BRUNO AV   \n",
       "316128  INGLESIDE                          NONE     200 Block of PORTOLA DR   \n",
       "316129  INGLESIDE                          NONE     200 Block of STAPLES AV   \n",
       "316130   SOUTHERN                          NONE      800 Block of BRYANT ST   \n",
       "\n",
       "                 X          Y  Year  Quarter  Month  Day_of_month  \\\n",
       "316121 -122.430792  37.786456  2011        1      1             1   \n",
       "316122 -122.408534  37.782033  2011        1      1             1   \n",
       "316123 -122.395635  37.753565  2011        1      1             1   \n",
       "316124 -122.384358  37.732500  2011        1      1             1   \n",
       "316125 -122.482347  37.762380  2011        1      1             1   \n",
       "316126 -122.383599  37.728010  2011        1      1             1   \n",
       "316127 -122.403277  37.727039  2011        1      1             1   \n",
       "316128 -122.444276  37.748497  2011        1      1             1   \n",
       "316129 -122.447728  37.729023  2011        1      1             1   \n",
       "316130 -122.403405  37.775421  2011        1      1             1   \n",
       "\n",
       "        Day_of_week  Hours  \n",
       "316121            5      0  \n",
       "316122            5      0  \n",
       "316123            5      0  \n",
       "316124            5      0  \n",
       "316125            5      0  \n",
       "316126            5      0  \n",
       "316127            5      0  \n",
       "316128            5      0  \n",
       "316129            5      0  \n",
       "316130            5      0  "
      ]
     },
     "execution_count": 33,
     "metadata": {},
     "output_type": "execute_result"
    }
   ],
   "source": [
    "df[df[\"Dates\"]==\"2011-01-01 00:01:00\"].head(10)"
   ]
  },
  {
   "cell_type": "code",
   "execution_count": 34,
   "id": "f2f24c46",
   "metadata": {},
   "outputs": [
    {
     "data": {
      "text/html": [
       "<div>\n",
       "<style scoped>\n",
       "    .dataframe tbody tr th:only-of-type {\n",
       "        vertical-align: middle;\n",
       "    }\n",
       "\n",
       "    .dataframe tbody tr th {\n",
       "        vertical-align: top;\n",
       "    }\n",
       "\n",
       "    .dataframe thead th {\n",
       "        text-align: right;\n",
       "    }\n",
       "</style>\n",
       "<table border=\"1\" class=\"dataframe\">\n",
       "  <thead>\n",
       "    <tr style=\"text-align: right;\">\n",
       "      <th></th>\n",
       "      <th></th>\n",
       "      <th></th>\n",
       "      <th></th>\n",
       "      <th></th>\n",
       "      <th>0</th>\n",
       "    </tr>\n",
       "    <tr>\n",
       "      <th>Category</th>\n",
       "      <th>Descript</th>\n",
       "      <th>DayOfWeek</th>\n",
       "      <th>PdDistrict</th>\n",
       "      <th>Resolution</th>\n",
       "      <th></th>\n",
       "    </tr>\n",
       "  </thead>\n",
       "  <tbody>\n",
       "    <tr>\n",
       "      <th>OTHER OFFENSES</th>\n",
       "      <th>FALSE PERSONATION TO RECEIVE MONEY OR PROPERTY</th>\n",
       "      <th>Saturday</th>\n",
       "      <th>BAYVIEW</th>\n",
       "      <th>NONE</th>\n",
       "      <td>2</td>\n",
       "    </tr>\n",
       "    <tr>\n",
       "      <th>FRAUD</th>\n",
       "      <th>FORGERY, CREDIT CARD</th>\n",
       "      <th>Saturday</th>\n",
       "      <th>SOUTHERN</th>\n",
       "      <th>NONE</th>\n",
       "      <td>1</td>\n",
       "    </tr>\n",
       "    <tr>\n",
       "      <th>LARCENY/THEFT</th>\n",
       "      <th>EMBEZZLEMENT FROM DEPENDENT OR ELDER ADULT BY CARETAKER</th>\n",
       "      <th>Saturday</th>\n",
       "      <th>NORTHERN</th>\n",
       "      <th>EXCEPTIONAL CLEARANCE</th>\n",
       "      <td>1</td>\n",
       "    </tr>\n",
       "    <tr>\n",
       "      <th rowspan=\"2\" valign=\"top\">NON-CRIMINAL</th>\n",
       "      <th>CASE CLOSURE</th>\n",
       "      <th>Saturday</th>\n",
       "      <th>BAYVIEW</th>\n",
       "      <th>PROSECUTED BY OUTSIDE AGENCY</th>\n",
       "      <td>1</td>\n",
       "    </tr>\n",
       "    <tr>\n",
       "      <th>COURTESY REPORT</th>\n",
       "      <th>Saturday</th>\n",
       "      <th>SOUTHERN</th>\n",
       "      <th>NONE</th>\n",
       "      <td>1</td>\n",
       "    </tr>\n",
       "    <tr>\n",
       "      <th rowspan=\"3\" valign=\"top\">OTHER OFFENSES</th>\n",
       "      <th>DRIVERS LICENSE, SUSPENDED OR REVOKED</th>\n",
       "      <th>Saturday</th>\n",
       "      <th>BAYVIEW</th>\n",
       "      <th>ARREST, CITED</th>\n",
       "      <td>1</td>\n",
       "    </tr>\n",
       "    <tr>\n",
       "      <th rowspan=\"2\" valign=\"top\">FALSE PERSONATION TO RECEIVE MONEY OR PROPERTY</th>\n",
       "      <th rowspan=\"2\" valign=\"top\">Saturday</th>\n",
       "      <th>INGLESIDE</th>\n",
       "      <th>NONE</th>\n",
       "      <td>1</td>\n",
       "    </tr>\n",
       "    <tr>\n",
       "      <th>TARAVAL</th>\n",
       "      <th>NONE</th>\n",
       "      <td>1</td>\n",
       "    </tr>\n",
       "    <tr>\n",
       "      <th>VANDALISM</th>\n",
       "      <th>MALICIOUS MISCHIEF, VANDALISM OF VEHICLES</th>\n",
       "      <th>Saturday</th>\n",
       "      <th>INGLESIDE</th>\n",
       "      <th>NONE</th>\n",
       "      <td>1</td>\n",
       "    </tr>\n",
       "  </tbody>\n",
       "</table>\n",
       "</div>"
      ],
      "text/plain": [
       "                                                                                                                     0\n",
       "Category       Descript                                           DayOfWeek PdDistrict Resolution                     \n",
       "OTHER OFFENSES FALSE PERSONATION TO RECEIVE MONEY OR PROPERTY     Saturday  BAYVIEW    NONE                          2\n",
       "FRAUD          FORGERY, CREDIT CARD                               Saturday  SOUTHERN   NONE                          1\n",
       "LARCENY/THEFT  EMBEZZLEMENT FROM DEPENDENT OR ELDER ADULT BY C... Saturday  NORTHERN   EXCEPTIONAL CLEARANCE         1\n",
       "NON-CRIMINAL   CASE CLOSURE                                       Saturday  BAYVIEW    PROSECUTED BY OUTSIDE AGENCY  1\n",
       "               COURTESY REPORT                                    Saturday  SOUTHERN   NONE                          1\n",
       "OTHER OFFENSES DRIVERS LICENSE, SUSPENDED OR REVOKED              Saturday  BAYVIEW    ARREST, CITED                 1\n",
       "               FALSE PERSONATION TO RECEIVE MONEY OR PROPERTY     Saturday  INGLESIDE  NONE                          1\n",
       "                                                                            TARAVAL    NONE                          1\n",
       "VANDALISM      MALICIOUS MISCHIEF, VANDALISM OF VEHICLES          Saturday  INGLESIDE  NONE                          1"
      ]
     },
     "execution_count": 34,
     "metadata": {},
     "output_type": "execute_result"
    }
   ],
   "source": [
    "pd.DataFrame(df.loc[df[\"Dates\"]==\"2011-01-01 00:01:00\", [\"Category\",\"Descript\",\"DayOfWeek\", \"PdDistrict\", \"Resolution\"]].head(10).value_counts())"
   ]
  },
  {
   "cell_type": "code",
   "execution_count": 35,
   "id": "fa3cf3fe",
   "metadata": {},
   "outputs": [
    {
     "data": {
      "text/plain": [
       "Address                              X            Y        \n",
       "800 Block of BRYANT ST               -122.403405  37.775421    9\n",
       "500 Block of FLOOD AV                -122.451807  37.729814    4\n",
       "0 Block of TURK ST                   -122.409854  37.783386    4\n",
       "0 Block of MOSS ST                   -122.408112  37.777759    4\n",
       "600 Block of 25TH AV                 -122.484596  37.777213    3\n",
       "                                                              ..\n",
       "1300 Block of HAYES ST               -122.438637  37.774829    1\n",
       "1300 Block of BUSH ST                -122.419508  37.788857    1\n",
       "1300 Block of 24TH AV                -122.482347  37.762380    1\n",
       "1300 Block of 19TH AV                -122.477230  37.762603    1\n",
       "MARKET ST / THE EMBARCADEROSOUTH ST  -122.393984  37.795061    1\n",
       "Length: 130, dtype: int64"
      ]
     },
     "execution_count": 35,
     "metadata": {},
     "output_type": "execute_result"
    }
   ],
   "source": [
    "df.loc[df[\"Dates\"]==\"2011-01-01 00:01:00\",[ \"Address\", \"X\", \"Y\"]].value_counts()"
   ]
  },
  {
   "cell_type": "code",
   "execution_count": 36,
   "id": "9d25594f",
   "metadata": {},
   "outputs": [
    {
     "data": {
      "text/plain": [
       "Year  Quarter  Month  Day_of_month  Day_of_week  Hours\n",
       "2011  1        1      1             5            0        185\n",
       "dtype: int64"
      ]
     },
     "execution_count": 36,
     "metadata": {},
     "output_type": "execute_result"
    }
   ],
   "source": [
    "df.loc[df[\"Dates\"]==\"2011-01-01 00:01:00\",[\"Year\",\"Quarter\",\"Month\",\"Day_of_month\",\"Day_of_week\", \"Hours\"]].value_counts()"
   ]
  },
  {
   "cell_type": "code",
   "execution_count": null,
   "id": "bb723d15",
   "metadata": {},
   "outputs": [],
   "source": []
  },
  {
   "cell_type": "markdown",
   "id": "6aadd3a5",
   "metadata": {},
   "source": [
    "## Key Points\n",
    "\n",
    "* crime Date is **2011-01-01 00:01:00** (185).\n",
    "\n",
    "\n",
    "* Crime **Category** is  **OTHER OFFENSES** (75).\n",
    "\n",
    "\n",
    "* Crime **Descript** is **FALSE PERSONATION TO RECEIVE MONEY OR PROPERTY** (4).\n",
    "\n",
    "\n",
    "* Crime **DayOfWeek** is **Saturday** (185).\n",
    "\n",
    "\n",
    "* Crime **PdDistrict** is **BAYVIEW** (4). \n",
    "\n",
    "\n",
    "* Crime **Resolution** is **None** (7).\n",
    "\n",
    "\n",
    "* Crime **Address** is **800 Block of BRYANT ST** (9).\n",
    "\n",
    "\n",
    "* Crime **Longitude(X) and Latitude(Y)** is **-122.403405  37.775421** (9).\n",
    "\n",
    "\n",
    "* Because the Date is **2011-01-01 00:01:00**.\n",
    "\n",
    "\n",
    " The crime **Year** is **2011**, **Quarter** is **1st**, **Month** is also **1**, **Day_of_month** is **1**, **Hours** is **1** o'clock (185).\n"
   ]
  },
  {
   "cell_type": "code",
   "execution_count": null,
   "id": "3bd38674",
   "metadata": {},
   "outputs": [],
   "source": []
  },
  {
   "cell_type": "markdown",
   "id": "825bf149",
   "metadata": {},
   "source": [
    "### Interpretation of **Address** - **800 Block of BRYANT ST** (26533), In which crime rate is high."
   ]
  },
  {
   "cell_type": "code",
   "execution_count": 37,
   "id": "4088bd51",
   "metadata": {},
   "outputs": [
    {
     "data": {
      "text/html": [
       "<div>\n",
       "<style scoped>\n",
       "    .dataframe tbody tr th:only-of-type {\n",
       "        vertical-align: middle;\n",
       "    }\n",
       "\n",
       "    .dataframe tbody tr th {\n",
       "        vertical-align: top;\n",
       "    }\n",
       "\n",
       "    .dataframe thead th {\n",
       "        text-align: right;\n",
       "    }\n",
       "</style>\n",
       "<table border=\"1\" class=\"dataframe\">\n",
       "  <thead>\n",
       "    <tr style=\"text-align: right;\">\n",
       "      <th></th>\n",
       "      <th>Dates</th>\n",
       "      <th>Category</th>\n",
       "      <th>Descript</th>\n",
       "      <th>DayOfWeek</th>\n",
       "      <th>PdDistrict</th>\n",
       "      <th>Resolution</th>\n",
       "      <th>Address</th>\n",
       "      <th>X</th>\n",
       "      <th>Y</th>\n",
       "      <th>Year</th>\n",
       "      <th>Quarter</th>\n",
       "      <th>Month</th>\n",
       "      <th>Day_of_month</th>\n",
       "      <th>Day_of_week</th>\n",
       "      <th>Hours</th>\n",
       "    </tr>\n",
       "  </thead>\n",
       "  <tbody>\n",
       "    <tr>\n",
       "      <th>147</th>\n",
       "      <td>2015-05-13 16:20:00</td>\n",
       "      <td>LARCENY/THEFT</td>\n",
       "      <td>PETTY THEFT FROM A BUILDING</td>\n",
       "      <td>Wednesday</td>\n",
       "      <td>SOUTHERN</td>\n",
       "      <td>ARREST, BOOKED</td>\n",
       "      <td>800 Block of BRYANT ST</td>\n",
       "      <td>-122.403405</td>\n",
       "      <td>37.775421</td>\n",
       "      <td>2015</td>\n",
       "      <td>2</td>\n",
       "      <td>5</td>\n",
       "      <td>13</td>\n",
       "      <td>2</td>\n",
       "      <td>16</td>\n",
       "    </tr>\n",
       "    <tr>\n",
       "      <th>190</th>\n",
       "      <td>2015-05-13 14:30:00</td>\n",
       "      <td>WARRANTS</td>\n",
       "      <td>WARRANT ARREST</td>\n",
       "      <td>Wednesday</td>\n",
       "      <td>SOUTHERN</td>\n",
       "      <td>ARREST, BOOKED</td>\n",
       "      <td>800 Block of BRYANT ST</td>\n",
       "      <td>-122.403405</td>\n",
       "      <td>37.775421</td>\n",
       "      <td>2015</td>\n",
       "      <td>2</td>\n",
       "      <td>5</td>\n",
       "      <td>13</td>\n",
       "      <td>2</td>\n",
       "      <td>14</td>\n",
       "    </tr>\n",
       "    <tr>\n",
       "      <th>225</th>\n",
       "      <td>2015-05-13 13:05:00</td>\n",
       "      <td>LARCENY/THEFT</td>\n",
       "      <td>GRAND THEFT FROM UNLOCKED AUTO</td>\n",
       "      <td>Wednesday</td>\n",
       "      <td>SOUTHERN</td>\n",
       "      <td>NONE</td>\n",
       "      <td>800 Block of BRYANT ST</td>\n",
       "      <td>-122.403405</td>\n",
       "      <td>37.775421</td>\n",
       "      <td>2015</td>\n",
       "      <td>2</td>\n",
       "      <td>5</td>\n",
       "      <td>13</td>\n",
       "      <td>2</td>\n",
       "      <td>13</td>\n",
       "    </tr>\n",
       "    <tr>\n",
       "      <th>380</th>\n",
       "      <td>2015-05-12 22:00:00</td>\n",
       "      <td>OTHER OFFENSES</td>\n",
       "      <td>DRIVERS LICENSE, SUSPENDED OR REVOKED</td>\n",
       "      <td>Tuesday</td>\n",
       "      <td>SOUTHERN</td>\n",
       "      <td>ARREST, BOOKED</td>\n",
       "      <td>800 Block of BRYANT ST</td>\n",
       "      <td>-122.403405</td>\n",
       "      <td>37.775421</td>\n",
       "      <td>2015</td>\n",
       "      <td>2</td>\n",
       "      <td>5</td>\n",
       "      <td>12</td>\n",
       "      <td>1</td>\n",
       "      <td>22</td>\n",
       "    </tr>\n",
       "    <tr>\n",
       "      <th>446</th>\n",
       "      <td>2015-05-12 19:00:00</td>\n",
       "      <td>LARCENY/THEFT</td>\n",
       "      <td>GRAND THEFT FROM UNLOCKED AUTO</td>\n",
       "      <td>Tuesday</td>\n",
       "      <td>SOUTHERN</td>\n",
       "      <td>NONE</td>\n",
       "      <td>800 Block of BRYANT ST</td>\n",
       "      <td>-122.403405</td>\n",
       "      <td>37.775421</td>\n",
       "      <td>2015</td>\n",
       "      <td>2</td>\n",
       "      <td>5</td>\n",
       "      <td>12</td>\n",
       "      <td>1</td>\n",
       "      <td>19</td>\n",
       "    </tr>\n",
       "  </tbody>\n",
       "</table>\n",
       "</div>"
      ],
      "text/plain": [
       "                   Dates        Category  \\\n",
       "147  2015-05-13 16:20:00   LARCENY/THEFT   \n",
       "190  2015-05-13 14:30:00        WARRANTS   \n",
       "225  2015-05-13 13:05:00   LARCENY/THEFT   \n",
       "380  2015-05-12 22:00:00  OTHER OFFENSES   \n",
       "446  2015-05-12 19:00:00   LARCENY/THEFT   \n",
       "\n",
       "                                  Descript  DayOfWeek PdDistrict  \\\n",
       "147            PETTY THEFT FROM A BUILDING  Wednesday   SOUTHERN   \n",
       "190                         WARRANT ARREST  Wednesday   SOUTHERN   \n",
       "225         GRAND THEFT FROM UNLOCKED AUTO  Wednesday   SOUTHERN   \n",
       "380  DRIVERS LICENSE, SUSPENDED OR REVOKED    Tuesday   SOUTHERN   \n",
       "446         GRAND THEFT FROM UNLOCKED AUTO    Tuesday   SOUTHERN   \n",
       "\n",
       "         Resolution                 Address           X          Y  Year  \\\n",
       "147  ARREST, BOOKED  800 Block of BRYANT ST -122.403405  37.775421  2015   \n",
       "190  ARREST, BOOKED  800 Block of BRYANT ST -122.403405  37.775421  2015   \n",
       "225            NONE  800 Block of BRYANT ST -122.403405  37.775421  2015   \n",
       "380  ARREST, BOOKED  800 Block of BRYANT ST -122.403405  37.775421  2015   \n",
       "446            NONE  800 Block of BRYANT ST -122.403405  37.775421  2015   \n",
       "\n",
       "     Quarter  Month  Day_of_month  Day_of_week  Hours  \n",
       "147        2      5            13            2     16  \n",
       "190        2      5            13            2     14  \n",
       "225        2      5            13            2     13  \n",
       "380        2      5            12            1     22  \n",
       "446        2      5            12            1     19  "
      ]
     },
     "execution_count": 37,
     "metadata": {},
     "output_type": "execute_result"
    }
   ],
   "source": [
    "pd.DataFrame(df.loc[df[ \"Address\"]==\"800 Block of BRYANT ST\"]).head()"
   ]
  },
  {
   "cell_type": "code",
   "execution_count": 38,
   "id": "268e676c",
   "metadata": {},
   "outputs": [
    {
     "data": {
      "text/plain": [
       "Dates                Category      Descript                      Resolution\n",
       "2008-04-01 00:01:00  NON-CRIMINAL  LOST PROPERTY                 NONE          5\n",
       "2009-05-01 00:01:00  NON-CRIMINAL  LOST PROPERTY                 NONE          4\n",
       "2007-11-01 09:00:00  NON-CRIMINAL  LOST PROPERTY                 NONE          4\n",
       "2009-06-09 00:01:00  FRAUD         CREDIT CARD, THEFT BY USE OF  NONE          4\n",
       "2007-07-01 00:01:00  NON-CRIMINAL  LOST PROPERTY                 NONE          4\n",
       "2005-12-01 00:01:00  NON-CRIMINAL  LOST PROPERTY                 NONE          4\n",
       "2008-11-01 00:01:00  NON-CRIMINAL  LOST PROPERTY                 NONE          4\n",
       "2006-01-01 12:00:00  NON-CRIMINAL  LOST PROPERTY                 NONE          4\n",
       "2012-04-17 09:20:00  NON-CRIMINAL  PROPERTY FOR IDENTIFICATION   NONE          3\n",
       "2004-06-27 15:00:00  NON-CRIMINAL  LOST PROPERTY                 NONE          3\n",
       "dtype: int64"
      ]
     },
     "execution_count": 38,
     "metadata": {},
     "output_type": "execute_result"
    }
   ],
   "source": [
    "df.loc[(df[ \"Address\"]==\"800 Block of BRYANT ST\"),[\"Dates\",\"Category\", \"Descript\",\"Resolution\" ]].value_counts().head(10)"
   ]
  },
  {
   "cell_type": "markdown",
   "id": "d29523c1",
   "metadata": {},
   "source": [
    "## Key Points\n",
    "\n",
    "* crime Date is **2012-01-01 00:01:00 & 2005-12-01 00:01:00** (13).\n",
    "\n",
    "\n",
    "* Crime **Category** is  **LARCENY/THEFT** (6144).\n",
    "\n",
    "\n",
    "* Crime **Descript** is **LOST PROPERTY** (3630) which belong from **Non-Criminal** category.\n",
    "\n",
    "\n",
    "* Crime **DayOfWeek** is **Wednesday** (185).\n",
    "\n",
    "\n",
    "* Crime **PdDistrict** is **SOUTHERN** (4). \n",
    "\n",
    "\n",
    "* Crime **Resolution** is **None** (18917).\n",
    "\n",
    "\n",
    "\n",
    "* Crime **Longitude(X) and Latitude(Y)** is **-122.403405  37.775421** (9).\n",
    "\n",
    "\n",
    "* Because the Latest Date is **2012-01-01 00:01:00**.\n",
    "\n",
    "\n",
    " The crime **Year** is **2012**, **Quarter** is **1st**, **Month** is also **1**, **Day_of_month** is **1**, **Hours** is **1** o'clock (185)."
   ]
  },
  {
   "cell_type": "code",
   "execution_count": 39,
   "id": "8c4fd6ee",
   "metadata": {},
   "outputs": [
    {
     "data": {
      "text/plain": [
       "PdDistrict\n",
       "SOUTHERN      93924\n",
       "NORTHERN      70251\n",
       "MISSION       63056\n",
       "CENTRAL       60388\n",
       "BAYVIEW       51785\n",
       "INGLESIDE     51047\n",
       "TARAVAL       45018\n",
       "RICHMOND      32729\n",
       "PARK          30895\n",
       "TENDERLOIN    27697\n",
       "dtype: int64"
      ]
     },
     "execution_count": 39,
     "metadata": {},
     "output_type": "execute_result"
    }
   ],
   "source": [
    "df.loc[df[ \"Resolution\"]==\"NONE\",[\"PdDistrict\"]].value_counts()\n",
    "\n",
    "# In SOUTHERN PdDistrict the case resolution is NONE may be because the crime rate is high."
   ]
  },
  {
   "cell_type": "code",
   "execution_count": 40,
   "id": "51e261ff",
   "metadata": {},
   "outputs": [
    {
     "data": {
      "text/plain": [
       "2014    18901\n",
       "2013    18152\n",
       "2012    15639\n",
       "2006    13798\n",
       "2011    13084\n",
       "2003    12990\n",
       "2008    12800\n",
       "2007    12760\n",
       "2009    12538\n",
       "2005    12402\n",
       "2010    12214\n",
       "2004    12111\n",
       "2015     7511\n",
       "Name: Year, dtype: int64"
      ]
     },
     "execution_count": 40,
     "metadata": {},
     "output_type": "execute_result"
    }
   ],
   "source": [
    "df[df[\"Category\"] == \"LARCENY/THEFT\"][\"Year\"].value_counts()\n",
    "\n",
    "# In 2013 & 2014 the crime Category belong from the  \"LARCENY/THEFT\" ."
   ]
  },
  {
   "cell_type": "markdown",
   "id": "641685c7",
   "metadata": {},
   "source": [
    "#### Duplicate Data"
   ]
  },
  {
   "cell_type": "code",
   "execution_count": 41,
   "id": "d00e6b70",
   "metadata": {},
   "outputs": [],
   "source": [
    "Duplicate = df[df.duplicated()]"
   ]
  },
  {
   "cell_type": "code",
   "execution_count": 42,
   "id": "de723530",
   "metadata": {},
   "outputs": [
    {
     "data": {
      "text/plain": [
       "2013-10-18 15:00:00    15\n",
       "2004-07-07 10:00:00    12\n",
       "2010-04-10 22:15:00    12\n",
       "2012-07-15 06:00:00    10\n",
       "2011-08-12 08:00:00     9\n",
       "                       ..\n",
       "2004-02-17 10:51:00     1\n",
       "2005-02-13 15:00:00     1\n",
       "2014-11-15 12:14:00     1\n",
       "2005-04-24 22:25:00     1\n",
       "2010-09-11 16:30:00     1\n",
       "Name: Dates, Length: 1852, dtype: int64"
      ]
     },
     "execution_count": 42,
     "metadata": {},
     "output_type": "execute_result"
    }
   ],
   "source": [
    "Duplicate[\"Dates\"].value_counts()"
   ]
  },
  {
   "cell_type": "code",
   "execution_count": 43,
   "id": "21defd6c",
   "metadata": {},
   "outputs": [
    {
     "data": {
      "text/plain": [
       "(2323, 15)"
      ]
     },
     "execution_count": 43,
     "metadata": {},
     "output_type": "execute_result"
    }
   ],
   "source": [
    "Duplicate.shape\n",
    "\n",
    "# There are 2323 records are duplicate and in which on  Date \"2013-10-18 15:00:00\" 15 times crime occur we assume it happen.\n",
    "# because may be the house is abandon, otherwise we can drop it...."
   ]
  },
  {
   "cell_type": "markdown",
   "id": "cee16eb5",
   "metadata": {},
   "source": [
    "###  Treatment for Target variable"
   ]
  },
  {
   "cell_type": "code",
   "execution_count": 44,
   "id": "fb36157c",
   "metadata": {},
   "outputs": [
    {
     "data": {
      "text/html": [
       "<div>\n",
       "<style scoped>\n",
       "    .dataframe tbody tr th:only-of-type {\n",
       "        vertical-align: middle;\n",
       "    }\n",
       "\n",
       "    .dataframe tbody tr th {\n",
       "        vertical-align: top;\n",
       "    }\n",
       "\n",
       "    .dataframe thead th {\n",
       "        text-align: right;\n",
       "    }\n",
       "</style>\n",
       "<table border=\"1\" class=\"dataframe\">\n",
       "  <thead>\n",
       "    <tr style=\"text-align: right;\">\n",
       "      <th></th>\n",
       "      <th>Dates</th>\n",
       "      <th>Category</th>\n",
       "      <th>Descript</th>\n",
       "      <th>DayOfWeek</th>\n",
       "      <th>PdDistrict</th>\n",
       "      <th>Resolution</th>\n",
       "      <th>Address</th>\n",
       "      <th>X</th>\n",
       "      <th>Y</th>\n",
       "      <th>Year</th>\n",
       "      <th>Quarter</th>\n",
       "      <th>Month</th>\n",
       "      <th>Day_of_month</th>\n",
       "      <th>Day_of_week</th>\n",
       "      <th>Hours</th>\n",
       "    </tr>\n",
       "  </thead>\n",
       "  <tbody>\n",
       "    <tr>\n",
       "      <th>0</th>\n",
       "      <td>2015-05-13 23:53:00</td>\n",
       "      <td>WARRANTS</td>\n",
       "      <td>WARRANT ARREST</td>\n",
       "      <td>Wednesday</td>\n",
       "      <td>NORTHERN</td>\n",
       "      <td>ARREST, BOOKED</td>\n",
       "      <td>OAK ST / LAGUNA ST</td>\n",
       "      <td>-122.425892</td>\n",
       "      <td>37.774599</td>\n",
       "      <td>2015</td>\n",
       "      <td>2</td>\n",
       "      <td>5</td>\n",
       "      <td>13</td>\n",
       "      <td>2</td>\n",
       "      <td>23</td>\n",
       "    </tr>\n",
       "    <tr>\n",
       "      <th>1</th>\n",
       "      <td>2015-05-13 23:53:00</td>\n",
       "      <td>OTHER OFFENSES</td>\n",
       "      <td>TRAFFIC VIOLATION ARREST</td>\n",
       "      <td>Wednesday</td>\n",
       "      <td>NORTHERN</td>\n",
       "      <td>ARREST, BOOKED</td>\n",
       "      <td>OAK ST / LAGUNA ST</td>\n",
       "      <td>-122.425892</td>\n",
       "      <td>37.774599</td>\n",
       "      <td>2015</td>\n",
       "      <td>2</td>\n",
       "      <td>5</td>\n",
       "      <td>13</td>\n",
       "      <td>2</td>\n",
       "      <td>23</td>\n",
       "    </tr>\n",
       "  </tbody>\n",
       "</table>\n",
       "</div>"
      ],
      "text/plain": [
       "                 Dates        Category                  Descript  DayOfWeek  \\\n",
       "0  2015-05-13 23:53:00        WARRANTS            WARRANT ARREST  Wednesday   \n",
       "1  2015-05-13 23:53:00  OTHER OFFENSES  TRAFFIC VIOLATION ARREST  Wednesday   \n",
       "\n",
       "  PdDistrict      Resolution             Address           X          Y  Year  \\\n",
       "0   NORTHERN  ARREST, BOOKED  OAK ST / LAGUNA ST -122.425892  37.774599  2015   \n",
       "1   NORTHERN  ARREST, BOOKED  OAK ST / LAGUNA ST -122.425892  37.774599  2015   \n",
       "\n",
       "   Quarter  Month  Day_of_month  Day_of_week  Hours  \n",
       "0        2      5            13            2     23  \n",
       "1        2      5            13            2     23  "
      ]
     },
     "execution_count": 44,
     "metadata": {},
     "output_type": "execute_result"
    }
   ],
   "source": [
    "df.head(2)"
   ]
  },
  {
   "cell_type": "code",
   "execution_count": 45,
   "id": "d2823ed4",
   "metadata": {
    "scrolled": true
   },
   "outputs": [
    {
     "data": {
      "text/plain": [
       "array(['WARRANTS', 'OTHER OFFENSES', 'LARCENY/THEFT', 'VEHICLE THEFT',\n",
       "       'VANDALISM', 'NON-CRIMINAL', 'ROBBERY', 'ASSAULT', 'WEAPON LAWS',\n",
       "       'BURGLARY', 'SUSPICIOUS OCC', 'DRUNKENNESS',\n",
       "       'FORGERY/COUNTERFEITING', 'DRUG/NARCOTIC', 'STOLEN PROPERTY',\n",
       "       'SECONDARY CODES', 'TRESPASS', 'MISSING PERSON', 'FRAUD',\n",
       "       'KIDNAPPING', 'RUNAWAY', 'DRIVING UNDER THE INFLUENCE',\n",
       "       'SEX OFFENSES FORCIBLE', 'PROSTITUTION', 'DISORDERLY CONDUCT',\n",
       "       'ARSON', 'FAMILY OFFENSES', 'LIQUOR LAWS', 'BRIBERY',\n",
       "       'EMBEZZLEMENT', 'SUICIDE', 'LOITERING',\n",
       "       'SEX OFFENSES NON FORCIBLE', 'EXTORTION', 'GAMBLING', 'BAD CHECKS',\n",
       "       'TREA', 'RECOVERED VEHICLE', 'PORNOGRAPHY/OBSCENE MAT'],\n",
       "      dtype=object)"
      ]
     },
     "execution_count": 45,
     "metadata": {},
     "output_type": "execute_result"
    }
   ],
   "source": [
    "df['Category'].unique()"
   ]
  },
  {
   "cell_type": "code",
   "execution_count": null,
   "id": "5500e81a",
   "metadata": {},
   "outputs": [],
   "source": []
  },
  {
   "cell_type": "markdown",
   "id": "e5a4b532",
   "metadata": {},
   "source": [
    "--> Divided category into different umbrella crime."
   ]
  },
  {
   "cell_type": "code",
   "execution_count": 46,
   "id": "dedce87f",
   "metadata": {},
   "outputs": [],
   "source": [
    "Cyber_crimes = ['SECONDARY CODES', 'FRAUD', 'EMBEZZLEMENT', 'BAD CHECKS', 'FORGERY/COUNTERFEITING', 'SUSPICIOUS OCC']"
   ]
  },
  {
   "cell_type": "code",
   "execution_count": 47,
   "id": "e8de2959",
   "metadata": {},
   "outputs": [],
   "source": [
    "Organized_crimes = [ 'EXTORTION', 'KIDNAPPING', 'ROBBERY', 'BRIBERY', 'MISSING PERSON', 'TRESPASS']"
   ]
  },
  {
   "cell_type": "code",
   "execution_count": 48,
   "id": "2958c751",
   "metadata": {},
   "outputs": [],
   "source": [
    "Consensual_crimes = ['DRUNKENNESS', 'LIQUOR LAWS',  'DRIVING UNDER THE INFLUENCE', 'DISORDERLY CONDUCT'\n",
    "                    , 'GAMBLING', 'DRUG/NARCOTIC', 'SUICIDE' ]"
   ]
  },
  {
   "cell_type": "code",
   "execution_count": 49,
   "id": "21a37980",
   "metadata": {},
   "outputs": [],
   "source": [
    "Intimate_crimes = ['SEX OFFENSES NON FORCIBLE', 'PORNOGRAPHY/OBSCENE MAT', 'SEX OFFENSES FORCIBLE', 'PROSTITUTION', \n",
    "             'ASSAULT' ]"
   ]
  },
  {
   "cell_type": "code",
   "execution_count": 50,
   "id": "9679fa69",
   "metadata": {},
   "outputs": [],
   "source": [
    "Property_crimes = ['LARCENY/THEFT','BURGLARY', 'VEHICLE THEFT', 'ARSON', 'RECOVERED VEHICLE', 'STOLEN PROPERTY'\n",
    "                  , 'VANDALISM']"
   ]
  },
  {
   "cell_type": "code",
   "execution_count": 51,
   "id": "d226e420",
   "metadata": {},
   "outputs": [],
   "source": [
    "others = ['WARRANTS', 'OTHER OFFENSES', 'NON-CRIMINAL', 'WEAPON LAWS', 'RUNAWAY', 'FAMILY OFFENSES',\n",
    "          'LOITERING','TREA']"
   ]
  },
  {
   "cell_type": "code",
   "execution_count": 52,
   "id": "821ea6be",
   "metadata": {},
   "outputs": [
    {
     "name": "stdout",
     "output_type": "stream",
     "text": [
      "6 6\n",
      "7 5\n",
      "7 8\n"
     ]
    }
   ],
   "source": [
    "print(len(Cyber_crimes), len(Organized_crimes)) \n",
    "print(len(Consensual_crimes), len(Intimate_crimes)) \n",
    "print(len(Property_crimes), len(others)) "
   ]
  },
  {
   "cell_type": "markdown",
   "id": "2acc483b",
   "metadata": {},
   "source": [
    "### Divide DataFrame into umbrella crime because feature extraction is computationally hard"
   ]
  },
  {
   "cell_type": "code",
   "execution_count": 53,
   "id": "72e3b460",
   "metadata": {},
   "outputs": [],
   "source": [
    "Cyber=df.loc[(df[\"Category\"]=='SECONDARY CODES')|(df[\"Category\"]=='FRAUD')|(df[\"Category\"]=='EMBEZZLEMENT')|(df[\"Category\"]=='BAD CHECKS')|(df[\"Category\"]=='FORGERY/COUNTERFEITING')|(df[\"Category\"]=='SUSPICIOUS OCC')].reset_index(drop = True)"
   ]
  },
  {
   "cell_type": "code",
   "execution_count": 54,
   "id": "0d1757df",
   "metadata": {},
   "outputs": [],
   "source": [
    "Organised = df.loc[(df[\"Category\"]=='EXTORTION')|(df[\"Category\"]=='KIDNAPPING')|(df[\"Category\"]== 'ROBBERY')|(df[\"Category\"]=='BRIBERY')|(df[\"Category\"]=='MISSING PERSON')|(df[\"Category\"]=='TRESPASS')].reset_index(drop = True)"
   ]
  },
  {
   "cell_type": "code",
   "execution_count": 55,
   "id": "8f85afe7",
   "metadata": {},
   "outputs": [],
   "source": [
    "Consensual = df.loc[(df[\"Category\"]=='DRUNKENNESS')|(df[\"Category\"]=='LIQUOR LAWS')|(df[\"Category\"]=='DRIVING UNDER THE INFLUENCE')|(df[\"Category\"]=='DISORDERLY CONDUCT')|(df[\"Category\"]==\n",
    "        'GAMBLING')|(df[\"Category\"]== 'DRUG/NARCOTIC')|(df[\"Category\"]=='SUICIDE')].reset_index(drop = True)"
   ]
  },
  {
   "cell_type": "code",
   "execution_count": 56,
   "id": "709ab948",
   "metadata": {},
   "outputs": [],
   "source": [
    "Intimate = df.loc[(df[\"Category\"]=='SEX OFFENSES NON FORCIBLE')|(df[\"Category\"]=='PORNOGRAPHY/OBSCENE MAT')|(df[\"Category\"]=='SEX OFFENSES FORCIBLE')|(df[\"Category\"]== 'PROSTITUTION')|(df[\"Category\"]=='ASSAULT') ].reset_index(drop = True)"
   ]
  },
  {
   "cell_type": "code",
   "execution_count": 57,
   "id": "b63e72bd",
   "metadata": {},
   "outputs": [],
   "source": [
    "Property = df.loc[(df[\"Category\"]=='LARCENY/THEFT')|(df[\"Category\"]=='BURGLARY')|(df[\"Category\"]=='VEHICLE THEFT')|(df[\"Category\"]=='ARSON')|(df[\"Category\"]=='RECOVERED VEHICLE')|(df[\"Category\"]=='STOLEN PROPERTY')|(df[\"Category\"]=='VANDALISM')].reset_index(drop = True)"
   ]
  },
  {
   "cell_type": "code",
   "execution_count": 58,
   "id": "09069037",
   "metadata": {},
   "outputs": [],
   "source": [
    "Others = df.loc[(df[\"Category\"]=='WARRANTS')|(df[\"Category\"]=='OTHER OFFENSES')|(df[\"Category\"]=='NON-CRIMINAL')|(df[\"Category\"]=='WEAPON LAWS')|(df[\"Category\"]=='RUNAWAY')|(df[\"Category\"]=='FAMILY OFFENSES')|(df[\"Category\"]=='LOITERING')|(df[\"Category\"]=='TREA')].reset_index(drop = True)"
   ]
  },
  {
   "cell_type": "code",
   "execution_count": 59,
   "id": "99bcb59b",
   "metadata": {},
   "outputs": [
    {
     "name": "stdout",
     "output_type": "stream",
     "text": [
      "(70259, 15) (59201, 15)\n",
      "(67396, 15) (88918, 15)\n",
      "(319352, 15) (272923, 15)\n"
     ]
    }
   ],
   "source": [
    "print(Cyber.shape, Organised.shape) \n",
    "print(Consensual.shape, Intimate.shape)\n",
    "print(Property.shape, Others.shape) "
   ]
  },
  {
   "cell_type": "code",
   "execution_count": 60,
   "id": "1ea012bb",
   "metadata": {},
   "outputs": [],
   "source": [
    "data_list = [\"Cyber\", \"Organised\", \"Consensual\", \"Intimate\", \"Property\", \"Others\"]"
   ]
  },
  {
   "cell_type": "markdown",
   "id": "22e5acd6",
   "metadata": {},
   "source": [
    "## Extract state column from Address."
   ]
  },
  {
   "cell_type": "code",
   "execution_count": 61,
   "id": "9afb24ba",
   "metadata": {},
   "outputs": [],
   "source": [
    "c = []\n",
    "for i in range(len(Cyber)):\n",
    "    \n",
    "    c.append(Cyber.loc[i,\"Address\"][-2:])\n",
    "\n",
    "Cyber[\"State\"] = c"
   ]
  },
  {
   "cell_type": "code",
   "execution_count": 62,
   "id": "a02183e5",
   "metadata": {},
   "outputs": [],
   "source": [
    "o =[]\n",
    "for i in range(len(Organised)):\n",
    "    \n",
    "     o.append(Organised.loc[i,\"Address\"][-2:])\n",
    "\n",
    "Organised[\"State\"] = o"
   ]
  },
  {
   "cell_type": "code",
   "execution_count": 63,
   "id": "cb8c3c4e",
   "metadata": {},
   "outputs": [],
   "source": [
    "C = []\n",
    "for i in range(len(Consensual)):\n",
    "    C.append(Consensual.loc[i,\"Address\"][-2:])\n",
    "\n",
    "Consensual[\"State\"] = C"
   ]
  },
  {
   "cell_type": "code",
   "execution_count": 64,
   "id": "88971381",
   "metadata": {},
   "outputs": [],
   "source": [
    "I = []\n",
    "for i in range(len(Intimate)):\n",
    "    I.append(Intimate.loc[i,\"Address\"][-2:])\n",
    "    \n",
    "Intimate[\"State\"] = I"
   ]
  },
  {
   "cell_type": "code",
   "execution_count": 65,
   "id": "5dc5dbfb",
   "metadata": {},
   "outputs": [],
   "source": [
    "p=[]\n",
    "\n",
    "for i in range(len(Property)):\n",
    "    p.append(Property.loc[i,\"Address\"][-2:])\n",
    "    \n",
    "Property[\"State\"] = p"
   ]
  },
  {
   "cell_type": "code",
   "execution_count": 66,
   "id": "e4a1534a",
   "metadata": {},
   "outputs": [],
   "source": [
    "O = []\n",
    "for i in range(len(Others)):\n",
    "    O.append(Others.loc[i,\"Address\"][-2:])\n",
    "\n",
    "Others[\"State\"] = O"
   ]
  },
  {
   "cell_type": "code",
   "execution_count": 67,
   "id": "ed972cd5",
   "metadata": {},
   "outputs": [],
   "source": [
    "# Cyber.head()"
   ]
  },
  {
   "cell_type": "code",
   "execution_count": 68,
   "id": "9da46961",
   "metadata": {},
   "outputs": [
    {
     "name": "stdout",
     "output_type": "stream",
     "text": [
      "22\n",
      "18\n",
      "18\n",
      "21\n",
      "26\n",
      "23\n"
     ]
    }
   ],
   "source": [
    "print(Cyber[\"State\"].nunique())\n",
    "print(Organised[\"State\"].nunique())\n",
    "print(Consensual[\"State\"].nunique())\n",
    "print(Intimate[\"State\"].nunique())\n",
    "print(Property[\"State\"].nunique())\n",
    "print(Others[\"State\"].nunique())"
   ]
  },
  {
   "cell_type": "code",
   "execution_count": 69,
   "id": "4458e8fb",
   "metadata": {},
   "outputs": [
    {
     "name": "stdout",
     "output_type": "stream",
     "text": [
      "['ST' 'AV' 'TR' 'LN' 'DR' 'CT' 'RD' 'WY' 'HY' 'BL' 'PL' 'AL' 'CR' 'PZ'\n",
      " 'ER' 'AY' 'MS' 'EX' 'NO' '80' 'AR' ' /']\n",
      "['ST' 'AV' 'TR' 'LN' 'BL' 'DR' 'WY' 'RD' 'CT' 'AY' 'HY' 'PL' 'PZ' 'AL'\n",
      " 'CR' 'ER' '80' 'AR']\n",
      "['ST' 'CT' 'AV' 'BL' 'DR' 'PZ' 'WY' 'CR' 'PL' 'RD' 'TR' 'HY' 'LN' 'AL'\n",
      " 'AY' 'ER' '80' 'RK']\n",
      "['ST' 'CT' 'AV' 'PZ' 'LN' 'TR' 'BL' 'DR' 'WY' 'AY' 'PL' 'HY' 'RD' 'CR'\n",
      " 'AL' 'MS' 'ER' '80' 'RK' 'TI' 'AR']\n",
      "['ST' 'AV' 'BL' 'WY' 'DR' 'CT' 'HY' 'RD' 'PL' 'TR' 'AY' 'LN' 'PZ' 'MS'\n",
      " 'ER' 'AL' 'CR' 'TI' 'WK' 'EX' 'RW' 'NO' 'AR' '80' 'RK' ' /']\n",
      "['ST' 'WY' 'AV' 'CT' 'PZ' 'BL' 'TR' 'DR' 'PL' 'AY' 'HY' 'AL' 'RD' 'LN'\n",
      " 'CR' 'ER' 'MS' 'EX' 'NO' 'AR' '80' 'RK' ' /']\n"
     ]
    }
   ],
   "source": [
    " print(Cyber[\"State\"].unique())\n",
    "print(Organised[\"State\"].unique())\n",
    "print(Consensual[\"State\"].unique())\n",
    "print(Intimate[\"State\"].unique())\n",
    "print(Property[\"State\"].unique())\n",
    "print(Others[\"State\"].unique())"
   ]
  },
  {
   "cell_type": "code",
   "execution_count": 70,
   "id": "0b8fe0ac",
   "metadata": {},
   "outputs": [
    {
     "data": {
      "text/html": [
       "<div>\n",
       "<style scoped>\n",
       "    .dataframe tbody tr th:only-of-type {\n",
       "        vertical-align: middle;\n",
       "    }\n",
       "\n",
       "    .dataframe tbody tr th {\n",
       "        vertical-align: top;\n",
       "    }\n",
       "\n",
       "    .dataframe thead th {\n",
       "        text-align: right;\n",
       "    }\n",
       "</style>\n",
       "<table border=\"1\" class=\"dataframe\">\n",
       "  <thead>\n",
       "    <tr style=\"text-align: right;\">\n",
       "      <th></th>\n",
       "      <th>Dates</th>\n",
       "      <th>Category</th>\n",
       "      <th>Descript</th>\n",
       "      <th>DayOfWeek</th>\n",
       "      <th>PdDistrict</th>\n",
       "      <th>Resolution</th>\n",
       "      <th>Address</th>\n",
       "      <th>X</th>\n",
       "      <th>Y</th>\n",
       "      <th>Year</th>\n",
       "      <th>Quarter</th>\n",
       "      <th>Month</th>\n",
       "      <th>Day_of_month</th>\n",
       "      <th>Day_of_week</th>\n",
       "      <th>Hours</th>\n",
       "      <th>State</th>\n",
       "    </tr>\n",
       "  </thead>\n",
       "  <tbody>\n",
       "    <tr>\n",
       "      <th>0</th>\n",
       "      <td>2015-05-13 19:30:00</td>\n",
       "      <td>SUSPICIOUS OCC</td>\n",
       "      <td>INVESTIGATIVE DETENTION</td>\n",
       "      <td>Wednesday</td>\n",
       "      <td>SOUTHERN</td>\n",
       "      <td>NONE</td>\n",
       "      <td>OTIS ST / GOUGH ST</td>\n",
       "      <td>-122.420347</td>\n",
       "      <td>37.771769</td>\n",
       "      <td>2015</td>\n",
       "      <td>2</td>\n",
       "      <td>5</td>\n",
       "      <td>13</td>\n",
       "      <td>2</td>\n",
       "      <td>19</td>\n",
       "      <td>ST</td>\n",
       "    </tr>\n",
       "    <tr>\n",
       "      <th>1</th>\n",
       "      <td>2015-05-13 19:26:00</td>\n",
       "      <td>SUSPICIOUS OCC</td>\n",
       "      <td>INVESTIGATIVE DETENTION</td>\n",
       "      <td>Wednesday</td>\n",
       "      <td>CENTRAL</td>\n",
       "      <td>NONE</td>\n",
       "      <td>900 Block of BUSH ST</td>\n",
       "      <td>-122.412929</td>\n",
       "      <td>37.789687</td>\n",
       "      <td>2015</td>\n",
       "      <td>2</td>\n",
       "      <td>5</td>\n",
       "      <td>13</td>\n",
       "      <td>2</td>\n",
       "      <td>19</td>\n",
       "      <td>ST</td>\n",
       "    </tr>\n",
       "  </tbody>\n",
       "</table>\n",
       "</div>"
      ],
      "text/plain": [
       "                 Dates        Category                 Descript  DayOfWeek  \\\n",
       "0  2015-05-13 19:30:00  SUSPICIOUS OCC  INVESTIGATIVE DETENTION  Wednesday   \n",
       "1  2015-05-13 19:26:00  SUSPICIOUS OCC  INVESTIGATIVE DETENTION  Wednesday   \n",
       "\n",
       "  PdDistrict Resolution               Address           X          Y  Year  \\\n",
       "0   SOUTHERN       NONE    OTIS ST / GOUGH ST -122.420347  37.771769  2015   \n",
       "1    CENTRAL       NONE  900 Block of BUSH ST -122.412929  37.789687  2015   \n",
       "\n",
       "   Quarter  Month  Day_of_month  Day_of_week  Hours State  \n",
       "0        2      5            13            2     19    ST  \n",
       "1        2      5            13            2     19    ST  "
      ]
     },
     "execution_count": 70,
     "metadata": {},
     "output_type": "execute_result"
    }
   ],
   "source": [
    "Cyber.head(2)"
   ]
  },
  {
   "cell_type": "code",
   "execution_count": 71,
   "id": "83bf1f0b",
   "metadata": {},
   "outputs": [
    {
     "name": "stdout",
     "output_type": "stream",
     "text": [
      "['ST' 'AV' 'TR' 'LN' 'DR' 'CT' 'RD' 'WY' 'HY' 'BL' 'PL' 'AL' 'CR' 'PZ'\n",
      " 'ER' 'AY' 'MS' 'EX' 'NO' '80' 'AR' ' /']\n"
     ]
    }
   ],
   "source": [
    " print(Cyber[\"State\"].unique())"
   ]
  },
  {
   "cell_type": "code",
   "execution_count": 72,
   "id": "07bdf402",
   "metadata": {},
   "outputs": [],
   "source": [
    "#  To Cheak the address contains 80 and \" /\"."
   ]
  },
  {
   "cell_type": "code",
   "execution_count": 73,
   "id": "c6f67304",
   "metadata": {},
   "outputs": [
    {
     "name": "stdout",
     "output_type": "stream",
     "text": [
      "TEHAMA ST /\n",
      "TEHAMA ST /\n",
      "GENEVA AV /\n",
      "CLEMENTINA ST /\n"
     ]
    }
   ],
   "source": [
    "for i in range(len(df[\"Address\"])):\n",
    "    if df.loc[i,\"Address\"][-2:] == \" /\":\n",
    "        print(df.loc[i,\"Address\"])"
   ]
  },
  {
   "cell_type": "code",
   "execution_count": 74,
   "id": "ff809f22",
   "metadata": {},
   "outputs": [
    {
     "name": "stdout",
     "output_type": "stream",
     "text": [
      "GENEVA AV /\n"
     ]
    }
   ],
   "source": [
    "for i in range(len(Cyber[\"Address\"])):\n",
    "    if Cyber.loc[i,\"Address\"][-2:] == \" /\":\n",
    "        print(Cyber.loc[i,\"Address\"])"
   ]
  },
  {
   "cell_type": "code",
   "execution_count": 75,
   "id": "2b0bba3f",
   "metadata": {},
   "outputs": [
    {
     "name": "stdout",
     "output_type": "stream",
     "text": [
      "CLEMENTINA ST /\n"
     ]
    }
   ],
   "source": [
    "for i in range(len(Property[\"Address\"])):\n",
    "    if Property.loc[i,\"Address\"][-2:] == \" /\":\n",
    "        print(Property.loc[i,\"Address\"])"
   ]
  },
  {
   "cell_type": "code",
   "execution_count": 76,
   "id": "6bfaeb11",
   "metadata": {},
   "outputs": [
    {
     "name": "stdout",
     "output_type": "stream",
     "text": [
      "TEHAMA ST /\n",
      "TEHAMA ST /\n"
     ]
    }
   ],
   "source": [
    "for i in range(len(Others[\"Address\"])):\n",
    "    if Others.loc[i,\"Address\"][-2:] == \" /\":\n",
    "        print(Others.loc[i,\"Address\"])"
   ]
  },
  {
   "cell_type": "code",
   "execution_count": 77,
   "id": "724a34f2",
   "metadata": {},
   "outputs": [],
   "source": [
    "Cyber[\"State\"].replace([\" /\", \"AV\"], inplace = True)\n",
    "\n",
    "Property[\"State\"].replace([\" /\", \"ST\"], inplace = True)\n",
    "\n",
    "Others[\"State\"].replace([\" /\", \"ST\"], inplace = True)"
   ]
  },
  {
   "cell_type": "code",
   "execution_count": null,
   "id": "b4904c43",
   "metadata": {},
   "outputs": [],
   "source": [
    " "
   ]
  },
  {
   "cell_type": "code",
   "execution_count": 78,
   "id": "784f05b4",
   "metadata": {},
   "outputs": [
    {
     "name": "stdout",
     "output_type": "stream",
     "text": [
      "200 Block of I-80\n",
      "200 Block of I-80\n",
      "200 Block of I-80\n",
      "200 Block of I-80\n",
      "200 Block of I-80\n",
      "200 Block of I-80\n",
      "200 Block of I-80\n",
      "200 Block of I-80\n",
      "200 Block of I-80\n",
      "200 Block of I-80\n",
      "200 Block of I-80\n",
      "200 Block of I-80\n",
      "200 Block of I-80\n",
      "500 Block of I-80\n",
      "200 Block of I-80\n",
      "200 Block of I-80\n",
      "200 Block of I-80\n",
      "200 Block of I-80\n",
      "200 Block of I-80\n",
      "200 Block of I-80\n",
      "200 Block of I-80\n",
      "200 Block of I-80\n",
      "200 Block of I-80\n",
      "200 Block of I-80\n",
      "200 Block of I-80\n",
      "200 Block of I-80\n",
      "200 Block of I-80\n",
      "200 Block of I-80\n",
      "200 Block of I-80\n",
      "200 Block of I-80\n",
      "200 Block of I-80\n",
      "200 Block of I-80\n",
      "200 Block of I-80\n",
      "200 Block of I-80\n",
      "200 Block of I-80\n",
      "200 Block of I-80\n",
      "200 Block of I-80\n",
      "200 Block of I-80\n",
      "200 Block of I-80\n",
      "200 Block of I-80\n",
      "200 Block of I-80\n",
      "200 Block of I-80\n",
      "200 Block of I-80\n",
      "200 Block of I-80\n",
      "MARIPOSA ST / I-280\n",
      "200 Block of I-80\n",
      "200 Block of I-80\n",
      "200 Block of I-80\n",
      "200 Block of I-80\n",
      "200 Block of I-80\n",
      "200 Block of I-80\n",
      "200 Block of I-80\n",
      "200 Block of I-80\n",
      "200 Block of I-80\n",
      "200 Block of I-80\n",
      "200 Block of I-80\n",
      "200 Block of I-80\n",
      "200 Block of I-80\n",
      "200 Block of I-80\n",
      "200 Block of I-80\n",
      "200 Block of I-80\n",
      "200 Block of I-80\n",
      "200 Block of I-80\n",
      "200 Block of I-80\n",
      "200 Block of I-80\n",
      "200 Block of I-80\n",
      "200 Block of I-80\n",
      "200 Block of I-80\n",
      "200 Block of I-80\n",
      "200 Block of I-80\n",
      "200 Block of I-80\n",
      "200 Block of I-80\n",
      "200 Block of I-80\n",
      "200 Block of I-80\n",
      "200 Block of I-80\n",
      "200 Block of I-80\n",
      "200 Block of I-80\n",
      "200 Block of I-80\n",
      "200 Block of I-80\n",
      "200 Block of I-80\n",
      "200 Block of I-80\n",
      "200 Block of I-80\n",
      "200 Block of I-80\n",
      "200 Block of I-80\n",
      "200 Block of I-80\n",
      "200 Block of I-80\n",
      "200 Block of I-80\n",
      "200 Block of I-80\n",
      "200 Block of I-80\n",
      "200 Block of I-80\n",
      "200 Block of I-80\n",
      "200 Block of I-80\n",
      "200 Block of I-80\n",
      "200 Block of I-80\n",
      "200 Block of I-80\n",
      "200 Block of I-80\n",
      "200 Block of I-80\n",
      "200 Block of I-80\n",
      "200 Block of I-80\n",
      "200 Block of I-80\n",
      "200 Block of I-80\n",
      "200 Block of I-80\n",
      "200 Block of I-80\n",
      "200 Block of I-80\n",
      "200 Block of I-80\n",
      "200 Block of I-80\n",
      "200 Block of I-80\n",
      "200 Block of I-80\n",
      "200 Block of I-80\n",
      "200 Block of I-80\n",
      "200 Block of I-80\n",
      "200 Block of I-80\n",
      "200 Block of I-80\n",
      "200 Block of I-80\n",
      "200 Block of I-80\n",
      "200 Block of I-80\n",
      "200 Block of I-80\n",
      "200 Block of I-80\n",
      "200 Block of I-80\n",
      "200 Block of I-80\n",
      "200 Block of I-80\n",
      "200 Block of I-80\n",
      "200 Block of I-80\n",
      "200 Block of I-80\n",
      "200 Block of I-80\n",
      "200 Block of I-80\n",
      "200 Block of I-80\n",
      "200 Block of I-80\n",
      "200 Block of I-80\n",
      "200 Block of I-80\n",
      "200 Block of I-80\n",
      "200 Block of I-80\n",
      "200 Block of I-80\n",
      "200 Block of I-80\n",
      "200 Block of I-80\n",
      "200 Block of I-80\n",
      "200 Block of I-80\n",
      "200 Block of I-80\n",
      "200 Block of I-80\n",
      "200 Block of I-80\n",
      "200 Block of I-80\n",
      "200 Block of I-80\n",
      "200 Block of I-80\n",
      "200 Block of I-80\n",
      "200 Block of I-80\n",
      "200 Block of I-80\n",
      "200 Block of I-80\n",
      "200 Block of I-80\n",
      "200 Block of I-80\n",
      "500 Block of I-80\n",
      "200 Block of I-80\n",
      "200 Block of I-80\n",
      "200 Block of I-80\n",
      "200 Block of I-80\n",
      "200 Block of I-80\n",
      "200 Block of I-80\n",
      "200 Block of I-80\n",
      "200 Block of I-80\n",
      "200 Block of I-80\n",
      "200 Block of I-80\n",
      "200 Block of I-80\n",
      "200 Block of I-80\n",
      "200 Block of I-80\n",
      "200 Block of I-80\n",
      "200 Block of I-80\n",
      "200 Block of I-80\n",
      "200 Block of I-80\n",
      "200 Block of I-80\n",
      "200 Block of I-80\n",
      "200 Block of I-80\n",
      "200 Block of I-80\n",
      "200 Block of I-80\n",
      "200 Block of I-80\n",
      "200 Block of I-80\n",
      "200 Block of I-80\n",
      "200 Block of I-80\n",
      "200 Block of I-80\n",
      "200 Block of I-80\n",
      "200 Block of I-80\n",
      "200 Block of I-80\n",
      "200 Block of I-80\n",
      "200 Block of I-80\n",
      "200 Block of I-80\n",
      "200 Block of I-80\n",
      "200 Block of I-80\n",
      "200 Block of I-80\n",
      "200 Block of I-80\n",
      "200 Block of I-80\n",
      "200 Block of I-80\n",
      "200 Block of I-80\n",
      "500 Block of I-80\n",
      "200 Block of I-80\n",
      "200 Block of I-80\n",
      "200 Block of I-80\n",
      "200 Block of I-80\n",
      "200 Block of I-80\n",
      "200 Block of I-80\n",
      "200 Block of I-80\n",
      "200 Block of I-80\n",
      "200 Block of I-80\n",
      "200 Block of I-80\n",
      "OCEAN AV / I-280\n",
      "200 Block of I-80\n",
      "200 Block of I-80\n",
      "200 Block of I-80\n",
      "200 Block of I-80\n",
      "200 Block of I-80\n",
      "200 Block of I-80\n",
      "200 Block of I-80\n",
      "200 Block of I-80\n",
      "200 Block of I-80\n",
      "500 Block of I-80\n",
      "500 Block of I-80\n",
      "200 Block of I-80\n",
      "200 Block of I-80\n",
      "200 Block of I-80\n",
      "200 Block of I-80\n",
      "200 Block of I-80\n",
      "200 Block of I-80\n",
      "200 Block of I-80\n",
      "200 Block of I-80\n",
      "200 Block of I-80\n",
      "200 Block of I-80\n",
      "200 Block of I-80\n",
      "200 Block of I-80\n",
      "200 Block of I-80\n",
      "200 Block of I-80\n",
      "200 Block of I-80\n",
      "200 Block of I-80\n",
      "200 Block of I-80\n",
      "200 Block of I-80\n",
      "200 Block of I-80\n",
      "200 Block of I-80\n",
      "200 Block of I-80\n",
      "200 Block of I-80\n",
      "200 Block of I-80\n",
      "200 Block of I-80\n",
      "200 Block of I-80\n",
      "200 Block of I-80\n",
      "200 Block of I-80\n",
      "200 Block of I-80\n",
      "200 Block of I-80\n",
      "200 Block of I-80\n",
      "200 Block of I-80\n",
      "200 Block of I-80\n",
      "200 Block of I-80\n",
      "200 Block of I-80\n",
      "200 Block of I-80\n",
      "200 Block of I-80\n",
      "200 Block of I-80\n",
      "200 Block of I-80\n",
      "200 Block of I-80\n",
      "200 Block of I-80\n",
      "200 Block of I-80\n",
      "200 Block of I-80\n",
      "200 Block of I-80\n",
      "200 Block of I-80\n",
      "200 Block of I-80\n",
      "200 Block of I-80\n",
      "200 Block of I-80\n",
      "500 Block of I-80\n",
      "200 Block of I-80\n",
      "200 Block of I-80\n",
      "200 Block of I-80\n",
      "200 Block of I-80\n",
      "200 Block of I-80\n",
      "200 Block of I-80\n",
      "200 Block of I-80\n",
      "200 Block of I-80\n",
      "200 Block of I-80\n",
      "200 Block of I-80\n",
      "200 Block of I-80\n",
      "200 Block of I-80\n",
      "200 Block of I-80\n",
      "200 Block of I-80\n",
      "200 Block of I-80\n",
      "200 Block of I-80\n",
      "200 Block of I-80\n",
      "200 Block of I-80\n",
      "200 Block of I-80\n",
      "200 Block of I-80\n",
      "200 Block of I-80\n",
      "200 Block of I-80\n",
      "200 Block of I-80\n",
      "200 Block of I-80\n",
      "200 Block of I-80\n",
      "200 Block of I-80\n",
      "200 Block of I-80\n",
      "200 Block of I-80\n",
      "200 Block of I-80\n",
      "200 Block of I-80\n",
      "200 Block of I-80\n",
      "200 Block of I-80\n",
      "200 Block of I-80\n",
      "200 Block of I-80\n",
      "200 Block of I-80\n",
      "200 Block of I-80\n",
      "200 Block of I-80\n",
      "200 Block of I-80\n",
      "200 Block of I-80\n",
      "200 Block of I-80\n",
      "200 Block of I-80\n",
      "200 Block of I-80\n",
      "200 Block of I-80\n",
      "200 Block of I-80\n",
      "200 Block of I-80\n",
      "200 Block of I-80\n",
      "200 Block of I-80\n",
      "200 Block of I-80\n",
      "200 Block of I-80\n",
      "200 Block of I-80\n",
      "200 Block of I-80\n",
      "200 Block of I-80\n",
      "200 Block of I-80\n",
      "200 Block of I-80\n",
      "200 Block of I-80\n",
      "200 Block of I-80\n",
      "200 Block of I-80\n",
      "200 Block of I-80\n",
      "200 Block of I-80\n",
      "200 Block of I-80\n",
      "200 Block of I-80\n",
      "200 Block of I-80\n",
      "200 Block of I-80\n"
     ]
    }
   ],
   "source": [
    "for i in range(len(df[\"Address\"])):\n",
    "    if df.loc[i,\"Address\"][-2:] == \"80\":\n",
    "        print(df.loc[i,\"Address\"]) \n",
    "    "
   ]
  },
  {
   "cell_type": "markdown",
   "id": "d03ebce8",
   "metadata": {},
   "source": [
    "###  (interstate) I-80 is a 2,900-mile-long east-west highway."
   ]
  },
  {
   "cell_type": "code",
   "execution_count": 79,
   "id": "c9aba824",
   "metadata": {},
   "outputs": [],
   "source": [
    "#  Set of State from various sub dataframes\n",
    "\n",
    "cy_state = set(Cyber[\"State\"].unique())\n",
    "or_state = set(Organised[\"State\"].unique())\n",
    "\n",
    "co_state = set(Consensual[\"State\"].unique())\n",
    "in_state = set(Intimate[\"State\"].unique())\n",
    "\n",
    "po_state = set(Property[\"State\"].unique())\n",
    "ot_state = set(Others[\"State\"].unique())"
   ]
  },
  {
   "cell_type": "code",
   "execution_count": null,
   "id": "1306c25f",
   "metadata": {},
   "outputs": [],
   "source": [
    " "
   ]
  },
  {
   "cell_type": "code",
   "execution_count": 80,
   "id": "c24ecb6b",
   "metadata": {},
   "outputs": [],
   "source": [
    "cy_or = cy_state.union(or_state)\n",
    "\n",
    "co_in = co_state.union(in_state)\n",
    "\n",
    "po_ot = po_state.union(ot_state)"
   ]
  },
  {
   "cell_type": "code",
   "execution_count": 81,
   "id": "6153a768",
   "metadata": {},
   "outputs": [],
   "source": [
    "cy_or_co_in = cy_or.union(co_in)\n",
    "\n",
    "Total_states =  list(cy_or_co_in.union(po_ot))"
   ]
  },
  {
   "cell_type": "code",
   "execution_count": 82,
   "id": "bf95cbe6",
   "metadata": {},
   "outputs": [
    {
     "name": "stdout",
     "output_type": "stream",
     "text": [
      "{'CR', 'MS', 'PL', 'ST', 'TR', 'EX', '80', 'LN', 'WY', 'RD', 'PZ', 'HY', 'ER', 'DR', 'AR', 'AY', 'AL', 'NO', 'BL', 'CT'} {'ST', 'DR', '80', 'AR', 'CR', 'LN', 'AY', 'WY', 'RD', 'AL', 'ER', 'AV', 'PZ', 'HY', 'BL', 'PL', 'CT', 'TR'}\n"
     ]
    }
   ],
   "source": [
    "print(cy_state, or_state)"
   ]
  },
  {
   "cell_type": "code",
   "execution_count": 83,
   "id": "11af44b6",
   "metadata": {},
   "outputs": [],
   "source": [
    "Total_states.sort()"
   ]
  },
  {
   "cell_type": "code",
   "execution_count": 84,
   "id": "64291d69",
   "metadata": {},
   "outputs": [
    {
     "name": "stdout",
     "output_type": "stream",
     "text": [
      "['80', 'AL', 'AR', 'AV', 'AY', 'BL', 'CR', 'CT', 'DR', 'ER', 'EX', 'HY', 'LN', 'MS', 'NO', 'PL', 'PZ', 'RD', 'RK', 'RW', 'ST', 'TI', 'TR', 'WK', 'WY']\n"
     ]
    }
   ],
   "source": [
    "print(Total_states)"
   ]
  },
  {
   "cell_type": "code",
   "execution_count": 85,
   "id": "dbd7d5ab",
   "metadata": {},
   "outputs": [
    {
     "name": "stdout",
     "output_type": "stream",
     "text": [
      "2\n"
     ]
    }
   ],
   "source": [
    "print(Total_states.index('AR'))"
   ]
  },
  {
   "cell_type": "code",
   "execution_count": 86,
   "id": "e5aa4e92",
   "metadata": {},
   "outputs": [],
   "source": [
    "# UDF label enconding of state columns \n",
    "\n",
    "def state_label(x):\n",
    "    for i in Total_states:\n",
    "        if x == i:\n",
    "            return Total_states.index(i) # return the index value.."
   ]
  },
  {
   "cell_type": "code",
   "execution_count": 87,
   "id": "76f8d4fc",
   "metadata": {},
   "outputs": [
    {
     "data": {
      "text/plain": [
       "['Cyber', 'Organised', 'Consensual', 'Intimate', 'Property', 'Others']"
      ]
     },
     "execution_count": 87,
     "metadata": {},
     "output_type": "execute_result"
    }
   ],
   "source": [
    "data_list"
   ]
  },
  {
   "cell_type": "code",
   "execution_count": 88,
   "id": "59d4e81d",
   "metadata": {},
   "outputs": [],
   "source": [
    "Cyber[\"State\"] = Cyber[\"State\"].apply(state_label)"
   ]
  },
  {
   "cell_type": "code",
   "execution_count": 89,
   "id": "2357c1de",
   "metadata": {},
   "outputs": [],
   "source": [
    " Organised[\"State\"] = Organised[\"State\"].apply(state_label)\n",
    "\n",
    "Consensual[\"State\"] = Consensual[\"State\"].apply(state_label)\n",
    "\n",
    "Intimate[\"State\"] = Intimate[\"State\"].apply(state_label)\n",
    "\n",
    "Property[\"State\"] = Property[\"State\"].apply(state_label)\n",
    "\n",
    "Others[\"State\"] = Others[\"State\"].apply(state_label)"
   ]
  },
  {
   "cell_type": "code",
   "execution_count": 90,
   "id": "92a4fdb7",
   "metadata": {},
   "outputs": [
    {
     "data": {
      "text/html": [
       "<div>\n",
       "<style scoped>\n",
       "    .dataframe tbody tr th:only-of-type {\n",
       "        vertical-align: middle;\n",
       "    }\n",
       "\n",
       "    .dataframe tbody tr th {\n",
       "        vertical-align: top;\n",
       "    }\n",
       "\n",
       "    .dataframe thead th {\n",
       "        text-align: right;\n",
       "    }\n",
       "</style>\n",
       "<table border=\"1\" class=\"dataframe\">\n",
       "  <thead>\n",
       "    <tr style=\"text-align: right;\">\n",
       "      <th></th>\n",
       "      <th>Dates</th>\n",
       "      <th>Category</th>\n",
       "      <th>Descript</th>\n",
       "      <th>DayOfWeek</th>\n",
       "      <th>PdDistrict</th>\n",
       "      <th>Resolution</th>\n",
       "      <th>Address</th>\n",
       "      <th>X</th>\n",
       "      <th>Y</th>\n",
       "      <th>Year</th>\n",
       "      <th>Quarter</th>\n",
       "      <th>Month</th>\n",
       "      <th>Day_of_month</th>\n",
       "      <th>Day_of_week</th>\n",
       "      <th>Hours</th>\n",
       "      <th>State</th>\n",
       "    </tr>\n",
       "  </thead>\n",
       "  <tbody>\n",
       "    <tr>\n",
       "      <th>0</th>\n",
       "      <td>2015-05-13 19:30:00</td>\n",
       "      <td>SUSPICIOUS OCC</td>\n",
       "      <td>INVESTIGATIVE DETENTION</td>\n",
       "      <td>Wednesday</td>\n",
       "      <td>SOUTHERN</td>\n",
       "      <td>NONE</td>\n",
       "      <td>OTIS ST / GOUGH ST</td>\n",
       "      <td>-122.420347</td>\n",
       "      <td>37.771769</td>\n",
       "      <td>2015</td>\n",
       "      <td>2</td>\n",
       "      <td>5</td>\n",
       "      <td>13</td>\n",
       "      <td>2</td>\n",
       "      <td>19</td>\n",
       "      <td>20</td>\n",
       "    </tr>\n",
       "    <tr>\n",
       "      <th>1</th>\n",
       "      <td>2015-05-13 19:26:00</td>\n",
       "      <td>SUSPICIOUS OCC</td>\n",
       "      <td>INVESTIGATIVE DETENTION</td>\n",
       "      <td>Wednesday</td>\n",
       "      <td>CENTRAL</td>\n",
       "      <td>NONE</td>\n",
       "      <td>900 Block of BUSH ST</td>\n",
       "      <td>-122.412929</td>\n",
       "      <td>37.789687</td>\n",
       "      <td>2015</td>\n",
       "      <td>2</td>\n",
       "      <td>5</td>\n",
       "      <td>13</td>\n",
       "      <td>2</td>\n",
       "      <td>19</td>\n",
       "      <td>20</td>\n",
       "    </tr>\n",
       "  </tbody>\n",
       "</table>\n",
       "</div>"
      ],
      "text/plain": [
       "                 Dates        Category                 Descript  DayOfWeek  \\\n",
       "0  2015-05-13 19:30:00  SUSPICIOUS OCC  INVESTIGATIVE DETENTION  Wednesday   \n",
       "1  2015-05-13 19:26:00  SUSPICIOUS OCC  INVESTIGATIVE DETENTION  Wednesday   \n",
       "\n",
       "  PdDistrict Resolution               Address           X          Y  Year  \\\n",
       "0   SOUTHERN       NONE    OTIS ST / GOUGH ST -122.420347  37.771769  2015   \n",
       "1    CENTRAL       NONE  900 Block of BUSH ST -122.412929  37.789687  2015   \n",
       "\n",
       "   Quarter  Month  Day_of_month  Day_of_week  Hours  State  \n",
       "0        2      5            13            2     19     20  \n",
       "1        2      5            13            2     19     20  "
      ]
     },
     "execution_count": 90,
     "metadata": {},
     "output_type": "execute_result"
    }
   ],
   "source": [
    "Cyber.head(2)"
   ]
  },
  {
   "cell_type": "markdown",
   "id": "e7c9d4f3",
   "metadata": {},
   "source": [
    "### UNDERSTANDING OF Descript"
   ]
  },
  {
   "cell_type": "markdown",
   "id": "e8f24717",
   "metadata": {},
   "source": [
    "### 1. Cyber"
   ]
  },
  {
   "cell_type": "code",
   "execution_count": 91,
   "id": "4628d43d",
   "metadata": {
    "scrolled": true
   },
   "outputs": [
    {
     "name": "stdout",
     "output_type": "stream",
     "text": [
      "94 \n",
      "\n",
      "['INVESTIGATIVE DETENTION' 'FORGERY, NOTES'\n",
      " 'CHECKS, POSSESSION WITH INTENT TO PASS' 'DOMESTIC VIOLENCE'\n",
      " 'FORGERY & COUNTERFEITING (GENERAL)' 'JUVENILE INVOLVED'\n",
      " 'SUSPICIOUS OCCURRENCE' 'CREDIT CARD, THEFT BY USE OF'\n",
      " 'SUSPICIOUS PERSON' 'FRAUDULENT USE OF AUTOMATED TELLER CARD'\n",
      " 'ATM RELATED CRIME' 'FORGERY, CREDIT CARD' 'MONEY, CHANGING FACE AMOUNT'\n",
      " 'FORGERY, POSSESSION DRIVERS LICENSE OR ID-CARD'\n",
      " 'FALSE PRETENSES, GRAND THEFT' 'CREDIT CARD, THEFT OF'\n",
      " 'FRAUDULENT CREDIT APPLICATION' 'COUNTERFEITING, COINS OR NOTES'\n",
      " 'GANG ACTIVITY' 'SUSPICIOUS ACT TOWARDS FEMALE'\n",
      " 'FALSE PRETENSES, PETTY THEFT' 'DEFRAUDING AN INNKEEPER'\n",
      " 'SUSPICIOUS OCCURRENCE, POSSIBLE SHOTS FIRED'\n",
      " 'TRICK AND DEVICE, PETTY THEFT' 'FALSE ID TO PEACE OFFICER'\n",
      " 'CHECKS, MAKE OR PASS FICTITIOUS'\n",
      " 'CHECKS OR LEGAL INSTRUMENTS, UTTERING FORGED' 'EMBEZZLED VEHICLE'\n",
      " 'PREJUDICE-BASED INCIDENT' 'ACCESS CARD INFORMATION, THEFT OF'\n",
      " 'SHORT CHANGE, PETTY THEFT' 'SUSPICIOUS AUTO, POSSIBLY SEX'\n",
      " 'COUNTERFEITING, POSSESSION COINS OR NOTES' 'UNUSUAL OCCURENCE'\n",
      " 'FALSE CLAIMS, PRESENTING TO GOVERNMENT' 'CHECKS, FORGERY (MISDEMEANOR)'\n",
      " 'SUSPICIOUS ACT TOWARDS CHILD'\n",
      " 'EMBEZZLEMENT, GRAND THEFT BY BROOKERS/AGENTS'\n",
      " 'FALSE REPORT OF EMERGENCY'\n",
      " 'CELLULAR OR CORDLESS PHONE COMMUNICATIONS, INTERCEPTING'\n",
      " 'CREDIT CARD, INCOMPLETE OR COUNTERFEIT'\n",
      " 'PRIVACY, INVASION OF  (GENERAL)' 'EMBEZZLEMENT, PETTY THEFT BY EMPLOYEE'\n",
      " 'IMPERSONATING A POLICE OFFICER' 'TRICK AND DEVICE, ATTEMPTED'\n",
      " 'CHECKS, FORGERY (FELONY)' 'EMBEZZLEMENT, PETTY THEFT'\n",
      " 'CHECKS, NON-SUFFICIENT FUNDS (MISDEMEANOR)'\n",
      " 'MANUFACTURE OR SALE OF COUNTERFEIT GOODS'\n",
      " 'AUDIOVISUAL (VIDEO OR SOUND) RECORDINGS, UNAUTHORIZED'\n",
      " 'FORGERY, DRIVERS LICENSE OR ID-CARD'\n",
      " 'FALSIFYING JUDICIAL & PUBLIC RECORDS & DOCUMENTS'\n",
      " 'EMBEZZLEMENT, GRAND THEFT BY EMPLOYEE' 'TRICK AND DEVICE, GRAND THEFT'\n",
      " 'EMBEZZLEMENT, GRAND THEFT LEASED PROPERTY' 'REAL ESTATE FRAUD'\n",
      " 'IDENTIFICATION, GOVERNMENT, POSSESS, MAKE OR SELL FALSE'\n",
      " 'EMBEZZLEMENT (GENERAL)' 'EMBEZZLEMENT, GRAND THEFT'\n",
      " 'CHECKS, NON-SUFFICIENT FUNDS (FELONY)' 'DEFRAUDING OF VEHICLE REPAIRMAN'\n",
      " 'COUNTERFEITING, PLATES OR DIES' 'IMPERSONATING FIRE DEPARTMENT MEMBER'\n",
      " 'IMPERSONATING PUBLIC UTILITY MEMBER'\n",
      " 'FORGERY, GOVERNMENT OR CORPORATE SEALS'\n",
      " 'FALSE REPRESENTATION TO SECONDHAND DEALER'\n",
      " 'CITIZENSHIP DOCUMENT, USING FALSE' 'FINANCIAL STATEMENTS, FALSE'\n",
      " 'EMBEZZLEMENT, PETTY THEFT PUBLIC/PRIVATE OFFICIAL'\n",
      " 'FALSIFICATION OF MEDICAL RECORDS'\n",
      " 'WEAPONS POSSESSION BY JUVENILE SUSPECT'\n",
      " 'TELEPHONE OR TELEGRAPH MESSAGE, SENDING FALSE'\n",
      " 'EAVESDROPPING DEVICES, SALE OR USE'\n",
      " 'CRIMES AGAINST REVENUE & PROPERTY OF STATE'\n",
      " 'FALSE REPORT OF POLICE MISCONDUCT'\n",
      " 'FORGERY, FALSE ENTRIES IN RECORDS OR RETURNS'\n",
      " 'PUBLIC UTILITY INFORMATION, FRAUDULENTLY OBTAINING'\n",
      " 'EMBEZZLEMENT, PETTY THEFT PRIVATE PROPERTY'\n",
      " 'ACCESS CARD INFORMATION, PUBLICATION OF' 'SHORT CHANGE, GRAND THEFT'\n",
      " 'PUTTING SLUGS IN COIN OPERATED MACHINES'\n",
      " 'EMBEZZLEMENT, GRAND THEFT BY COLLECTOR'\n",
      " 'EMBEZZLEMENT, GRAND THEFT PRIVATE PROPERTY'\n",
      " 'EMBEZZLEMENT, GRAND THEFT BY PROPERTY CARRIER'\n",
      " 'BATTERY BY JUVENILE SUSPECT'\n",
      " 'CITIZENSHIP OR ALIEN REGISTRATION, MAKING FALSE DOCUMENT'\n",
      " 'CABLE TV CONNECTION OR DECODING DEVICE, UNAUTHORIZED'\n",
      " 'PUTTING SLUGS IN TELEPHONE BOX'\n",
      " 'EMBEZZLEMENT, PETTY THEFT BY BROOKERS/AGENTS'\n",
      " 'PUTTING SLUGS IN PARKING METERS' 'ASSAULT BY JUVENILE SUSPECT'\n",
      " 'FRAUDULENT AUCTION' 'SHOOTING BY JUVENILE SUSPECT'\n",
      " 'EMBEZZLEMENT, GRAND THEFT PUBLIC/PRIVATE OFFICIAL']\n"
     ]
    }
   ],
   "source": [
    "print(len(Cyber[\"Descript\"].unique()),\"\\n\")\n",
    "\n",
    "print(Cyber[\"Descript\"].unique())"
   ]
  },
  {
   "cell_type": "code",
   "execution_count": 92,
   "id": "975e05f9",
   "metadata": {},
   "outputs": [
    {
     "data": {
      "text/plain": [
       "(70259, 16)"
      ]
     },
     "execution_count": 92,
     "metadata": {},
     "output_type": "execute_result"
    }
   ],
   "source": [
    "Cyber.shape"
   ]
  },
  {
   "cell_type": "code",
   "execution_count": 93,
   "id": "028dd32b",
   "metadata": {},
   "outputs": [
    {
     "name": "stdout",
     "output_type": "stream",
     "text": [
      "INVESTIGATIVE : (5822,)\n",
      "FALSE : (3157,)\n",
      "FORGERY : (6465,)\n",
      "FRAUD : (3083,)\n",
      "CREDIT : (10878,)\n",
      "CHECKS : (5580,)\n",
      "THEFT : (12090,)\n",
      "SUSPICIOUS : (25419,)\n"
     ]
    }
   ],
   "source": [
    "print(\"INVESTIGATIVE :\",Cyber[Cyber[\"Descript\"].str.contains(\"INVESTIGATIVE\", case=True )][\"Descript\"].shape) \n",
    "\n",
    "\n",
    "print(\"FALSE :\",Cyber[Cyber[\"Descript\"].str.contains(\"FALSE\", case=True )][\"Descript\"].shape)\n",
    "\n",
    "print(\"FORGERY :\",Cyber[Cyber[\"Descript\"].str.contains(\"FORGERY\", case=True )][\"Descript\"].shape)\n",
    "\n",
    "print(\"FRAUD :\",Cyber[Cyber[\"Descript\"].str.contains(\"FRAUD\", case=True )][\"Descript\"].shape)\n",
    "\n",
    "print(\"CREDIT :\",Cyber[Cyber[\"Descript\"].str.contains(\"CREDIT\", case=True )][\"Descript\"].shape)\n",
    "\n",
    "print(\"CHECKS :\",Cyber[Cyber[\"Descript\"].str.contains(\"CHECKS\", case=True )][\"Descript\"].shape)\n",
    "\n",
    "\n",
    "\n",
    "print(\"THEFT :\",Cyber[Cyber[\"Descript\"].str.contains(\"THEFT\", case=True )][\"Descript\"].shape)\n",
    "\n",
    "print(\"SUSPICIOUS :\",Cyber[Cyber[\"Descript\"].str.contains(\"SUSPICIOUS\", case=True )][\"Descript\"].shape)\n",
    " "
   ]
  },
  {
   "cell_type": "code",
   "execution_count": 94,
   "id": "f2665d1c",
   "metadata": {},
   "outputs": [],
   "source": [
    "# Divide it in to 5 category\n",
    " \n",
    "Cyber[\"Description\"] = Cyber[\"Descript\"].copy()\n",
    "    \n",
    "Cyber.loc[Cyber[\"Descript\"].str.contains(\"INVESTIGATIVE\", case=True ),[\"Descript\"]]= \"INVESTIGATIVE\"\n",
    "\n",
    "\n",
    "Cyber.loc[Cyber[\"Descript\"].str.contains(\"FALSE\", case=True ),[\"Descript\"]]= \"FALSE\" # id, account, credit card\n",
    "\n",
    "Cyber.loc[Cyber[\"Descript\"].str.contains(\"FORGERY\", case=True ),[\"Descript\"]]= \"FORGERY\"\n",
    "\n",
    "Cyber.loc[Cyber[\"Descript\"].str.contains(\"FRAUD\", case=True ),[\"Descript\"]]= \"THEFT\"\n",
    "\n",
    "Cyber.loc[Cyber[\"Descript\"].str.contains(\"CREDIT\", case=True ),[\"Descript\"]]= \"CREDIT\"\n",
    "\n",
    "Cyber.loc[Cyber[\"Descript\"].str.contains(\"CHECKS\", case=True ),[\"Descript\"]]= \"THEFT\"\n",
    "\n",
    "Cyber.loc[Cyber[\"Descript\"].str.contains(\"THEFT\", case=True ),[\"Descript\"]]= \"THEFT\"\n",
    "\n",
    "Cyber.loc[Cyber[\"Descript\"].str.contains(\"SUSPICIOUS\", case=True ),[\"Descript\"]]= \"SUSPICIOUS\"\n"
   ]
  },
  {
   "cell_type": "code",
   "execution_count": 95,
   "id": "e3b58e5b",
   "metadata": {},
   "outputs": [],
   "source": [
    "#  To make the other category..\n",
    "\n",
    "Descript_cat = [\"INVESTIGATIVE\", \"FALSE\", \"FORGERY\",\"CREDIT\",   \"THEFT\", \"SUSPICIOUS\"]\n",
    "\n",
    "def notx(x):\n",
    "    if x in Descript_cat:\n",
    "        return x\n",
    "    else:\n",
    "        return 'OTHERS_CYBER_CRIMES'\n"
   ]
  },
  {
   "cell_type": "code",
   "execution_count": null,
   "id": "44d81dca",
   "metadata": {},
   "outputs": [],
   "source": []
  },
  {
   "cell_type": "code",
   "execution_count": 96,
   "id": "3cbf3eba",
   "metadata": {},
   "outputs": [],
   "source": [
    "Cyber[\"Descript\"] = Cyber[\"Descript\"].apply(notx)"
   ]
  },
  {
   "cell_type": "code",
   "execution_count": 97,
   "id": "d7225bae",
   "metadata": {},
   "outputs": [
    {
     "data": {
      "text/plain": [
       "SUSPICIOUS             25419\n",
       "OTHERS_CYBER_CRIMES    12830\n",
       "CREDIT                  9344\n",
       "THEFT                   7798\n",
       "FORGERY                 5889\n",
       "INVESTIGATIVE           5822\n",
       "FALSE                   3157\n",
       "Name: Descript, dtype: int64"
      ]
     },
     "execution_count": 97,
     "metadata": {},
     "output_type": "execute_result"
    }
   ],
   "source": [
    "Cyber[\"Descript\"].value_counts()"
   ]
  },
  {
   "cell_type": "code",
   "execution_count": 98,
   "id": "ab12ed81",
   "metadata": {},
   "outputs": [],
   "source": [
    "# Cyber.head()"
   ]
  },
  {
   "cell_type": "markdown",
   "id": "510130a5",
   "metadata": {},
   "source": [
    "## 2. Organised"
   ]
  },
  {
   "cell_type": "code",
   "execution_count": 99,
   "id": "49c50ffd",
   "metadata": {},
   "outputs": [
    {
     "name": "stdout",
     "output_type": "stream",
     "text": [
      "95 \n",
      "\n",
      "['ROBBERY, ARMED WITH A KNIFE' 'ROBBERY, BODILY FORCE'\n",
      " 'ATTEMPTED ROBBERY ON THE STREET WITH BODILY FORCE' 'TRESPASSING'\n",
      " 'ROBBERY OF A COMMERCIAL ESTABLISHMENT W/ A KNIFE' 'MISSING JUVENILE'\n",
      " 'ROBBERY, ARMED WITH A DANGEROUS WEAPON'\n",
      " 'ROBBERY OF A CHAIN STORE WITH A DANGEROUS WEAPON'\n",
      " 'ROBBERY OF A BANK WITH A DANGEROUS WEAPON' 'FALSE IMPRISONMENT'\n",
      " 'ROBBERY ON THE STREET, STRONGARM' 'MISSING ADULT' 'FOUND PERSON'\n",
      " 'ATTEMPTED ROBBERY ON THE STREET W/DEADLY WEAPON'\n",
      " 'ATTEMPTED ROBBERY WITH BODILY FORCE' 'KIDNAPPING DURING ROBBERY'\n",
      " 'ROBBERY,  ATM, GUN' 'ROBBERY OF A CHAIN STORE WITH A GUN'\n",
      " 'ATTEMPTED ROBBERY OF A BANK WITH BODILY FORCE'\n",
      " 'ATTEMPTED ROBBERY WITH A DEADLY WEAPON'\n",
      " 'ROBBERY OF A CHAIN STORE WITH A KNIFE'\n",
      " 'ATTEMPTED ROBBERY RESIDENCE WITH BODILY FORCE' 'CHILD STEALING'\n",
      " 'SHOPLIFTING, FORCE AGAINST AGENT' 'ROBBERY ON THE STREET WITH A KNIFE'\n",
      " 'ROBBERY, ARMED WITH A GUN' 'ROBBERY OF A CHAIN STORE WITH BODILY FORCE'\n",
      " 'KIDNAPPING, ADULT VICTIM' 'DISSUADING WITNESS, VICTIM'\n",
      " 'ROBBERY OF A RESIDENCE WITH BODILY FORCE'\n",
      " 'ROBBERY ON THE STREET WITH A GUN'\n",
      " 'ROBBERY ON THE STREET WITH A DANGEROUS WEAPON'\n",
      " 'ROBBERY OF A COMMERCIAL ESTABLISHMENT, STRONGARM'\n",
      " 'ROBBERY,  ATM, GUN, ATT.' 'ATTEMPTED KIDNAPPING, JUVENILE VICTIM'\n",
      " 'ROBBERY OF A RESIDENCE WITH A KNIFE' 'KIDNAPPING, JUVENILE VICTIM'\n",
      " 'BRIBERY OF EXECUTIVE OFFICER'\n",
      " 'ROBBERY OF A COMMERCIAL ESTABLISHMENT W/ WEAPON'\n",
      " 'ATTEMPTED ROBBERY ON THE STREET WITH A GUN' 'CARJACKING WITH A KNIFE'\n",
      " 'KIDNAPPING DURING CARJACKING' 'ATTEMPTED ROBBERY WITH A KNIFE'\n",
      " 'CARJACKING WITH BODILY FORCE' 'ROBBERY OF A BANK WITH BODILY FORCE'\n",
      " 'ATTEMPTED KIDNAPPING, ADULT VICTIM'\n",
      " 'ATTEMPTED ROBBERY CHAIN STORE WITH A KNIFE'\n",
      " 'ATTEMPTED ROBBERY CHAIN STORE WITH BODILY FORCE'\n",
      " 'LODGING WITHOUT PERMISSION' 'ROBBERY,  ATM, FORCE, ATT.' 'EXTORTION'\n",
      " 'ATTEMPTED ROBBERY ON THE STREET WITH A KNIFE'\n",
      " 'ROBBERY OF A BANK WITH A GUN'\n",
      " 'ROBBERY, VEHICLE FOR HIRE, ATT., W/ OTHER WEAPON'\n",
      " 'ROBBERY OF A BANK WITH A KNIFE' 'ROBBERY,  ATM, OTHER WEAPON'\n",
      " 'ATTEMPTED ROBBERY COMM. ESTAB. WITH BODILY FORCE' 'ATTEMPTED EXTORTION'\n",
      " 'ROBBERY OF A COMMERCIAL ESTABLISHMENT WITH A GUN' 'ROBBERY,  ATM, KNIFE'\n",
      " 'ATTEMPTED ROBBERY WITH A GUN' 'CARJACKING WITH A GUN'\n",
      " 'ATTEMPTED ROBBERY RESIDENCE WITH A KNIFE'\n",
      " 'ROBBERY OF A RESIDENCE WITH A GUN' 'CARJACKING WITH A DANGEROUS WEAPON'\n",
      " 'ATTEMPTED ROBBERY OF A BANK WITH A DEADLY WEAPON'\n",
      " 'ATTEMPTED ROBBERY RESIDENCE WITH A GUN'\n",
      " 'ATTEMPTED ROBBERY RESIDENCE WITH A DEADLY WEAPON'\n",
      " 'CONCEAL CRIME OR WITHHOLD EVIDENCE, ACCEPTING PAYMENT TO'\n",
      " 'ATTEMPTED ROBBERY COMM. ESTABLISHMENT WITH A GUN'\n",
      " 'ATTEMPTED ROBBERY OF A BANK WITH A GUN'\n",
      " 'ROBBERY OF A RESIDENCE WITH A DANGEROUS WEAPON'\n",
      " 'ROBBERY OF A SERVICE STATION W/DANGEROUS WEAPON'\n",
      " 'ROBBERY OF A SERVICE STATION WITH A GUN'\n",
      " 'ROBBERY OF A SERVICE STATION WITH BODILY FORCE'\n",
      " 'ATTEMPTED ROBBERY SERVICE STATION WITH A KNIFE'\n",
      " 'ATTEMPTED ROBBERY COMM. ESTAB. WITH DEADLY WEAPON'\n",
      " 'ATTEMPTED ROBBERY CHAIN STORE WITH DEADLY WEAPON'\n",
      " 'DISASTER AREA, ENTERING OR REMAINING IN'\n",
      " 'LOITERING WITHOUT LAWFUL BUSINESS WITH OWNER OR OCCUPANT'\n",
      " 'TRESPASSING ON RAILROAD TRAINS'\n",
      " 'ATTEMPTED ROBBERY SERVICE STATION W/DEADLY WEAPON'\n",
      " 'ROBBERY OF A SERVICE STATION WITH A KNIFE' 'ROBBERY,  ATM, KNIFE, ATT.'\n",
      " 'KIDNAPPER, POSING AS' 'ATTEMPTED ROBBERY OF A BANK WITH A KNIFE'\n",
      " 'ATTEMPTED ROBBERY CHAIN STORE WITH A GUN'\n",
      " 'ATTEMPTED ROBBERY COMM. ESTABLISHMENT W/KNIFE' 'BRIBERY OF WITNESSES'\n",
      " 'ATTEMPTED ROBBERY SERVICE STATION W/BODILY FORCE'\n",
      " 'ROBBERY, VEHICLE FOR HIRE, ATT., W/ GUN'\n",
      " 'ROBBERY, VEHICLE FOR HIRE, ATT., W/ FORCE'\n",
      " 'ASSAULT TO ROB WITH BODILY FORCE'\n",
      " 'ATTEMPTED ROBBERY SERVICE STATION WITH A GUN'\n",
      " 'ASSAULT TO ROB BANK WITH A GUN']\n"
     ]
    }
   ],
   "source": [
    "print(len(Organised[\"Descript\"].unique()),\"\\n\")\n",
    "\n",
    "print(Organised[\"Descript\"].unique())"
   ]
  },
  {
   "cell_type": "code",
   "execution_count": 100,
   "id": "47277eed",
   "metadata": {},
   "outputs": [
    {
     "data": {
      "text/plain": [
       "(59201, 16)"
      ]
     },
     "execution_count": 100,
     "metadata": {},
     "output_type": "execute_result"
    }
   ],
   "source": [
    "Organised.shape"
   ]
  },
  {
   "cell_type": "code",
   "execution_count": 101,
   "id": "cafe9193",
   "metadata": {},
   "outputs": [
    {
     "name": "stdout",
     "output_type": "stream",
     "text": [
      "ATTEMPTED ROBBERY : (3418,)\n",
      "TRESPASSING : (6734,)\n",
      "FORCE : (7434,)\n",
      "MISSING : (16672,)\n",
      "ROBBERY : (22507,)\n"
     ]
    }
   ],
   "source": [
    "print(\"ATTEMPTED ROBBERY :\",Organised[Organised[\"Descript\"].str.contains(\"ATTEMPTED ROBBERY\", case=True )][\"Descript\"].shape)\n",
    "\n",
    "print(\"TRESPASSING :\",Organised[Organised[\"Descript\"].str.contains(\"TRESPASSING\", case=True )][\"Descript\"].shape)\n",
    "\n",
    "print(\"FORCE :\",Organised[Organised[\"Descript\"].str.contains(\"FORCE\", case=True )][\"Descript\"].shape)\n",
    "\n",
    "print(\"MISSING :\",Organised[Organised[\"Descript\"].str.contains(\"MISSING\", case=True )][\"Descript\"].shape)\n",
    "\n",
    "\n",
    "print(\"ROBBERY :\",Organised[Organised[\"Descript\"].str.contains(\"ROBBERY\", case=True )][\"Descript\"].shape) \n",
    " "
   ]
  },
  {
   "cell_type": "code",
   "execution_count": 102,
   "id": "4b19c542",
   "metadata": {},
   "outputs": [],
   "source": [
    "Organised[\"Description\"] = Organised[\"Descript\"].copy()\n",
    "\n",
    "Organised.loc[Organised[\"Descript\"].str.contains(\"ATTEMPTED ROBBERY\", case=True ),[\"Descript\"]] = \"ATTEMPTED_ROBBERY\"\n",
    "\n",
    "Organised.loc[Organised[\"Descript\"].str.contains(\"FORCE\", case=True ),[\"Descript\"]] = \"FORCE\"\n",
    "\n",
    "\n",
    "Organised.loc[Organised[\"Descript\"].str.contains(\"TRESPASSING\", case=True ),[\"Descript\"]] = \"TRESPASSING\"\n",
    "\n",
    "\n",
    "Organised.loc[Organised[\"Descript\"].str.contains(\"MISSING\", case=True ),[\"Descript\"]] = \"MISSING\"\n",
    "\n",
    "Organised.loc[Organised[\"Descript\"].str.contains(\"ROBBERY\", case=True ), [\"Descript\"]] = \"ROBBERY\""
   ]
  },
  {
   "cell_type": "code",
   "execution_count": 103,
   "id": "a4f0fe8e",
   "metadata": {},
   "outputs": [],
   "source": [
    "#  To make the other category..\n",
    "\n",
    "Descript_cat = [\"ATTEMPTED_ROBBERY\", \"TRESPASSING\", \"FORCE\",   \"MISSING\", \"ROBBERY\"]\n",
    "\n",
    "def notx(x):\n",
    "    if x in Descript_cat:\n",
    "        return x\n",
    "    else:\n",
    "        return 'OTHERS_ORGANISED_CRIMES'"
   ]
  },
  {
   "cell_type": "code",
   "execution_count": 104,
   "id": "c93b7fe8",
   "metadata": {},
   "outputs": [],
   "source": [
    "Organised[\"Description\"] = Organised[\"Descript\"].apply(notx)"
   ]
  },
  {
   "cell_type": "code",
   "execution_count": 105,
   "id": "45063a61",
   "metadata": {},
   "outputs": [
    {
     "data": {
      "text/plain": [
       "ROBBERY                    17405\n",
       "MISSING                    16672\n",
       "OTHERS_ORGANISED_CRIMES    13068\n",
       "TRESPASSING                 6734\n",
       "FORCE                       5322\n",
       "Name: Description, dtype: int64"
      ]
     },
     "execution_count": 105,
     "metadata": {},
     "output_type": "execute_result"
    }
   ],
   "source": [
    "Organised[\"Description\"].value_counts()"
   ]
  },
  {
   "cell_type": "markdown",
   "id": "8113e8ec",
   "metadata": {},
   "source": [
    "### 3. Consensual"
   ]
  },
  {
   "cell_type": "code",
   "execution_count": 106,
   "id": "8692b030",
   "metadata": {},
   "outputs": [
    {
     "name": "stdout",
     "output_type": "stream",
     "text": [
      "119 \n",
      "\n",
      "['UNDER INFLUENCE OF ALCOHOL IN A PUBLIC PLACE'\n",
      " 'POSSESSION OF NARCOTICS PARAPHERNALIA' 'POSSESSION OF MARIJUANA'\n",
      " 'POSSESSION OF MARIJUANA FOR SALES' 'SALE OF MARIJUANA'\n",
      " 'POSSESSION OF METH-AMPHETAMINE'\n",
      " 'LOITERING WHERE NARCOTICS ARE SOLD/USED'\n",
      " 'DRIVING WHILE UNDER THE INFLUENCE OF ALCOHOL' 'POSSESSION OF HEROIN'\n",
      " 'POSSESSION OF CONTROLLED SUBSTANCE FOR SALE' 'DISTURBING THE PEACE'\n",
      " 'UNDER INFLUENCE OF DRUGS IN A PUBLIC PLACE'\n",
      " 'POSSESSION OF CONTROLLED SUBSTANCE'\n",
      " 'POSSESSION OF BASE/ROCK COCAINE FOR SALE'\n",
      " 'POSSESSION OF HEROIN FOR SALES' 'POSSESSION OF ALCOHOL BY MINOR'\n",
      " 'SALE OF BASE/ROCK COCAINE' 'SALE OF CONTROLLED SUBSTANCE'\n",
      " 'CONSUMING ALCOHOL IN PUBLIC VIEW' 'DISTURBING THE PEACE, COMMOTION'\n",
      " 'DRIVING WHILE UNDER THE INFLUENCE OF DRUGS'\n",
      " 'POSSESSION OF METH-AMPHETAMINE FOR SALE'\n",
      " 'TRANSPORTATION OF METH-AMPHETAMINE'\n",
      " 'SELL OR FURNISH ALCOHOL TO INTOXICATED PERSON'\n",
      " 'POSSESSION OF BASE/ROCK COCAINE' 'POSSESSION OF COCAINE FOR SALES'\n",
      " 'TRANSPORTATION OF MARIJUANA'\n",
      " 'MAINTAINING A PUBLIC NUISANCE AFTER NOTIFICATION'\n",
      " 'MAINTAINING A PUBLIC NUISANCE' 'COMMITTING PUBLIC NUISANCE'\n",
      " 'ATTEMPTED SUICIDE' 'PLANTING/CULTIVATING MARIJUANA'\n",
      " 'DISTURBING THE PEACE, FIGHTING' 'POSSESSION OF COCAINE'\n",
      " 'POSSESSION OF HALLUCINOGENIC FOR SALES' 'SALE OF HALLUCINOGENIC'\n",
      " 'MAINTAINING PREMISE WHERE NARCOTICS ARE SOLD/USED'\n",
      " 'FORGE OR ALTER PRESCRIPTION' 'SUICIDE BY JUMPING'\n",
      " 'TRANSPORTATION OF HEROIN' 'POSSESSION OF OPIATES FOR SALES'\n",
      " 'TRANSPORTATION OF OPIATES'\n",
      " 'DRIVING WHILE UNDER THE INFLUENCE OF ALCOHOL, W/INJURY' 'SALE OF OPIUM'\n",
      " 'TRANSPORTAION OF CONTROLLED SUBSTANCE' 'POSSESSION OF HALLUCINOGENIC'\n",
      " 'GAMBLING' 'POSSESSION OF GAMBLING DEVICES'\n",
      " 'DISTURBING THE PEACE, SWEARING' 'SALE OF ALCOHOL TO MINOR'\n",
      " 'POSSESSION OF AMPHETAMINE FOR SALES' 'TRANSPORTATION OF COCAINE'\n",
      " 'POSSESSION OF METHADONE' 'UNDER THE INFLUENCE OF CONTROLLED SUBSTANCES'\n",
      " 'SALE OF HEROIN' 'POSSESSION OF OPIATES' 'SALE OF METH-AMPHETAMINE'\n",
      " 'SUICIDE BY ASPHYXIATION' 'MISCELLANEOUS LIQOUR LAW VIOLATION'\n",
      " 'SALE OF COCAINE' 'UNLAWFUL TRANSPORTATION OF ALCOHOL'\n",
      " 'ATTEMPTED SUICIDE BY LACERATION'\n",
      " 'PRESCRIPTION, FORGE OR ALTER (4390 B&P)' 'ATTEMPTED SUICIDE BY JUMPING'\n",
      " 'HYPODERMIC NEEDLE OR SYRINGE, POSSESSION' 'SALE OF OPIATES'\n",
      " 'ATTEMPTED SUICIDE BY INGESTION'\n",
      " 'FAILURE TO REGISTER AS NARCOTICS ADDICT' 'SALE OF ALCOHOL AFTER HOURS'\n",
      " 'MINOR ON ON-SALE LICENSED PREMISE'\n",
      " 'DRIVING WHILE UNDER THE INFLUENCE OF DRUGS, W/INJURY'\n",
      " 'SUICIDE BY STRANGULATION' 'FURNISHING MARIJUANA'\n",
      " 'LICENSE REQUIRED TO SELL ALCOHOL' 'SUICIDE BY FIREARMS'\n",
      " 'ATTEMPTED SUICIDE BY STRANGULATION' 'FALSE EVIDENCE OF AGE BY MINOR'\n",
      " 'POSSESSION OF OPIUM DERIVATIVE' 'POSSESSION OF METHADONE FOR SALES'\n",
      " 'TRANSPORTATION OF AMPHETAMINE' 'SUICIDE BY LACERATION'\n",
      " 'DISTURBING RELIGIOUS MEETINGS' 'ATTEMPTED SUICIDE BY FIRE'\n",
      " 'ENCOURAGING MINOR TO USE MARIJUANA' 'SALE OF METHADONE'\n",
      " 'POSSESSION OF AMPHETAMINE' 'SUICIDE' 'POSSESSION OF OPIUM FOR SALES'\n",
      " 'TRANSPORTATION OF METHADONE'\n",
      " 'CONTROLLED SUBSTANCE VIOLATION, LOITERING FOR'\n",
      " 'POSSESSION OF GAMBLING PARAPHERNALIA' 'SUICIDE BY DROWNING'\n",
      " 'POSSESSION OF OPIUM' 'SALES COCAINE BASE/SCHOOLYARD TRAFFICKING ACT VIO'\n",
      " 'VISITING WHERE DRUGS ARE USED OR SMOKED'\n",
      " 'POSSESSION OF OPIUM DERIVATIVE FOR SALES' 'POSSESSION OF BARBITUATES'\n",
      " 'ATTEMPTED SUICIDE BY ASPHYXIATION' 'TRANSPORTATION OF HALLUCINOGENIC'\n",
      " 'MONEY OFFENSE RELATED TO NARCOTICS TRAFFICKING'\n",
      " 'SALE OF ALCOHOL BY MINOR' 'POSSESSION OF BARBITUATES FOR SALES'\n",
      " 'SALE OF ALCOHOL TO MINOR IN BAR' 'SALE OF AMPHETAMINE'\n",
      " 'MINOR PURCHASING ALCOHOL' 'SUICIDE BY INGESTION'\n",
      " 'ALCOHOLIC BEVERAGE, PROCURING SALE OF' 'DRUG LAB APPARATUS, POSSESSION'\n",
      " 'ATTEMPTED SUICIDE BY FIREARMS'\n",
      " 'ENCOURAGE MINOR TO USE CONTROLLED SUBSTANCE'\n",
      " 'DISTURBANCE OF NON-RELIGIOUS, NON-POLITICAL ASSEMBLY'\n",
      " 'SALE OF BARBITUATES' 'BOOKMAKING' 'SUICIDE BY FIRE'\n",
      " 'ENCOURAGING MINOR TO USE COCAINE' 'ENCOURAGE MINOR TO USE BARBITUATES'\n",
      " 'SALE OF OPIUM DERIVATIVE' 'ATTEMPTED SUICIDE BY DROWNING'\n",
      " 'PLANTING/CULTIVATING PEYOTE']\n"
     ]
    }
   ],
   "source": [
    "print(len(Consensual[\"Descript\"].unique()),\"\\n\")\n",
    "print(Consensual[\"Descript\"].unique())"
   ]
  },
  {
   "cell_type": "code",
   "execution_count": 107,
   "id": "d8caea25",
   "metadata": {},
   "outputs": [
    {
     "data": {
      "text/plain": [
       "(67396, 16)"
      ]
     },
     "execution_count": 107,
     "metadata": {},
     "output_type": "execute_result"
    }
   ],
   "source": [
    "Consensual.shape"
   ]
  },
  {
   "cell_type": "code",
   "execution_count": 108,
   "id": "4f0adde0",
   "metadata": {},
   "outputs": [
    {
     "name": "stdout",
     "output_type": "stream",
     "text": [
      "INFLUENCE : (7006, 1)\n",
      "SALE : (18498, 1)\n",
      "POSSESSION : (43359, 1)\n"
     ]
    }
   ],
   "source": [
    "print(\"INFLUENCE :\",Consensual.loc[Consensual[\"Descript\"].str.contains(\"INFLUENCE\", case=True ),[\"Descript\"]].shape) \n",
    "\n",
    "print(\"SALE :\",Consensual.loc[Consensual[\"Descript\"].str.contains(\"SALE\", case=True ),[\"Descript\"]].shape) \n",
    "\n",
    "print(\"POSSESSION :\",Consensual.loc[Consensual[\"Descript\"].str.contains(\"POSSESSION\", case=True ),[\"Descript\"]].shape) \n"
   ]
  },
  {
   "cell_type": "code",
   "execution_count": 109,
   "id": "b7899e6e",
   "metadata": {},
   "outputs": [],
   "source": [
    "Consensual[\"Description\"] = Consensual[\"Descript\"].copy()\n",
    "\n",
    "Consensual.loc[Consensual[\"Descript\"].str.contains(\"INFLUENCE\", case=True ),[\"Descript\"]] = \"INFLUENCE\"\n",
    "\n",
    "Consensual.loc[Consensual[\"Descript\"].str.contains(\"SALE\", case=True ),[\"Descript\"]] = \"SALE\"\n",
    "\n",
    "Consensual.loc[Consensual[\"Descript\"].str.contains(\"POSSESSION\", case=True ),[\"Descript\"]] = \"POSSESSION\""
   ]
  },
  {
   "cell_type": "code",
   "execution_count": 110,
   "id": "7ff4a0b0",
   "metadata": {},
   "outputs": [],
   "source": [
    "#  To make the other category..\n",
    "\n",
    "Descript_cat = [\"INFLUENCE\", \"SALE\", \"POSSESSION\"]\n",
    "\n",
    "def notx(x):\n",
    "    if x in Descript_cat:\n",
    "        return x\n",
    "    else:\n",
    "        return 'OTHERS_CONSENSUAL_CRIME'"
   ]
  },
  {
   "cell_type": "code",
   "execution_count": 111,
   "id": "35c7abd0",
   "metadata": {},
   "outputs": [],
   "source": [
    "Consensual[\"Descript\"] = Consensual[\"Descript\"].apply(notx)"
   ]
  },
  {
   "cell_type": "code",
   "execution_count": 112,
   "id": "e131c154",
   "metadata": {},
   "outputs": [
    {
     "data": {
      "text/plain": [
       "POSSESSION                 32858\n",
       "SALE                       18498\n",
       "OTHERS_CONSENSUAL_CRIME     9034\n",
       "INFLUENCE                   7006\n",
       "Name: Descript, dtype: int64"
      ]
     },
     "execution_count": 112,
     "metadata": {},
     "output_type": "execute_result"
    }
   ],
   "source": [
    "Consensual[\"Descript\"].value_counts()"
   ]
  },
  {
   "cell_type": "markdown",
   "id": "76e2ae98",
   "metadata": {},
   "source": [
    "### 4. Intimate"
   ]
  },
  {
   "cell_type": "code",
   "execution_count": 113,
   "id": "70658f7d",
   "metadata": {},
   "outputs": [
    {
     "name": "stdout",
     "output_type": "stream",
     "text": [
      "112 \n",
      "\n",
      "['AGGRAVATED ASSAULT WITH BODILY FORCE' 'CHILD ABUSE (PHYSICAL)'\n",
      " 'THREATS AGAINST LIFE' 'BATTERY, FORMER SPOUSE OR DATING RELATIONSHIP'\n",
      " 'SHOOTING INTO INHABITED DWELLING OR OCCUPIED VEHICLE' 'BATTERY'\n",
      " 'AGGRAVATED ASSAULT WITH A DEADLY WEAPON'\n",
      " 'AGGRAVATED ASSAULT WITH A KNIFE' 'INFLICT INJURY ON COHABITEE'\n",
      " 'PENETRATION, FORCED, WITH OBJECT'\n",
      " 'ORAL COPULATION, UNLAWFUL (ADULT VICTIM)'\n",
      " 'ENGAGING IN LEWD CONDUCT - PROSTITUTION RELATED'\n",
      " 'ASSAULT WITH CAUSTIC CHEMICALS' 'AGGRAVATED ASSAULT WITH A GUN'\n",
      " 'ASSAULT, AGGRAVATED, W/ GUN'\n",
      " 'ELDER ADULT OR DEPENDENT ABUSE (NOT EMBEZZLEMENT OR THEFT)'\n",
      " 'TRESPASS WITHIN 30 DAYS OF CREDIBLE THREAT' 'SODOMY (ADULT VICTIM)'\n",
      " 'BATTERY OF A POLICE OFFICER' 'SEXUAL BATTERY'\n",
      " 'ATTEMPTED HOMICIDE WITH A GUN' 'FALSE IMPRISONMENT'\n",
      " 'CHILD ABUSE, PORNOGRAPHY' 'HUMAN TRAFFICKING' 'ASSAULT'\n",
      " 'ASSAULT TO RAPE WITH BODILY FORCE'\n",
      " 'ATTEMPTED HOMICIDE WITH BODILY FORCE' 'FORCIBLE RAPE, BODILY FORCE'\n",
      " 'ENGAGING IN LEWD ACT' 'THREATENING PHONE CALL(S)'\n",
      " 'FIREARM, DISCHARGING AT OCCUPIED BLDG, VEHICLE, OR AIRCRAFT'\n",
      " 'ATTEMPTED HOMICIDE WITH A KNIFE'\n",
      " 'THREAT OR FORCE TO RESIST EXECUTIVE OFFICER'\n",
      " 'THREATS TO SCHOOL TEACHERS' 'ATTEMPTED MAYHEM WITH A DEADLY WEAPON'\n",
      " 'STALKING' 'SOLICITS FOR ACT OF PROSTITUTION'\n",
      " 'LOITERING FOR PURPOSE OF PROSTITUTION' 'BATTERY WITH SERIOUS INJURIES'\n",
      " 'DISORDERLY HOUSE, KEEPING' 'ANNOY OR MOLEST CHILDREN'\n",
      " 'AGGRAVATED ASSAULT OF POLICE OFFICER,BODILY FORCE'\n",
      " 'THREATENING SCHOOL OR PUBLIC EMPLOYEE'\n",
      " 'ASSAULT ON A POLICE OFFICER WITH A DEADLY WEAPON'\n",
      " 'ATTEMPTED SIMPLE ASSAULT' 'MAYHEM WITH A KNIFE'\n",
      " 'UNLAWFUL DISSUADING/THREATENING OF A WITNESS'\n",
      " 'RESISTING PEACE OFFICER, CAUSING THEIR SERIOUS INJURY OR DEATH'\n",
      " 'DISCHARGING IN GROSSLY NEGLIGENT MANNER'\n",
      " 'CHILD, INFLICTING INJURY RESULTING IN TRAUMATIC CONDITION'\n",
      " 'UNLAWFUL SEXUAL INTERCOURSE' 'ATTEMPTED MAYHEM WITH BODILY FORCE'\n",
      " 'MAYHEM WITH A DEADLY WEAPON'\n",
      " 'ATTEMPTED HOMICIDE WITH A DANGEROUS WEAPON'\n",
      " 'SEXUAL ASSAULT, AGGRAVATED, OF CHILD'\n",
      " 'FIREARM, DISCHARGING IN GROSSLY NEGLIGENT MANNER' 'RAPE, SPOUSAL'\n",
      " 'WILLFUL CRUELTY TO CHILD' 'CHILD ABUSE SEXUAL'\n",
      " 'AGGRAVATED ASSAULT ON POLICE OFFICER WITH A KNIFE'\n",
      " 'ATTEMPTED RAPE, BODILY FORCE' 'ORAL COPULATION'\n",
      " 'THREAT TO STATE OFFICIAL OR JUDGE' 'MAYHEM WITH BODILY FORCE'\n",
      " 'FORCIBLE RAPE, ARMED WITH A SHARP INSTRUMENT'\n",
      " 'CHILD ABUSE, EXPLOITATION' 'SODOMY'\n",
      " 'SEXUAL ASSAULT, ADMINISTERING DRUG TO COMMIT' 'PANDERING' 'PIMPING'\n",
      " 'ASSAULT TO COMMIT MAYHEM OR SPECIFIC SEX OFFENSES' 'MAYHEM WITH A GUN'\n",
      " 'FORCIBLE RAPE, ARMED WITH A GUN'\n",
      " 'SEXUAL CONTACT WITH PATIENT, FORMER PATIENT'\n",
      " 'INDECENT EXPOSURE - PROSTITUTION RELATED'\n",
      " 'INMATE/KEEPER OF HOUSE OF PROSTITUTION' 'SOLICITS LEWD ACT'\n",
      " 'FORCIBLE RAPE, ARMED WITH A DANGEROUS WEAPON'\n",
      " 'CIVIL RIGHTS, INCL. INJURY, THREAT, OR DAMAGE (HATE CRIMES)'\n",
      " 'ASSAULT, AGGRAVATED, ON POLICE OFFICER, W/ GUN'\n",
      " 'ASSAULT TO RAPE WITH A GUN' 'ASSAULT BY POLICE OFFICER'\n",
      " 'LASERS, DISCHARGING OR LIGHTS AT AIRCRAFT'\n",
      " 'ATTEMPTED MAYHEM WITH A KNIFE' 'ATTEMPTED RAPE WITH A GUN'\n",
      " 'OBSCENE MATTER, DISTRIBUTION TO MINORS'\n",
      " \"ASSAULT OR ATTEMPTED MURDER UPON GOV'T OFFICERS\"\n",
      " 'BATTERY DURING LABOR DISPUTE' 'ASSAULT TO RAPE WITH A DANGEROUS WEAPON'\n",
      " 'POSSESSION OF OBSCENE MATTER FOR SALE'\n",
      " 'ASSAULT, AGGRAVATED, ON POLICE OFFICER, W/ SEMI AUTO'\n",
      " 'SOLICITS TO VISIT HOUSE OF PROSTITUTION'\n",
      " 'ATTEMPTED RAPE, ARMED WITH A SHARP INSTRUMENT'\n",
      " 'ASSAULT, AGGRAVATED, W/ MACHINE GUN' 'ASSAULT, AGGRAVATED, W/ SEMI AUTO'\n",
      " 'ASSAULT BY POISONING' 'PROCUREMENT, PIMPING, & PANDERING'\n",
      " 'ASSAULT, AGGRAVATED, ON POLICE OFFICER, W/ FULL AUTO'\n",
      " 'ATTEMPTED RAPE, ARMED WITH A DANGEROUS WEAPON'\n",
      " 'AGGRAVATED ASSAULT ON POLICE OFFICER WITH A GUN'\n",
      " 'TERRORIZING BY ARSON OR EXPLOSIVE DEVICE'\n",
      " 'ASSAULT TO RAPE WITH A SHARP INSTRUMENT' 'INCEST'\n",
      " 'BIGAMY, INCEST, AND THE CRIME AGAINST NATURE (GENERAL)'\n",
      " 'TERRORIZING BY MARKING PRIVATE PROPERTY'\n",
      " 'OBSCENE OR LEWD PLAYS/PERFORMANCES' 'OBSCENE MOVIES/ACTS'\n",
      " 'PLACING WIFE IN HOUSE OF PROSTITUTION' 'ATTEMPTED MAYHEM WITH A GUN'\n",
      " 'AGGRAVATED ASSAULT OF POLICE OFFICER, SNIPING'\n",
      " 'ATTEMPTED HOMICIDE WITH EXPLOSIVES'\n",
      " 'PURCHASE FEMALE FOR THE PURPOSE OF PROSTITUTION']\n"
     ]
    }
   ],
   "source": [
    "print(len(Intimate[\"Descript\"].unique()), \"\\n\")\n",
    "print(Intimate[\"Descript\"].unique())"
   ]
  },
  {
   "cell_type": "code",
   "execution_count": 114,
   "id": "716cbaef",
   "metadata": {},
   "outputs": [
    {
     "data": {
      "text/plain": [
       "(88918, 16)"
      ]
     },
     "execution_count": 114,
     "metadata": {},
     "output_type": "execute_result"
    }
   ],
   "source": [
    "Intimate.shape"
   ]
  },
  {
   "cell_type": "code",
   "execution_count": 115,
   "id": "db2f6d8b",
   "metadata": {},
   "outputs": [
    {
     "data": {
      "text/plain": [
       "BATTERY                                                       27441\n",
       "THREATS AGAINST LIFE                                          14716\n",
       "INFLICT INJURY ON COHABITEE                                    7122\n",
       "AGGRAVATED ASSAULT WITH A DEADLY WEAPON                        6451\n",
       "AGGRAVATED ASSAULT WITH BODILY FORCE                           4898\n",
       "SOLICITS FOR ACT OF PROSTITUTION                               3352\n",
       "BATTERY, FORMER SPOUSE OR DATING RELATIONSHIP                  2712\n",
       "AGGRAVATED ASSAULT WITH A KNIFE                                2442\n",
       "SOLICITS TO VISIT HOUSE OF PROSTITUTION                        2383\n",
       "SEXUAL BATTERY                                                 1493\n",
       "BATTERY OF A POLICE OFFICER                                    1331\n",
       "CHILD ABUSE (PHYSICAL)                                         1313\n",
       "LOITERING FOR PURPOSE OF PROSTITUTION                          1243\n",
       "AGGRAVATED ASSAULT WITH A GUN                                  1071\n",
       "THREATENING PHONE CALL(S)                                       915\n",
       "STALKING                                                        873\n",
       "BATTERY WITH SERIOUS INJURIES                                   776\n",
       "FORCIBLE RAPE, BODILY FORCE                                     681\n",
       "ELDER ADULT OR DEPENDENT ABUSE (NOT EMBEZZLEMENT OR THEFT)      548\n",
       "ASSAULT                                                         502\n",
       "Name: Descript, dtype: int64"
      ]
     },
     "execution_count": 115,
     "metadata": {},
     "output_type": "execute_result"
    }
   ],
   "source": [
    "Intimate[\"Descript\"].value_counts().head(20)"
   ]
  },
  {
   "cell_type": "code",
   "execution_count": 116,
   "id": "be5596a2",
   "metadata": {},
   "outputs": [
    {
     "name": "stdout",
     "output_type": "stream",
     "text": [
      "AGGRAVATED : (15364,)\n",
      "ASSAULT : (17249,)\n",
      "ABUSE : (2473,)\n",
      "SEXUAL : (2202,)\n",
      "SEX : (2218,)\n",
      "RAPE : (1285,)\n",
      "FORCE : (6587,)\n",
      "PROSTITUTION : (7227,)\n",
      "CHILD : (2405,)\n",
      "BATTERY : (33764,)\n",
      "THREAT : (16118,)\n",
      "INJURY : (7338,)\n"
     ]
    }
   ],
   "source": [
    "print(\"AGGRAVATED :\",Intimate[Intimate[\"Descript\"].str.contains(\"AGGRAVATED\", case=True )][\"Descript\"].shape) \n",
    "\n",
    "print(\"ASSAULT :\",Intimate[Intimate[\"Descript\"].str.contains(\"ASSAULT\", case=True )][\"Descript\"].shape)\n",
    "\n",
    "print(\"ABUSE :\",Intimate[Intimate[\"Descript\"].str.contains(\"ABUSE\", case=True )][\"Descript\"].shape)\n",
    "\n",
    "print(\"SEXUAL :\",Intimate[Intimate[\"Descript\"].str.contains(\"SEXUAL\", case=True )][\"Descript\"].shape)\n",
    "\n",
    "print(\"SEX :\",Intimate[Intimate[\"Descript\"].str.contains(\"SEX\", case=True )][\"Descript\"].shape)\n",
    "\n",
    "print(\"RAPE :\",Intimate[Intimate[\"Descript\"].str.contains(\"RAPE\", case=True )][\"Descript\"].shape)\n",
    "\n",
    "print(\"FORCE :\",Intimate[Intimate[\"Descript\"].str.contains(\"FORCE\", case=True )][\"Descript\"].shape)\n",
    "\n",
    "print(\"PROSTITUTION :\",Intimate[Intimate[\"Descript\"].str.contains(\"PROSTITUTION\", case=True )][\"Descript\"].shape)\n",
    "\n",
    "\n",
    "print(\"CHILD :\",Intimate[Intimate[\"Descript\"].str.contains(\"CHILD\", case=True )][\"Descript\"].shape)\n",
    "\n",
    "\n",
    "print(\"BATTERY :\",Intimate[Intimate[\"Descript\"].str.contains(\"BATTERY\", case=True )][\"Descript\"].shape)\n",
    "\n",
    "print(\"THREAT :\",Intimate[Intimate[\"Descript\"].str.contains(\"THREAT\", case=True )][\"Descript\"].shape)\n",
    "\n",
    "print(\"INJURY :\",Intimate[Intimate[\"Descript\"].str.contains(\"INJURY\", case=True )][\"Descript\"].shape)\n"
   ]
  },
  {
   "cell_type": "code",
   "execution_count": null,
   "id": "ed3efa32",
   "metadata": {},
   "outputs": [],
   "source": []
  },
  {
   "cell_type": "code",
   "execution_count": null,
   "id": "9ac82212",
   "metadata": {},
   "outputs": [],
   "source": []
  },
  {
   "cell_type": "code",
   "execution_count": 117,
   "id": "07253801",
   "metadata": {},
   "outputs": [],
   "source": [
    "Intimate[\"Description\"] = Intimate[\"Descript\"].copy()\n",
    "\n",
    "\n",
    "Intimate.loc[Intimate[\"Descript\"].str.contains(\"ABUSE\", case=True ), [\"Descript\"]] = \"PHYSICAL_ABUSE\"\n",
    "Intimate.loc[Intimate[\"Descript\"].str.contains(\"ATTEMPTED\", case=True ),[\"Descript\"]] = \"PHYSICAL_ABUSE\"\n",
    "Intimate.loc[Intimate[\"Descript\"].str.contains(\"SEXUAL\", case=True ), [\"Descript\"]] = \"PHYSICAL_ABUSE\"\n",
    "Intimate.loc[Intimate[\"Descript\"].str.contains(\"SEX\", case=True ), [\"Descript\"]] = \"PHYSICAL_ABUSE\"\n",
    "Intimate.loc[Intimate[\"Descript\"].str.contains(\"CHILD\", case=True ),[\"Descript\"]] = \"PHYSICAL_ABUSE\"\n",
    "\n",
    "\n",
    "Intimate.loc[Intimate[\"Descript\"].str.contains(\"RAPE\", case=True ),[\"Descript\"]] = \"RAPE\"\n",
    "Intimate.loc[Intimate[\"Descript\"].str.contains(\"FORCE\", case=True ),[\"Descript\"]] = \"RAPE\"\n",
    "\n",
    "Intimate.loc[Intimate[\"Descript\"].str.contains(\"PROSTITUTION\", case=True ),[\"Descript\"]] = \"PROSTITUTION\"\n",
    "\n",
    "Intimate.loc[Intimate[\"Descript\"].str.contains(\"AGGRAVATED\", case=True ),[\"Descript\"]] = \"AGGRAVATED\"\n",
    "Intimate.loc[Intimate[\"Descript\"].str.contains(\"ASSAULT\", case=True ),[\"Descript\"]] = \"AGGRAVATED\"\n",
    "\n",
    "\n",
    "Intimate.loc[Intimate[\"Descript\"].str.contains(\"BATTERY\", case=True ), [\"Descript\"]] = \"BATTERY\"\n",
    "\n",
    "Intimate.loc[Intimate[\"Descript\"].str.contains(\"THREAT\", case=True ), [\"Descript\"]] = \"THREAT\"\n",
    "\n",
    "Intimate.loc[Intimate[\"Descript\"].str.contains(\"INJURY\", case=True ), [\"Descript\"]] = \"INJURY\""
   ]
  },
  {
   "cell_type": "code",
   "execution_count": 118,
   "id": "2606744c",
   "metadata": {},
   "outputs": [],
   "source": [
    "#  To make the other category..\n",
    "\n",
    "Descript_cat = [\"PHYSICAL_ABUSE\", \"RAPE\", \"PROSTITUTION\", \"AGGRAVATED\", \"INJURY\", \"THREAT\", \"BATTERY\"]\n",
    "\n",
    "def notx(x):\n",
    "    if x in Descript_cat:\n",
    "        return x\n",
    "    else:\n",
    "        return 'OTHERS_INTIMATE_CRIMES'"
   ]
  },
  {
   "cell_type": "code",
   "execution_count": 119,
   "id": "b67f4f09",
   "metadata": {},
   "outputs": [],
   "source": [
    "Intimate[\"Descript\"] = Intimate[\"Descript\"].map(notx)"
   ]
  },
  {
   "cell_type": "code",
   "execution_count": 120,
   "id": "f1ccf0a6",
   "metadata": {},
   "outputs": [
    {
     "data": {
      "text/plain": [
       "BATTERY                   32271\n",
       "THREAT                    15931\n",
       "AGGRAVATED                11386\n",
       "PROSTITUTION               7227\n",
       "INJURY                     7192\n",
       "RAPE                       6515\n",
       "PHYSICAL_ABUSE             5835\n",
       "OTHERS_INTIMATE_CRIMES     2561\n",
       "Name: Descript, dtype: int64"
      ]
     },
     "execution_count": 120,
     "metadata": {},
     "output_type": "execute_result"
    }
   ],
   "source": [
    "Intimate[\"Descript\"].value_counts()"
   ]
  },
  {
   "cell_type": "code",
   "execution_count": null,
   "id": "d0ad5a17",
   "metadata": {},
   "outputs": [],
   "source": []
  },
  {
   "cell_type": "markdown",
   "id": "a58892cf",
   "metadata": {},
   "source": [
    "### 5. Property"
   ]
  },
  {
   "cell_type": "code",
   "execution_count": 121,
   "id": "43249337",
   "metadata": {},
   "outputs": [
    {
     "name": "stdout",
     "output_type": "stream",
     "text": [
      "177 \n",
      "\n",
      "['GRAND THEFT FROM LOCKED AUTO' 'GRAND THEFT FROM UNLOCKED AUTO'\n",
      " 'STOLEN AUTOMOBILE' 'PETTY THEFT FROM LOCKED AUTO'\n",
      " 'MALICIOUS MISCHIEF, VANDALISM OF VEHICLES'\n",
      " 'ATTEMPTED THEFT FROM LOCKED VEHICLE' 'MALICIOUS MISCHIEF, VANDALISM'\n",
      " 'PETTY THEFT SHOPLIFTING' 'STOLEN MOTORCYCLE' 'GRAND THEFT FROM PERSON'\n",
      " 'BURGLARY, VEHICLE (ARREST MADE)' 'PETTY THEFT FROM A BUILDING'\n",
      " 'GRAND THEFT OF PROPERTY' 'STOLEN AND RECOVERED VEHICLE'\n",
      " 'GRAND THEFT FROM A BUILDING'\n",
      " 'BURGLARY OF RESIDENCE, ATTEMPTED FORCIBLE ENTRY'\n",
      " 'PETTY THEFT OF PROPERTY' 'BURGLARY OF APARTMENT HOUSE, UNLAWFUL ENTRY'\n",
      " 'BURGLARY,STORE UNDER CONSTRUCTION, UNLAWFUL ENTRY'\n",
      " 'GRAND THEFT SHOPLIFTING'\n",
      " 'STOLEN PROPERTY, POSSESSION WITH KNOWLEDGE, RECEIVING'\n",
      " 'BURGLARY OF HOTEL ROOM, UNLAWFUL ENTRY'\n",
      " 'BURGLARY,BLDG. UNDER CONSTRUCTION, UNLAWFUL ENTRY' 'STOLEN TRUCK'\n",
      " 'BURGLARY, HOT PROWL, UNLAWFUL ENTRY'\n",
      " 'BURGLARY, HOT PROWL, ATTEMPTED FORCIBLE ENTRY'\n",
      " 'BURGLARY OF APARTMENT HOUSE, FORCIBLE ENTRY'\n",
      " 'BURGLARY OF RESIDENCE, FORCIBLE ENTRY' 'BURGLARY, UNLAWFUL ENTRY'\n",
      " 'THEFT OF ANIMALS (GENERAL)' 'PETTY THEFT BICYCLE' 'GRAND THEFT BICYCLE'\n",
      " 'ATTEMPTED THEFT OF A BICYCLE' 'ATTEMPTED GRAND THEFT PURSESNATCH'\n",
      " 'BURGLARY OF STORE, FORCIBLE ENTRY' 'THEFT OF COMPUTERS OR CELL PHONES'\n",
      " 'BURGLARY, HOT PROWL, FORCIBLE ENTRY'\n",
      " 'MALICIOUS MISCHIEF, BREAKING WINDOWS' 'BURGLARY, FORCIBLE ENTRY'\n",
      " 'GRAND THEFT PICKPOCKET'\n",
      " 'BURGLARY OF APARTMENT HOUSE, ATT FORCIBLE ENTRY'\n",
      " 'BURGLARY OF STORE, UNLAWFUL ENTRY' 'PETTY THEFT FROM UNLOCKED AUTO'\n",
      " 'BURGLARY OF RESIDENCE, UNLAWFUL ENTRY'\n",
      " 'BURGLARY OF FLAT, UNLAWFUL ENTRY'\n",
      " 'BURGLARY,STORE UNDER CONSTRUCTION, FORCIBLE ENTRY' 'ARSON OF A VEHICLE'\n",
      " 'BURGLARY, VEHICLE, ATT. (ARREST MADE)' 'MALICIOUS MISCHIEF, GRAFFITI'\n",
      " 'VANDALISM OR GRAFFITI TOOLS, POSSESSION'\n",
      " 'THEFT FROM MERCHANT OR LIBRARY' 'ATTEMPTED THEFT FROM A BUILDING'\n",
      " 'THEFT OF CHECKS OR CREDIT CARDS' 'ARSON'\n",
      " 'MALICIOUS MISCHIEF, ADULT SUSPECT'\n",
      " 'BURGLARY OF WAREHOUSE, FORCIBLE ENTRY'\n",
      " 'MALICIOUS MISCHIEF, TIRE SLASHING' 'ATTEMPTED SHOPLIFTING'\n",
      " 'LOST PROPERTY, PETTY THEFT' 'ATTEMPTED THEFT FROM UNLOCKED VEHICLE'\n",
      " 'THEFT, GRAND, OF FIREARM' 'ATTEMPTED ARSON' 'GRAND THEFT AUTO STRIP'\n",
      " 'STOLEN MISCELLANEOUS VEHICLE'\n",
      " 'BURGLARY,BLDG. UNDER CONSTRUCTION, FORCIBLE ENTRY'\n",
      " 'ATTEMPTED STOLEN VEHICLE' 'BURGLARY, ATTEMPTED FORCIBLE ENTRY'\n",
      " 'ATTEMPTED GRAND THEFT FROM PERSON' 'THEFT, DRUNK ROLL, <$50'\n",
      " 'BURGLARY,RESIDENCE UNDER CONSTRT, FORCIBLE ENTRY'\n",
      " 'BURGLARY OF HOTEL ROOM, FORCIBLE ENTRY' 'PETTY THEFT AUTO STRIP'\n",
      " 'ATTEMPTED PETTY THEFT OF PROPERTY' 'BURGLARY OF FLAT, FORCIBLE ENTRY'\n",
      " 'MALICIOUS MISCHIEF, JUVENILE SUSPECT' 'GRAND THEFT PURSESNATCH'\n",
      " 'EMBEZZLEMENT FROM DEPENDENT OR ELDER ADULT BY CARETAKER'\n",
      " 'BURGLARY,RESIDENCE UNDER CONSTRT, UNLAWFUL ENTRY' 'AUTO, GRAND THEFT OF'\n",
      " 'STOLEN CHECKS, POSSESSION' 'FIRE, UNLAWFULLY CAUSING'\n",
      " 'ARSON OF AN INHABITED DWELLING'\n",
      " 'BURGLARY,STORE UNDER CONSTRUCTION, ATT. FORCIBLE' 'STOLEN TRAILER'\n",
      " 'THEFT, DRUNK ROLL, $50-$200'\n",
      " 'ELECTRICAL  OR GAS LINES, INTERFERING WITH' 'LOST PROPERTY, GRAND THEFT'\n",
      " 'LICENSE PLATE OR TAB, THEFT OF' 'THEFT OF UTILITY SERVICES'\n",
      " 'STOLEN ACCESS CARD, POSSESSION'\n",
      " 'BURGLARY,APT UNDER CONSTRUCTION, UNLAWFUL ENTRY'\n",
      " 'MALICIOUS MISCHIEF, STREET CARS/BUSES' 'DAMAGE TO PARKING METERS'\n",
      " 'THEFT, BICYCLE, <$50, SERIAL NUMBER KNOWN'\n",
      " 'BURGLARY OF STORE, ATTEMPTED FORCIBLE ENTRY'\n",
      " 'AEROSOL CONTAINER; SALE, PURCHASE OR POSSESSION OF'\n",
      " 'THEFT, GRAND, BY FIDUCIARY, >$400 IN 12 MONTHS'\n",
      " 'BURGLARY,RESIDENCE UNDER CONSTRT, ATT. FORCIBLE'\n",
      " 'ARSON OF A COMMERCIAL BUILDING'\n",
      " 'STOLEN CELLULAR PHONE, NON-CLONED, POSSESSION'\n",
      " 'MALICIOUS MISCHIEF, BREAKING WINDOWS WITH BB GUN'\n",
      " 'STOLEN ELECTRONICS, POSSESSION'\n",
      " 'VANDALISM OR GRAFFITI ON OR WITHIN 100 FT OF HIGHWAY'\n",
      " 'ARSON OF A VACANT BUILDING'\n",
      " 'TRADE SECRETS, THEFT OR UNAUTHORIZED COPYING'\n",
      " 'PETTY THEFT COIN OPERATED MACHINE' 'GRAND THEFT BY PROSTITUTE'\n",
      " 'BURGLARY,HOTEL UNDER CONSTRUCTION, FORCIBLE ENTRY'\n",
      " 'BURGLARY OF FLAT, ATTEMPTED FORCIBLE ENTRY' 'DAMAGE TO MAIL BOX'\n",
      " 'PETTY THEFT WITH PRIOR'\n",
      " 'BURGLARY,FLAT UNDER CONSTRUCTION, FORCIBLE ENTRY'\n",
      " 'GRAFFITI ON GOVERNMENT VEHICLES OR PUBLIC TRANSPORTATION'\n",
      " 'BURGLARY,WAREHOUSE UNDER CONSTRT, FORCIBLE ENTRY'\n",
      " 'SAFE BURGLARY OF A HOTEL' 'THEFT OF WRITTEN INSTRUMENT'\n",
      " 'BURGLARY,APT UNDER CONSTRUCTION, FORCIBLE ENTRY'\n",
      " 'DAMAGE/DESTRUCTION OF MAIL' 'SAFE BURGLARY OF A STORE'\n",
      " 'MALICIOUS MISCHIEF, FICTITIOUS PHONE CALLS'\n",
      " 'PETTY THEFT MOTORCYCLE STRIP' 'THEFT, BOAT'\n",
      " 'BURGLARY OF WAREHOUSE, ATTEMPTED FORCIBLE ENTRY'\n",
      " 'BURGLARY OF WAREHOUSE, UNLAWFUL ENTRY' 'DAMAGE TO FIRE ALARM APPARATUS'\n",
      " 'THEFT, DRUNK ROLL, $200-$400' 'STOLEN COMPUTER, POSSESSION'\n",
      " 'THEFT, BICYCLE, <$50, NO SERIAL NUMBER' 'STOLEN BUS' 'SAFE BURGLARY'\n",
      " 'RECEIVING STOLEN PROPERTY'\n",
      " 'BURGLARY,FLAT UNDER CONSTRUCTION, UNLAWFUL ENTRY'\n",
      " 'BALLOONS, ELECTRICALLY CONDUCTIVE'\n",
      " 'BURGLARY,BLDG. UNDER CONSTRUCTION, ATT. FORCIBLE'\n",
      " 'GRAND THEFT MOTORCYCLE STRIP' 'SAFE BURGLARY OF A RESIDENCE'\n",
      " 'VEHICLE, RENTAL, FAILURE TO RETURN' 'DESTROYING JAIL PROPERTY-OVER $200'\n",
      " 'THEFT, DRUNK ROLL, >$400' 'THEFT, GRAND, AGRICULTURAL'\n",
      " 'ATTEMPTED GRAND THEFT PICKPOCKET' 'THEFT, ANIMAL, ATT.'\n",
      " 'THEFT OF TELECOMMUNICATION SERVICES, INCL. CLONE PHONE'\n",
      " 'ARSON OF A POLICE BUILDING' 'STOLEN METALS, RECEIVING'\n",
      " 'MALICIOUS MISCHIEF, BUILDING UNDER CONSTRUCTION'\n",
      " 'SAFE BURGLARY OF AN APARTMENT'\n",
      " 'BURGLARY,HOTEL UNDER CONSTRUCTION, UNLAWFUL ENTRY'\n",
      " 'RECOVERED VEHICLE - STOLEN OUTSIDE SF'\n",
      " 'VEHICLE, RECOVERED, CAMPER-HOUSE CAR-MOTOR HOME'\n",
      " 'VANDALISM WITH NOXIOUS CHEMICAL' 'VEHICLE, RECOVERED, AUTO'\n",
      " 'SAFE BURGLARY OF A WAREHOUSE' 'VEHICLE, RECOVERED, MOTORCYCLE'\n",
      " 'BURGLARY OF HOTEL ROOM, ATTEMPTED FORCIBLE ENTRY'\n",
      " 'GRAND THEFT COIN OPERATED MACHINE'\n",
      " 'ATTEMPTED THEFT COIN OPERATED MACHINE' 'ATTEMPTED AUTO STRIP'\n",
      " 'PETTY THEFT PHONE BOOTH'\n",
      " 'BURGLARY,FLAT UNDER CONSTRUCTION, ATT. FORCIBLE'\n",
      " 'VEHICLE, RECOVERED, OTHER VEHICLE' 'THEFT, DRUNK ROLL, ATT.'\n",
      " 'MALICIOUS MISCHIEF' 'VEHICLE, RECOVERED, MOBILE HOME-TRAILER'\n",
      " 'BURGLARY,APT UNDER CONSTRUCTION, ATT. FORCIBLE'\n",
      " 'BURGLARY,WAREHOUSE UNDER CONSTRT, UNLAWFUL ENTRY'\n",
      " 'SAFE BURGLARY OF A FLAT' 'ATTEMPTED MOTORCYCLE STRIP'\n",
      " 'ARSON OF A POLICE VEHICLE'\n",
      " 'SAFE BURGLARY OF A WAREHOUSE WITH EXPLOSIVES' 'TAMPERING WITH A VEHICLE'\n",
      " 'BURGLARY,WAREHOUSE UNDER CONSTRT, ATT. FORCIBLE'\n",
      " 'GRAND THEFT PHONE BOOTH' 'ATTEMPTED THEFT PHONE BOOTH'\n",
      " 'VEHICLE, RECOVERED, BUS'\n",
      " 'BURGLARY,HOTEL UNDER CONSTRUCTION, ATT. FORCIBLE'\n",
      " 'DESTROYING JAIL PROPERTY-$200 OR UNDER']\n"
     ]
    }
   ],
   "source": [
    "print(len(Property[\"Descript\"].unique()),\"\\n\")\n",
    "\n",
    "print(Property[\"Descript\"].unique())"
   ]
  },
  {
   "cell_type": "code",
   "execution_count": 122,
   "id": "5213e28c",
   "metadata": {},
   "outputs": [
    {
     "data": {
      "text/plain": [
       "(319352, 16)"
      ]
     },
     "execution_count": 122,
     "metadata": {},
     "output_type": "execute_result"
    }
   ],
   "source": [
    "Property.shape"
   ]
  },
  {
   "cell_type": "code",
   "execution_count": 123,
   "id": "a59a3c48",
   "metadata": {},
   "outputs": [
    {
     "name": "stdout",
     "output_type": "stream",
     "text": [
      "GRAND THEFT : (104322, 1)\n",
      "PETTY THEFT : (65801, 1)\n",
      "BURGLARY : (36755, 1)\n",
      "VANDALISM : (34070, 1)\n",
      "MISCHIEF : (44228, 1)\n",
      "RECOVERED : (18078, 1)\n",
      "THEFT : (174519,)\n",
      "ENTRY : (35480,)\n",
      "STOLEN : (49889,)\n",
      "LOST : (1963, 1)\n"
     ]
    }
   ],
   "source": [
    "print(\"GRAND THEFT :\",Property.loc[Property[\"Descript\"].str.contains(\"GRAND THEFT\", case=True ), [\"Descript\"]].shape )\n",
    "\n",
    "print(\"PETTY THEFT :\",Property.loc[Property[\"Descript\"].str.contains(\"PETTY THEFT\", case=True ), [\"Descript\"]].shape)\n",
    "\n",
    "print(\"BURGLARY :\",Property.loc[Property[\"Descript\"].str.contains(\"BURGLARY\", case=True ), [\"Descript\"]].shape)\n",
    "\n",
    "\n",
    "print(\"VANDALISM :\",Property.loc[Property[\"Descript\"].str.contains(\"VANDALISM\", case=True ),[\"Descript\"]].shape)\n",
    "\n",
    "print(\"MISCHIEF :\",Property.loc[Property[\"Descript\"].str.contains(\"MISCHIEF\", case=True ),[\"Descript\"]].shape)\n",
    "\n",
    "print(\"RECOVERED :\",Property.loc[Property[\"Descript\"].str.contains(\"RECOVERED\", case=True ),[\"Descript\"]].shape)\n",
    " \n",
    "print(\"THEFT :\",Property[Property[\"Descript\"].str.contains(\"THEFT\", case=True )][\"Descript\"].shape)\n",
    "\n",
    "\n",
    "print(\"ENTRY :\",Property[Property[\"Descript\"].str.contains(\"ENTRY\", case=True )][\"Descript\"].shape)\n",
    "\n",
    "print(\"STOLEN :\",Property[Property[\"Descript\"].str.contains(\"STOLEN\", case=True )][\"Descript\"].shape)\n",
    "print(\"LOST :\",Property.loc[Property[\"Descript\"].str.contains(\"LOST\", case=True ),[\"Descript\"]].shape)\n",
    "\n",
    " "
   ]
  },
  {
   "cell_type": "code",
   "execution_count": 124,
   "id": "6f98906c",
   "metadata": {},
   "outputs": [
    {
     "data": {
      "text/plain": [
       "GRAND THEFT FROM LOCKED AUTO                   60022\n",
       "STOLEN AUTOMOBILE                              26897\n",
       "PETTY THEFT FROM LOCKED AUTO                   19771\n",
       "MALICIOUS MISCHIEF, VANDALISM OF VEHICLES      17789\n",
       "PETTY THEFT OF PROPERTY                        16196\n",
       "MALICIOUS MISCHIEF, VANDALISM                  15957\n",
       "GRAND THEFT OF PROPERTY                        11010\n",
       "PETTY THEFT FROM A BUILDING                    10029\n",
       "PETTY THEFT SHOPLIFTING                         9571\n",
       "GRAND THEFT FROM A BUILDING                     9512\n",
       "STOLEN TRUCK                                    8591\n",
       "VEHICLE, RECOVERED, AUTO                        8199\n",
       "GRAND THEFT FROM PERSON                         7061\n",
       "GRAND THEFT PICKPOCKET                          5653\n",
       "BURGLARY OF APARTMENT HOUSE, UNLAWFUL ENTRY     5037\n",
       "MALICIOUS MISCHIEF, BREAKING WINDOWS            4983\n",
       "RECOVERED VEHICLE - STOLEN OUTSIDE SF           4533\n",
       "GRAND THEFT FROM UNLOCKED AUTO                  4096\n",
       "PETTY THEFT WITH PRIOR                          4082\n",
       "MALICIOUS MISCHIEF, GRAFFITI                    3766\n",
       "Name: Descript, dtype: int64"
      ]
     },
     "execution_count": 124,
     "metadata": {},
     "output_type": "execute_result"
    }
   ],
   "source": [
    "Property[\"Descript\"].value_counts().head(20)"
   ]
  },
  {
   "cell_type": "code",
   "execution_count": 125,
   "id": "52c9e159",
   "metadata": {},
   "outputs": [],
   "source": [
    "Property[\"Description\"] = Property[\"Descript\"].copy()\n",
    "\n",
    "Property.loc[Property[\"Descript\"].str.contains(\"GRAND THEFT\", case=True ), [\"Descript\"]] = \"GRAND_THEFT\"\n",
    "\n",
    "Property.loc[Property[\"Descript\"].str.contains(\"PETTY THEFT\", case=True ), [\"Descript\"]] = \"PETTY_THEFT\"\n",
    "\n",
    "Property.loc[Property[\"Descript\"].str.contains(\"BURGLARY\", case=True ), [\"Descript\"]] = \"BURGLARY\" # illegal entry of a building\n",
    "Property.loc[Property[\"Descript\"].str.contains(\"ENTRY\", case=True ), [\"Descript\"]] = \"BURGLARY\"\n",
    "\n",
    "\n",
    "Property.loc[Property[\"Descript\"].str.contains(\"VANDALISM\", case=True ),[\"Descript\"]] = \"VANDALISM\" # (action involving \n",
    "#                                                    deliberate destruction of or damage to public or private property.)\n",
    "\n",
    "Property.loc[Property[\"Descript\"].str.contains(\"MISCHIEF\", case=True ),[\"Descript\"]] = \"MISCHIEF\"\n",
    "\n",
    "Property.loc[Property[\"Descript\"].str.contains(\"RECOVERED\", case=True ),[\"Descript\"]] = \"RECOVERED\"\n",
    "\n",
    "Property.loc[Property[\"Descript\"].str.contains(\"STOLEN\", case=True ), [\"Descript\"]] = \"STOLEN/LOST\"\n",
    " \n",
    "Property.loc[Property[\"Descript\"].str.contains(\"LOST\", case=True ),[\"Descript\"]] = \"STOLEN/LOST\"\n"
   ]
  },
  {
   "cell_type": "code",
   "execution_count": 126,
   "id": "88c74f54",
   "metadata": {},
   "outputs": [],
   "source": [
    "#  To make the other category..\n",
    "\n",
    "Descript_cat = [\"GRAND_THEFT\", \"PETTY_THEFT\", \"BURGLARY\", \"VANDALISM\", \"MISCHIEF\", \"RECOVERED\", \"STOLEN/LOST\" ]\n",
    "\n",
    "def notx(x):\n",
    "    if x in Descript_cat:\n",
    "        return x\n",
    "    else:\n",
    "        return 'OTHERS_PROPERTY_CRIMES'"
   ]
  },
  {
   "cell_type": "code",
   "execution_count": 127,
   "id": "6b394d22",
   "metadata": {},
   "outputs": [],
   "source": [
    "Property[\"Descript\"] = Property[\"Descript\"].map(notx)"
   ]
  },
  {
   "cell_type": "code",
   "execution_count": 128,
   "id": "a7b5876b",
   "metadata": {},
   "outputs": [
    {
     "data": {
      "text/plain": [
       "GRAND_THEFT               104322\n",
       "PETTY_THEFT                65801\n",
       "STOLEN/LOST                43093\n",
       "BURGLARY                   36755\n",
       "VANDALISM                  34070\n",
       "RECOVERED                  18078\n",
       "MISCHIEF                   10482\n",
       "OTHERS_PROPERTY_CRIMES      6751\n",
       "Name: Descript, dtype: int64"
      ]
     },
     "execution_count": 128,
     "metadata": {},
     "output_type": "execute_result"
    }
   ],
   "source": [
    "Property[\"Descript\"].value_counts()"
   ]
  },
  {
   "cell_type": "code",
   "execution_count": null,
   "id": "c89b49af",
   "metadata": {},
   "outputs": [],
   "source": []
  },
  {
   "cell_type": "markdown",
   "id": "06aba446",
   "metadata": {},
   "source": [
    "### 6. Others"
   ]
  },
  {
   "cell_type": "code",
   "execution_count": 129,
   "id": "f2046ef5",
   "metadata": {},
   "outputs": [
    {
     "name": "stdout",
     "output_type": "stream",
     "text": [
      "284 \n",
      "\n",
      "['WARRANT ARREST' 'TRAFFIC VIOLATION ARREST' 'MISCELLANEOUS INVESTIGATION'\n",
      " 'FOUND PROPERTY' 'TRAFFIC VIOLATION'\n",
      " 'STAY AWAY OR COURT ORDER, NON-DV RELATED' 'LOST PROPERTY'\n",
      " 'CIVIL SIDEWALKS, CITATION' 'SUSPICIOUS PACKAGE'\n",
      " 'AIDED CASE, MENTAL DISTURBED' 'PROBATION VIOLATION'\n",
      " 'STAY AWAY ORDER VIOLATION, DV RELATED'\n",
      " 'DRIVERS LICENSE, SUSPENDED OR REVOKED' 'ENROUTE TO PAROLE OFFICER'\n",
      " 'ENROUTE TO OUTSIDE JURISDICTION'\n",
      " 'EXHIBITING DEADLY WEAPON IN A THREATING MANNER' 'RESISTING ARREST'\n",
      " 'AIDED CASE' 'LOST/STOLEN LICENSE PLATE'\n",
      " 'FRAUDULENT GAME OR TRICK, OBTAINING MONEY OR PROPERTY'\n",
      " 'RECKLESS DRIVING' 'VIOLATION OF RESTRAINING ORDER' 'TRAFFIC ACCIDENT'\n",
      " 'ENROUTE TO DEPARTMENT OF CORRECTIONS' 'VIOLATION OF MUNICIPAL CODE'\n",
      " 'PAROLE VIOLATION' 'AIDED CASE -PROPERTY FOR DESTRUCTION' 'RUNAWAY'\n",
      " 'HARASSING PHONE CALLS' 'INCIDENT ON SCHOOL GROUNDS'\n",
      " 'VIOLATION OF PARK CODE' 'POSSESSION OF BURGLARY TOOLS W/PRIORS'\n",
      " 'CONSPIRACY'\n",
      " 'RESTRAINING ORDER NOTIFICATION/SERVICE OF RESTRAINING ORDER'\n",
      " 'AIDED CASE, INJURED PERSON' 'DISCHARGE FIREARM AT AN INHABITED DWELLING'\n",
      " 'TAMPERING WITH A VEHICLE' 'AIDED CASE, SICK PERSON'\n",
      " 'VIOLATION OF MUNICIPAL POLICE CODE' 'FALSE PERSONATION' 'FIRE REPORT'\n",
      " 'DEATH REPORT, CAUSE UNKNOWN' 'POSSESSION OF BURGLARY TOOLS'\n",
      " 'LOCATED PROPERTY' 'POSS OF LOADED FIREARM' 'AIDED CASE, DOG BITE'\n",
      " 'PROBATION SEARCH' 'POSS OF FIREARM BY CONVICTED FELON/ADDICT/ALIEN'\n",
      " 'FIREARM, LOADED, IN VEHICLE, POSSESSION OR USE'\n",
      " 'CARRYING A CONCEALED WEAPON' 'MINOR WITHOUT PROPER PARENTAL CARE'\n",
      " 'FALSE PERSONATION TO RECEIVE MONEY OR PROPERTY'\n",
      " 'TRAFFIC COLLISION, HIT & RUN, INJURY' 'SEARCH WARRANT SERVICE'\n",
      " 'COURTESY REPORT' 'ENROUTE TO ADULT AUTHORITY'\n",
      " 'AMMUNITION, POSS. BY PROHIBITED PERSON' 'CASE CLOSURE'\n",
      " 'POSS OF PROHIBITED WEAPON' 'DISCHARGE FIREARM WITHIN CITY LIMITS'\n",
      " 'OBSCENE PHONE CALLS(S)'\n",
      " 'FIREARM, CARRYING LOADED WITH INTENT TO COMMIT FELONY'\n",
      " 'CIVIL SIDEWALKS, WARNING' 'DEATH REPORT, NATURAL CAUSES'\n",
      " 'LICENSE PLATE, FOUND' 'EVADING A POLICE OFFICER RECKLESSLY'\n",
      " 'DEFRAUDING TAXI DRIVER' 'PERMIT VIOLATION, POLICE (GENERAL)'\n",
      " 'FALSE EVIDENCE OF VEHICLE REGISTRATION' 'FALSE FIRE ALARM'\n",
      " 'DOG, STRAY OR VICIOUS' 'POSS OF TEAR GAS WEAPON'\n",
      " 'INJURY TO TELEGRAPH/TELEPHONE LINES'\n",
      " 'FLAMMABLE OR EXPLOSIVE DEVICE, POSSESSION'\n",
      " 'WEAPON, DEADLY, EXHIBITING TO RESIST ARREST'\n",
      " 'TRAFFIC COLLISION, HIT & RUN, PROPERTY DAMAGE'\n",
      " 'CIVIL SIDEWALKS, VIOLATION' 'POSSESSION OF AIR GUN'\n",
      " 'LICENSE PLATE, RECOVERED' 'TARASOFF REPORT'\n",
      " 'FAILURE TO REGISTER AS SEX OFFENDER' 'PROBATION VIOLATION, DV RELATED'\n",
      " 'DEATH, ACCIDENTAL' 'IMPOUNDED VEHICLE'\n",
      " 'VEHICLE ALARM CODE GRABBING DEVICE, POSSESS OR USE'\n",
      " 'CARRYING OF CONCEALED WEAPON BY CONVICTED FELON'\n",
      " 'OBSTRUCTIONS ON STREETS/SIDEWALKS'\n",
      " 'VIOLATION OF EMERGENCY PROTECTIVE ORDER' 'INDECENT EXPOSURE'\n",
      " 'VIOLATION OF STAY AWAY ORDER' 'MISCELLANEOUS STATE FELONY'\n",
      " 'PROPERTY FOR IDENTIFICATION' 'MISCELLANEOUS STATE MISDEMEANOR'\n",
      " 'TRUANT, HABITUAL' 'CRUELTY TO ANIMALS'\n",
      " 'LOITERING ABOUT SCHOOL/PLAYGROUND' 'SPEEDING' 'SCHOOL, PUBLIC, TRESPASS'\n",
      " 'ENROUTE TO U.S. MARSHALL' 'DRIVING, RECKLESS, WITH INJURY'\n",
      " 'WEAPON, DEADLY, CARRYING WITH INTENT TO COMMIT ASSAULT'\n",
      " 'OPEN CONTAINER OF ALCOHOL IN VEHICLE' 'ENROUTE TO PROBATION OFFICER'\n",
      " 'REMAINING ON CAMPUS WITHOUT CONSENT' 'SCHOOL PROPERTY, DISTURBANCE ON'\n",
      " 'WEAPON, POSSESS OR BRING OTHER ON SCHOOL GROUNDS'\n",
      " 'FALSE PERSONATION AND CHEAT CRIMES (GENERAL)' 'CURFEW VIOLATION'\n",
      " 'ARMOR PENETRATING AMMUNITION, POSSESSION'\n",
      " 'POST RELEASE COMMUNITY SUPERVISION'\n",
      " 'WEAPON, POSSESSING IN PUBLIC BUILDING OR OPEN MEETING' 'DESTITUTE MINOR'\n",
      " 'BEYOND PARENTAL CONTROL' 'FIREARMS, SEIZING AT SCENE OF DV'\n",
      " 'TURNED IN GUN' 'LOCATED EXPLOSIVE DEVICE' 'ANIMAL, FIGHTING'\n",
      " 'LOITERING WHILE CARRYING CONCEALED WEAPON'\n",
      " 'DANGER OF LEADING IMMORAL LIFE' 'DRIVES VEHICLE ALONG TRACK OF RAILROAD'\n",
      " 'PHONE CALLS, OBSCENE' 'VIOLATION OF FIRE CODE'\n",
      " 'PHONE CALLS IN VIOLATION OF DV COURT ORDER'\n",
      " 'FAILURE TO PROVIDE FOR CHILD'\n",
      " 'WEAPON, ASSAULT, POSSESSION, MANUFACTURE, OR SALE'\n",
      " 'VIN, ALTER OR REMOVE' 'EVADING A POLICE VEHICLE OR BICYCLE'\n",
      " 'PAROLE SEARCH' 'FIREARM, ARMED WHILE POSSESSING CONTROLLED SUBSTANCE'\n",
      " 'CONTRIBUTING TO THE DELINQUENCY OF MINOR' 'FALSE REPORT OF CRIME'\n",
      " 'MONEY, PROPERTY OR LABOR, FRAUDULENTLY OBTAINING'\n",
      " 'THROWING INJURIOUS SUBSTANCE ON HIGHWAY'\n",
      " 'TOBACCO PRODUCTS, SELLING OR FURNISHING TO MINOR'\n",
      " 'SWITCHBLADE KNIFE, POSSESSION'\n",
      " 'WEAPON, ASSAULT, REGISTRATION OR TRANSFER VIOLATION'\n",
      " 'VEHICLE, DISABLED PLACARD VIOLATION' 'POSSESSION OF CAUSTIC CHEMICAL'\n",
      " 'FIREARM, POSSESSION OF WHILE WEARING MASK'\n",
      " 'IMMORAL ACTS OR DRUNK IN PRESENCE OF CHILD'\n",
      " 'PUBLIC TRANSIT CRIMES - INFRACTIONS' 'EVADING PAYMENT OF RAILROAD FARE'\n",
      " 'SHELTER' 'INTOXICATED JUVENILE'\n",
      " 'POSSESSION OF ARTICLES WITH IDENTIFICATION REMOVE'\n",
      " 'CASH DISPENSING MACHINES (ATM), LOITERING PROHIBI'\n",
      " 'INDECENT EXPOSURE (JUVENILE VICTIM)'\n",
      " 'CHILDREN, ABANDONMENT & NEGLECT OF (GENERAL)' 'AUTO IMPOUNDED'\n",
      " 'INTERFERRING WITH A FIREMAN' 'THROWING SUBSTANCE AT VEHICLE'\n",
      " 'MINOR PURCHASING OR RECEIVING TOBACCO PRODUCT'\n",
      " 'VIOLATION OF FEDERAL STATUTE' 'OTHER OFFENSES AGAINST PUBLIC JUSTICE'\n",
      " 'PEDDLING WITHOUT A LICENSE' 'FAILURE TO HEED RED LIGHT AND SIREN'\n",
      " 'VIOLATION OF RESTRICTIONS ON A FIREARM TRANSFER'\n",
      " 'PERMIT VIOLATION, ENTERTAINMENT'\n",
      " 'INDECENT EXPOSURE WITH PRIOR CONVICTION'\n",
      " 'INTERFERRING WITH A POLICE OFFICER'\n",
      " 'COMPUTER SYSTEM, ACCESSING, COPYING, OR DAMAGING' 'ABANDONMENT OF CHILD'\n",
      " 'PLACING TRASH ON THE STREET' 'SPITTING ON SIDEWALK'\n",
      " 'ACTS AGAINST PUBLIC TRANSIT' 'HAZARDOUS MATERIALS, SPILL ON ROADWAY'\n",
      " 'OPERATING TAXI WITHOUT A PERMIT' 'FALSE REPORT OF BOMB'\n",
      " 'THROWING OBJECT AT COMMON CARRIER, PASSENGER OR FREIGHT'\n",
      " 'DUMPING OF OFFENSIVE MATTER' 'DEATH, NON-MANSLAUGHTER AUTO ACCIDENT'\n",
      " 'FIREARM WITH ALTERED IDENTIFICATION' 'TAMPERING WITH MARKS ON FIREARM'\n",
      " 'FIREARM POSSESSION IN SCHOOL ZONE' 'PERMIT VIOLATION, VALET PARKING'\n",
      " 'JUDGE/JUROR ACCEPTING A BRIBE'\n",
      " 'TRESPASSING OR LOITERING NEAR POSTED INDUSTRIAL PROPERTY'\n",
      " 'OBSTRUCTING PUBLIC THOROUGHFARE' 'CIVIL SIDEWALKS, BOOKING'\n",
      " 'WEARING MASK OR DISGUISE FOR UNLAWFUL PURPOSE'\n",
      " 'POSSESSION OF FIRECRACKERS'\n",
      " 'POSS OF DEADLY WEAPON WITH INTENT TO ASSAULT' 'AGGRESSIVE SOLICITING'\n",
      " 'HABITUAL TRUANT' 'BEGGING' 'ESCAPE OR ASSISTING ESCAPE'\n",
      " 'TAKING CONTRABAND INTO A REFORMATORY' 'UNLAWFUL ASSEMBLY'\n",
      " 'DISRUPTS SCHOOL ACTIVITIES' 'PHONE CALLS, HARASSING, TO 911' 'RIOT'\n",
      " 'DOG, BARKING' 'SOLICITING COMMISSION OF A CRIME'\n",
      " 'DOG OR CAT, ABANDONMENT OF' 'FIREARM, NEGLIGENT DISCHARGE'\n",
      " 'EVADING A POLICE OFFICER, INJURY OR DEATH'\n",
      " 'REFUSING TO DISPERSE UPON LAWFUL COMMAND' 'INCITING TO RIOT'\n",
      " 'DESTRUCTION OF PROPERTY WITH EXPLOSIVES'\n",
      " 'FIREWORKS, THROW AT PERSON OR DISCHARGE IN CROWD' 'DESERTION OF CHILD'\n",
      " 'LYNCHING BY RIOT' 'PEEPING TOM' 'DEATH REPORT, IN CUSTODY' 'ABORTION'\n",
      " 'AID OR HARBOR FELON' 'LOITERING'\n",
      " 'ANIMAL, WITHOUT PROPER CARE OR ATTENTION' 'LICENSE PLATE, STOLEN'\n",
      " 'POSSESSION OF EXPLOSIVE DEVICE'\n",
      " 'WEAPON, TAKING OR ATTEMPTING TO TAKE FROM PEACE OFFICER'\n",
      " 'SCALPING TICKETS' 'FOOD STAMPS, MISUSE OF'\n",
      " 'INSURED PROPERTY, DESTRUCTION TO DEFRAUD INSURER'\n",
      " 'DEMONSTRATION, VIDEO EVIDENCE, MISC. INVESTIGATION'\n",
      " 'MASSAGE ESTABLISHMENT PERMIT VIOLATION'\n",
      " 'DISCHARGING OFFENSIVE OR INJURIOUS SUBSTANCE IN PUBLIC AREA'\n",
      " 'LOITERS AROUND PUBLIC TOILET FOR LEWD ACT'\n",
      " 'VIOLATION OF CIVIL GANG INJUNCTION' 'PERMIT VIOLATION, SIDEWALK SALES'\n",
      " 'SELLING/DISCHARGING OF FIRECRACKERS'\n",
      " 'ADVERTISING DISTRIBUTORS PERMIT VIOLATION'\n",
      " 'HAZARDOUS MATERIALS, DUMPING IN UNAUTHORIZED LOCATN'\n",
      " 'RESCUING PRISONER FROM LAWFUL CUSTODY'\n",
      " 'ILLEGAL TRANSPORTAION OF EXPLOSIVES'\n",
      " 'VIOLATION OF CALIF UNEMPLOYMENT INSURANCE ACT'\n",
      " 'HAZARDOUS SUBSTANCES, DEPOSITING' 'ACCIDENTAL SHOOTING'\n",
      " 'SCHOOL GROUNDS, ENTRY BY SEX OFFENDER' 'POSS OF FIREARM SILENCER'\n",
      " 'ESCAPEE, JUVENILE' 'TAMPERING WITH MAIL'\n",
      " 'SELLING RESTRICTED GLUE TO JUVENILES' \"MEGAN'S LAW NOTIFICATION\"\n",
      " 'FORTUNE TELLING'\n",
      " 'SCHOOL STUDENT OR EMPLOYEE ENTERING  CAMPUS AFTER SUSPENSION OR DISMISSAL'\n",
      " 'HEATING VIOLATION  APT/HOTEL' 'VIN SWITCH'\n",
      " 'HAZARDOUS MATERIALS, DUMP OIL INTO SEWERS'\n",
      " 'BATHROOM HOLE, LOOKING THROUGH' 'OPERATING WITHOUT DANCEHALL PERMIT'\n",
      " 'GUIDE DOG, INTERFERING WITH' 'LODGING IN PARK' 'ESCAPES'\n",
      " 'DRIVING, DRAG RACING' 'PERJURY'\n",
      " 'LOUDSPEAKER OR SOUND TRUCK PERMIT VIOLATION'\n",
      " 'DRUG OFFENDER, PRESENCE  NEAR SCHOOL GROUNDS' 'MISPLACED VEHICLE'\n",
      " 'ESCAPE FROM HOSPITAL WITH FORCE' 'POSSESSION OF MACHINE GUN'\n",
      " 'COMMISSION OF FELONY WHILE ARMED'\n",
      " 'DESTRUCTIVE DEVICE, POSSESSION OF MATERIALS' 'JUVENILE PAROLE VIOLATOR'\n",
      " 'HAZARDOUS MATERIALS, DUMPING IN UNAUTHORIZED LOCATION'\n",
      " 'OBSTRUCTING HEALTH FACILITY, PLACE OF WORSHIP, OR SCHOOL'\n",
      " 'POLICE BROADCAST, INTERCEPTION TO COMMIT CRIME'\n",
      " 'DISPLAY & SALE OF SPRAY PAINT & MARKER PENS'\n",
      " 'HAZARDOUS MATERIALS,  DUMP ANY SUBSTANCE INTO WATER'\n",
      " 'DOG, FIGHTING;  OWNING, FIGHTING, OR ATTENDING FIGHT'\n",
      " 'SOLICITING MINOR TO COMMIT FELONY' 'POISONING ANIMALS'\n",
      " 'WEARING THE APPAREL OF OPPOSITE SEX TO DECEIVE'\n",
      " 'HAZARDOUS MATERIALS, SPILL LOAD'\n",
      " 'HAZARDOUS MATERIALS, FAILURE TO COMPLY W/REGULATIONS'\n",
      " 'VIOLATION OF STATE LABOR CODE' 'YOUTH COURT' 'ESCAPE FROM JAIL'\n",
      " 'PUSH-CART PEDDLER PERMIT VIOLATION' 'POSS OF FIRE BOMB'\n",
      " 'FAILURE TO PROVIDE FOR PARENTS' 'SALE OF SATELLITE TELEPHONE NUMBER'\n",
      " 'SNIPER SCOPE, POSSESSION OF' 'ESCAPE OF PRISONER WHILE HOSPITALIZED'\n",
      " 'INJURY TO RAILROADS/RAILROAD BRIDGES' 'OPERATING WITHOUT CABARET PERMIT'\n",
      " 'AFFIXING ADVERTISMENTS TO POLES' 'ACCIDENTAL BURNS'\n",
      " 'CONCEALMENT/REMOVAL OF CHILD WITHOUT CONSENT'\n",
      " 'ILLEGAL CHARITABLE SOLICITATIONS' 'OVERCHARGING TAXI FARE'\n",
      " 'UNKNOWN COMPLAINT' 'UNAUTHORIZED USE OF LOUD SPEAKERS'\n",
      " 'REFUSAL TO IDENTIFY']\n"
     ]
    }
   ],
   "source": [
    "print(len(Others[\"Descript\"].unique()),\"\\n\")\n",
    "print(Others[\"Descript\"].unique())"
   ]
  },
  {
   "cell_type": "code",
   "execution_count": 130,
   "id": "8df3b1a6",
   "metadata": {},
   "outputs": [
    {
     "data": {
      "text/plain": [
       "(272923, 16)"
      ]
     },
     "execution_count": 130,
     "metadata": {},
     "output_type": "execute_result"
    }
   ],
   "source": [
    "Others.shape"
   ]
  },
  {
   "cell_type": "code",
   "execution_count": 131,
   "id": "de6d7f1d",
   "metadata": {},
   "outputs": [
    {
     "data": {
      "text/plain": [
       "LOST PROPERTY                                     31729\n",
       "DRIVERS LICENSE, SUSPENDED OR REVOKED             26839\n",
       "WARRANT ARREST                                    23754\n",
       "AIDED CASE, MENTAL DISTURBED                      21497\n",
       "TRAFFIC VIOLATION                                 16471\n",
       "FOUND PROPERTY                                    12146\n",
       "ENROUTE TO OUTSIDE JURISDICTION                   11470\n",
       "RESISTING ARREST                                   8983\n",
       "MISCELLANEOUS INVESTIGATION                        8389\n",
       "PROBATION VIOLATION                                8016\n",
       "LOST/STOLEN LICENSE PLATE                          6424\n",
       "VIOLATION OF RESTRAINING ORDER                     5816\n",
       "AIDED CASE                                         5419\n",
       "PAROLE VIOLATION                                   5119\n",
       "TRAFFIC VIOLATION ARREST                           5051\n",
       "DEATH REPORT, CAUSE UNKNOWN                        4207\n",
       "ENROUTE TO DEPARTMENT OF CORRECTIONS               3247\n",
       "CONSPIRACY                                         3114\n",
       "OBSCENE PHONE CALLS(S)                             2492\n",
       "FALSE PERSONATION TO RECEIVE MONEY OR PROPERTY     2339\n",
       "Name: Descript, dtype: int64"
      ]
     },
     "execution_count": 131,
     "metadata": {},
     "output_type": "execute_result"
    }
   ],
   "source": [
    "Others[\"Descript\"].value_counts().head(20)"
   ]
  },
  {
   "cell_type": "code",
   "execution_count": 132,
   "id": "45907d64",
   "metadata": {},
   "outputs": [
    {
     "name": "stdout",
     "output_type": "stream",
     "text": [
      "LICENSE : (34112, 1)\n",
      "PERMIT : (1260, 1)\n",
      "CODE : (4677, 1)\n",
      "ACCESSING : (37, 1)\n",
      "ANIMAL : (158, 1)\n",
      "DOG : (1400,)\n",
      "CONSPIRACY : (3114, 1)\n",
      "VIOLATION : (47207, 1)\n",
      "DEATH : (5264, 1)\n",
      "FIREARM : (4002, 1)\n",
      "FALSE : (5751,)\n",
      "BURGLARY : (2201, 1)\n",
      "RUNAWAY : (1946, 1)\n",
      "FRAUD : (1212,)\n",
      "CRIME : (385, 1)\n",
      "CRIMES : (238, 1)\n",
      "EVIDENCE : (1238, 1)\n",
      "OFFENSIVE : (67, 1)\n",
      "COMPLAINT : (237, 1)\n",
      "CHILDREN : (85, 1)\n",
      "CHILD : (383,)\n",
      "SEX : (690,)\n",
      "ASSAULT : (392,)\n",
      "SCHOOL : (534, 1)\n",
      "HARASSING : (2201, 1)\n",
      "VEHICLE : (2834, 1)\n",
      "DRIVING : (400, 1)\n",
      "PHONE : (5169, 1)\n",
      "ARREST : (37816, 1)\n",
      "CASE: (32577, 1)\n",
      "TRAFFIC VIOLATION  : (21522, 1)\n",
      "FOUND PROPERTY  : (12146, 1)\n",
      "LOST PROPERTY : (31729,)\n",
      "ENROUTE  : (18135, 1)\n",
      "MISCELLANEOUS : (10513, 1)\n",
      "LOST : (38153, 1)\n",
      "STOLEN : (6453, 1)\n"
     ]
    }
   ],
   "source": [
    "\n",
    "print(\"LICENSE :\",Others.loc[Others[\"Descript\"].str.contains(\"LICENSE\", case=True ),[\"Descript\"]].shape)\n",
    "print(\"PERMIT :\",Others.loc[Others[\"Descript\"].str.contains(\"PERMIT\", case=True ),[\"Descript\"]].shape)\n",
    "\n",
    "print(\"CODE :\",Others.loc[Others[\"Descript\"].str.contains(\"CODE\", case=True ), [\"Descript\"]].shape )\n",
    "print(\"ACCESSING :\",Others.loc[Others[\"Descript\"].str.contains(\"ACCESSING\", case=True ),[\"Descript\"]].shape)\n",
    " \n",
    "print(\"ANIMAL :\",Others.loc[Others[\"Descript\"].str.contains(\"ANIMAL\", case=True ),[\"Descript\"]].shape)\n",
    "print(\"DOG :\",Others[Others[\"Descript\"].str.contains(\"DOG\", case=True )][\"Descript\"].shape)\n",
    "\n",
    "print(\"CONSPIRACY :\",Others.loc[Others[\"Descript\"].str.contains(\"CONSPIRACY\", case=True ),[\"Descript\"]].shape)\n",
    "\n",
    "print(\"VIOLATION :\",Others.loc[Others[\"Descript\"].str.contains(\"VIOLATION\", case=True ),[\"Descript\"]].shape)\n",
    " \n",
    "print(\"DEATH :\",Others.loc[Others[\"Descript\"].str.contains(\"DEATH\", case=True ),[\"Descript\"]].shape)\n",
    "\n",
    "\n",
    "print(\"FIREARM :\",Others.loc[Others[\"Descript\"].str.contains(\"FIREARM\", case=True ),[\"Descript\"]].shape)\n",
    "\n",
    "print(\"FALSE :\",Others[Others[\"Descript\"].str.contains(\"FALSE\", case=True )][\"Descript\"].shape)\n",
    "\n",
    "print(\"BURGLARY :\",Others.loc[Others[\"Descript\"].str.contains(\"BURGLARY\", case=True ), [\"Descript\"]].shape)\n",
    "\n",
    "print(\"RUNAWAY :\",Others.loc[Others[\"Descript\"].str.contains(\"RUNAWAY\", case=True ),[\"Descript\"]].shape)\n",
    "\n",
    "\n",
    "print(\"FRAUD :\",Others[Others[\"Descript\"].str.contains(\"FRAUD\", case=True )][\"Descript\"].shape) \n",
    "print(\"CRIME :\",Others.loc[Others[\"Descript\"].str.contains(\"CRIME\", case=True ),[\"Descript\"]].shape)\n",
    "print(\"CRIMES :\",Others.loc[Others[\"Descript\"].str.contains(\"CRIMES\", case=True ),[\"Descript\"]].shape)\n",
    "print(\"EVIDENCE :\",Others.loc[Others[\"Descript\"].str.contains(\"EVIDENCE\", case=True ),[\"Descript\"]].shape)\n",
    "print(\"OFFENSIVE :\",Others.loc[Others[\"Descript\"].str.contains(\"OFFENSIVE\", case=True ),[\"Descript\"]].shape)\n",
    "print(\"COMPLAINT :\",Others.loc[Others[\"Descript\"].str.contains(\"COMPLAINT\", case=True ), [\"Descript\"]].shape)\n",
    "\n",
    "print(\"CHILDREN :\",Others.loc[Others[\"Descript\"].str.contains(\"CHILDREN\", case=True ),[\"Descript\"]].shape)\n",
    "print(\"CHILD :\",Others[Others[\"Descript\"].str.contains(\"CHILD\", case=True )][\"Descript\"].shape)\n",
    "print(\"SEX :\",Others[Others[\"Descript\"].str.contains(\"SEX\", case=True )][\"Descript\"].shape)\n",
    "print(\"ASSAULT :\",Others[Others[\"Descript\"].str.contains(\"ASSAULT\", case=True )][\"Descript\"].shape)\n",
    "print(\"SCHOOL :\",Others.loc[Others[\"Descript\"].str.contains(\"SCHOOL\", case=True ), [\"Descript\"]].shape)\n",
    "print(\"HARASSING :\",Others.loc[Others[\"Descript\"].str.contains(\"HARASSING\", case=True ),[\"Descript\"]].shape)\n",
    "\n",
    " \n",
    "print(\"VEHICLE :\",Others.loc[Others[\"Descript\"].str.contains(\"VEHICLE\", case=True ),[\"Descript\"]].shape)\n",
    "print(\"DRIVING :\",Others.loc[Others[\"Descript\"].str.contains(\"DRIVING\", case=True ),[\"Descript\"]].shape)\n",
    "\n",
    "print(\"PHONE :\",Others.loc[Others[\"Descript\"].str.contains(\"PHONE\", case=True ),[\"Descript\"]].shape)\n",
    "\n",
    "\n",
    "print(\"ARREST :\",Others.loc[Others[\"Descript\"].str.contains(\"ARREST\", case=True ), [\"Descript\"]].shape )\n",
    "\n",
    "print(\"CASE:\",Others.loc[Others[\"Descript\"].str.contains(\"CASE\", case=True ), [\"Descript\"]].shape ) # (\"AIDED CASE, MENTAL DISTURBED\",AIDED CASE )\n",
    "\n",
    "print(\"TRAFFIC VIOLATION  :\",Others.loc[Others[\"Descript\"].str.contains(\"TRAFFIC VIOLATION\", case=True ), [\"Descript\"]].shape )\n",
    "\n",
    "print(\"FOUND PROPERTY  :\",Others.loc[Others[\"Descript\"].str.contains(\"FOUND PROPERTY\", case=True ), [\"Descript\"]].shape )\n",
    "print(\"LOST PROPERTY :\",Others[Others[\"Descript\"].str.contains(\"LOST PROPERTY\", case=True )][\"Descript\"].shape)\n",
    "\n",
    "print(\"ENROUTE  :\",Others.loc[Others[\"Descript\"].str.contains(\"ENROUTE\", case=True ), [\"Descript\"]].shape) # (\"ENROUTE TO DEPARTMENT OF CORRECTIONS\",\n",
    "#                                                                               ENROUTE TO OUTSIDE JURISDICTION )\n",
    "\n",
    "print(\"MISCELLANEOUS :\",Others.loc[Others[\"Descript\"].str.contains(\"MISCELLANEOUS\", case=True ),[\"Descript\"]].shape) # (\"MISCELLANEOUS INVESTIGATION\")\n",
    "print(\"LOST :\",Others.loc[Others[\"Descript\"].str.contains(\"LOST\", case=True ),[\"Descript\"]].shape)\n",
    "\n",
    "print(\"STOLEN :\",Others.loc[Others[\"Descript\"].str.contains(\"STOLEN\", case=True ),[\"Descript\"]].shape) "
   ]
  },
  {
   "cell_type": "code",
   "execution_count": null,
   "id": "89b583dc",
   "metadata": {},
   "outputs": [],
   "source": [
    " "
   ]
  },
  {
   "cell_type": "code",
   "execution_count": 133,
   "id": "c28e2b57",
   "metadata": {},
   "outputs": [],
   "source": [
    "Others[\"Description\"] = Others[\"Descript\"].copy()\n",
    "\n",
    "Others.loc[Others[\"Descript\"].str.contains(\"CODE\", case=True ), [\"Descript\"]] =  \"CYBER\"\n",
    "Others.loc[Others[\"Descript\"].str.contains(\"ACCESSING\", case=True ),[\"Descript\"]] = \"CYBER\"\n",
    "\n",
    "\n",
    "Others.loc[Others[\"Descript\"].str.contains(\"ANIMALS\", case=True ),[\"Descript\"]] = \"ANIMALS\"\n",
    "Others.loc[Others[\"Descript\"].str.contains(\"ANIMAL\", case=True ),[\"Descript\"]] = \"ANIMALS\"\n",
    "Others.loc[Others[\"Descript\"].str.contains(\"DOG\", case=True ),[\"Descript\"]] = \"ANIMALS\"\n",
    "\n",
    "Others.loc[Others[\"Descript\"].str.contains(\"CONSPIRACY\", case=True ),[\"Descript\"]] = \"CONSPIRACY\"\n",
    "\n",
    "Others.loc[Others[\"Descript\"].str.contains(\"BURGLARY\", case=True ), [\"Descript\"]] = \"BURGLARY\"\n",
    "Others.loc[Others[\"Descript\"].str.contains(\"RUNAWAY\", case=True ),[\"Descript\"]] = \"BURGLARY\"\n",
    "\n",
    "\n",
    "Others.loc[Others[\"Descript\"].str.contains(\"DEATH\", case=True ),[\"Descript\"]] = \"DEATH\"\n",
    "\n",
    "\n",
    "Others.loc[Others[\"Descript\"].str.contains(\"FIREARM\", case=True ),[\"Descript\"]] = \"FIREARM\"\n",
    "\n",
    "Others.loc[Others[\"Descript\"].str.contains(\"FALSE\", case=True ),[\"Descript\"]] = \"FALSE\"\n",
    "\n",
    "\n",
    "Others.loc[Others[\"Descript\"].str.contains(\"EVIDENCE\", case=True ),[\"Descript\"]] = \"CRIME\"\n",
    "Others.loc[Others[\"Descript\"].str.contains(\"CRIMES\", case=True ),[\"Descript\"]] = \"CRIME\"\n",
    "Others.loc[Others[\"Descript\"].str.contains(\"CRIME\", case=True ),[\"Descript\"]] = \"CRIME\"\n",
    "Others.loc[Others[\"Descript\"].str.contains(\"FRAUD\", case=True ),[\"Descript\"]] = \"CRIME\"\n",
    "Others.loc[Others[\"Descript\"].str.contains(\"OFFENSIVE\", case=True ),[\"Descript\"]] = \"CRIME\"\n",
    "Others.loc[Others[\"Descript\"].str.contains(\"COMPLAINT\", case=True ),[\"Descript\"]] = \"CRIME\"\n",
    "\n",
    "Others.loc[Others[\"Descript\"].str.contains(\"CHILDREN\", case=True ),[\"Descript\"]] = \"HARASSING\"\n",
    "Others.loc[Others[\"Descript\"].str.contains(\"CHILD\", case=True ),[\"Descript\"]] = \"HARASSING\"\n",
    "Others.loc[Others[\"Descript\"].str.contains(\"SEX\", case=True ),[\"Descript\"]] = \"HARASSING\"\n",
    "Others.loc[Others[\"Descript\"].str.contains(\"ASSAULT\", case=True ),[\"Descript\"]] = \"HARASSING\"\n",
    "Others.loc[Others[\"Descript\"].str.contains(\"SCHOOL\", case=True ), [\"Descript\"]] = \"HARASSING\"\n",
    "Others.loc[Others[\"Descript\"].str.contains(\"HARASSING\", case=True ),[\"Descript\"]] = \"HARASSING\"\n",
    " \n",
    "Others.loc[Others[\"Descript\"].str.contains(\"PHONE\", case=True ),[\"Descript\"]] = \"PHONE\"\n",
    "\n",
    "Others.loc[Others[\"Descript\"].str.contains(\"TRAFFIC VIOLATION\", case=True ), [\"Descript\"]] = \"TRAFFIC_BREAKING\"\n",
    "Others.loc[Others[\"Descript\"].str.contains(\"VEHICLE\", case=True ),[\"Descript\"]] = \"TRAFFIC_BREAKING\"\n",
    "Others.loc[Others[\"Descript\"].str.contains(\"DRIVING\", case=True ),[\"Descript\"]] = \"TRAFFIC_BREAKING\"\n",
    "\n",
    "Others.loc[Others[\"Descript\"].str.contains(\"VIOLATION\", case=True ),[\"Descript\"]] = \"VIOLATION\"\n",
    "\n",
    "\n",
    "Others.loc[Others[\"Descript\"].str.contains(\"LICENSE\", case=True ),[\"Descript\"]] = \"LICENSE\"\n",
    "Others.loc[Others[\"Descript\"].str.contains(\"PERMIT\", case=True ),[\"Descript\"]] = \"LICENSE\"\n",
    "\n",
    "Others.loc[Others[\"Descript\"].str.contains(\"FOUND PROPERTY\", case=True ), [\"Descript\"]] = \"FOUND_THINGS\"\n",
    "Others.loc[Others[\"Descript\"].str.contains(\"PROPERTY\", case=True ), [\"Descript\"]] = \"STOLEN/LOST\" # LOST_PROPERTY\n",
    "\n",
    "Others.loc[Others[\"Descript\"].str.contains(\"ENROUTE\", case=True ), [\"Descript\"]] = \"ENROUTE\" # (\"ENROUTE TO DEPARTMENT OF CORRECTIONS\",\n",
    "#                                                                               ENROUTE TO OUTSIDE JURISDICTION )\n",
    "\n",
    "Others.loc[Others[\"Descript\"].str.contains(\"MISCELLANEOUS\", case=True ),[\"Descript\"]] = \"MISCELLANEOUS\" # (\"MISCELLANEOUS INVESTIGATION\")\n",
    "\n",
    "\n",
    "Others.loc[Others[\"Descript\"].str.contains(\"CASE\", case=True ), [\"Descript\"]] = \"CASE\" #(\"AIDED CASE, MENTAL DISTURBED\",\"AIDED CASE\" )\n",
    "\n",
    "\n",
    "Others.loc[Others[\"Descript\"].str.contains(\"ARREST\", case=True ), [\"Descript\"]] = \"ARREST\"\n"
   ]
  },
  {
   "cell_type": "code",
   "execution_count": null,
   "id": "7cc82948",
   "metadata": {},
   "outputs": [],
   "source": []
  },
  {
   "cell_type": "code",
   "execution_count": 134,
   "id": "b3416bcb",
   "metadata": {},
   "outputs": [
    {
     "data": {
      "text/plain": [
       "STOLEN/LOST                                 34576\n",
       "LICENSE                                     34372\n",
       "ARREST                                      32765\n",
       "CASE                                        30490\n",
       "TRAFFIC_BREAKING                            23300\n",
       "VIOLATION                                   20923\n",
       "ENROUTE                                     18135\n",
       "FOUND_THINGS                                12146\n",
       "MISCELLANEOUS                               10513\n",
       "FALSE                                        5751\n",
       "DEATH                                        5264\n",
       "CYBER                                        4714\n",
       "HARASSING                                    4180\n",
       "BURGLARY                                     4147\n",
       "FIREARM                                      4002\n",
       "CONSPIRACY                                   3114\n",
       "PHONE                                        2968\n",
       "STAY AWAY OR COURT ORDER, NON-DV RELATED     1653\n",
       "CRIME                                        1641\n",
       "ANIMALS                                      1558\n",
       "Name: Descript, dtype: int64"
      ]
     },
     "execution_count": 134,
     "metadata": {},
     "output_type": "execute_result"
    }
   ],
   "source": [
    "Others[\"Descript\"].value_counts().head(20)"
   ]
  },
  {
   "cell_type": "code",
   "execution_count": 135,
   "id": "6c2b6add",
   "metadata": {},
   "outputs": [],
   "source": [
    "#  To make the other category..\n",
    "\n",
    "Descript_cat = [\"CYBER\", \"ANIMALS\", \"CONSPIRACY\", \"DEATH\",\"FIREARM\", \"FALSE\", \"POSSESSION\", \"BURGLARY\", \"CRIME\", \"HARASSING\",\"PHONE\",\n",
    "                \"TRAFFIC_BREAKING\", \"VIOLATION\", \"LICENSE\", \"FOUND_THINGS\",\"ENROUTE\",\"ARREST\", \"CASE\", \"MISCELLANEOUS\", \"STOLEN/LOST\"]\n",
    "\n",
    "def notx(x):\n",
    "    if x in Descript_cat:\n",
    "        return x\n",
    "    else:\n",
    "        return 'OTHERS_CRIMES'"
   ]
  },
  {
   "cell_type": "code",
   "execution_count": 136,
   "id": "5f98adb8",
   "metadata": {},
   "outputs": [],
   "source": [
    "Others[\"Descript\"] = Others[\"Descript\"].map(notx)"
   ]
  },
  {
   "cell_type": "code",
   "execution_count": 137,
   "id": "72640628",
   "metadata": {},
   "outputs": [
    {
     "data": {
      "text/plain": [
       "STOLEN/LOST         34576\n",
       "LICENSE             34372\n",
       "ARREST              32765\n",
       "CASE                30490\n",
       "TRAFFIC_BREAKING    23300\n",
       "VIOLATION           20923\n",
       "OTHERS_CRIMES       18364\n",
       "ENROUTE             18135\n",
       "FOUND_THINGS        12146\n",
       "MISCELLANEOUS       10513\n",
       "FALSE                5751\n",
       "DEATH                5264\n",
       "CYBER                4714\n",
       "HARASSING            4180\n",
       "BURGLARY             4147\n",
       "FIREARM              4002\n",
       "CONSPIRACY           3114\n",
       "PHONE                2968\n",
       "CRIME                1641\n",
       "ANIMALS              1558\n",
       "Name: Descript, dtype: int64"
      ]
     },
     "execution_count": 137,
     "metadata": {},
     "output_type": "execute_result"
    }
   ],
   "source": [
    "Others[\"Descript\"].value_counts()"
   ]
  },
  {
   "cell_type": "code",
   "execution_count": 138,
   "id": "609e4e16",
   "metadata": {},
   "outputs": [
    {
     "data": {
      "text/plain": [
       "['Cyber', 'Organised', 'Consensual', 'Intimate', 'Property', 'Others']"
      ]
     },
     "execution_count": 138,
     "metadata": {},
     "output_type": "execute_result"
    }
   ],
   "source": [
    "data_list"
   ]
  },
  {
   "cell_type": "code",
   "execution_count": null,
   "id": "5385387c",
   "metadata": {},
   "outputs": [],
   "source": [
    " "
   ]
  },
  {
   "cell_type": "code",
   "execution_count": 139,
   "id": "04cbe5b5",
   "metadata": {},
   "outputs": [],
   "source": [
    "Cyber.drop([\"Dates\", \"DayOfWeek\", \"Description\",\"Address\"], axis =1, inplace = True)\n",
    "\n",
    "Organised.drop([\"Dates\", \"DayOfWeek\", \"Description\",\"Address\"], axis =1, inplace = True)\n",
    "\n",
    "Consensual.drop([\"Dates\", \"DayOfWeek\", \"Description\",\"Address\"], axis =1, inplace = True)\n",
    "\n",
    "Intimate.drop([\"Dates\", \"DayOfWeek\", \"Description\",\"Address\"], axis =1, inplace = True)\n",
    "\n",
    "Property.drop([\"Dates\", \"DayOfWeek\", \"Description\",\"Address\"], axis =1, inplace = True)\n",
    "\n",
    "Others.drop([\"Dates\", \"DayOfWeek\", \"Description\",\"Address\"], axis =1, inplace = True)\n"
   ]
  },
  {
   "cell_type": "code",
   "execution_count": 140,
   "id": "12e0a2f6",
   "metadata": {},
   "outputs": [],
   "source": [
    "import statsmodels.api as sm\n",
    "\n",
    "from sklearn.linear_model import LogisticRegression\n",
    "from sklearn.tree import DecisionTreeClassifier\n",
    "from sklearn.ensemble import RandomForestClassifier\n",
    "\n",
    "from sklearn.model_selection import train_test_split, GridSearchCV\n",
    "\n",
    "from sklearn.metrics import classification_report, confusion_matrix, roc_auc_score, accuracy_score, f1_score"
   ]
  },
  {
   "cell_type": "markdown",
   "id": "d4cf6db0",
   "metadata": {},
   "source": [
    "# Full Data Model"
   ]
  },
  {
   "cell_type": "code",
   "execution_count": 141,
   "id": "cb8c86ba",
   "metadata": {},
   "outputs": [],
   "source": [
    "data = pd.concat([Cyber, Organised, Consensual, Intimate, Property, Others], axis = 0).reset_index(drop= True)"
   ]
  },
  {
   "cell_type": "code",
   "execution_count": 142,
   "id": "a0927946",
   "metadata": {},
   "outputs": [
    {
     "data": {
      "text/plain": [
       "(878049, 13)"
      ]
     },
     "execution_count": 142,
     "metadata": {},
     "output_type": "execute_result"
    }
   ],
   "source": [
    "data.shape"
   ]
  },
  {
   "cell_type": "code",
   "execution_count": 143,
   "id": "88d31246",
   "metadata": {},
   "outputs": [
    {
     "data": {
      "text/plain": [
       "Category        0\n",
       "Descript        0\n",
       "PdDistrict      0\n",
       "Resolution      0\n",
       "X               0\n",
       "Y               0\n",
       "Year            0\n",
       "Quarter         0\n",
       "Month           0\n",
       "Day_of_month    0\n",
       "Day_of_week     0\n",
       "Hours           0\n",
       "State           0\n",
       "dtype: int64"
      ]
     },
     "execution_count": 143,
     "metadata": {},
     "output_type": "execute_result"
    }
   ],
   "source": [
    "data.isnull().sum()"
   ]
  },
  {
   "cell_type": "code",
   "execution_count": 144,
   "id": "c25a7a55",
   "metadata": {},
   "outputs": [
    {
     "data": {
      "text/html": [
       "<div>\n",
       "<style scoped>\n",
       "    .dataframe tbody tr th:only-of-type {\n",
       "        vertical-align: middle;\n",
       "    }\n",
       "\n",
       "    .dataframe tbody tr th {\n",
       "        vertical-align: top;\n",
       "    }\n",
       "\n",
       "    .dataframe thead th {\n",
       "        text-align: right;\n",
       "    }\n",
       "</style>\n",
       "<table border=\"1\" class=\"dataframe\">\n",
       "  <thead>\n",
       "    <tr style=\"text-align: right;\">\n",
       "      <th></th>\n",
       "      <th>X</th>\n",
       "      <th>Y</th>\n",
       "    </tr>\n",
       "  </thead>\n",
       "  <tbody>\n",
       "    <tr>\n",
       "      <th>0</th>\n",
       "      <td>0.074760</td>\n",
       "      <td>0.001639</td>\n",
       "    </tr>\n",
       "    <tr>\n",
       "      <th>1</th>\n",
       "      <td>0.319155</td>\n",
       "      <td>0.040855</td>\n",
       "    </tr>\n",
       "    <tr>\n",
       "      <th>2</th>\n",
       "      <td>0.236140</td>\n",
       "      <td>0.015919</td>\n",
       "    </tr>\n",
       "    <tr>\n",
       "      <th>3</th>\n",
       "      <td>0.236140</td>\n",
       "      <td>0.015919</td>\n",
       "    </tr>\n",
       "    <tr>\n",
       "      <th>4</th>\n",
       "      <td>0.230081</td>\n",
       "      <td>0.033571</td>\n",
       "    </tr>\n",
       "  </tbody>\n",
       "</table>\n",
       "</div>"
      ],
      "text/plain": [
       "          X         Y\n",
       "0  0.074760  0.001639\n",
       "1  0.319155  0.040855\n",
       "2  0.236140  0.015919\n",
       "3  0.236140  0.015919\n",
       "4  0.230081  0.033571"
      ]
     },
     "execution_count": 144,
     "metadata": {},
     "output_type": "execute_result"
    }
   ],
   "source": [
    "from sklearn.preprocessing import StandardScaler\n",
    "\n",
    "\n",
    "data_num = data.loc[:,[\"X\",\"Y\"]]\n",
    "\n",
    "\n",
    "sc=StandardScaler()\n",
    "data_num_scale = pd.DataFrame(sc.fit_transform(data_num), columns = data_num.columns).reset_index(drop=True)\n",
    " \n",
    "data_num_scale.head()"
   ]
  },
  {
   "cell_type": "code",
   "execution_count": 145,
   "id": "108a4f85",
   "metadata": {},
   "outputs": [
    {
     "data": {
      "image/png": "[encoded data removed]",
      "text/plain": [
       "<Figure size 432x288 with 2 Axes>"
      ]
     },
     "metadata": {
      "needs_background": "light"
     },
     "output_type": "display_data"
    }
   ],
   "source": [
    "sns.heatmap(data_num_scale.corr(),annot=True)\n",
    "plt.show()"
   ]
  },
  {
   "cell_type": "code",
   "execution_count": 146,
   "id": "dd08077f",
   "metadata": {},
   "outputs": [
    {
     "data": {
      "text/html": [
       "<div>\n",
       "<style scoped>\n",
       "    .dataframe tbody tr th:only-of-type {\n",
       "        vertical-align: middle;\n",
       "    }\n",
       "\n",
       "    .dataframe tbody tr th {\n",
       "        vertical-align: top;\n",
       "    }\n",
       "\n",
       "    .dataframe thead th {\n",
       "        text-align: right;\n",
       "    }\n",
       "</style>\n",
       "<table border=\"1\" class=\"dataframe\">\n",
       "  <thead>\n",
       "    <tr style=\"text-align: right;\">\n",
       "      <th></th>\n",
       "      <th>Descript_ANIMALS</th>\n",
       "      <th>Descript_ARREST</th>\n",
       "      <th>Descript_ASSAULT TO ROB BANK WITH A GUN</th>\n",
       "      <th>Descript_ATTEMPTED EXTORTION</th>\n",
       "      <th>Descript_ATTEMPTED KIDNAPPING, ADULT VICTIM</th>\n",
       "      <th>Descript_ATTEMPTED KIDNAPPING, JUVENILE VICTIM</th>\n",
       "      <th>Descript_BATTERY</th>\n",
       "      <th>Descript_BRIBERY OF EXECUTIVE OFFICER</th>\n",
       "      <th>Descript_BRIBERY OF WITNESSES</th>\n",
       "      <th>Descript_BURGLARY</th>\n",
       "      <th>...</th>\n",
       "      <th>Resolution_JUVENILE BOOKED</th>\n",
       "      <th>Resolution_JUVENILE CITED</th>\n",
       "      <th>Resolution_JUVENILE DIVERTED</th>\n",
       "      <th>Resolution_LOCATED</th>\n",
       "      <th>Resolution_NONE</th>\n",
       "      <th>Resolution_NOT PROSECUTED</th>\n",
       "      <th>Resolution_PROSECUTED BY OUTSIDE AGENCY</th>\n",
       "      <th>Resolution_PROSECUTED FOR LESSER OFFENSE</th>\n",
       "      <th>Resolution_PSYCHOPATHIC CASE</th>\n",
       "      <th>Resolution_UNFOUNDED</th>\n",
       "    </tr>\n",
       "  </thead>\n",
       "  <tbody>\n",
       "    <tr>\n",
       "      <th>0</th>\n",
       "      <td>0</td>\n",
       "      <td>0</td>\n",
       "      <td>0</td>\n",
       "      <td>0</td>\n",
       "      <td>0</td>\n",
       "      <td>0</td>\n",
       "      <td>0</td>\n",
       "      <td>0</td>\n",
       "      <td>0</td>\n",
       "      <td>0</td>\n",
       "      <td>...</td>\n",
       "      <td>0</td>\n",
       "      <td>0</td>\n",
       "      <td>0</td>\n",
       "      <td>0</td>\n",
       "      <td>1</td>\n",
       "      <td>0</td>\n",
       "      <td>0</td>\n",
       "      <td>0</td>\n",
       "      <td>0</td>\n",
       "      <td>0</td>\n",
       "    </tr>\n",
       "    <tr>\n",
       "      <th>1</th>\n",
       "      <td>0</td>\n",
       "      <td>0</td>\n",
       "      <td>0</td>\n",
       "      <td>0</td>\n",
       "      <td>0</td>\n",
       "      <td>0</td>\n",
       "      <td>0</td>\n",
       "      <td>0</td>\n",
       "      <td>0</td>\n",
       "      <td>0</td>\n",
       "      <td>...</td>\n",
       "      <td>0</td>\n",
       "      <td>0</td>\n",
       "      <td>0</td>\n",
       "      <td>0</td>\n",
       "      <td>1</td>\n",
       "      <td>0</td>\n",
       "      <td>0</td>\n",
       "      <td>0</td>\n",
       "      <td>0</td>\n",
       "      <td>0</td>\n",
       "    </tr>\n",
       "    <tr>\n",
       "      <th>2</th>\n",
       "      <td>0</td>\n",
       "      <td>0</td>\n",
       "      <td>0</td>\n",
       "      <td>0</td>\n",
       "      <td>0</td>\n",
       "      <td>0</td>\n",
       "      <td>0</td>\n",
       "      <td>0</td>\n",
       "      <td>0</td>\n",
       "      <td>0</td>\n",
       "      <td>...</td>\n",
       "      <td>0</td>\n",
       "      <td>0</td>\n",
       "      <td>0</td>\n",
       "      <td>0</td>\n",
       "      <td>0</td>\n",
       "      <td>0</td>\n",
       "      <td>0</td>\n",
       "      <td>0</td>\n",
       "      <td>0</td>\n",
       "      <td>0</td>\n",
       "    </tr>\n",
       "    <tr>\n",
       "      <th>3</th>\n",
       "      <td>0</td>\n",
       "      <td>0</td>\n",
       "      <td>0</td>\n",
       "      <td>0</td>\n",
       "      <td>0</td>\n",
       "      <td>0</td>\n",
       "      <td>0</td>\n",
       "      <td>0</td>\n",
       "      <td>0</td>\n",
       "      <td>0</td>\n",
       "      <td>...</td>\n",
       "      <td>0</td>\n",
       "      <td>0</td>\n",
       "      <td>0</td>\n",
       "      <td>0</td>\n",
       "      <td>0</td>\n",
       "      <td>0</td>\n",
       "      <td>0</td>\n",
       "      <td>0</td>\n",
       "      <td>0</td>\n",
       "      <td>0</td>\n",
       "    </tr>\n",
       "    <tr>\n",
       "      <th>4</th>\n",
       "      <td>0</td>\n",
       "      <td>0</td>\n",
       "      <td>0</td>\n",
       "      <td>0</td>\n",
       "      <td>0</td>\n",
       "      <td>0</td>\n",
       "      <td>0</td>\n",
       "      <td>0</td>\n",
       "      <td>0</td>\n",
       "      <td>0</td>\n",
       "      <td>...</td>\n",
       "      <td>0</td>\n",
       "      <td>0</td>\n",
       "      <td>0</td>\n",
       "      <td>0</td>\n",
       "      <td>0</td>\n",
       "      <td>0</td>\n",
       "      <td>0</td>\n",
       "      <td>0</td>\n",
       "      <td>0</td>\n",
       "      <td>0</td>\n",
       "    </tr>\n",
       "  </tbody>\n",
       "</table>\n",
       "<p>5 rows × 94 columns</p>\n",
       "</div>"
      ],
      "text/plain": [
       "   Descript_ANIMALS  Descript_ARREST  Descript_ASSAULT TO ROB BANK WITH A GUN  \\\n",
       "0                 0                0                                        0   \n",
       "1                 0                0                                        0   \n",
       "2                 0                0                                        0   \n",
       "3                 0                0                                        0   \n",
       "4                 0                0                                        0   \n",
       "\n",
       "   Descript_ATTEMPTED EXTORTION  Descript_ATTEMPTED KIDNAPPING, ADULT VICTIM  \\\n",
       "0                             0                                            0   \n",
       "1                             0                                            0   \n",
       "2                             0                                            0   \n",
       "3                             0                                            0   \n",
       "4                             0                                            0   \n",
       "\n",
       "   Descript_ATTEMPTED KIDNAPPING, JUVENILE VICTIM  Descript_BATTERY  \\\n",
       "0                                               0                 0   \n",
       "1                                               0                 0   \n",
       "2                                               0                 0   \n",
       "3                                               0                 0   \n",
       "4                                               0                 0   \n",
       "\n",
       "   Descript_BRIBERY OF EXECUTIVE OFFICER  Descript_BRIBERY OF WITNESSES  \\\n",
       "0                                      0                              0   \n",
       "1                                      0                              0   \n",
       "2                                      0                              0   \n",
       "3                                      0                              0   \n",
       "4                                      0                              0   \n",
       "\n",
       "   Descript_BURGLARY  ...  Resolution_JUVENILE BOOKED  \\\n",
       "0                  0  ...                           0   \n",
       "1                  0  ...                           0   \n",
       "2                  0  ...                           0   \n",
       "3                  0  ...                           0   \n",
       "4                  0  ...                           0   \n",
       "\n",
       "   Resolution_JUVENILE CITED  Resolution_JUVENILE DIVERTED  \\\n",
       "0                          0                             0   \n",
       "1                          0                             0   \n",
       "2                          0                             0   \n",
       "3                          0                             0   \n",
       "4                          0                             0   \n",
       "\n",
       "   Resolution_LOCATED  Resolution_NONE  Resolution_NOT PROSECUTED  \\\n",
       "0                   0                1                          0   \n",
       "1                   0                1                          0   \n",
       "2                   0                0                          0   \n",
       "3                   0                0                          0   \n",
       "4                   0                0                          0   \n",
       "\n",
       "   Resolution_PROSECUTED BY OUTSIDE AGENCY  \\\n",
       "0                                        0   \n",
       "1                                        0   \n",
       "2                                        0   \n",
       "3                                        0   \n",
       "4                                        0   \n",
       "\n",
       "   Resolution_PROSECUTED FOR LESSER OFFENSE  Resolution_PSYCHOPATHIC CASE  \\\n",
       "0                                         0                             0   \n",
       "1                                         0                             0   \n",
       "2                                         0                             0   \n",
       "3                                         0                             0   \n",
       "4                                         0                             0   \n",
       "\n",
       "   Resolution_UNFOUNDED  \n",
       "0                     0  \n",
       "1                     0  \n",
       "2                     0  \n",
       "3                     0  \n",
       "4                     0  \n",
       "\n",
       "[5 rows x 94 columns]"
      ]
     },
     "execution_count": 146,
     "metadata": {},
     "output_type": "execute_result"
    }
   ],
   "source": [
    "data_dummy  = pd.get_dummies(data.loc[:,[\"Descript\", \"PdDistrict\", \"Resolution\"]], drop_first=True).reset_index(drop=True)\n",
    "\n",
    "data_dummy.head()"
   ]
  },
  {
   "cell_type": "code",
   "execution_count": 147,
   "id": "2b04494c",
   "metadata": {},
   "outputs": [
    {
     "data": {
      "text/html": [
       "<div>\n",
       "<style scoped>\n",
       "    .dataframe tbody tr th:only-of-type {\n",
       "        vertical-align: middle;\n",
       "    }\n",
       "\n",
       "    .dataframe tbody tr th {\n",
       "        vertical-align: top;\n",
       "    }\n",
       "\n",
       "    .dataframe thead th {\n",
       "        text-align: right;\n",
       "    }\n",
       "</style>\n",
       "<table border=\"1\" class=\"dataframe\">\n",
       "  <thead>\n",
       "    <tr style=\"text-align: right;\">\n",
       "      <th></th>\n",
       "      <th>Year</th>\n",
       "      <th>Quarter</th>\n",
       "      <th>Month</th>\n",
       "      <th>Day_of_month</th>\n",
       "      <th>Day_of_week</th>\n",
       "      <th>Hours</th>\n",
       "      <th>State</th>\n",
       "    </tr>\n",
       "  </thead>\n",
       "  <tbody>\n",
       "    <tr>\n",
       "      <th>0</th>\n",
       "      <td>2015</td>\n",
       "      <td>2</td>\n",
       "      <td>5</td>\n",
       "      <td>13</td>\n",
       "      <td>2</td>\n",
       "      <td>19</td>\n",
       "      <td>20</td>\n",
       "    </tr>\n",
       "    <tr>\n",
       "      <th>1</th>\n",
       "      <td>2015</td>\n",
       "      <td>2</td>\n",
       "      <td>5</td>\n",
       "      <td>13</td>\n",
       "      <td>2</td>\n",
       "      <td>19</td>\n",
       "      <td>20</td>\n",
       "    </tr>\n",
       "  </tbody>\n",
       "</table>\n",
       "</div>"
      ],
      "text/plain": [
       "   Year  Quarter  Month  Day_of_month  Day_of_week  Hours  State\n",
       "0  2015        2      5            13            2     19     20\n",
       "1  2015        2      5            13            2     19     20"
      ]
     },
     "execution_count": 147,
     "metadata": {},
     "output_type": "execute_result"
    }
   ],
   "source": [
    "data_label = data.iloc[:,6:]\n",
    "\n",
    "data_label.head(2)"
   ]
  },
  {
   "cell_type": "code",
   "execution_count": 148,
   "id": "dff3975c",
   "metadata": {},
   "outputs": [],
   "source": [
    "x = pd.concat([data_num_scale, data_dummy, data_label], axis= 1)\n",
    "\n",
    "y =  data[\"Category\"]"
   ]
  },
  {
   "cell_type": "code",
   "execution_count": 149,
   "id": "b4dc73ba",
   "metadata": {},
   "outputs": [],
   "source": [
    "X_train, X_test, y_train, y_test = train_test_split(x,y, test_size=.3, \n",
    "                                                    stratify= y, \n",
    "                                                    random_state=10)"
   ]
  },
  {
   "cell_type": "markdown",
   "id": "eaf49afa",
   "metadata": {},
   "source": [
    "### Base Model"
   ]
  },
  {
   "cell_type": "code",
   "execution_count": 150,
   "id": "1814d5c9",
   "metadata": {},
   "outputs": [
    {
     "data": {
      "text/plain": [
       "0.25498927547785816"
      ]
     },
     "execution_count": 150,
     "metadata": {},
     "output_type": "execute_result"
    }
   ],
   "source": [
    "model = LogisticRegression()\n",
    "\n",
    "train = model.fit(X_train, y_train)\n",
    "\n",
    "pred = model.predict(X_test)\n",
    "model.score(X_test, y_test)"
   ]
  },
  {
   "cell_type": "markdown",
   "id": "e5e3f44c",
   "metadata": {},
   "source": [
    "### Decision Tree"
   ]
  },
  {
   "cell_type": "code",
   "execution_count": 151,
   "id": "2b2938b7",
   "metadata": {},
   "outputs": [
    {
     "data": {
      "text/plain": [
       "0.9080538314067156"
      ]
     },
     "execution_count": 151,
     "metadata": {},
     "output_type": "execute_result"
    }
   ],
   "source": [
    "tree = DecisionTreeClassifier()\n",
    "\n",
    "\n",
    "tree.fit(X_train, y_train)\n",
    "tree.predict(X_test)\n",
    "\n",
    "tree.score(X_test, y_test) # accuracy on test dataset"
   ]
  },
  {
   "cell_type": "code",
   "execution_count": 152,
   "id": "2bbf6a30",
   "metadata": {},
   "outputs": [
    {
     "data": {
      "text/plain": [
       "0.9978995629919595"
      ]
     },
     "execution_count": 152,
     "metadata": {},
     "output_type": "execute_result"
    }
   ],
   "source": [
    "tree.score(X_train, y_train) # accuracy on train dataset"
   ]
  },
  {
   "cell_type": "markdown",
   "id": "14bcc5a7",
   "metadata": {},
   "source": [
    "##### Important features"
   ]
  },
  {
   "cell_type": "code",
   "execution_count": 153,
   "id": "3925faad",
   "metadata": {},
   "outputs": [],
   "source": [
    "\n",
    "tree = DecisionTreeClassifier()\n",
    "\n",
    "# use fit() to fit the model on the train set\n",
    "tuned_model = tree.fit(X_train, y_train)\n",
    "\n",
    "# create a dataframe that stores the feature names and their importance\n",
    "important_features = pd.DataFrame({'Features': X_train.columns, \n",
    "                                   'Importance': tuned_model.feature_importances_})\n",
    "\n",
    "# sort the dataframe in the descending order according to the feature importance\n",
    "important_features = important_features.sort_values('Importance', ascending = False)"
   ]
  },
  {
   "cell_type": "code",
   "execution_count": 154,
   "id": "91da7585",
   "metadata": {},
   "outputs": [
    {
     "data": {
      "text/plain": [
       "Int64Index([34, 54, 102, 11, 69, 57, 15, 63, 64, 8, 1, 0, 62, 25, 48, 61, 3,\n",
       "            60, 33, 47],\n",
       "           dtype='int64')"
      ]
     },
     "execution_count": 154,
     "metadata": {},
     "output_type": "execute_result"
    }
   ],
   "source": [
    "important_features.head(20).index"
   ]
  },
  {
   "cell_type": "code",
   "execution_count": 155,
   "id": "2652e0ba",
   "metadata": {},
   "outputs": [],
   "source": [
    "important_feat  =important_features.head(20).index"
   ]
  },
  {
   "cell_type": "code",
   "execution_count": 156,
   "id": "4c64a484",
   "metadata": {},
   "outputs": [],
   "source": [
    "Xtrain = X_train.iloc[:,[34, 54, 102, 11, 69, 57, 15, 63, 64, 8, 1, 0, 62, 25, 48, 61, 3,\n",
    "            60, 33, 47]]\n",
    "\n",
    "Xtest = X_test.iloc[:,[34, 54, 102, 11, 69, 57, 15, 63, 64, 8, 1, 0, 62, 25, 48, 61, 3,\n",
    "            60, 33, 47]]"
   ]
  },
  {
   "cell_type": "code",
   "execution_count": 157,
   "id": "583c29d9",
   "metadata": {},
   "outputs": [
    {
     "data": {
      "text/plain": [
       "0.7854943719985574"
      ]
     },
     "execution_count": 157,
     "metadata": {},
     "output_type": "execute_result"
    }
   ],
   "source": [
    "tree = DecisionTreeClassifier()\n",
    "\n",
    "\n",
    "tree.fit(Xtrain, y_train)\n",
    "tree.predict(Xtest)\n",
    "\n",
    "tree.score(Xtest, y_test) # accuracy on test dataset"
   ]
  },
  {
   "cell_type": "code",
   "execution_count": 158,
   "id": "72271169",
   "metadata": {},
   "outputs": [
    {
     "data": {
      "text/plain": [
       "0.8572727834776469"
      ]
     },
     "execution_count": 158,
     "metadata": {},
     "output_type": "execute_result"
    }
   ],
   "source": [
    "tree.score(Xtrain, y_train) # accuracy on train dataset"
   ]
  },
  {
   "cell_type": "markdown",
   "id": "29c55d84",
   "metadata": {},
   "source": [
    "### RandomForest"
   ]
  },
  {
   "cell_type": "code",
   "execution_count": 159,
   "id": "e082f0f5",
   "metadata": {},
   "outputs": [
    {
     "data": {
      "text/plain": [
       "0.9299394491581725"
      ]
     },
     "execution_count": 159,
     "metadata": {},
     "output_type": "execute_result"
    }
   ],
   "source": [
    "rf  = RandomForestClassifier()\n",
    "\n",
    "rf.fit(X_train, y_train)\n",
    "pred = rf.predict(X_test)\n",
    "\n",
    "rf.score(X_test, y_test) # accuracy on test dataset"
   ]
  },
  {
   "cell_type": "code",
   "execution_count": 160,
   "id": "5969d4b2",
   "metadata": {},
   "outputs": [
    {
     "data": {
      "text/plain": [
       "0.9978995629919595"
      ]
     },
     "execution_count": 160,
     "metadata": {},
     "output_type": "execute_result"
    }
   ],
   "source": [
    "rf.score(X_train, y_train) # accuracy on train dataset"
   ]
  },
  {
   "cell_type": "markdown",
   "id": "f49f077e",
   "metadata": {},
   "source": [
    "##### important features:"
   ]
  },
  {
   "cell_type": "code",
   "execution_count": 161,
   "id": "3e83c06b",
   "metadata": {},
   "outputs": [],
   "source": [
    " # instantiate the 'RandomForestClassifier' \n",
    "# pass the 'random_state' to obtain the same samples for each time you run the code\n",
    "random_forest_tuned_model = RandomForestClassifier(criterion = 'entropy', random_state = 10)\n",
    "\n",
    "# use fit() to fit the model on the train set\n",
    "random_forest_tuned_model = random_forest_tuned_model.fit(X_train, y_train)\n",
    "\n",
    "# create a dataframe that stores the feature names and their importance\n",
    "important_features = pd.DataFrame({'Features': X_train.columns, \n",
    "                                   'Importance': random_forest_tuned_model.feature_importances_})\n",
    "\n",
    "# sort the dataframe in the descending order according to the feature importance\n",
    "important_features = important_features.sort_values('Importance', ascending = False)"
   ]
  },
  {
   "cell_type": "code",
   "execution_count": 162,
   "id": "19f52d50",
   "metadata": {},
   "outputs": [
    {
     "data": {
      "text/plain": [
       "Int64Index([102,  34,  63,  54,  11,  90,  69,  57,  64,  15,  61,   8,   3,\n",
       "             60,  25,  62,   1,  51,  48,   0,  43,  47,  80,  96,  89,  49,\n",
       "            101,  50,  36,  19],\n",
       "           dtype='int64')"
      ]
     },
     "execution_count": 162,
     "metadata": {},
     "output_type": "execute_result"
    }
   ],
   "source": [
    "important_features.head(30).index"
   ]
  },
  {
   "cell_type": "code",
   "execution_count": 163,
   "id": "4ef26ccf",
   "metadata": {},
   "outputs": [],
   "source": [
    "Xtrain = X_train.iloc[:,[102,  34,  63,  54,  11,  90,  69,  57,  64,  15,  61,   8,   3,\n",
    "             60,  25,  62,   1,  51,  48,   0,  43,  47,  80,  96,  89]]\n",
    "\n",
    "Xtest = X_test.iloc[:,[102,  34,  63,  54,  11,  90,  69,  57,  64,  15,  61,   8,   3,\n",
    "             60,  25,  62,   1,  51,  48,   0,  43,  47,  80,  96,  89]]"
   ]
  },
  {
   "cell_type": "code",
   "execution_count": 164,
   "id": "d949683d",
   "metadata": {},
   "outputs": [],
   "source": [
    " random_forest = RandomForestClassifier(random_state = 10)\n",
    "\n",
    "random_forest.fit(Xtrain, y_train)\n",
    "\n",
    "pred = random_forest.predict(Xtest)"
   ]
  },
  {
   "cell_type": "code",
   "execution_count": 165,
   "id": "8e5a84b1",
   "metadata": {},
   "outputs": [
    {
     "data": {
      "text/plain": [
       "0.8042594385285576"
      ]
     },
     "execution_count": 165,
     "metadata": {},
     "output_type": "execute_result"
    }
   ],
   "source": [
    "random_forest.score(Xtest, y_test) # accuracy on test dataset"
   ]
  },
  {
   "cell_type": "code",
   "execution_count": 166,
   "id": "35ca3918",
   "metadata": {},
   "outputs": [
    {
     "data": {
      "text/plain": [
       "0.946691852386949"
      ]
     },
     "execution_count": 166,
     "metadata": {},
     "output_type": "execute_result"
    }
   ],
   "source": [
    "random_forest.score(Xtrain, y_train) # accuracy on train dataset"
   ]
  },
  {
   "cell_type": "code",
   "execution_count": null,
   "id": "8f819a48",
   "metadata": {},
   "outputs": [],
   "source": []
  },
  {
   "cell_type": "markdown",
   "id": "1d4b6f9c",
   "metadata": {},
   "source": [
    "### Tune Parameters"
   ]
  },
  {
   "cell_type": "markdown",
   "id": "43cc6817",
   "metadata": {},
   "source": [
    "##### For RandomFroest"
   ]
  },
  {
   "cell_type": "code",
   "execution_count": 167,
   "id": "329a8950",
   "metadata": {},
   "outputs": [],
   "source": [
    "# tuned_paramaters = [{'criterion': ['entropy', 'gini'],\n",
    "#                      'n_estimators': [90, 100, 150, 200, 300, 500],\n",
    "#                      'max_depth': [10, 15, 20, 40, 80],\n",
    "#                      'min_samples_split': [2, 5, 50, 100, 150]}]\n",
    "  \n",
    "# random_forest_classification = RandomForestClassifier(random_state = 10)\n",
    "\n",
    "# rf_grid = GridSearchCV(estimator = random_forest_classification, \n",
    "#                        param_grid = tuned_paramaters, \n",
    "#                        cv = 3)\n",
    "\n",
    "\n",
    "# rf_model = rf_grid.fit(X_train, y_train)\n",
    "\n",
    "# print('Best parameters for random forest Classifier: ', rf_model.best_params_, '\\n')"
   ]
  },
  {
   "cell_type": "markdown",
   "id": "527eb7e0",
   "metadata": {},
   "source": [
    "##### For Decision Tree"
   ]
  },
  {
   "cell_type": "code",
   "execution_count": 168,
   "id": "9c15a9e4",
   "metadata": {},
   "outputs": [],
   "source": [
    "# # create a dictionary with hyperparameters and its values\n",
    "# # pass the criteria 'entropy' and 'gini' to the parameter, 'criterion' \n",
    "# # pass the range of values to 'max_depth' that assigns maximum depth of the tree\n",
    "# # pass the range of values to 'min_samples_split' that assigns minimum number of samples to split an internal node\n",
    "\n",
    "\n",
    "# tuned_paramaters = [{'criterion': ['entropy', 'gini'],\n",
    "#                      'max_depth': range(2, 500, 5),\n",
    "#                      'min_samples_split': range(2,25, 2)}]\n",
    " \n",
    "# # instantiate the 'DecisionTreeClassifier' \n",
    "# # pass the 'random_state' to obtain the same samples for each time you run the code\n",
    "\n",
    "\n",
    "# decision_tree_model = DecisionTreeClassifier(random_state = 10)\n",
    "\n",
    "# # use GridSearchCV() to find the optimal value of the hyperparameters\n",
    "# # estimator: pass the decision tree classifier model\n",
    "# # param_grid: pass the list 'tuned_parameters'\n",
    "# # cv: number of folds in k-fold i.e. here cv = 5\n",
    "\n",
    "\n",
    "# tree_grid = GridSearchCV(estimator = decision_tree_model, \n",
    "#                          param_grid = tuned_paramaters, \n",
    "#                          cv = 5)\n",
    "\n",
    "# # fit the model on X_train and y_train using fit()\n",
    "\n",
    "# tree_grid.fit(X_train, y_train)\n",
    "\n",
    "# # get the best parameters\n",
    "\n",
    "# print('Best parameters for Decision Tree Classifier: ', tree_grid.best_params_, '\\n')"
   ]
  },
  {
   "cell_type": "markdown",
   "id": "fa0f1387",
   "metadata": {},
   "source": [
    "###  Best feature after parameter tuning.."
   ]
  },
  {
   "cell_type": "code",
   "execution_count": 169,
   "id": "bd4b1ab9",
   "metadata": {},
   "outputs": [],
   "source": [
    "# #  Best feature after parameter tuning..\n",
    "\n",
    "# important_columns = list(important_features['Features'].iloc[:10])\n",
    "\n",
    "# random_forest_tuned_model = RandomForestClassifier(criterion = rf_model.best_params_['criterion'], \n",
    "#                                                    max_depth = rf_model.best_params_['max_depth'], \n",
    "#                                                    min_samples_split = rf_model.best_params_['min_samples_split'], \n",
    "#                                                    n_estimators = rf_model.best_params_['n_estimators'],\n",
    "#                                                    random_state = 10)\n",
    " \n",
    "# random_forest_tuned_model = random_forest_tuned_model.fit(X_train[important_columns], y_train)\n",
    " \n",
    "# y_pred = random_forest_tuned_model.predict(X_test[important_columns])"
   ]
  },
  {
   "cell_type": "code",
   "execution_count": null,
   "id": "b6380149",
   "metadata": {},
   "outputs": [],
   "source": []
  },
  {
   "cell_type": "code",
   "execution_count": null,
   "id": "ff463f11",
   "metadata": {},
   "outputs": [],
   "source": []
  }
 ],
 "metadata": {
  "kernelspec": {
   "display_name": "Python 3",
   "language": "python",
   "name": "python3"
  },
  "language_info": {
   "codemirror_mode": {
    "name": "ipython",
    "version": 3
   },
   "file_extension": ".py",
   "mimetype": "text/x-python",
   "name": "python",
   "nbconvert_exporter": "python",
   "pygments_lexer": "ipython3",
   "version": "3.8.8"
  }
 },
 "nbformat": 4,
 "nbformat_minor": 5
}
