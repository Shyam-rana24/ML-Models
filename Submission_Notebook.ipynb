{
 "cells": [
  {
   "cell_type": "markdown",
   "id": "15026c5a",
   "metadata": {},
   "source": [
    "## Importing Necessary Libraries"
   ]
  },
  {
   "cell_type": "code",
   "execution_count": 1,
   "id": "9c51994a",
   "metadata": {},
   "outputs": [],
   "source": [
    "import warnings\n",
    "warnings.simplefilter(\"ignore\")\n",
    "import numpy as np\n",
    "import pandas as pd\n",
    "import seaborn as sns\n",
    "import matplotlib.pyplot as plt"
   ]
  },
  {
   "cell_type": "code",
   "execution_count": 2,
   "id": "6961e89f",
   "metadata": {},
   "outputs": [],
   "source": [
    "pd.set_option(\"max_columns\", 33)\n",
    "pd.set_option(\"max_rows\", 50)"
   ]
  },
  {
   "cell_type": "markdown",
   "id": "3dc70246",
   "metadata": {},
   "source": [
    "## Train Dataset"
   ]
  },
  {
   "cell_type": "code",
   "execution_count": 3,
   "id": "d2f4273d",
   "metadata": {},
   "outputs": [],
   "source": [
    "train = pd.read_csv(\"Train_Set_TVS.csv\")"
   ]
  },
  {
   "cell_type": "code",
   "execution_count": 4,
   "id": "52774c43",
   "metadata": {},
   "outputs": [
    {
     "data": {
      "text/html": [
       "<div>\n",
       "<style scoped>\n",
       "    .dataframe tbody tr th:only-of-type {\n",
       "        vertical-align: middle;\n",
       "    }\n",
       "\n",
       "    .dataframe tbody tr th {\n",
       "        vertical-align: top;\n",
       "    }\n",
       "\n",
       "    .dataframe thead th {\n",
       "        text-align: right;\n",
       "    }\n",
       "</style>\n",
       "<table border=\"1\" class=\"dataframe\">\n",
       "  <thead>\n",
       "    <tr style=\"text-align: right;\">\n",
       "      <th></th>\n",
       "      <th>ID</th>\n",
       "      <th>Compensation</th>\n",
       "      <th>Vehicle_Status</th>\n",
       "      <th>Loan_amt</th>\n",
       "      <th>Annuity_amt</th>\n",
       "      <th>density_Ind</th>\n",
       "      <th>Job_Type</th>\n",
       "      <th>Default_hist</th>\n",
       "      <th>Prop_List</th>\n",
       "      <th>Home_Appliances</th>\n",
       "      <th>Region_Type</th>\n",
       "      <th>Credit_Inq</th>\n",
       "      <th>Education_det</th>\n",
       "      <th>Marital_Stat</th>\n",
       "      <th>Gen</th>\n",
       "      <th>Credit_Lnks</th>\n",
       "      <th>Experience</th>\n",
       "      <th>Income_Alt</th>\n",
       "      <th>Day_Process</th>\n",
       "      <th>Ph.No</th>\n",
       "      <th>Type_Loan</th>\n",
       "      <th>Dependents</th>\n",
       "      <th>Company_Rating</th>\n",
       "      <th>Region</th>\n",
       "      <th>Age</th>\n",
       "      <th>hour_Process</th>\n",
       "      <th>Addr_permanent</th>\n",
       "      <th>Permanent_Addr_tag</th>\n",
       "      <th>c1_rated</th>\n",
       "      <th>c2_rated</th>\n",
       "      <th>Contact_age</th>\n",
       "      <th>Product_bought</th>\n",
       "      <th>Default</th>\n",
       "    </tr>\n",
       "  </thead>\n",
       "  <tbody>\n",
       "    <tr>\n",
       "      <th>0</th>\n",
       "      <td>540071</td>\n",
       "      <td>801850.0</td>\n",
       "      <td>Y</td>\n",
       "      <td>658040.0</td>\n",
       "      <td>13816.52</td>\n",
       "      <td>0.0304</td>\n",
       "      <td>IT</td>\n",
       "      <td>ndf</td>\n",
       "      <td>Morethan_One</td>\n",
       "      <td>NaN</td>\n",
       "      <td>Metro</td>\n",
       "      <td>1</td>\n",
       "      <td>Grad</td>\n",
       "      <td>Married</td>\n",
       "      <td>F</td>\n",
       "      <td>1_to_3</td>\n",
       "      <td>0.9</td>\n",
       "      <td>Not_Specified</td>\n",
       "      <td>SAT</td>\n",
       "      <td>Yes</td>\n",
       "      <td>CLoan</td>\n",
       "      <td>3.0</td>\n",
       "      <td>2.0</td>\n",
       "      <td>East</td>\n",
       "      <td>46.0</td>\n",
       "      <td>10.0</td>\n",
       "      <td>Yes</td>\n",
       "      <td>No</td>\n",
       "      <td>0.077</td>\n",
       "      <td>0.077</td>\n",
       "      <td>18.0</td>\n",
       "      <td>2.0</td>\n",
       "      <td>1.0</td>\n",
       "    </tr>\n",
       "    <tr>\n",
       "      <th>1</th>\n",
       "      <td>511643</td>\n",
       "      <td>884222.0</td>\n",
       "      <td>N</td>\n",
       "      <td>198075.0</td>\n",
       "      <td>11173.06</td>\n",
       "      <td>0.0194</td>\n",
       "      <td>IT</td>\n",
       "      <td>ndf</td>\n",
       "      <td>Morethan_One</td>\n",
       "      <td>1.0</td>\n",
       "      <td>Metro</td>\n",
       "      <td>2</td>\n",
       "      <td>Grad</td>\n",
       "      <td>Married</td>\n",
       "      <td>M</td>\n",
       "      <td>1_to_3</td>\n",
       "      <td>3.0</td>\n",
       "      <td>Not_Specified</td>\n",
       "      <td>wed</td>\n",
       "      <td>Yes</td>\n",
       "      <td>CLoan</td>\n",
       "      <td>3.0</td>\n",
       "      <td>1.0</td>\n",
       "      <td>North</td>\n",
       "      <td>46.0</td>\n",
       "      <td>12.0</td>\n",
       "      <td>Yes</td>\n",
       "      <td>Yes</td>\n",
       "      <td>0.184</td>\n",
       "      <td>0.184</td>\n",
       "      <td>306.0</td>\n",
       "      <td>4.0</td>\n",
       "      <td>0.0</td>\n",
       "    </tr>\n",
       "  </tbody>\n",
       "</table>\n",
       "</div>"
      ],
      "text/plain": [
       "       ID  Compensation Vehicle_Status  Loan_amt  Annuity_amt  density_Ind  \\\n",
       "0  540071      801850.0              Y  658040.0     13816.52       0.0304   \n",
       "1  511643      884222.0              N  198075.0     11173.06       0.0194   \n",
       "\n",
       "  Job_Type Default_hist     Prop_List  Home_Appliances Region_Type Credit_Inq  \\\n",
       "0       IT          ndf  Morethan_One              NaN       Metro          1   \n",
       "1       IT          ndf  Morethan_One              1.0       Metro          2   \n",
       "\n",
       "  Education_det Marital_Stat Gen Credit_Lnks  Experience     Income_Alt  \\\n",
       "0          Grad      Married   F      1_to_3         0.9  Not_Specified   \n",
       "1          Grad      Married   M      1_to_3         3.0  Not_Specified   \n",
       "\n",
       "  Day_Process Ph.No Type_Loan  Dependents  Company_Rating Region   Age  \\\n",
       "0         SAT   Yes     CLoan         3.0             2.0   East  46.0   \n",
       "1         wed   Yes     CLoan         3.0             1.0  North  46.0   \n",
       "\n",
       "   hour_Process Addr_permanent Permanent_Addr_tag  c1_rated  c2_rated  \\\n",
       "0          10.0            Yes                 No     0.077     0.077   \n",
       "1          12.0            Yes                Yes     0.184     0.184   \n",
       "\n",
       "   Contact_age  Product_bought  Default  \n",
       "0         18.0             2.0      1.0  \n",
       "1        306.0             4.0      0.0  "
      ]
     },
     "execution_count": 4,
     "metadata": {},
     "output_type": "execute_result"
    }
   ],
   "source": [
    "train.head(2)"
   ]
  },
  {
   "cell_type": "code",
   "execution_count": 5,
   "id": "16e56423",
   "metadata": {},
   "outputs": [
    {
     "data": {
      "text/plain": [
       "(132440, 33)"
      ]
     },
     "execution_count": 5,
     "metadata": {},
     "output_type": "execute_result"
    }
   ],
   "source": [
    "train.shape"
   ]
  },
  {
   "cell_type": "code",
   "execution_count": 6,
   "id": "6a54e965",
   "metadata": {},
   "outputs": [
    {
     "name": "stdout",
     "output_type": "stream",
     "text": [
      "<class 'pandas.core.frame.DataFrame'>\n",
      "RangeIndex: 132440 entries, 0 to 132439\n",
      "Data columns (total 33 columns):\n",
      " #   Column              Non-Null Count   Dtype  \n",
      "---  ------              --------------   -----  \n",
      " 0   ID                  132440 non-null  int64  \n",
      " 1   Compensation        126198 non-null  float64\n",
      " 2   Vehicle_Status      123336 non-null  object \n",
      " 3   Loan_amt            132440 non-null  float64\n",
      " 4   Annuity_amt         127829 non-null  float64\n",
      " 5   density_Ind         127024 non-null  float64\n",
      " 6   Job_Type            122192 non-null  object \n",
      " 7   Default_hist        132440 non-null  object \n",
      " 8   Prop_List           130475 non-null  object \n",
      " 9   Home_Appliances     121476 non-null  float64\n",
      " 10  Region_Type         132440 non-null  object \n",
      " 11  Credit_Inq          129750 non-null  object \n",
      " 12  Education_det       132440 non-null  object \n",
      " 13  Marital_Stat        132440 non-null  object \n",
      " 14  Gen                 132440 non-null  object \n",
      " 15  Credit_Lnks         132440 non-null  object \n",
      " 16  Experience          110595 non-null  float64\n",
      " 17  Income_Alt          124758 non-null  object \n",
      " 18  Day_Process         132440 non-null  object \n",
      " 19  Ph.No               132440 non-null  object \n",
      " 20  Type_Loan           132440 non-null  object \n",
      " 21  Dependents          132440 non-null  float64\n",
      " 22  Company_Rating      120709 non-null  float64\n",
      " 23  Region              132440 non-null  object \n",
      " 24  Age                 132440 non-null  float64\n",
      " 25  hour_Process        132440 non-null  float64\n",
      " 26  Addr_permanent      132440 non-null  object \n",
      " 27  Permanent_Addr_tag  132440 non-null  object \n",
      " 28  c1_rated            114927 non-null  float64\n",
      " 29  c2_rated            119119 non-null  float64\n",
      " 30  Contact_age         124287 non-null  float64\n",
      " 31  Product_bought      132440 non-null  float64\n",
      " 32  Default             132440 non-null  float64\n",
      "dtypes: float64(15), int64(1), object(17)\n",
      "memory usage: 33.3+ MB\n"
     ]
    }
   ],
   "source": [
    "train.info()"
   ]
  },
  {
   "cell_type": "code",
   "execution_count": 7,
   "id": "f659c343",
   "metadata": {},
   "outputs": [
    {
     "data": {
      "text/plain": [
       "ID                    132440\n",
       "Compensation           84095\n",
       "Vehicle_Status             2\n",
       "Loan_amt              119260\n",
       "Annuity_amt           117192\n",
       "density_Ind              417\n",
       "Job_Type                   3\n",
       "Default_hist               2\n",
       "Prop_List                  3\n",
       "Home_Appliances           13\n",
       "Region_Type                3\n",
       "Credit_Inq                 4\n",
       "Education_det              3\n",
       "Marital_Stat               4\n",
       "Gen                        2\n",
       "Credit_Lnks                3\n",
       "Experience               446\n",
       "Income_Alt                 2\n",
       "Day_Process                7\n",
       "Ph.No                      2\n",
       "Type_Loan                  2\n",
       "Dependents                 9\n",
       "Company_Rating             3\n",
       "Region                     4\n",
       "Age                       49\n",
       "hour_Process              26\n",
       "Addr_permanent             2\n",
       "Permanent_Addr_tag         2\n",
       "c1_rated                 869\n",
       "c2_rated                 869\n",
       "Contact_age             3609\n",
       "Product_bought            25\n",
       "Default                    2\n",
       "dtype: int64"
      ]
     },
     "execution_count": 7,
     "metadata": {},
     "output_type": "execute_result"
    }
   ],
   "source": [
    "train.nunique()"
   ]
  },
  {
   "cell_type": "code",
   "execution_count": 8,
   "id": "a0f1a06a",
   "metadata": {},
   "outputs": [],
   "source": [
    "train.drop(\"ID\", axis = 1, inplace = True)\n",
    "\n",
    "# Because there is all unique values. "
   ]
  },
  {
   "cell_type": "markdown",
   "id": "56682fd9",
   "metadata": {},
   "source": [
    "#### Summary For Numerical and Categorical Variables."
   ]
  },
  {
   "cell_type": "code",
   "execution_count": 9,
   "id": "cfba6089",
   "metadata": {},
   "outputs": [
    {
     "data": {
      "text/html": [
       "<div>\n",
       "<style scoped>\n",
       "    .dataframe tbody tr th:only-of-type {\n",
       "        vertical-align: middle;\n",
       "    }\n",
       "\n",
       "    .dataframe tbody tr th {\n",
       "        vertical-align: top;\n",
       "    }\n",
       "\n",
       "    .dataframe thead th {\n",
       "        text-align: right;\n",
       "    }\n",
       "</style>\n",
       "<table border=\"1\" class=\"dataframe\">\n",
       "  <thead>\n",
       "    <tr style=\"text-align: right;\">\n",
       "      <th></th>\n",
       "      <th>count</th>\n",
       "      <th>mean</th>\n",
       "      <th>std</th>\n",
       "      <th>min</th>\n",
       "      <th>25%</th>\n",
       "      <th>50%</th>\n",
       "      <th>75%</th>\n",
       "      <th>max</th>\n",
       "    </tr>\n",
       "  </thead>\n",
       "  <tbody>\n",
       "    <tr>\n",
       "      <th>Compensation</th>\n",
       "      <td>126198.0</td>\n",
       "      <td>745051.897431</td>\n",
       "      <td>470276.230114</td>\n",
       "      <td>152728.0000</td>\n",
       "      <td>517706.0000</td>\n",
       "      <td>665996.0000</td>\n",
       "      <td>879489.0000</td>\n",
       "      <td>7.037702e+07</td>\n",
       "    </tr>\n",
       "    <tr>\n",
       "      <th>Loan_amt</th>\n",
       "      <td>132440.0</td>\n",
       "      <td>414801.133722</td>\n",
       "      <td>274678.779207</td>\n",
       "      <td>34275.0000</td>\n",
       "      <td>204529.9500</td>\n",
       "      <td>349542.5000</td>\n",
       "      <td>558205.0000</td>\n",
       "      <td>2.872142e+06</td>\n",
       "    </tr>\n",
       "    <tr>\n",
       "      <th>Annuity_amt</th>\n",
       "      <td>127829.0</td>\n",
       "      <td>10845.286442</td>\n",
       "      <td>2061.529355</td>\n",
       "      <td>5852.1000</td>\n",
       "      <td>9348.3700</td>\n",
       "      <td>10773.8200</td>\n",
       "      <td>12165.3900</td>\n",
       "      <td>4.130100e+04</td>\n",
       "    </tr>\n",
       "    <tr>\n",
       "      <th>density_Ind</th>\n",
       "      <td>127024.0</td>\n",
       "      <td>0.020446</td>\n",
       "      <td>0.015077</td>\n",
       "      <td>0.0001</td>\n",
       "      <td>0.0104</td>\n",
       "      <td>0.0204</td>\n",
       "      <td>0.0304</td>\n",
       "      <td>2.017800e+00</td>\n",
       "    </tr>\n",
       "    <tr>\n",
       "      <th>Home_Appliances</th>\n",
       "      <td>121476.0</td>\n",
       "      <td>3.220891</td>\n",
       "      <td>1.241751</td>\n",
       "      <td>1.0000</td>\n",
       "      <td>2.0000</td>\n",
       "      <td>4.0000</td>\n",
       "      <td>4.0000</td>\n",
       "      <td>1.900000e+01</td>\n",
       "    </tr>\n",
       "    <tr>\n",
       "      <th>Experience</th>\n",
       "      <td>110595.0</td>\n",
       "      <td>6.580616</td>\n",
       "      <td>6.357054</td>\n",
       "      <td>0.0000</td>\n",
       "      <td>2.1000</td>\n",
       "      <td>4.6000</td>\n",
       "      <td>9.0000</td>\n",
       "      <td>4.810000e+01</td>\n",
       "    </tr>\n",
       "    <tr>\n",
       "      <th>Dependents</th>\n",
       "      <td>132440.0</td>\n",
       "      <td>2.155467</td>\n",
       "      <td>0.909046</td>\n",
       "      <td>1.0000</td>\n",
       "      <td>2.0000</td>\n",
       "      <td>2.0000</td>\n",
       "      <td>3.0000</td>\n",
       "      <td>9.000000e+00</td>\n",
       "    </tr>\n",
       "    <tr>\n",
       "      <th>Company_Rating</th>\n",
       "      <td>120709.0</td>\n",
       "      <td>2.030553</td>\n",
       "      <td>0.503750</td>\n",
       "      <td>1.0000</td>\n",
       "      <td>2.0000</td>\n",
       "      <td>2.0000</td>\n",
       "      <td>2.0000</td>\n",
       "      <td>3.000000e+00</td>\n",
       "    </tr>\n",
       "    <tr>\n",
       "      <th>Age</th>\n",
       "      <td>132440.0</td>\n",
       "      <td>43.933260</td>\n",
       "      <td>11.962700</td>\n",
       "      <td>21.0000</td>\n",
       "      <td>34.0000</td>\n",
       "      <td>43.0000</td>\n",
       "      <td>54.0000</td>\n",
       "      <td>6.900000e+01</td>\n",
       "    </tr>\n",
       "    <tr>\n",
       "      <th>hour_Process</th>\n",
       "      <td>132440.0</td>\n",
       "      <td>12.060865</td>\n",
       "      <td>3.566714</td>\n",
       "      <td>0.0000</td>\n",
       "      <td>10.0000</td>\n",
       "      <td>12.0000</td>\n",
       "      <td>15.0000</td>\n",
       "      <td>2.500000e+01</td>\n",
       "    </tr>\n",
       "    <tr>\n",
       "      <th>c1_rated</th>\n",
       "      <td>114927.0</td>\n",
       "      <td>0.505929</td>\n",
       "      <td>0.268665</td>\n",
       "      <td>0.0000</td>\n",
       "      <td>0.2680</td>\n",
       "      <td>0.5000</td>\n",
       "      <td>0.7690</td>\n",
       "      <td>9.470000e-01</td>\n",
       "    </tr>\n",
       "    <tr>\n",
       "      <th>c2_rated</th>\n",
       "      <td>119119.0</td>\n",
       "      <td>0.506181</td>\n",
       "      <td>0.268716</td>\n",
       "      <td>0.0000</td>\n",
       "      <td>0.2680</td>\n",
       "      <td>0.5000</td>\n",
       "      <td>0.7690</td>\n",
       "      <td>9.470000e-01</td>\n",
       "    </tr>\n",
       "    <tr>\n",
       "      <th>Contact_age</th>\n",
       "      <td>124287.0</td>\n",
       "      <td>979.451383</td>\n",
       "      <td>829.632194</td>\n",
       "      <td>10.0000</td>\n",
       "      <td>288.0000</td>\n",
       "      <td>770.0000</td>\n",
       "      <td>1589.0000</td>\n",
       "      <td>4.309000e+03</td>\n",
       "    </tr>\n",
       "    <tr>\n",
       "      <th>Product_bought</th>\n",
       "      <td>132440.0</td>\n",
       "      <td>3.387738</td>\n",
       "      <td>2.173246</td>\n",
       "      <td>0.0000</td>\n",
       "      <td>2.0000</td>\n",
       "      <td>3.0000</td>\n",
       "      <td>5.0000</td>\n",
       "      <td>2.500000e+01</td>\n",
       "    </tr>\n",
       "    <tr>\n",
       "      <th>Default</th>\n",
       "      <td>132440.0</td>\n",
       "      <td>0.264301</td>\n",
       "      <td>0.440962</td>\n",
       "      <td>0.0000</td>\n",
       "      <td>0.0000</td>\n",
       "      <td>0.0000</td>\n",
       "      <td>1.0000</td>\n",
       "      <td>1.000000e+00</td>\n",
       "    </tr>\n",
       "  </tbody>\n",
       "</table>\n",
       "</div>"
      ],
      "text/plain": [
       "                    count           mean            std          min  \\\n",
       "Compensation     126198.0  745051.897431  470276.230114  152728.0000   \n",
       "Loan_amt         132440.0  414801.133722  274678.779207   34275.0000   \n",
       "Annuity_amt      127829.0   10845.286442    2061.529355    5852.1000   \n",
       "density_Ind      127024.0       0.020446       0.015077       0.0001   \n",
       "Home_Appliances  121476.0       3.220891       1.241751       1.0000   \n",
       "Experience       110595.0       6.580616       6.357054       0.0000   \n",
       "Dependents       132440.0       2.155467       0.909046       1.0000   \n",
       "Company_Rating   120709.0       2.030553       0.503750       1.0000   \n",
       "Age              132440.0      43.933260      11.962700      21.0000   \n",
       "hour_Process     132440.0      12.060865       3.566714       0.0000   \n",
       "c1_rated         114927.0       0.505929       0.268665       0.0000   \n",
       "c2_rated         119119.0       0.506181       0.268716       0.0000   \n",
       "Contact_age      124287.0     979.451383     829.632194      10.0000   \n",
       "Product_bought   132440.0       3.387738       2.173246       0.0000   \n",
       "Default          132440.0       0.264301       0.440962       0.0000   \n",
       "\n",
       "                         25%          50%          75%           max  \n",
       "Compensation     517706.0000  665996.0000  879489.0000  7.037702e+07  \n",
       "Loan_amt         204529.9500  349542.5000  558205.0000  2.872142e+06  \n",
       "Annuity_amt        9348.3700   10773.8200   12165.3900  4.130100e+04  \n",
       "density_Ind           0.0104       0.0204       0.0304  2.017800e+00  \n",
       "Home_Appliances       2.0000       4.0000       4.0000  1.900000e+01  \n",
       "Experience            2.1000       4.6000       9.0000  4.810000e+01  \n",
       "Dependents            2.0000       2.0000       3.0000  9.000000e+00  \n",
       "Company_Rating        2.0000       2.0000       2.0000  3.000000e+00  \n",
       "Age                  34.0000      43.0000      54.0000  6.900000e+01  \n",
       "hour_Process         10.0000      12.0000      15.0000  2.500000e+01  \n",
       "c1_rated              0.2680       0.5000       0.7690  9.470000e-01  \n",
       "c2_rated              0.2680       0.5000       0.7690  9.470000e-01  \n",
       "Contact_age         288.0000     770.0000    1589.0000  4.309000e+03  \n",
       "Product_bought        2.0000       3.0000       5.0000  2.500000e+01  \n",
       "Default               0.0000       0.0000       1.0000  1.000000e+00  "
      ]
     },
     "execution_count": 9,
     "metadata": {},
     "output_type": "execute_result"
    }
   ],
   "source": [
    "train.describe().T"
   ]
  },
  {
   "cell_type": "code",
   "execution_count": 10,
   "id": "17ae7fa2",
   "metadata": {},
   "outputs": [
    {
     "data": {
      "text/html": [
       "<div>\n",
       "<style scoped>\n",
       "    .dataframe tbody tr th:only-of-type {\n",
       "        vertical-align: middle;\n",
       "    }\n",
       "\n",
       "    .dataframe tbody tr th {\n",
       "        vertical-align: top;\n",
       "    }\n",
       "\n",
       "    .dataframe thead th {\n",
       "        text-align: right;\n",
       "    }\n",
       "</style>\n",
       "<table border=\"1\" class=\"dataframe\">\n",
       "  <thead>\n",
       "    <tr style=\"text-align: right;\">\n",
       "      <th></th>\n",
       "      <th>count</th>\n",
       "      <th>unique</th>\n",
       "      <th>top</th>\n",
       "      <th>freq</th>\n",
       "    </tr>\n",
       "  </thead>\n",
       "  <tbody>\n",
       "    <tr>\n",
       "      <th>Vehicle_Status</th>\n",
       "      <td>123336</td>\n",
       "      <td>2</td>\n",
       "      <td>N</td>\n",
       "      <td>81370</td>\n",
       "    </tr>\n",
       "    <tr>\n",
       "      <th>Job_Type</th>\n",
       "      <td>122192</td>\n",
       "      <td>3</td>\n",
       "      <td>IT</td>\n",
       "      <td>66982</td>\n",
       "    </tr>\n",
       "    <tr>\n",
       "      <th>Default_hist</th>\n",
       "      <td>132440</td>\n",
       "      <td>2</td>\n",
       "      <td>ndf</td>\n",
       "      <td>119170</td>\n",
       "    </tr>\n",
       "    <tr>\n",
       "      <th>Prop_List</th>\n",
       "      <td>130475</td>\n",
       "      <td>3</td>\n",
       "      <td>One</td>\n",
       "      <td>91559</td>\n",
       "    </tr>\n",
       "    <tr>\n",
       "      <th>Region_Type</th>\n",
       "      <td>132440</td>\n",
       "      <td>3</td>\n",
       "      <td>Metro</td>\n",
       "      <td>107548</td>\n",
       "    </tr>\n",
       "    <tr>\n",
       "      <th>Credit_Inq</th>\n",
       "      <td>129750</td>\n",
       "      <td>4</td>\n",
       "      <td>1</td>\n",
       "      <td>67072</td>\n",
       "    </tr>\n",
       "    <tr>\n",
       "      <th>Education_det</th>\n",
       "      <td>132440</td>\n",
       "      <td>3</td>\n",
       "      <td>Grad</td>\n",
       "      <td>93858</td>\n",
       "    </tr>\n",
       "    <tr>\n",
       "      <th>Marital_Stat</th>\n",
       "      <td>132440</td>\n",
       "      <td>4</td>\n",
       "      <td>Married</td>\n",
       "      <td>97609</td>\n",
       "    </tr>\n",
       "    <tr>\n",
       "      <th>Gen</th>\n",
       "      <td>132440</td>\n",
       "      <td>2</td>\n",
       "      <td>M</td>\n",
       "      <td>87063</td>\n",
       "    </tr>\n",
       "    <tr>\n",
       "      <th>Credit_Lnks</th>\n",
       "      <td>132440</td>\n",
       "      <td>3</td>\n",
       "      <td>1_to_3</td>\n",
       "      <td>117604</td>\n",
       "    </tr>\n",
       "    <tr>\n",
       "      <th>Income_Alt</th>\n",
       "      <td>124758</td>\n",
       "      <td>2</td>\n",
       "      <td>Not_Specified</td>\n",
       "      <td>89848</td>\n",
       "    </tr>\n",
       "    <tr>\n",
       "      <th>Day_Process</th>\n",
       "      <td>132440</td>\n",
       "      <td>7</td>\n",
       "      <td>Tue</td>\n",
       "      <td>23146</td>\n",
       "    </tr>\n",
       "    <tr>\n",
       "      <th>Ph.No</th>\n",
       "      <td>132440</td>\n",
       "      <td>2</td>\n",
       "      <td>Yes</td>\n",
       "      <td>105944</td>\n",
       "    </tr>\n",
       "    <tr>\n",
       "      <th>Type_Loan</th>\n",
       "      <td>132440</td>\n",
       "      <td>2</td>\n",
       "      <td>CLoan</td>\n",
       "      <td>119928</td>\n",
       "    </tr>\n",
       "    <tr>\n",
       "      <th>Region</th>\n",
       "      <td>132440</td>\n",
       "      <td>4</td>\n",
       "      <td>North</td>\n",
       "      <td>53101</td>\n",
       "    </tr>\n",
       "    <tr>\n",
       "      <th>Addr_permanent</th>\n",
       "      <td>132440</td>\n",
       "      <td>2</td>\n",
       "      <td>Yes</td>\n",
       "      <td>122098</td>\n",
       "    </tr>\n",
       "    <tr>\n",
       "      <th>Permanent_Addr_tag</th>\n",
       "      <td>132440</td>\n",
       "      <td>2</td>\n",
       "      <td>Yes</td>\n",
       "      <td>108616</td>\n",
       "    </tr>\n",
       "  </tbody>\n",
       "</table>\n",
       "</div>"
      ],
      "text/plain": [
       "                     count unique            top    freq\n",
       "Vehicle_Status      123336      2              N   81370\n",
       "Job_Type            122192      3             IT   66982\n",
       "Default_hist        132440      2            ndf  119170\n",
       "Prop_List           130475      3            One   91559\n",
       "Region_Type         132440      3          Metro  107548\n",
       "Credit_Inq          129750      4              1   67072\n",
       "Education_det       132440      3           Grad   93858\n",
       "Marital_Stat        132440      4        Married   97609\n",
       "Gen                 132440      2              M   87063\n",
       "Credit_Lnks         132440      3         1_to_3  117604\n",
       "Income_Alt          124758      2  Not_Specified   89848\n",
       "Day_Process         132440      7            Tue   23146\n",
       "Ph.No               132440      2            Yes  105944\n",
       "Type_Loan           132440      2          CLoan  119928\n",
       "Region              132440      4          North   53101\n",
       "Addr_permanent      132440      2            Yes  122098\n",
       "Permanent_Addr_tag  132440      2            Yes  108616"
      ]
     },
     "execution_count": 10,
     "metadata": {},
     "output_type": "execute_result"
    }
   ],
   "source": [
    "train.describe(include = \"O\").T"
   ]
  },
  {
   "cell_type": "markdown",
   "id": "49149da3",
   "metadata": {},
   "source": [
    "## Test Dataset"
   ]
  },
  {
   "cell_type": "code",
   "execution_count": 11,
   "id": "b1c67caa",
   "metadata": {},
   "outputs": [
    {
     "data": {
      "text/html": [
       "<div>\n",
       "<style scoped>\n",
       "    .dataframe tbody tr th:only-of-type {\n",
       "        vertical-align: middle;\n",
       "    }\n",
       "\n",
       "    .dataframe tbody tr th {\n",
       "        vertical-align: top;\n",
       "    }\n",
       "\n",
       "    .dataframe thead th {\n",
       "        text-align: right;\n",
       "    }\n",
       "</style>\n",
       "<table border=\"1\" class=\"dataframe\">\n",
       "  <thead>\n",
       "    <tr style=\"text-align: right;\">\n",
       "      <th></th>\n",
       "      <th>ID</th>\n",
       "      <th>Compensation</th>\n",
       "      <th>Vehicle_Status</th>\n",
       "      <th>Loan_amt</th>\n",
       "      <th>Annuity_amt</th>\n",
       "      <th>density_Ind</th>\n",
       "      <th>Job_Type</th>\n",
       "      <th>Default_hist</th>\n",
       "      <th>Prop_List</th>\n",
       "      <th>Home_Appliances</th>\n",
       "      <th>Region_Type</th>\n",
       "      <th>Credit_Inq</th>\n",
       "      <th>Education_det</th>\n",
       "      <th>Marital_Stat</th>\n",
       "      <th>Gen</th>\n",
       "      <th>Credit_Lnks</th>\n",
       "      <th>Experience</th>\n",
       "      <th>Income_Alt</th>\n",
       "      <th>Day_Process</th>\n",
       "      <th>Ph.No</th>\n",
       "      <th>Type_Loan</th>\n",
       "      <th>Dependents</th>\n",
       "      <th>Company_Rating</th>\n",
       "      <th>Region</th>\n",
       "      <th>Age</th>\n",
       "      <th>hour_Process</th>\n",
       "      <th>Addr_permanent</th>\n",
       "      <th>Permanent_Addr_tag</th>\n",
       "      <th>c1_rated</th>\n",
       "      <th>c2_rated</th>\n",
       "      <th>Contact_age</th>\n",
       "      <th>Product_bought</th>\n",
       "    </tr>\n",
       "  </thead>\n",
       "  <tbody>\n",
       "    <tr>\n",
       "      <th>0</th>\n",
       "      <td>487410</td>\n",
       "      <td>653106.0</td>\n",
       "      <td>Y</td>\n",
       "      <td>809400.00</td>\n",
       "      <td>9145.51</td>\n",
       "      <td>0.0015</td>\n",
       "      <td>Govt.</td>\n",
       "      <td>ndf</td>\n",
       "      <td>Morethan_One</td>\n",
       "      <td>1.0</td>\n",
       "      <td>Metro</td>\n",
       "      <td>1</td>\n",
       "      <td>Grad</td>\n",
       "      <td>Married</td>\n",
       "      <td>M</td>\n",
       "      <td>1_to_3</td>\n",
       "      <td>5.4</td>\n",
       "      <td>Not_Specified</td>\n",
       "      <td>thur</td>\n",
       "      <td>Yes</td>\n",
       "      <td>CLoan</td>\n",
       "      <td>3.0</td>\n",
       "      <td>2.0</td>\n",
       "      <td>North</td>\n",
       "      <td>39.0</td>\n",
       "      <td>11.0</td>\n",
       "      <td>Yes</td>\n",
       "      <td>Yes</td>\n",
       "      <td>0.349</td>\n",
       "      <td>0.349</td>\n",
       "      <td>3133.0</td>\n",
       "      <td>2.0</td>\n",
       "    </tr>\n",
       "    <tr>\n",
       "      <th>1</th>\n",
       "      <td>533258</td>\n",
       "      <td>434150.0</td>\n",
       "      <td>N</td>\n",
       "      <td>72618.75</td>\n",
       "      <td>7683.23</td>\n",
       "      <td>0.0332</td>\n",
       "      <td>Govt.</td>\n",
       "      <td>ndf</td>\n",
       "      <td>One</td>\n",
       "      <td>4.0</td>\n",
       "      <td>Metro</td>\n",
       "      <td>1</td>\n",
       "      <td>Grad</td>\n",
       "      <td>Married</td>\n",
       "      <td>M</td>\n",
       "      <td>1_to_3</td>\n",
       "      <td>2.3</td>\n",
       "      <td>Y</td>\n",
       "      <td>wed</td>\n",
       "      <td>No</td>\n",
       "      <td>CLoan</td>\n",
       "      <td>2.0</td>\n",
       "      <td>3.0</td>\n",
       "      <td>Central</td>\n",
       "      <td>46.0</td>\n",
       "      <td>13.0</td>\n",
       "      <td>Yes</td>\n",
       "      <td>Yes</td>\n",
       "      <td>0.237</td>\n",
       "      <td>0.237</td>\n",
       "      <td>1730.0</td>\n",
       "      <td>5.0</td>\n",
       "    </tr>\n",
       "    <tr>\n",
       "      <th>2</th>\n",
       "      <td>581926</td>\n",
       "      <td>489060.0</td>\n",
       "      <td>N</td>\n",
       "      <td>267255.80</td>\n",
       "      <td>9032.85</td>\n",
       "      <td>0.0316</td>\n",
       "      <td>IT</td>\n",
       "      <td>ndf</td>\n",
       "      <td>Morethan_One</td>\n",
       "      <td>NaN</td>\n",
       "      <td>Rural</td>\n",
       "      <td>1</td>\n",
       "      <td>Grad</td>\n",
       "      <td>Married</td>\n",
       "      <td>M</td>\n",
       "      <td>1_to_3</td>\n",
       "      <td>11.0</td>\n",
       "      <td>Y</td>\n",
       "      <td>thur</td>\n",
       "      <td>No</td>\n",
       "      <td>CLoan</td>\n",
       "      <td>3.0</td>\n",
       "      <td>2.0</td>\n",
       "      <td>South</td>\n",
       "      <td>33.0</td>\n",
       "      <td>15.0</td>\n",
       "      <td>Yes</td>\n",
       "      <td>Yes</td>\n",
       "      <td>0.111</td>\n",
       "      <td>0.111</td>\n",
       "      <td>759.0</td>\n",
       "      <td>4.0</td>\n",
       "    </tr>\n",
       "    <tr>\n",
       "      <th>3</th>\n",
       "      <td>486301</td>\n",
       "      <td>957294.0</td>\n",
       "      <td>N</td>\n",
       "      <td>623600.00</td>\n",
       "      <td>12838.25</td>\n",
       "      <td>0.0320</td>\n",
       "      <td>IT</td>\n",
       "      <td>ndf</td>\n",
       "      <td>One</td>\n",
       "      <td>4.0</td>\n",
       "      <td>Metro</td>\n",
       "      <td>1</td>\n",
       "      <td>Grad</td>\n",
       "      <td>Married</td>\n",
       "      <td>M</td>\n",
       "      <td>1_to_3</td>\n",
       "      <td>9.7</td>\n",
       "      <td>Y</td>\n",
       "      <td>Tue</td>\n",
       "      <td>Yes</td>\n",
       "      <td>CLoan</td>\n",
       "      <td>2.0</td>\n",
       "      <td>2.0</td>\n",
       "      <td>East</td>\n",
       "      <td>48.0</td>\n",
       "      <td>12.0</td>\n",
       "      <td>Yes</td>\n",
       "      <td>Yes</td>\n",
       "      <td>0.323</td>\n",
       "      <td>0.323</td>\n",
       "      <td>609.0</td>\n",
       "      <td>4.0</td>\n",
       "    </tr>\n",
       "    <tr>\n",
       "      <th>4</th>\n",
       "      <td>580822</td>\n",
       "      <td>1333739.0</td>\n",
       "      <td>N</td>\n",
       "      <td>529520.00</td>\n",
       "      <td>11799.09</td>\n",
       "      <td>0.0073</td>\n",
       "      <td>Non-IT</td>\n",
       "      <td>ndf</td>\n",
       "      <td>One</td>\n",
       "      <td>4.0</td>\n",
       "      <td>Metro</td>\n",
       "      <td>3</td>\n",
       "      <td>P_Grad</td>\n",
       "      <td>Married</td>\n",
       "      <td>F</td>\n",
       "      <td>1_to_3</td>\n",
       "      <td>NaN</td>\n",
       "      <td>Y</td>\n",
       "      <td>wed</td>\n",
       "      <td>Yes</td>\n",
       "      <td>RLoan</td>\n",
       "      <td>2.0</td>\n",
       "      <td>3.0</td>\n",
       "      <td>North</td>\n",
       "      <td>53.0</td>\n",
       "      <td>7.0</td>\n",
       "      <td>Yes</td>\n",
       "      <td>Yes</td>\n",
       "      <td>0.940</td>\n",
       "      <td>0.940</td>\n",
       "      <td>1222.0</td>\n",
       "      <td>1.0</td>\n",
       "    </tr>\n",
       "  </tbody>\n",
       "</table>\n",
       "</div>"
      ],
      "text/plain": [
       "       ID  Compensation Vehicle_Status   Loan_amt  Annuity_amt  density_Ind  \\\n",
       "0  487410      653106.0              Y  809400.00      9145.51       0.0015   \n",
       "1  533258      434150.0              N   72618.75      7683.23       0.0332   \n",
       "2  581926      489060.0              N  267255.80      9032.85       0.0316   \n",
       "3  486301      957294.0              N  623600.00     12838.25       0.0320   \n",
       "4  580822     1333739.0              N  529520.00     11799.09       0.0073   \n",
       "\n",
       "  Job_Type Default_hist     Prop_List  Home_Appliances Region_Type Credit_Inq  \\\n",
       "0    Govt.          ndf  Morethan_One              1.0       Metro          1   \n",
       "1    Govt.          ndf           One              4.0       Metro          1   \n",
       "2       IT          ndf  Morethan_One              NaN       Rural          1   \n",
       "3       IT          ndf           One              4.0       Metro          1   \n",
       "4   Non-IT          ndf           One              4.0       Metro          3   \n",
       "\n",
       "  Education_det Marital_Stat Gen Credit_Lnks  Experience     Income_Alt  \\\n",
       "0          Grad      Married   M      1_to_3         5.4  Not_Specified   \n",
       "1          Grad      Married   M      1_to_3         2.3              Y   \n",
       "2          Grad      Married   M      1_to_3        11.0              Y   \n",
       "3          Grad      Married   M      1_to_3         9.7              Y   \n",
       "4        P_Grad      Married   F      1_to_3         NaN              Y   \n",
       "\n",
       "  Day_Process Ph.No Type_Loan  Dependents  Company_Rating   Region   Age  \\\n",
       "0        thur   Yes     CLoan         3.0             2.0    North  39.0   \n",
       "1         wed    No     CLoan         2.0             3.0  Central  46.0   \n",
       "2        thur    No     CLoan         3.0             2.0    South  33.0   \n",
       "3         Tue   Yes     CLoan         2.0             2.0     East  48.0   \n",
       "4         wed   Yes     RLoan         2.0             3.0    North  53.0   \n",
       "\n",
       "   hour_Process Addr_permanent Permanent_Addr_tag  c1_rated  c2_rated  \\\n",
       "0          11.0            Yes                Yes     0.349     0.349   \n",
       "1          13.0            Yes                Yes     0.237     0.237   \n",
       "2          15.0            Yes                Yes     0.111     0.111   \n",
       "3          12.0            Yes                Yes     0.323     0.323   \n",
       "4           7.0            Yes                Yes     0.940     0.940   \n",
       "\n",
       "   Contact_age  Product_bought  \n",
       "0       3133.0             2.0  \n",
       "1       1730.0             5.0  \n",
       "2        759.0             4.0  \n",
       "3        609.0             4.0  \n",
       "4       1222.0             1.0  "
      ]
     },
     "execution_count": 11,
     "metadata": {},
     "output_type": "execute_result"
    }
   ],
   "source": [
    "test = pd.read_csv(\"Test_Set_TVS.csv\")\n",
    "test.head()"
   ]
  },
  {
   "cell_type": "code",
   "execution_count": 12,
   "id": "8f346dce",
   "metadata": {},
   "outputs": [
    {
     "data": {
      "text/plain": [
       "(56760, 32)"
      ]
     },
     "execution_count": 12,
     "metadata": {},
     "output_type": "execute_result"
    }
   ],
   "source": [
    "test.shape"
   ]
  },
  {
   "cell_type": "code",
   "execution_count": 13,
   "id": "29a80885",
   "metadata": {},
   "outputs": [
    {
     "name": "stdout",
     "output_type": "stream",
     "text": [
      "<class 'pandas.core.frame.DataFrame'>\n",
      "RangeIndex: 56760 entries, 0 to 56759\n",
      "Data columns (total 32 columns):\n",
      " #   Column              Non-Null Count  Dtype  \n",
      "---  ------              --------------  -----  \n",
      " 0   ID                  56760 non-null  int64  \n",
      " 1   Compensation        54010 non-null  float64\n",
      " 2   Vehicle_Status      52877 non-null  object \n",
      " 3   Loan_amt            56760 non-null  float64\n",
      " 4   Annuity_amt         54797 non-null  float64\n",
      " 5   density_Ind         54485 non-null  float64\n",
      " 6   Job_Type            52440 non-null  object \n",
      " 7   Default_hist        56760 non-null  object \n",
      " 8   Prop_List           55849 non-null  object \n",
      " 9   Home_Appliances     52001 non-null  float64\n",
      " 10  Region_Type         56760 non-null  object \n",
      " 11  Credit_Inq          55594 non-null  object \n",
      " 12  Education_det       56760 non-null  object \n",
      " 13  Marital_Stat        56760 non-null  object \n",
      " 14  Gen                 56760 non-null  object \n",
      " 15  Credit_Lnks         56760 non-null  object \n",
      " 16  Experience          47409 non-null  float64\n",
      " 17  Income_Alt          53461 non-null  object \n",
      " 18  Day_Process         56760 non-null  object \n",
      " 19  Ph.No               56760 non-null  object \n",
      " 20  Type_Loan           56760 non-null  object \n",
      " 21  Dependents          56760 non-null  float64\n",
      " 22  Company_Rating      51707 non-null  float64\n",
      " 23  Region              56760 non-null  object \n",
      " 24  Age                 56760 non-null  float64\n",
      " 25  hour_Process        56760 non-null  float64\n",
      " 26  Addr_permanent      56760 non-null  object \n",
      " 27  Permanent_Addr_tag  56760 non-null  object \n",
      " 28  c1_rated            49397 non-null  float64\n",
      " 29  c2_rated            51105 non-null  float64\n",
      " 30  Contact_age         53238 non-null  float64\n",
      " 31  Product_bought      56760 non-null  float64\n",
      "dtypes: float64(14), int64(1), object(17)\n",
      "memory usage: 13.9+ MB\n"
     ]
    }
   ],
   "source": [
    "test.info()"
   ]
  },
  {
   "cell_type": "code",
   "execution_count": 14,
   "id": "8f0e0738",
   "metadata": {},
   "outputs": [],
   "source": [
    "s1 = pd.DataFrame()\n",
    "\n",
    "s1[\"ID\"] = test[\"ID\"]"
   ]
  },
  {
   "cell_type": "code",
   "execution_count": 15,
   "id": "b44da184",
   "metadata": {},
   "outputs": [],
   "source": [
    "test.drop(\"ID\", axis = 1, inplace = True)"
   ]
  },
  {
   "cell_type": "markdown",
   "id": "48d76054",
   "metadata": {},
   "source": [
    "## 1. Data Cleaning"
   ]
  },
  {
   "cell_type": "code",
   "execution_count": 16,
   "id": "ab2f1bd1",
   "metadata": {},
   "outputs": [
    {
     "name": "stdout",
     "output_type": "stream",
     "text": [
      "Index(['Compensation', 'Loan_amt', 'Annuity_amt', 'density_Ind',\n",
      "       'Home_Appliances', 'Experience', 'Dependents', 'Company_Rating', 'Age',\n",
      "       'hour_Process', 'c1_rated', 'c2_rated', 'Contact_age',\n",
      "       'Product_bought'],\n",
      "      dtype='object')\n"
     ]
    }
   ],
   "source": [
    "num_test = test.select_dtypes(exclude = \"O\").columns\n",
    "print(num_test)"
   ]
  },
  {
   "cell_type": "code",
   "execution_count": 17,
   "id": "52a8d566",
   "metadata": {},
   "outputs": [
    {
     "name": "stdout",
     "output_type": "stream",
     "text": [
      "Index(['Compensation', 'Loan_amt', 'Annuity_amt', 'density_Ind',\n",
      "       'Home_Appliances', 'Experience', 'Dependents', 'Company_Rating', 'Age',\n",
      "       'hour_Process', 'c1_rated', 'c2_rated', 'Contact_age', 'Product_bought',\n",
      "       'Default'],\n",
      "      dtype='object')\n"
     ]
    }
   ],
   "source": [
    "num = train.select_dtypes(exclude = \"O\").columns\n",
    "print(num)"
   ]
  },
  {
   "cell_type": "markdown",
   "id": "fa68ffc7",
   "metadata": {},
   "source": [
    "#### Numerical columns Treament"
   ]
  },
  {
   "cell_type": "code",
   "execution_count": 18,
   "id": "95d46a9f",
   "metadata": {},
   "outputs": [],
   "source": [
    "#  check the numerical columns, Null values and number of unique values."
   ]
  },
  {
   "cell_type": "code",
   "execution_count": 19,
   "id": "cb404065",
   "metadata": {},
   "outputs": [
    {
     "name": "stdout",
     "output_type": "stream",
     "text": [
      "Column : Compensation \n",
      "\n",
      "Number of unique values : 44432\n",
      "Null values : 2750\n",
      "[653106. 434150. 489060. ... 650680. 551374. 975117.] \n",
      "\n",
      "Column : Loan_amt \n",
      "\n",
      "Number of unique values : 54064\n",
      "Null values : 0\n",
      "[ 809400.     72618.75  267255.8  ...  231420.   1096620.    197232.  ] \n",
      "\n",
      "Column : Annuity_amt \n",
      "\n",
      "Number of unique values : 52684\n",
      "Null values : 1963\n",
      "[ 9145.51  7683.23  9032.85 ... 11299.78 10223.3  12178.59] \n",
      "\n",
      "Column : density_Ind \n",
      "\n",
      "Number of unique values : 417\n",
      "Null values : 2275\n",
      "[1.5000e-03 3.3200e-02 3.1600e-02 3.2000e-02 7.3000e-03 2.4800e-02\n",
      " 3.2700e-02 4.3000e-03 1.8900e-02 2.3600e-02        nan 5.4000e-03\n",
      " 2.5300e-02 2.2900e-02 3.9500e-02 3.5000e-03 2.3500e-02 2.6500e-02\n",
      " 1.6400e-02 2.4500e-02 3.0900e-02 9.2000e-03 7.4000e-03 1.0600e-02\n",
      " 5.8000e-03 3.7500e-02 1.5500e-02 5.9000e-03 2.2000e-03 1.0100e-02\n",
      " 2.7800e-02 2.5900e-02 6.0000e-04 1.2000e-03 6.6000e-03 1.5100e-02\n",
      " 4.7000e-03 3.5800e-02 1.1200e-02 4.1000e-03 3.8400e-02 2.9500e-02\n",
      " 1.1700e-02 1.3000e-02 3.9400e-02 3.9600e-02 3.5900e-02 3.8100e-02\n",
      " 1.4100e-02 3.7900e-02 2.0300e-02 2.1000e-02 1.7400e-02 1.7900e-02\n",
      " 2.9400e-02 1.3700e-02 2.7700e-02 2.9000e-03 1.8500e-02 3.5300e-02\n",
      " 5.5000e-03 2.9000e-02 1.5000e-02 3.2300e-02 1.2700e-02 3.8700e-02\n",
      " 2.8500e-02 2.8700e-02 4.9000e-03 3.0000e-03 1.1900e-02 4.0000e-03\n",
      " 3.6400e-02 1.2900e-02 2.9600e-02 2.5800e-02 7.0000e-03 1.1500e-02\n",
      " 3.2600e-02 3.5000e-02 2.2800e-02 1.6300e-02 1.8100e-02 3.6500e-02\n",
      " 1.6600e-02 2.0500e-02 4.6000e-03 2.7000e-03 7.0000e-04 2.4600e-02\n",
      " 2.4900e-02 3.8500e-02 4.0100e-02 1.4700e-02 3.3500e-02 3.0500e-02\n",
      " 3.0000e-04 3.7000e-02 2.3300e-02 3.9700e-02 9.3000e-03 7.6000e-03\n",
      " 1.4000e-03 2.1700e-02 3.0000e-02 1.0700e-02 8.6000e-03 2.6000e-02\n",
      " 2.9800e-02 1.4900e-02 1.2500e-02 3.9000e-02 1.6500e-02 3.3700e-02\n",
      " 1.7200e-02 1.5900e-02 1.0500e-02 1.0000e-03 2.9100e-02 1.9000e-03\n",
      " 3.4300e-02 8.0000e-04 3.2200e-02 1.0800e-02 1.0400e-02 3.2800e-02\n",
      " 2.8000e-02 3.3100e-02 1.6700e-02 2.8400e-02 1.1100e-02 3.0800e-02\n",
      " 3.2000e-03 2.4700e-02 3.9300e-02 1.7700e-02 9.8000e-03 7.8000e-03\n",
      " 3.4800e-02 6.3000e-03 3.2500e-02 1.8800e-02 4.0400e-02 1.2200e-02\n",
      " 2.3200e-02 3.7100e-02 3.1200e-02 3.1000e-03 1.4200e-02 2.5000e-02\n",
      " 2.4200e-02 3.6000e-02 2.0700e-02 2.0400e-02 3.3800e-02 2.7500e-02\n",
      " 1.5600e-02 3.4100e-02 3.7700e-02 3.9800e-02 3.3400e-02 3.0200e-02\n",
      " 3.6100e-02 3.0100e-02 1.1300e-02 1.9100e-02 3.9200e-02 3.1000e-02\n",
      " 1.5400e-02 3.0700e-02 9.5000e-03 2.6400e-02 2.1600e-02 3.4200e-02\n",
      " 1.1000e-02 2.2400e-02 3.8900e-02 7.1000e-03 1.8300e-02 1.8400e-02\n",
      " 8.7000e-03 2.5600e-02 1.3400e-02 1.3900e-02 6.1000e-03 7.2000e-03\n",
      " 1.0300e-02 1.6200e-02 4.2000e-03 9.4000e-03 2.1800e-02 2.7200e-02\n",
      " 8.2000e-03 2.3000e-02 1.1400e-02 2.3400e-02 3.0600e-02 2.3000e-03\n",
      " 3.8800e-02 3.7600e-02 2.8800e-02 2.6600e-02 5.1000e-03 2.3800e-02\n",
      " 3.9000e-03 1.6000e-02 9.6000e-03 1.2100e-02 1.2600e-02 1.3500e-02\n",
      " 3.8200e-02 1.7300e-02 3.7400e-02 3.4500e-02 2.1400e-02 3.8300e-02\n",
      " 1.3200e-02 3.8000e-02 3.1300e-02 4.4000e-03 2.9200e-02 1.4800e-02\n",
      " 3.4000e-02 3.6900e-02 1.8200e-02 1.0000e-02 1.9000e-02 2.2300e-02\n",
      " 1.4600e-02 1.8000e-02 2.0600e-02 2.2700e-02 5.6000e-03 2.6700e-02\n",
      " 3.0300e-02 2.0900e-02 3.7200e-02 2.4100e-02 2.7300e-02 5.3000e-03\n",
      " 3.3900e-02 1.9800e-02 1.1000e-03 1.9600e-02 8.8000e-03 3.4400e-02\n",
      " 2.7600e-02 5.2000e-03 2.0200e-02 2.6200e-02 3.7800e-02 3.3600e-02\n",
      " 2.4000e-03 2.2100e-02 7.7000e-03 5.0000e-03 3.3300e-02 3.5200e-02\n",
      " 3.1800e-02 6.9000e-03 2.0100e-02 1.9300e-02 2.9700e-02 1.7000e-03\n",
      " 1.5200e-02 2.0800e-02 1.5700e-02 8.4000e-03 3.8000e-03 1.0200e-02\n",
      " 2.0000e-03 3.3000e-03 1.9900e-02 1.6100e-02 3.5700e-02 1.7500e-02\n",
      " 4.0300e-02 1.9200e-02 2.1200e-02 5.7000e-03 2.7000e-02 2.2600e-02\n",
      " 2.9900e-02 1.2800e-02 9.1000e-03 2.5700e-02 3.5500e-02 1.3300e-02\n",
      " 1.6000e-03 2.8900e-02 2.1900e-02 1.7100e-02 5.0000e-04 3.6200e-02\n",
      " 3.1900e-02 3.7300e-02 1.1600e-02 2.1500e-02 9.7000e-03 2.3100e-02\n",
      " 9.9000e-03 2.5400e-02 1.6900e-02 2.3700e-02 6.2000e-03 8.1000e-03\n",
      " 6.8000e-03 1.9700e-02 1.2400e-02 8.5000e-03 8.0000e-03 2.5500e-02\n",
      " 2.8000e-03 4.5000e-03 4.0700e-02 2.5100e-02 2.5000e-03 1.2300e-02\n",
      " 1.3800e-02 1.3000e-03 2.6900e-02 1.0900e-02 3.4600e-02 3.2900e-02\n",
      " 2.6300e-02 4.8000e-03 2.6800e-02 2.2200e-02 1.7800e-02 2.1300e-02\n",
      " 1.3600e-02 1.2000e-02 2.6000e-03 1.7600e-02 3.5600e-02 4.0000e-04\n",
      " 1.3100e-02 2.8300e-02 3.9100e-02 2.8100e-02 3.5100e-02 4.0200e-02\n",
      " 1.4400e-02 4.0000e-02 2.9300e-02 3.6000e-03 3.6700e-02 7.5000e-03\n",
      " 2.8200e-02 8.9000e-03 2.4300e-02 7.9000e-03 2.7100e-02 2.7900e-02\n",
      " 2.2500e-02 2.1100e-02 1.9500e-02 6.7000e-03 3.5400e-02 3.7000e-03\n",
      " 3.0400e-02 3.8600e-02 4.1100e-02 6.5000e-03 1.4500e-02 2.5200e-02\n",
      " 2.4400e-02 1.8000e-03 3.4000e-03 2.2000e-02 2.4000e-02 3.1700e-02\n",
      " 3.1100e-02 1.7000e-02 3.6800e-02 4.0600e-02 6.0000e-03 2.7400e-02\n",
      " 1.4300e-02 3.3000e-02 2.1000e-03 6.4000e-03 9.0000e-04 9.0000e-03\n",
      " 2.3900e-02 3.6600e-02 1.4000e-02 2.8600e-02 1.5800e-02 1.1800e-02\n",
      " 1.6800e-02 3.2400e-02 3.1400e-02 1.8700e-02 3.1500e-02 3.4700e-02\n",
      " 2.6100e-02 3.4900e-02 3.9900e-02 4.0800e-02 8.3000e-03 1.9400e-02\n",
      " 3.2100e-02 1.5300e-02 2.0000e-02 2.0000e-04 1.8600e-02 3.6300e-02\n",
      " 0.0000e+00 4.0500e-02 4.1200e-02 4.0900e-02 4.1000e-02 4.1300e-02\n",
      " 4.1400e-02 1.0000e-04 2.0372e+00 2.0222e+00] \n",
      "\n",
      "Column : Home_Appliances \n",
      "\n",
      "Number of unique values : 10\n",
      "Null values : 4759\n",
      "[ 1.  4. nan  2.  3.  6.  8.  5. 14.  7. 19.] \n",
      "\n",
      "Column : Experience \n",
      "\n",
      "Number of unique values : 415\n",
      "Null values : 9351\n",
      "[ 5.4  2.3 11.   9.7  nan  0.6 10.1  5.8  0.3  3.2  4.3  1.6  8.1  1.1\n",
      "  4.   4.4 18.  17.6  4.2  8.5 14.9  2.  17.  17.9  1.  20.1  1.4  2.9\n",
      "  4.7  2.5 13.1  2.2  3.4 11.2 10.   7.5  0.4  3.  13.9  6.7  0.9  2.4\n",
      " 21.2 39.  13.8  4.9  8.7  5.6 20.5  0.5  3.6  4.1  3.5 22.   5.1  8.4\n",
      "  1.8  9.9  3.7  6.6  2.6 23.8  6.2  7.7  8.2  4.6 14.1  4.5  2.7  1.7\n",
      " 25.7  3.3 16.2 12.7  2.1  2.8  9.4 19.5 13.   7.8  5.3  3.9 11.1  3.1\n",
      " 32.5  7.1  5.   6.  12.9 10.6  0.7 18.9 13.7  0.8 18.2 14.7 12.1 14.8\n",
      " 24.2 10.2 14.3  5.2  9.3  3.8 15.5 16.7 10.5  1.5  4.8 10.4 10.9 11.6\n",
      "  6.3 21.6  5.5 11.8 17.3 13.4 10.8  9.6 32.4  7.9  6.5  9.5 11.3  8.6\n",
      "  7.3  1.9 24.  12.6  6.9  6.1  7.6 22.2  9.  38.8 16.1  9.8  5.7  6.4\n",
      " 15.1  1.3  1.2 26.2 16.3 11.9  8.   9.2 42.   8.3 17.1 23.9 19.2 14.6\n",
      " 17.2 19.  15.9 15.3 14.4 20.3  5.9 13.5 10.7 19.9 22.5 26.9 13.3 12.\n",
      " 18.4 34.1 11.4 14.2 22.1 16.5 31.5  9.1 36.1 26.1 19.7 22.6 19.8 27.1\n",
      " 21.5 23.1 36.  20.   8.9 14.  21.7 11.7 23.  12.3 28.  41.2 17.7 25.2\n",
      " 22.3  7.4 24.4  0.1 27.9 27.2 11.5  8.8 20.9 22.4  6.8  7.2 18.8 21.3\n",
      " 12.8 12.4  7.  29.5 21.4 15.4 13.6 39.2 28.2 15.8 28.3 18.5 33.6 16.8\n",
      " 19.4 24.9 19.3 19.1 19.6 20.2  0.2 26.7 22.7 30.1 34.8 18.3 37.1 16.\n",
      " 28.1 25.1 10.3 12.2 15.  21.8 29.3 17.5 21.  14.5 28.9 31.7 38.9 12.5\n",
      " 13.2 21.1 23.3 33.4 20.6 26.  31.6  0.  30.7 17.4 33.2 17.8 35.7 38.\n",
      " 23.4 16.9 30.6 20.8 25.6 25.4 30.5 29.1 33.9 29.  32.8 31.1 27.4 24.1\n",
      " 37.5 15.7 24.3 16.4 40.8 35.9 33.  36.6 37.4 18.6 23.6 37.9 22.9 34.3\n",
      " 34.7 34.2 16.6 25.5 26.4 18.7 28.6 32.6 15.2 35.6 15.6 20.7 31.2 27.5\n",
      " 33.1 20.4 29.2 26.8 25.  29.9 34.9 23.7 34.4 28.4 42.5 33.5 29.8 28.8\n",
      " 30.3 24.7 26.3 44.8 35.  26.6 28.5 31.3 29.4 24.8 27.  23.5 30.  36.7\n",
      " 18.1 26.5 27.7 27.6 32.1 30.2 35.1 32.  38.3 29.6 25.9 22.8 25.8 27.8\n",
      " 47.  30.4 39.5 31.8 31.4 21.9 34.5 30.8 24.5 32.2 36.9 27.3 38.1 40.5\n",
      " 41.  24.6 43.1 34.6 39.6 43.4 29.7 32.9 37.2 23.2 30.9 37.3 37.  36.2\n",
      " 33.7 36.3 41.3 32.7 32.3 37.7 37.6 25.3 33.8 35.4 39.4 40.1 36.8 35.3\n",
      " 35.2 43.7 38.4 41.9 31.9 28.7 34.  48.1 39.7 35.5 41.4 39.3 31.  40.7\n",
      " 42.1 36.4 45.2 35.8 36.5 39.8 33.3 42.4 38.6 38.5] \n",
      "\n",
      "Column : Dependents \n",
      "\n",
      "Number of unique values : 9\n",
      "Null values : 0\n",
      "[3. 2. 4. 1. 5. 6. 8. 7. 9.] \n",
      "\n",
      "Column : Company_Rating \n",
      "\n",
      "Number of unique values : 3\n",
      "Null values : 5053\n",
      "[ 2.  3.  1. nan] \n",
      "\n",
      "Column : Age \n",
      "\n",
      "Number of unique values : 49\n",
      "Null values : 0\n",
      "[39. 46. 33. 48. 53. 36. 62. 44. 28. 57. 34. 65. 35. 63. 32. 61. 45. 43.\n",
      " 59. 60. 56. 50. 51. 42. 49. 23. 37. 41. 55. 38. 27. 29. 58. 54. 40. 24.\n",
      " 52. 25. 31. 66. 30. 47. 67. 64. 26. 22. 68. 69. 21.] \n",
      "\n",
      "Column : hour_Process \n",
      "\n",
      "Number of unique values : 26\n",
      "Null values : 0\n",
      "[11. 13. 15. 12.  7. 10.  5. 14. 19. 24.  8.  3.  9. 16. 17.  6. 18.  4.\n",
      " 21. 20. 22.  1.  2.  0. 23. 25.] \n",
      "\n",
      "Column : c1_rated \n",
      "\n",
      "Number of unique values : 850\n",
      "Null values : 7363\n",
      "[0.349 0.237 0.111 0.323 0.94  0.258 0.275 0.264 0.286 0.901 0.584 0.69\n",
      " 0.89    nan 0.317 0.242 0.392 0.159 0.384 0.101 0.238 0.791 0.263 0.799\n",
      " 0.375 0.814 0.359 0.231 0.315 0.872 0.762 0.225 0.546 0.245 0.269 0.826\n",
      " 0.069 0.733 0.667 0.406 0.905 0.789 0.246 0.898 0.229 0.114 0.699 0.756\n",
      " 0.792 0.759 0.63  0.333 0.177 0.309 0.289 0.802 0.835 0.339 0.201 0.831\n",
      " 0.624 0.226 0.182 0.824 0.893 0.803 0.868 0.618 0.725 0.873 0.39  0.345\n",
      " 0.575 0.355 0.886 0.904 0.223 0.25  0.751 0.773 0.651 0.808 0.697 0.582\n",
      " 0.724 0.858 0.271 0.743 0.55  0.737 0.561 0.822 0.726 0.21  0.307 0.662\n",
      " 0.287 0.916 0.171 0.338 0.661 0.196 0.322 0.386 0.379 0.551 0.813 0.134\n",
      " 0.135 0.251 0.063 0.907 0.273 0.79  0.854 0.911 0.302 0.655 0.367 0.86\n",
      " 0.107 0.19  0.288 0.394 0.877 0.335 0.209 0.807 0.348 0.252 0.361 0.026\n",
      " 0.54  0.086 0.794 0.842 0.797 0.817 0.401 0.33  0.039 0.783 0.412 0.153\n",
      " 0.566 0.834 0.266 0.853 0.304 0.262 0.87  0.779 0.829 0.22  0.4   0.657\n",
      " 0.334 0.766 0.06  0.754 0.704 0.365 0.734 0.819 0.381 0.631 0.707 0.616\n",
      " 0.353 0.021 0.716 0.154 0.215 0.36  0.728 0.176 0.785 0.331 0.26  0.786\n",
      " 0.906 0.383 0.326 0.227 0.59  0.65  0.698 0.189 0.261 0.272 0.828 0.606\n",
      " 0.587 0.626 0.352 0.839 0.206 0.811 0.746 0.247 0.139 0.855 0.396 0.897\n",
      " 0.88  0.656 0.678 0.255 0.311 0.867 0.564 0.68  0.312 0.146 0.174 0.098\n",
      " 0.757 0.281 0.301 0.849 0.554 0.081 0.806 0.608 0.234 0.749 0.772 0.841\n",
      " 0.776 0.342 0.282 0.2   0.691 0.377 0.674 0.358 0.887 0.    0.669 0.108\n",
      " 0.64  0.735 0.67  0.17  0.239 0.35  0.387 0.719 0.235 0.233 0.816 0.198\n",
      " 0.563 0.731 0.354 0.787 0.364 0.705 0.398 0.681 0.029 0.891 0.105 0.228\n",
      " 0.202 0.852 0.116 0.324 0.319 0.276 0.244 0.346 0.402 0.265 0.14  0.224\n",
      " 0.81  0.533 0.558 0.216 0.218 0.298 0.303 0.864 0.637 0.643 0.249 0.857\n",
      " 0.217 0.739 0.371 0.622 0.415 0.538 0.588 0.623 0.682 0.742 0.594 0.736\n",
      " 0.193 0.709 0.256 0.219 0.76  0.833 0.771 0.295 0.142 0.83  0.649 0.78\n",
      " 0.308 0.41  0.366 0.137 0.37  0.514 0.158 0.654 0.421 0.087 0.112 0.194\n",
      " 0.758 0.291 0.696 0.095 0.863 0.683 0.363 0.195 0.883 0.764 0.329 0.184\n",
      " 0.532 0.155 0.801 0.74  0.389 0.15  0.671 0.795 0.595 0.327 0.164 0.297\n",
      " 0.777 0.296 0.541 0.341 0.689 0.545 0.188 0.815 0.181 0.714 0.397 0.865\n",
      " 0.336 0.559 0.045 0.788 0.804 0.428 0.687 0.741 0.717 0.706 0.856 0.068\n",
      " 0.62  0.603 0.172 0.293 0.405 0.178 0.918 0.768 0.861 0.917 0.91  0.847\n",
      " 0.024 0.528 0.294 0.525 0.102 0.053 0.403 0.902 0.585 0.12  0.3   0.664\n",
      " 0.183 0.208 0.16  0.721 0.72  0.581 0.666 0.884 0.27  0.765 0.832 0.7\n",
      " 0.713 0.805 0.812 0.32  0.796 0.8   0.314 0.169 0.393 0.325 0.752 0.222\n",
      " 0.753 0.162 0.553 0.332 0.723 0.277 0.416 0.328 0.241 0.614 0.778 0.186\n",
      " 0.094 0.305 0.292 0.191 0.903 0.729 0.659 0.613 0.29  0.658 0.761 0.18\n",
      " 0.639 0.531 0.793 0.712 0.259 0.679 0.641 0.254 0.42  0.129 0.163 0.56\n",
      " 0.151 0.635 0.283 0.221 0.837 0.638 0.143 0.627 0.08  0.173 0.279 0.378\n",
      " 0.391 0.619 0.408 0.213 0.769 0.688 0.677 0.373 0.23  0.775 0.647 0.912\n",
      " 0.123 0.84  0.103 0.573 0.923 0.067 0.845 0.388 0.798 0.385 0.809 0.05\n",
      " 0.899 0.207 0.684 0.748 0.321 0.343 0.823 0.035 0.199 0.433 0.66  0.033\n",
      " 0.122 0.784 0.192 0.236 0.24  0.214 0.58  0.885 0.846 0.574 0.34  0.598\n",
      " 0.908 0.685 0.859 0.615 0.205 0.337 0.253 0.711 0.738 0.609 0.187 0.145\n",
      " 0.399 0.675 0.318 0.043 0.879 0.774 0.04  0.702 0.267 0.166 0.31  0.133\n",
      " 0.555 0.57  0.708 0.781 0.838 0.693 0.368 0.13  0.875 0.306 0.285 0.586\n",
      " 0.715 0.569 0.144 0.543 0.015 0.722 0.038 0.767 0.175 0.168 0.869 0.827\n",
      " 0.648 0.357 0.138 0.104 0.148 0.583 0.932 0.313 0.299 0.083 0.843 0.93\n",
      " 0.1   0.601 0.065 0.257 0.284 0.571 0.347 0.147 0.862 0.894 0.046 0.404\n",
      " 0.825 0.118 0.411 0.106 0.052 0.092 0.204 0.625 0.718 0.072 0.179 0.727\n",
      " 0.521 0.589 0.668 0.056 0.278 0.552 0.821 0.099 0.074 0.119 0.132 0.165\n",
      " 0.075 0.85  0.117 0.605 0.653 0.851 0.933 0.28  0.665 0.423 0.161 0.078\n",
      " 0.836 0.031 0.351 0.5   0.548 0.126 0.6   0.591 0.632 0.197 0.763 0.156\n",
      " 0.07  0.889 0.356 0.77  0.073 0.093 0.316 0.43  0.652 0.085 0.646 0.076\n",
      " 0.041 0.745 0.888 0.526 0.782 0.362 0.268 0.422 0.597 0.149 0.634 0.701\n",
      " 0.692 0.424 0.874 0.432 0.876 0.73  0.71  0.881 0.593 0.243 0.232 0.612\n",
      " 0.212 0.53  0.755 0.084 0.818 0.896 0.248 0.747 0.115 0.596 0.211 0.703\n",
      " 0.663 0.848 0.058 0.914 0.185 0.75  0.157 0.557 0.057 0.892 0.027 0.079\n",
      " 0.611 0.048 0.044 0.913 0.547 0.633 0.844 0.567 0.38  0.642 0.686 0.523\n",
      " 0.369 0.578 0.895 0.599 0.694 0.592 0.549 0.274 0.382 0.941 0.527 0.152\n",
      " 0.124 0.097 0.922 0.127 0.413 0.096 0.562 0.534 0.128 0.645 0.344 0.572\n",
      " 0.617 0.141 0.629 0.644 0.09  0.871 0.568 0.732 0.628 0.602 0.676 0.089\n",
      " 0.9   0.878 0.042 0.926 0.376 0.695 0.672 0.071 0.037 0.395 0.576 0.054\n",
      " 0.077 0.113 0.82  0.565 0.136 0.062 0.556 0.529 0.536 0.673 0.524 0.167\n",
      " 0.544 0.088 0.511 0.522 0.636 0.919 0.52  0.051 0.125 0.607 0.372 0.055\n",
      " 0.419 0.131 0.036 0.109 0.417 0.091 0.539 0.579 0.915 0.064 0.542 0.621\n",
      " 0.61  0.203 0.535 0.047 0.866 0.082 0.924 0.92  0.744 0.927 0.11  0.061\n",
      " 0.882 0.414 0.577 0.025 0.059 0.02  0.518 0.066 0.019 0.519 0.418 0.425\n",
      " 0.604 0.013 0.431 0.374 0.016 0.409 0.928 0.032 0.028 0.441 0.921 0.022\n",
      " 0.909 0.512 0.407 0.121 0.931 0.537 0.049 0.426 0.03  0.023 0.429 0.017\n",
      " 0.018 0.517 0.939 0.034 0.929 0.516 0.012 0.427 0.014 0.937 0.447] \n",
      "\n",
      "Column : c2_rated \n",
      "\n"
     ]
    },
    {
     "name": "stdout",
     "output_type": "stream",
     "text": [
      "Number of unique values : 851\n",
      "Null values : 5655\n",
      "[0.349 0.237 0.111 0.323 0.94    nan 0.275 0.264 0.286 0.901 0.584 0.69\n",
      " 0.276 0.317 0.242 0.392 0.159 0.093 0.101 0.238 0.791 0.799 0.375 0.814\n",
      " 0.359 0.231 0.315 0.872 0.762 0.546 0.245 0.826 0.069 0.733 0.667 0.616\n",
      " 0.406 0.905 0.789 0.891 0.898 0.229 0.114 0.699 0.756 0.792 0.759 0.63\n",
      " 0.644 0.333 0.177 0.309 0.289 0.802 0.835 0.339 0.783 0.201 0.831 0.252\n",
      " 0.226 0.182 0.078 0.33  0.824 0.648 0.893 0.209 0.868 0.725 0.873 0.89\n",
      " 0.345 0.575 0.355 0.886 0.904 0.633 0.384 0.223 0.751 0.773 0.17  0.651\n",
      " 0.808 0.697 0.582 0.724 0.271 0.743 0.55  0.561 0.822 0.664 0.21  0.241\n",
      " 0.307 0.662 0.287 0.916 0.793 0.171 0.198 0.661 0.196 0.322 0.386 0.379\n",
      " 0.618 0.551 0.813 0.134 0.135 0.251 0.108 0.063 0.907 0.273 0.79  0.854\n",
      " 0.911 0.302 0.655 0.367 0.698 0.86  0.107 0.19  0.801 0.288 0.394 0.194\n",
      " 0.877 0.335 0.807 0.348 0.432 0.361 0.026 0.54  0.794 0.842 0.402 0.817\n",
      " 0.412 0.153 0.566 0.834 0.266 0.853 0.304 0.262 0.87  0.779 0.829 0.22\n",
      " 0.4   0.657 0.334 0.766 0.06  0.704 0.316 0.365 0.734 0.819 0.381 0.707\n",
      " 0.353 0.021 0.716 0.154 0.215 0.36  0.728 0.176 0.785 0.331 0.26  0.385\n",
      " 0.786 0.906 0.624 0.326 0.227 0.59  0.65  0.189 0.261 0.865 0.272 0.828\n",
      " 0.606 0.587 0.626 0.352 0.839 0.206 0.811 0.746 0.247 0.269 0.684 0.855\n",
      " 0.754 0.396 0.897 0.895 0.88  0.656 0.678 0.255 0.311 0.867 0.564 0.312\n",
      " 0.146 0.174 0.714 0.757 0.281 0.301 0.849 0.554 0.62  0.081 0.806 0.608\n",
      " 0.234 0.712 0.749 0.772 0.841 0.776 0.342 0.282 0.2   0.859 0.377 0.674\n",
      " 0.401 0.358 0.887 0.68  0.    0.669 0.64  0.735 0.67  0.239 0.35  0.387\n",
      " 0.719 0.235 0.233 0.816 0.691 0.761 0.354 0.787 0.364 0.705 0.398 0.681\n",
      " 0.765 0.029 0.105 0.228 0.852 0.742 0.116 0.324 0.319 0.244 0.346 0.265\n",
      " 0.14  0.224 0.81  0.533 0.258 0.558 0.572 0.216 0.218 0.298 0.294 0.303\n",
      " 0.864 0.637 0.643 0.249 0.857 0.217 0.739 0.622 0.415 0.538 0.588 0.623\n",
      " 0.682 0.594 0.736 0.193 0.709 0.256 0.219 0.76  0.833 0.771 0.295 0.142\n",
      " 0.83  0.649 0.308 0.41  0.366 0.137 0.37  0.279 0.514 0.158 0.654 0.421\n",
      " 0.087 0.112 0.738 0.758 0.383 0.291 0.696 0.095 0.863 0.683 0.363 0.296\n",
      " 0.195 0.883 0.764 0.329 0.184 0.211 0.532 0.74  0.389 0.15  0.671 0.795\n",
      " 0.595 0.164 0.263 0.297 0.777 0.541 0.341 0.689 0.545 0.673 0.181 0.397\n",
      " 0.889 0.336 0.559 0.045 0.788 0.804 0.687 0.741 0.726 0.717 0.706 0.856\n",
      " 0.068 0.603 0.172 0.293 0.405 0.178 0.918 0.768 0.861 0.917 0.91  0.024\n",
      " 0.528 0.525 0.102 0.053 0.403 0.585 0.12  0.3   0.183 0.208 0.16  0.721\n",
      " 0.72  0.581 0.666 0.27  0.7   0.713 0.805 0.407 0.812 0.32  0.411 0.796\n",
      " 0.39  0.858 0.8   0.314 0.169 0.325 0.752 0.222 0.753 0.162 0.553 0.775\n",
      " 0.332 0.723 0.277 0.416 0.328 0.614 0.778 0.186 0.094 0.305 0.292 0.191\n",
      " 0.729 0.659 0.613 0.29  0.658 0.086 0.639 0.531 0.797 0.679 0.641 0.254\n",
      " 0.42  0.832 0.129 0.163 0.56  0.925 0.151 0.635 0.283 0.221 0.259 0.932\n",
      " 0.837 0.212 0.638 0.143 0.627 0.08  0.173 0.378 0.391 0.619 0.879 0.408\n",
      " 0.774 0.213 0.769 0.5   0.688 0.677 0.373 0.23  0.737 0.246 0.912 0.123\n",
      " 0.84  0.139 0.103 0.573 0.393 0.923 0.18  0.067 0.845 0.388 0.798 0.809\n",
      " 0.05  0.902 0.207 0.38  0.748 0.343 0.823 0.035 0.096 0.199 0.433 0.66\n",
      " 0.033 0.122 0.784 0.225 0.192 0.236 0.24  0.214 0.847 0.58  0.885 0.574\n",
      " 0.34  0.598 0.908 0.685 0.615 0.205 0.715 0.337 0.253 0.727 0.711 0.846\n",
      " 0.875 0.187 0.145 0.676 0.399 0.675 0.318 0.043 0.267 0.731 0.04  0.702\n",
      " 0.166 0.31  0.079 0.133 0.815 0.202 0.555 0.57  0.781 0.838 0.693 0.368\n",
      " 0.248 0.597 0.13  0.896 0.057 0.306 0.285 0.586 0.569 0.543 0.722 0.038\n",
      " 0.767 0.088 0.175 0.168 0.869 0.827 0.357 0.138 0.104 0.148 0.583 0.313\n",
      " 0.299 0.083 0.843 0.93  0.1   0.601 0.321 0.065 0.899 0.257 0.284 0.571\n",
      " 0.347 0.147 0.862 0.894 0.046 0.404 0.338 0.825 0.118 0.106 0.052 0.092\n",
      " 0.204 0.695 0.625 0.718 0.612 0.066 0.521 0.076 0.589 0.668 0.609 0.552\n",
      " 0.821 0.099 0.074 0.119 0.132 0.165 0.075 0.85  0.117 0.605 0.653 0.851\n",
      " 0.933 0.28  0.903 0.179 0.665 0.423 0.161 0.836 0.031 0.351 0.126 0.6\n",
      " 0.591 0.602 0.632 0.197 0.763 0.156 0.07  0.356 0.77  0.073 0.43  0.652\n",
      " 0.085 0.646 0.041 0.745 0.701 0.526 0.782 0.362 0.268 0.563 0.149 0.634\n",
      " 0.692 0.874 0.876 0.73  0.327 0.71  0.155 0.881 0.593 0.243 0.232 0.53\n",
      " 0.755 0.084 0.818 0.747 0.115 0.596 0.547 0.703 0.25  0.663 0.848 0.058\n",
      " 0.914 0.424 0.185 0.75  0.157 0.557 0.371 0.892 0.027 0.611 0.278 0.044\n",
      " 0.913 0.844 0.567 0.642 0.686 0.523 0.369 0.578 0.599 0.152 0.694 0.592\n",
      " 0.549 0.417 0.274 0.382 0.941 0.527 0.78  0.124 0.428 0.097 0.127 0.548\n",
      " 0.562 0.128 0.542 0.645 0.919 0.344 0.188 0.429 0.091 0.617 0.141 0.803\n",
      " 0.629 0.09  0.884 0.871 0.568 0.732 0.017 0.628 0.647 0.089 0.9   0.878\n",
      " 0.042 0.926 0.376 0.708 0.071 0.098 0.672 0.576 0.054 0.113 0.82  0.565\n",
      " 0.136 0.062 0.556 0.121 0.529 0.536 0.048 0.524 0.167 0.922 0.544 0.422\n",
      " 0.511 0.522 0.636 0.52  0.051 0.125 0.607 0.372 0.419 0.131 0.036 0.077\n",
      " 0.621 0.539 0.579 0.015 0.888 0.915 0.144 0.61  0.517 0.203 0.535 0.534\n",
      " 0.047 0.409 0.866 0.395 0.082 0.924 0.92  0.744 0.927 0.11  0.061 0.072\n",
      " 0.413 0.414 0.577 0.025 0.059 0.631 0.604 0.02  0.518 0.109 0.064 0.055\n",
      " 0.056 0.519 0.039 0.418 0.425 0.374 0.013 0.431 0.016 0.882 0.928 0.032\n",
      " 0.028 0.441 0.537 0.022 0.909 0.512 0.931 0.049 0.019 0.427 0.03  0.023\n",
      " 0.037 0.921 0.018 0.426 0.939 0.034 0.516 0.014 0.012 0.444 0.937 0.447] \n",
      "\n",
      "Column : Contact_age \n",
      "\n",
      "Number of unique values : 3430\n",
      "Null values : 3522\n",
      "[3133. 1730.  759. ... 3420. 3933. 2296.] \n",
      "\n",
      "Column : Product_bought \n",
      "\n",
      "Number of unique values : 23\n",
      "Null values : 0\n",
      "[ 2.  5.  4.  1.  3.  6.  8.  0.  9.  7. 10. 23. 11. 12. 14. 17. 16. 15.\n",
      " 22. 26. 19. 20. 13.] \n",
      "\n"
     ]
    }
   ],
   "source": [
    "#  Test Dataset\n",
    "\n",
    "for i in num_test:\n",
    "    print(\"Column :\",i, \"\\n\")\n",
    "    print(\"Number of unique values :\", test[i].nunique())\n",
    "    print(\"Null values :\", test[i].isna().sum())\n",
    "    \n",
    "    print(test[i].unique(), \"\\n\")"
   ]
  },
  {
   "cell_type": "raw",
   "id": "26745327",
   "metadata": {},
   "source": [
    "# Null Values in test\n",
    "\n",
    "1. Compensation 2750\n",
    "2. Annuity_amt  1963\n",
    "3. density_Ind  2275\n",
    "4. Home_Appliances 4759\n",
    "5. Experience      9351\n",
    "6. company_rating  5053\n",
    "7. c1_rated        7363\n",
    "8. c2_rated        5655\n",
    "9. Contact_age     3522"
   ]
  },
  {
   "cell_type": "raw",
   "id": "5da35e06",
   "metadata": {},
   "source": [
    "# Not null values in test dataset\n",
    "\n",
    "1. Loan_amt\n",
    "2. Dependents \n",
    "3. Age\n",
    "4. hour_process\n",
    "5. Product_bought"
   ]
  },
  {
   "cell_type": "code",
   "execution_count": 20,
   "id": "088b5d97",
   "metadata": {},
   "outputs": [
    {
     "name": "stdout",
     "output_type": "stream",
     "text": [
      "Column : Compensation \n",
      "\n",
      "Number of unique values : 84095\n",
      "Null values : 6242\n",
      "[ 801850.  884222.  284120. ... 1471170.  613585.  533725.] \n",
      "\n",
      "Column : Loan_amt \n",
      "\n",
      "Number of unique values : 119260\n",
      "Null values : 0\n",
      "[658040.  198075.  101056.  ... 640232.  528490.2 330222. ] \n",
      "\n",
      "Column : Annuity_amt \n",
      "\n",
      "Number of unique values : 117192\n",
      "Null values : 4611\n",
      "[13816.52 11173.06  8390.4  ... 11587.54 13008.76 10250.65] \n",
      "\n",
      "Column : density_Ind \n",
      "\n",
      "Number of unique values : 417\n",
      "Null values : 5416\n",
      "[3.0400e-02 1.9400e-02 1.1800e-02 3.7300e-02 1.3800e-02 2.3600e-02\n",
      " 8.9000e-03 6.2000e-03 3.6800e-02 3.4500e-02 4.8000e-03 8.0000e-04\n",
      " 2.1000e-02 1.7000e-03 1.0500e-02 3.6500e-02 3.0300e-02 5.7000e-03\n",
      "        nan 1.7200e-02 3.5100e-02 7.9000e-03 2.0000e-03 1.5500e-02\n",
      " 1.5700e-02 1.4800e-02 1.9000e-03 4.9000e-03 2.7700e-02 2.4200e-02\n",
      " 1.2500e-02 2.7200e-02 2.0200e-02 2.5000e-02 2.5700e-02 8.1000e-03\n",
      " 1.6800e-02 3.2700e-02 3.1700e-02 9.2000e-03 2.2300e-02 1.6200e-02\n",
      " 1.0900e-02 5.2000e-03 2.9300e-02 2.2600e-02 1.7700e-02 3.9100e-02\n",
      " 2.6600e-02 2.9200e-02 1.4000e-03 6.9000e-03 3.8600e-02 1.8900e-02\n",
      " 2.7500e-02 4.0100e-02 2.5600e-02 2.0500e-02 3.1000e-02 1.7000e-02\n",
      " 2.6200e-02 2.4500e-02 2.4300e-02 2.8100e-02 2.6800e-02 2.4000e-02\n",
      " 8.2000e-03 1.5000e-02 3.5500e-02 2.0300e-02 1.1100e-02 2.1100e-02\n",
      " 1.9600e-02 1.3900e-02 2.3000e-02 3.1600e-02 9.0000e-03 8.6000e-03\n",
      " 3.9200e-02 8.3000e-03 7.8000e-03 3.0700e-02 3.4600e-02 7.5000e-03\n",
      " 2.0900e-02 8.8000e-03 2.0400e-02 4.0000e-02 2.5100e-02 1.1000e-02\n",
      " 3.9500e-02 3.4000e-03 3.2000e-03 1.9900e-02 3.9400e-02 3.4100e-02\n",
      " 1.2600e-02 7.7000e-03 3.2800e-02 2.0600e-02 3.6700e-02 8.0000e-03\n",
      " 1.6300e-02 7.1000e-03 2.2500e-02 2.1400e-02 2.7600e-02 2.9700e-02\n",
      " 1.5200e-02 2.4600e-02 1.5600e-02 1.2000e-03 3.4300e-02 2.5200e-02\n",
      " 1.8100e-02 2.4400e-02 2.5900e-02 5.1000e-03 2.7400e-02 2.3700e-02\n",
      " 2.6000e-03 1.3500e-02 3.7400e-02 1.6000e-02 4.6000e-03 1.5400e-02\n",
      " 2.2400e-02 6.6000e-03 4.1000e-03 1.7500e-02 3.2200e-02 3.1500e-02\n",
      " 6.8000e-03 1.4900e-02 4.5000e-03 3.5700e-02 3.3000e-03 1.0300e-02\n",
      " 8.4000e-03 3.1900e-02 7.4000e-03 3.3400e-02 3.8000e-02 1.2200e-02\n",
      " 3.5200e-02 9.1000e-03 6.5000e-03 3.1400e-02 2.2700e-02 1.9500e-02\n",
      " 3.8500e-02 3.8000e-03 3.5000e-02 3.6600e-02 3.6900e-02 2.8400e-02\n",
      " 1.2700e-02 3.9000e-02 3.4700e-02 2.5800e-02 9.9000e-03 3.2300e-02\n",
      " 1.0700e-02 1.0200e-02 1.4200e-02 2.6000e-02 1.2900e-02 3.0000e-03\n",
      " 2.5300e-02 2.7000e-03 3.9600e-02 1.6600e-02 2.4100e-02 2.4000e-03\n",
      " 2.7300e-02 3.5600e-02 3.1300e-02 2.8600e-02 2.6900e-02 3.6000e-02\n",
      " 2.3200e-02 9.7000e-03 3.7000e-02 3.7000e-03 3.7200e-02 2.3400e-02\n",
      " 2.9600e-02 3.3500e-02 1.8400e-02 3.2100e-02 3.1100e-02 3.3900e-02\n",
      " 3.1000e-03 2.9100e-02 2.7800e-02 2.4700e-02 2.9900e-02 5.6000e-03\n",
      " 9.8000e-03 3.9000e-03 2.5000e-03 6.0000e-04 1.2000e-02 4.0000e-03\n",
      " 2.5500e-02 2.6300e-02 1.7300e-02 2.9800e-02 2.1800e-02 3.1800e-02\n",
      " 9.6000e-03 4.0200e-02 5.4000e-03 4.4000e-03 2.1200e-02 1.0600e-02\n",
      " 1.4600e-02 3.4900e-02 5.0000e-03 2.3000e-03 6.0000e-03 2.9000e-02\n",
      " 2.1600e-02 1.9200e-02 3.2900e-02 1.3100e-02 1.5800e-02 1.3300e-02\n",
      " 2.1000e-03 3.3700e-02 3.7800e-02 1.8800e-02 3.3000e-02 3.0900e-02\n",
      " 2.9500e-02 2.1300e-02 1.7900e-02 2.8900e-02 4.2000e-03 2.3900e-02\n",
      " 1.8000e-03 1.5300e-02 9.0000e-04 2.1900e-02 1.7600e-02 1.4700e-02\n",
      " 9.3000e-03 7.6000e-03 8.5000e-03 1.1400e-02 3.2000e-02 2.1700e-02\n",
      " 1.8600e-02 3.9300e-02 2.4800e-02 3.3800e-02 1.9300e-02 1.4300e-02\n",
      " 2.3800e-02 2.9400e-02 3.2500e-02 1.4000e-02 1.3000e-03 1.1500e-02\n",
      " 3.4000e-02 3.5400e-02 1.8000e-02 2.7000e-02 1.1300e-02 1.9100e-02\n",
      " 5.5000e-03 1.6000e-03 1.8700e-02 2.8800e-02 3.6200e-02 2.6400e-02\n",
      " 6.4000e-03 1.3000e-02 2.7900e-02 2.2200e-02 3.3100e-02 3.3600e-02\n",
      " 8.7000e-03 3.6400e-02 2.6700e-02 3.8400e-02 2.6500e-02 1.0400e-02\n",
      " 7.0000e-03 3.0100e-02 1.3400e-02 3.8900e-02 2.2800e-02 4.0300e-02\n",
      " 3.0500e-02 3.7900e-02 3.8800e-02 2.8200e-02 4.0600e-02 2.0800e-02\n",
      " 2.0000e-02 3.6300e-02 2.1500e-02 3.9800e-02 3.8100e-02 7.0000e-04\n",
      " 1.8500e-02 6.7000e-03 3.5800e-02 2.4900e-02 4.7000e-03 1.0800e-02\n",
      " 2.2100e-02 2.8300e-02 9.4000e-03 2.8000e-03 1.1900e-02 3.3200e-02\n",
      " 3.8700e-02 1.6500e-02 2.8000e-02 1.1600e-02 3.0600e-02 3.7600e-02\n",
      " 2.3300e-02 1.7800e-02 5.8000e-03 3.5300e-02 2.3100e-02 1.9000e-02\n",
      " 1.0000e-04 3.6100e-02 1.6100e-02 1.5000e-03 2.2900e-02 1.5900e-02\n",
      " 1.7400e-02 6.3000e-03 3.7700e-02 3.8300e-02 9.5000e-03 1.6900e-02\n",
      " 1.3200e-02 1.9800e-02 4.0500e-02 1.5100e-02 1.8200e-02 5.9000e-03\n",
      " 1.4100e-02 1.8300e-02 2.0700e-02 7.2000e-03 2.3500e-02 3.5000e-03\n",
      " 3.0000e-04 1.0100e-02 3.0200e-02 3.0800e-02 1.7100e-02 2.9000e-03\n",
      " 1.3600e-02 1.2800e-02 2.8700e-02 5.0000e-04 3.9900e-02 3.3300e-02\n",
      " 1.0000e-02 1.1000e-03 1.9700e-02 1.3700e-02 3.7500e-02 3.6000e-03\n",
      " 2.7100e-02 1.4500e-02 2.6100e-02 4.3000e-03 7.3000e-03 3.4200e-02\n",
      " 1.6700e-02 2.5400e-02 1.4400e-02 1.1700e-02 3.1200e-02 6.1000e-03\n",
      " 4.0400e-02 1.0000e-03 4.0800e-02 4.0000e-04 3.5900e-02 3.0000e-02\n",
      " 3.4400e-02 3.7100e-02 2.2000e-02 3.9700e-02 3.8200e-02 1.2400e-02\n",
      " 1.2100e-02 2.0000e-04 3.2600e-02 1.1200e-02 2.2000e-03 5.3000e-03\n",
      " 2.8500e-02 3.2400e-02 3.4800e-02 1.2300e-02 2.0100e-02 1.6400e-02\n",
      " 4.1300e-02 4.1000e-02 4.0900e-02 4.1200e-02 4.0700e-02 4.1400e-02\n",
      " 2.0178e+00 4.1100e-02 2.0156e+00 2.0033e+00] \n",
      "\n",
      "Column : Home_Appliances \n",
      "\n",
      "Number of unique values : 13\n",
      "Null values : 10964\n",
      "[nan  1.  4.  2.  3.  6.  5. 19. 10. 12.  7. 14.  9.  8.] \n",
      "\n",
      "Column : Experience \n",
      "\n",
      "Number of unique values : 446\n",
      "Null values : 21845\n",
      "[ 0.9  3.   nan  4.7  6.9 19.6  4.1 13.6  7.6  1.3  2.4  1.2 10.7  2.5\n",
      "  5.3 12.8 18.7  1.7  3.9 12.  10.3  1.   6.3  7.7  5.7 10.5  7.9 13.3\n",
      "  3.7  1.1 11.3  8.2  6.5  6.2  2.8  4.5  2.3  5.2  4.2  0.7 17.5  5.1\n",
      "  7.1 13.8  5.   3.3 21.2 21.7  1.6  8.8  6.1 10.8 19.1 13.1 15.6 17.7\n",
      " 10.   1.8 23.9 15.   3.4  7.8  5.6  8.   1.4  0.6 17.8  5.8 17.6 11.2\n",
      "  1.9  9.8 35.1  6.6  4.6  3.6  4.9  7.5  3.2  9.7  5.5  9.6  3.8  0.5\n",
      "  2.1  2.6  2.2  9.4 10.1  3.5  2.  11.9  1.5 29.2 11.1  6.  14.9 16.9\n",
      " 22.   7.   2.9 13.9 24.1  0.3  4.4 11.6  9.3 10.4 16.   0.4  8.3  2.7\n",
      " 34.   0.2  0.8 11.7  8.6  5.4 14.4  6.8 11.8 12.3  4.3  7.4 18.9  3.1\n",
      "  9.  19.5 11.5  9.2 19.2 14.5  9.1 22.3  8.9  8.7 11.  17.3 13.2  6.4\n",
      "  6.7  8.5  4.  14.1 23.4  8.4 20.1  5.9 23.2 15.5 12.6 21.4 20.3 12.9\n",
      "  4.8 18.3 16.6 28.  16.5 12.4  8.1 18.2 21.5 26.5  7.2 29.6 10.9  9.9\n",
      " 12.7 22.4 14.3 15.9 24.3 21.  31.9 35.4 16.7 29.4 13.  18.  14.6 23.5\n",
      " 25.5 37.8 27.9 10.6 31.  28.2 18.8 28.3 11.4 13.4 13.5  7.3 12.2 14.\n",
      " 33.3 32.8 25.6 10.2 20.5 15.8 29.  12.5 14.7  0.1 25.2 20.9 12.1 15.1\n",
      "  9.5 24.5 30.8 31.7 14.8 34.2 35.6 26.4 17.  20.  38.1 15.3 17.2 23.3\n",
      " 21.6 18.4 30.7 16.3 16.8 20.4 21.1 28.4 19.7 23.8 20.6 17.4 27.2 28.7\n",
      " 27.1 38.3 29.9 36.1 37.4 25.  32.1 35.  26.2 13.7 15.4 19.3 30.9 26.1\n",
      " 21.3 30.  25.4 25.9 15.7 19.8 35.7 15.2 24.6 21.8 16.4 23.1 33.8 31.2\n",
      " 14.2 16.2 36.9 23.  19.9 28.8 30.2 39.2 22.8 32.9 32.5 37.5 18.1 29.3\n",
      " 18.6 17.1 25.8 32.6 24.2 26.3 28.9 25.1 24.  28.1 22.5 29.7 24.8 41.9\n",
      " 31.3 18.5 22.2 34.5 20.2 23.7 26.7 16.1 39.1 35.2 33.1 38.5 20.7 28.5\n",
      " 40.3 40.6 27.8 32.4 27.6 42.3 20.8 22.7 29.1 33.  30.6 17.9 37.2 24.4\n",
      " 35.8 25.7 23.6 35.5 30.4 33.2 21.9 34.9 31.1 26.  31.8 19.4 26.6 30.1\n",
      " 43.1 27.4 32.  24.9 34.1 32.2 39.  22.6 38.  41.2 32.3 26.8 27.  31.6\n",
      " 37.3 38.4 39.4 22.1 29.5 22.9 41.4 25.3 27.5 48.  29.8 26.9 31.4 30.5\n",
      " 33.6 36.2 31.5 34.6 24.7  0.  37.9 37.1 36.6 32.7 27.7 19.  33.5 27.3\n",
      " 39.9 34.7 39.6 30.3 37.7 35.9 38.8 33.4 28.6 41.5 39.3 39.8 34.3 36.\n",
      " 40.1 36.5 34.4 40.5 33.7 45.1 36.4 38.9 40.  39.7 33.9 41.  35.3 36.8\n",
      " 42.4 36.3 36.7 44.7 37.  44.8 42.  42.2 42.7 41.3 38.7 34.8 43.3 41.7\n",
      " 40.7 40.4 44.9 48.1 38.2 40.2 42.5 47.  43.9 43.  44.1 39.5 42.8 45.7\n",
      " 44.2 37.6 45.6 45.2 43.6 40.8 43.4 42.9 45.3 40.9 44.3 41.1 46.2] \n",
      "\n",
      "Column : Dependents \n",
      "\n",
      "Number of unique values : 9\n",
      "Null values : 0\n",
      "[3. 2. 4. 1. 5. 6. 8. 7. 9.] \n",
      "\n",
      "Column : Company_Rating \n",
      "\n",
      "Number of unique values : 3\n",
      "Null values : 11731\n",
      "[ 2.  1.  3. nan] \n",
      "\n",
      "Column : Age \n",
      "\n",
      "Number of unique values : 49\n",
      "Null values : 0\n",
      "[46. 57. 39. 32. 43. 36. 50. 52. 34. 24. 23. 59. 65. 30. 35. 45. 44. 48.\n",
      " 31. 41. 47. 56. 51. 27. 29. 40. 37. 28. 55. 62. 53. 38. 63. 64. 49. 66.\n",
      " 61. 68. 42. 33. 21. 58. 60. 26. 25. 67. 54. 22. 69.] \n",
      "\n",
      "Column : hour_Process \n",
      "\n",
      "Number of unique values : 26\n",
      "Null values : 0\n",
      "[10. 12.  5. 16. 14.  9.  8. 11. 13. 15.  6. 18. 20. 17.  7. 19.  2.  3.\n",
      "  1.  4.  0. 22. 21. 24. 23. 25.] \n",
      "\n",
      "Column : c1_rated \n",
      "\n",
      "Number of unique values : 869\n",
      "Null values : 17513\n",
      "[0.077 0.184 0.538   nan 0.703 0.142 0.669 0.91  0.757 0.569 0.258 0.723\n",
      " 0.13  0.118 0.216 0.122 0.631 0.891 0.786 0.381 0.367 0.555 0.405 0.41\n",
      " 0.257 0.311 0.796 0.336 0.908 0.165 0.567 0.174 0.    0.765 0.893 0.649\n",
      " 0.837 0.831 0.272 0.788 0.749 0.237 0.693 0.568 0.815 0.147 0.716 0.132\n",
      " 0.666 0.196 0.735 0.319 0.379 0.911 0.305 0.361 0.14  0.898 0.287 0.613\n",
      " 0.385 0.29  0.068 0.371 0.076 0.792 0.233 0.801 0.262 0.63  0.273 0.278\n",
      " 0.731 0.692 0.696 0.798 0.269 0.186 0.712 0.751 0.201 0.329 0.706 0.592\n",
      " 0.754 0.787 0.618 0.855 0.402 0.678 0.126 0.255 0.078 0.77  0.314 0.673\n",
      " 0.644 0.342 0.62  0.212 0.351 0.247 0.294 0.805 0.899 0.354 0.769 0.629\n",
      " 0.846 0.171 0.852 0.768 0.159 0.752 0.096 0.195 0.3   0.251 0.218 0.198\n",
      " 0.743 0.614 0.108 0.697 0.391 0.795 0.642 0.187 0.107 0.818 0.655 0.595\n",
      " 0.865 0.242 0.036 0.399 0.866 0.836 0.838 0.326 0.585 0.573 0.79  0.246\n",
      " 0.537 0.409 0.605 0.686 0.862 0.253 0.762 0.324 0.285 0.884 0.896 0.763\n",
      " 0.234 0.31  0.658 0.564 0.594 0.393 0.248 0.359 0.296 0.817 0.847 0.241\n",
      " 0.264 0.702 0.089 0.243 0.783 0.85  0.589 0.162 0.68  0.906 0.842 0.607\n",
      " 0.416 0.545 0.772 0.804 0.5   0.785 0.87  0.88  0.675 0.209 0.7   0.384\n",
      " 0.709 0.266 0.869 0.12  0.178 0.219 0.546 0.886 0.663 0.774 0.169 0.741\n",
      " 0.691 0.86  0.34  0.593 0.334 0.25  0.215 0.388 0.806 0.764 0.2   0.829\n",
      " 0.885 0.721 0.235 0.362 0.835 0.745 0.671 0.109 0.67  0.277 0.062 0.56\n",
      " 0.69  0.112 0.895 0.789 0.047 0.602 0.299 0.183 0.73  0.39  0.861 0.841\n",
      " 0.661 0.889 0.8   0.653 0.742 0.301 0.224 0.82  0.873 0.072 0.113 0.281\n",
      " 0.051 0.284 0.276 0.912 0.339 0.188 0.616 0.164 0.417 0.313 0.322 0.71\n",
      " 0.626 0.867 0.055 0.724 0.799 0.791 0.43  0.689 0.337 0.306 0.059 0.317\n",
      " 0.355 0.825 0.175 0.016 0.19  0.667 0.207 0.32  0.74  0.203 0.919 0.876\n",
      " 0.797 0.087 0.824 0.1   0.17  0.155 0.679 0.758 0.166 0.365 0.75  0.811\n",
      " 0.72  0.289 0.353 0.238 0.307 0.598 0.64  0.292 0.363 0.406 0.422 0.357\n",
      " 0.746 0.828 0.856 0.167 0.699 0.148 0.125 0.032 0.744 0.374 0.271 0.543\n",
      " 0.528 0.349 0.345 0.423 0.853 0.259 0.794 0.781 0.652 0.753 0.265 0.377\n",
      " 0.202 0.822 0.172 0.386 0.688 0.535 0.103 0.687 0.534 0.135 0.863 0.07\n",
      " 0.708 0.163 0.875 0.722 0.839 0.826 0.734 0.403 0.15  0.586 0.623 0.364\n",
      " 0.084 0.833 0.229 0.36  0.932 0.37  0.812 0.759 0.309 0.375 0.819 0.84\n",
      " 0.659 0.9   0.813 0.231 0.747 0.213 0.347 0.23  0.335 0.635 0.654 0.066\n",
      " 0.185 0.76  0.552 0.275 0.803 0.907 0.181 0.81  0.154 0.396 0.137 0.382\n",
      " 0.21  0.808 0.387 0.802 0.738 0.643 0.936 0.674 0.713 0.782 0.777 0.881\n",
      " 0.784 0.766 0.882 0.254 0.684 0.66  0.665 0.194 0.328 0.584 0.318 0.419\n",
      " 0.916 0.539 0.548 0.346 0.843 0.578 0.189 0.308 0.098 0.205 0.176 0.541\n",
      " 0.06  0.761 0.099 0.647 0.249 0.029 0.879 0.698 0.609 0.404 0.312 0.333\n",
      " 0.622 0.639 0.677 0.89  0.646 0.304 0.179 0.015 0.611 0.217 0.725 0.773\n",
      " 0.901 0.728 0.27  0.204 0.338 0.392 0.714 0.705 0.407 0.597 0.767 0.395\n",
      " 0.358 0.348 0.608 0.245 0.283 0.638 0.332 0.22  0.887 0.227 0.223 0.737\n",
      " 0.368 0.297 0.719 0.267 0.606 0.143 0.376 0.701 0.711 0.105 0.302 0.864\n",
      " 0.341 0.648 0.524 0.074 0.694 0.877 0.114 0.298 0.352 0.282 0.814 0.857\n",
      " 0.058 0.59  0.755 0.917 0.816 0.704 0.4   0.636 0.389 0.094 0.316 0.619\n",
      " 0.128 0.295 0.106 0.38  0.779 0.372 0.323 0.236 0.897 0.35  0.923 0.664\n",
      " 0.124 0.325 0.16  0.941 0.121 0.168 0.383 0.903 0.874 0.717 0.775 0.331\n",
      " 0.261 0.624 0.617 0.633 0.793 0.729 0.123 0.412 0.116 0.93  0.553 0.809\n",
      " 0.58  0.748 0.662 0.291 0.279 0.883 0.562 0.054 0.78  0.832 0.418 0.904\n",
      " 0.073 0.037 0.049 0.807 0.268 0.733 0.718 0.256 0.208 0.672 0.288 0.05\n",
      " 0.24  0.293 0.111 0.554 0.081 0.239 0.683 0.736 0.071 0.134 0.756 0.426\n",
      " 0.131 0.563 0.373 0.356 0.274 0.771 0.571 0.151 0.408 0.905 0.871 0.628\n",
      " 0.158 0.145 0.858 0.019 0.33  0.075 0.048 0.926 0.102 0.366 0.021 0.776\n",
      " 0.561 0.739 0.193 0.206 0.844 0.778 0.303 0.695 0.645 0.574 0.582 0.83\n",
      " 0.052 0.732 0.138 0.056 0.581 0.707 0.211 0.157 0.834 0.197 0.821 0.851\n",
      " 0.849 0.868 0.848 0.199 0.845 0.615 0.161 0.576 0.657 0.144 0.232 0.668\n",
      " 0.091 0.913 0.031 0.57  0.823 0.225 0.152 0.228 0.533 0.069 0.656 0.556\n",
      " 0.579 0.153 0.065 0.369 0.432 0.933 0.129 0.221 0.315 0.854 0.141 0.327\n",
      " 0.55  0.878 0.909 0.101 0.082 0.26  0.09  0.587 0.522 0.894 0.378 0.641\n",
      " 0.888 0.061 0.398 0.286 0.263 0.191 0.133 0.892 0.343 0.859 0.827 0.085\n",
      " 0.041 0.088 0.572 0.064 0.6   0.915 0.182 0.637 0.149 0.093 0.401 0.244\n",
      " 0.173 0.547 0.156 0.226 0.625 0.08  0.612 0.61  0.017 0.095 0.726 0.039\n",
      " 0.433 0.632 0.012 0.681 0.651 0.411 0.544 0.634 0.558 0.599 0.727 0.033\n",
      " 0.94  0.177 0.682 0.428 0.583 0.252 0.529 0.146 0.119 0.214 0.947 0.28\n",
      " 0.04  0.192 0.222 0.591 0.621 0.516 0.575 0.924 0.136 0.045 0.022 0.872\n",
      " 0.604 0.596 0.092 0.565 0.922 0.676 0.918 0.321 0.65  0.715 0.588 0.42\n",
      " 0.603 0.902 0.394 0.557 0.042 0.525 0.024 0.435 0.079 0.115 0.063 0.627\n",
      " 0.526 0.104 0.344 0.18  0.54  0.551 0.025 0.03  0.928 0.413 0.057 0.577\n",
      " 0.086 0.52  0.11  0.685 0.127 0.549 0.053 0.518 0.421 0.028 0.397 0.927\n",
      " 0.038 0.044 0.117 0.414 0.027 0.531 0.014 0.083 0.046 0.536 0.425 0.415\n",
      " 0.559 0.542 0.601 0.921 0.067 0.035 0.929 0.139 0.097 0.515 0.914 0.566\n",
      " 0.043 0.441 0.026 0.519 0.513 0.018 0.44  0.92  0.53  0.013 0.527 0.931\n",
      " 0.008 0.424 0.034 0.514 0.521 0.437 0.427 0.011 0.517 0.009 0.939 0.532\n",
      " 0.509 0.937 0.02  0.925 0.006 0.448 0.511 0.523 0.439 0.431 0.429 0.512\n",
      " 0.023 0.01  0.508 0.507 0.436 0.935] \n",
      "\n",
      "Column : c2_rated \n",
      "\n"
     ]
    },
    {
     "name": "stdout",
     "output_type": "stream",
     "text": [
      "Number of unique values : 869\n",
      "Null values : 13321\n",
      "[0.077 0.184 0.538 0.561 0.2   0.703 0.142 0.669 0.91    nan 0.569 0.258\n",
      " 0.723 0.13  0.755 0.118 0.216 0.122 0.314 0.631 0.891 0.786 0.381 0.367\n",
      " 0.555 0.405 0.41  0.804 0.257 0.383 0.311 0.796 0.336 0.908 0.165 0.\n",
      " 0.765 0.893 0.649 0.837 0.831 0.272 0.788 0.749 0.237 0.693 0.568 0.815\n",
      " 0.147 0.716 0.132 0.666 0.735 0.319 0.379 0.911 0.14  0.898 0.287 0.613\n",
      " 0.385 0.068 0.371 0.076 0.792 0.233 0.801 0.262 0.63  0.273 0.727 0.29\n",
      " 0.278 0.731 0.227 0.692 0.149 0.196 0.696 0.798 0.269 0.712 0.606 0.785\n",
      " 0.33  0.751 0.201 0.754 0.787 0.773 0.702 0.618 0.855 0.402 0.126 0.557\n",
      " 0.255 0.078 0.77  0.164 0.673 0.644 0.168 0.342 0.62  0.212 0.351 0.247\n",
      " 0.294 0.805 0.285 0.899 0.354 0.769 0.629 0.846 0.171 0.852 0.159 0.106\n",
      " 0.752 0.096 0.195 0.3   0.251 0.218 0.198 0.859 0.614 0.305 0.108 0.697\n",
      " 0.391 0.795 0.642 0.187 0.107 0.818 0.655 0.595 0.361 0.865 0.242 0.036\n",
      " 0.399 0.836 0.838 0.326 0.585 0.573 0.79  0.748 0.246 0.537 0.409 0.686\n",
      " 0.862 0.253 0.762 0.324 0.896 0.763 0.234 0.31  0.658 0.564 0.329 0.594\n",
      " 0.393 0.248 0.359 0.83  0.296 0.817 0.847 0.241 0.757 0.264 0.089 0.243\n",
      " 0.783 0.85  0.589 0.162 0.68  0.906 0.365 0.842 0.607 0.416 0.545 0.813\n",
      " 0.772 0.5   0.87  0.88  0.675 0.209 0.355 0.7   0.384 0.266 0.869 0.12\n",
      " 0.717 0.871 0.178 0.219 0.546 0.886 0.663 0.671 0.774 0.872 0.169 0.741\n",
      " 0.691 0.86  0.34  0.043 0.593 0.334 0.826 0.25  0.215 0.388 0.806 0.37\n",
      " 0.764 0.829 0.885 0.69  0.721 0.235 0.362 0.835 0.745 0.884 0.109 0.67\n",
      " 0.737 0.277 0.062 0.844 0.56  0.112 0.895 0.789 0.047 0.602 0.299 0.183\n",
      " 0.73  0.39  0.861 0.841 0.661 0.889 0.8   0.816 0.653 0.742 0.301 0.349\n",
      " 0.224 0.82  0.725 0.873 0.102 0.072 0.75  0.113 0.281 0.079 0.719 0.527\n",
      " 0.051 0.284 0.276 0.912 0.339 0.188 0.616 0.417 0.313 0.322 0.71  0.626\n",
      " 0.867 0.333 0.724 0.211 0.799 0.791 0.43  0.689 0.337 0.306 0.743 0.059\n",
      " 0.825 0.175 0.016 0.19  0.667 0.207 0.32  0.74  0.203 0.919 0.876 0.797\n",
      " 0.824 0.244 0.1   0.17  0.679 0.758 0.166 0.811 0.72  0.289 0.353 0.238\n",
      " 0.598 0.64  0.292 0.363 0.406 0.422 0.357 0.746 0.828 0.856 0.167 0.699\n",
      " 0.148 0.125 0.032 0.744 0.374 0.271 0.543 0.528 0.345 0.423 0.853 0.768\n",
      " 0.259 0.794 0.394 0.155 0.781 0.652 0.875 0.265 0.377 0.202 0.822 0.172\n",
      " 0.386 0.688 0.535 0.103 0.687 0.534 0.135 0.863 0.708 0.163 0.722 0.839\n",
      " 0.832 0.734 0.403 0.15  0.586 0.709 0.623 0.364 0.706 0.084 0.833 0.229\n",
      " 0.36  0.812 0.759 0.309 0.375 0.622 0.819 0.84  0.659 0.231 0.747 0.213\n",
      " 0.347 0.23  0.654 0.066 0.185 0.76  0.552 0.275 0.307 0.803 0.907 0.635\n",
      " 0.181 0.81  0.154 0.396 0.137 0.382 0.21  0.808 0.387 0.802 0.738 0.643\n",
      " 0.936 0.674 0.713 0.297 0.782 0.777 0.881 0.784 0.766 0.882 0.894 0.254\n",
      " 0.684 0.66  0.665 0.328 0.584 0.318 0.576 0.419 0.916 0.9   0.539 0.548\n",
      " 0.346 0.335 0.843 0.578 0.189 0.308 0.736 0.098 0.205 0.104 0.176 0.541\n",
      " 0.06  0.761 0.099 0.647 0.249 0.029 0.879 0.698 0.398 0.609 0.605 0.225\n",
      " 0.302 0.677 0.89  0.646 0.304 0.775 0.179 0.015 0.217 0.901 0.728 0.27\n",
      " 0.317 0.204 0.338 0.392 0.705 0.407 0.597 0.395 0.729 0.358 0.348 0.608\n",
      " 0.245 0.283 0.638 0.332 0.22  0.887 0.223 0.368 0.26  0.267 0.143 0.376\n",
      " 0.701 0.711 0.105 0.864 0.341 0.648 0.524 0.624 0.074 0.694 0.194 0.877\n",
      " 0.114 0.298 0.352 0.282 0.814 0.857 0.058 0.59  0.432 0.917 0.704 0.4\n",
      " 0.636 0.389 0.094 0.316 0.619 0.128 0.295 0.753 0.38  0.779 0.372 0.323\n",
      " 0.174 0.236 0.809 0.35  0.664 0.124 0.325 0.582 0.16  0.941 0.121 0.599\n",
      " 0.903 0.874 0.331 0.261 0.136 0.617 0.633 0.793 0.412 0.116 0.93  0.239\n",
      " 0.553 0.58  0.662 0.291 0.279 0.883 0.562 0.356 0.054 0.567 0.78  0.321\n",
      " 0.418 0.904 0.073 0.037 0.049 0.807 0.733 0.718 0.256 0.208 0.672 0.05\n",
      " 0.293 0.288 0.111 0.144 0.554 0.081 0.683 0.611 0.071 0.134 0.756 0.426\n",
      " 0.131 0.563 0.373 0.274 0.404 0.771 0.571 0.151 0.408 0.54  0.905 0.628\n",
      " 0.158 0.145 0.858 0.019 0.075 0.048 0.926 0.366 0.312 0.021 0.776 0.739\n",
      " 0.193 0.206 0.778 0.303 0.932 0.695 0.645 0.574 0.199 0.052 0.732 0.138\n",
      " 0.056 0.581 0.707 0.157 0.834 0.197 0.866 0.821 0.851 0.849 0.868 0.848\n",
      " 0.845 0.615 0.161 0.657 0.232 0.668 0.039 0.913 0.823 0.152 0.228 0.533\n",
      " 0.069 0.656 0.556 0.153 0.065 0.369 0.933 0.129 0.221 0.315 0.854 0.141\n",
      " 0.327 0.55  0.878 0.604 0.909 0.101 0.123 0.082 0.641 0.09  0.897 0.587\n",
      " 0.522 0.378 0.888 0.603 0.061 0.286 0.263 0.191 0.133 0.892 0.343 0.827\n",
      " 0.083 0.041 0.24  0.088 0.572 0.678 0.064 0.6   0.915 0.182 0.637 0.186\n",
      " 0.093 0.401 0.547 0.156 0.045 0.226 0.625 0.08  0.612 0.61  0.017 0.095\n",
      " 0.714 0.07  0.726 0.632 0.012 0.681 0.651 0.411 0.544 0.634 0.565 0.923\n",
      " 0.087 0.033 0.94  0.715 0.177 0.682 0.428 0.583 0.055 0.252 0.529 0.146\n",
      " 0.119 0.214 0.947 0.28  0.04  0.192 0.222 0.591 0.621 0.516 0.173 0.575\n",
      " 0.924 0.268 0.092 0.922 0.676 0.918 0.65  0.559 0.588 0.42  0.902 0.767\n",
      " 0.042 0.525 0.024 0.592 0.596 0.063 0.627 0.526 0.18  0.551 0.601 0.022\n",
      " 0.025 0.03  0.928 0.413 0.057 0.086 0.52  0.685 0.639 0.127 0.579 0.92\n",
      " 0.549 0.053 0.518 0.421 0.028 0.57  0.397 0.927 0.085 0.038 0.044 0.117\n",
      " 0.027 0.531 0.014 0.344 0.577 0.115 0.433 0.536 0.425 0.415 0.542 0.558\n",
      " 0.921 0.067 0.035 0.929 0.11  0.139 0.097 0.515 0.914 0.566 0.091 0.532\n",
      " 0.013 0.441 0.031 0.519 0.026 0.513 0.414 0.018 0.44  0.53  0.046 0.931\n",
      " 0.939 0.008 0.424 0.437 0.034 0.514 0.521 0.427 0.011 0.517 0.009 0.023\n",
      " 0.509 0.937 0.02  0.523 0.943 0.006 0.448 0.511 0.439 0.431 0.429 0.512\n",
      " 0.435 0.01  0.436 0.508 0.507 0.935] \n",
      "\n",
      "Column : Contact_age \n",
      "\n",
      "Number of unique values : 3609\n",
      "Null values : 8153\n",
      "[  18.  306.  281. ... 3546. 3610. 3492.] \n",
      "\n",
      "Column : Product_bought \n",
      "\n",
      "Number of unique values : 25\n",
      "Null values : 0\n",
      "[ 2.  4.  6.  7.  3.  1.  5.  0.  8.  9. 11. 10. 14. 12. 20. 15. 13. 21.\n",
      " 19. 22. 16. 24. 18. 17. 25.] \n",
      "\n",
      "Column : Default \n",
      "\n",
      "Number of unique values : 2\n",
      "Null values : 0\n",
      "[1. 0.] \n",
      "\n"
     ]
    }
   ],
   "source": [
    "#  Train Dataset\n",
    "for i in num:\n",
    "    print(\"Column :\",i, \"\\n\")\n",
    "    print(\"Number of unique values :\", train[i].nunique())\n",
    "    print(\"Null values :\", train[i].isna().sum())\n",
    "    \n",
    "    print(train[i].unique(), \"\\n\")"
   ]
  },
  {
   "cell_type": "markdown",
   "id": "7facefee",
   "metadata": {},
   "source": [
    "#### Summary"
   ]
  },
  {
   "cell_type": "raw",
   "id": "5f6e228a",
   "metadata": {},
   "source": [
    "# Null values\n",
    "\n",
    "1. Compensation    6242\n",
    "2. Annuity_amt     4611\n",
    "3. density_Ind     5416\n",
    "4. Home_Appliances 10964\n",
    "5. Experience      21845\n",
    "6. Company_Rating  11731\n",
    "7. c1_rated        17513\n",
    "8. c2_rated        13321\n",
    "9. Contact_age     8153"
   ]
  },
  {
   "cell_type": "raw",
   "id": "06f50a00",
   "metadata": {},
   "source": [
    "# No null values\n",
    "\n",
    "1. Loan_amt\n",
    "2. Dependents\n",
    "3. Age\n",
    "4. hour_Process\n",
    "5. Product_bought\n",
    "6. Default"
   ]
  },
  {
   "cell_type": "code",
   "execution_count": 21,
   "id": "a97b0f69",
   "metadata": {},
   "outputs": [
    {
     "name": "stdout",
     "output_type": "stream",
     "text": [
      "0\n"
     ]
    }
   ],
   "source": [
    "# 1test. Compensation Treatment\n",
    "\n",
    "# Null values is fill using median.\n",
    "\n",
    "test[\"Compensation\"].fillna(test[\"Compensation\"].median(), inplace = True)\n",
    "\n",
    "print(test[\"Compensation\"].isna().sum())"
   ]
  },
  {
   "cell_type": "code",
   "execution_count": 22,
   "id": "1ff09933",
   "metadata": {},
   "outputs": [
    {
     "name": "stdout",
     "output_type": "stream",
     "text": [
      "0\n"
     ]
    }
   ],
   "source": [
    "# 1. Compensation Treatment\n",
    "\n",
    "# Null values is fill using median.\n",
    "\n",
    "train[\"Compensation\"].fillna(train[\"Compensation\"].median(), inplace = True)\n",
    "\n",
    "print(train[\"Compensation\"].isna().sum())"
   ]
  },
  {
   "cell_type": "code",
   "execution_count": 23,
   "id": "32194213",
   "metadata": {},
   "outputs": [
    {
     "data": {
      "text/plain": [
       "Float64Index([179202.0, 123060.0, 163632.0, 178696.0, 204232.0, 220360.0,\n",
       "              125100.0, 240960.0, 167070.0, 233360.0,\n",
       "              ...\n",
       "              330183.0, 664024.2, 556368.0, 346455.0, 714224.0,  64908.0,\n",
       "              387195.0, 410704.7, 800900.0, 315112.0],\n",
       "             dtype='float64', length=54064)"
      ]
     },
     "execution_count": 23,
     "metadata": {},
     "output_type": "execute_result"
    }
   ],
   "source": [
    " # 2test. Annuity_amt\n",
    "\n",
    "# In the corresponding of loan amount we fill Annuity amount null values.\n",
    "\n",
    "l_amt_test = test[\"Loan_amt\"].value_counts().index\n",
    "l_amt_test"
   ]
  },
  {
   "cell_type": "code",
   "execution_count": 24,
   "id": "f2a1ac81",
   "metadata": {},
   "outputs": [],
   "source": [
    "for i in l_amt_test:\n",
    "    \n",
    "    test.loc[(test[\"Loan_amt\"] == i) & \n",
    "             (test[\"Annuity_amt\"].isnull()), \"Annuity_amt\"] = test.loc[(test[\"Loan_amt\"] == i),[\"Annuity_amt\"]].median()[0]"
   ]
  },
  {
   "cell_type": "code",
   "execution_count": 25,
   "id": "ff4a544d",
   "metadata": {},
   "outputs": [
    {
     "data": {
      "text/plain": [
       "1777"
      ]
     },
     "execution_count": 25,
     "metadata": {},
     "output_type": "execute_result"
    }
   ],
   "source": [
    "test[\"Annuity_amt\"].isnull().sum()\n",
    "\n",
    "# null values are left because the loan_amt unique along Annuity_amt null values"
   ]
  },
  {
   "cell_type": "code",
   "execution_count": 26,
   "id": "a1ac813e",
   "metadata": {},
   "outputs": [
    {
     "name": "stdout",
     "output_type": "stream",
     "text": [
      "0\n"
     ]
    }
   ],
   "source": [
    "test[\"Annuity_amt\"].fillna(test[\"Annuity_amt\"].median(),inplace = True) \n",
    "\n",
    "#  Impute median in remaining null values.\n",
    "\n",
    "print(test[\"Annuity_amt\"].isnull().sum())"
   ]
  },
  {
   "cell_type": "code",
   "execution_count": 27,
   "id": "a0acc963",
   "metadata": {},
   "outputs": [
    {
     "data": {
      "text/plain": [
       "Float64Index([203112.0, 179760.0, 160195.0, 232160.0, 221248.0, 219611.0,\n",
       "              355110.0, 174930.0, 216440.0, 204144.0,\n",
       "              ...\n",
       "              216482.7, 286445.5, 518565.6, 188485.0, 829788.4, 595448.0,\n",
       "              294160.0,  95720.0, 195232.0, 669482.4],\n",
       "             dtype='float64', length=119260)"
      ]
     },
     "execution_count": 27,
     "metadata": {},
     "output_type": "execute_result"
    }
   ],
   "source": [
    "# 2. Annuity_amt\n",
    "\n",
    "# In the corresponding of loan amount we fill Annuity amount null values.\n",
    "\n",
    "l_amt = train[\"Loan_amt\"].value_counts().index\n",
    "l_amt"
   ]
  },
  {
   "cell_type": "code",
   "execution_count": 28,
   "id": "a0d4d976",
   "metadata": {},
   "outputs": [
    {
     "ename": "KeyboardInterrupt",
     "evalue": "",
     "output_type": "error",
     "traceback": [
      "\u001b[1;31m---------------------------------------------------------------------------\u001b[0m",
      "\u001b[1;31mKeyboardInterrupt\u001b[0m                         Traceback (most recent call last)",
      "\u001b[1;32m<ipython-input-28-5b9ac8a4d73f>\u001b[0m in \u001b[0;36m<module>\u001b[1;34m\u001b[0m\n\u001b[0;32m      2\u001b[0m \u001b[1;33m\u001b[0m\u001b[0m\n\u001b[0;32m      3\u001b[0m     train.loc[(train[\"Loan_amt\"] == i) & \n\u001b[1;32m----> 4\u001b[1;33m              (train[\"Annuity_amt\"].isnull()), \"Annuity_amt\"] = train.loc[(train[\"Loan_amt\"] == i),[\"Annuity_amt\"]].median()[0]\n\u001b[0m",
      "\u001b[1;32m~\\anaconda3\\lib\\site-packages\\pandas\\core\\ops\\common.py\u001b[0m in \u001b[0;36mnew_method\u001b[1;34m(self, other)\u001b[0m\n\u001b[0;32m     63\u001b[0m         \u001b[0mother\u001b[0m \u001b[1;33m=\u001b[0m \u001b[0mitem_from_zerodim\u001b[0m\u001b[1;33m(\u001b[0m\u001b[0mother\u001b[0m\u001b[1;33m)\u001b[0m\u001b[1;33m\u001b[0m\u001b[1;33m\u001b[0m\u001b[0m\n\u001b[0;32m     64\u001b[0m \u001b[1;33m\u001b[0m\u001b[0m\n\u001b[1;32m---> 65\u001b[1;33m         \u001b[1;32mreturn\u001b[0m \u001b[0mmethod\u001b[0m\u001b[1;33m(\u001b[0m\u001b[0mself\u001b[0m\u001b[1;33m,\u001b[0m \u001b[0mother\u001b[0m\u001b[1;33m)\u001b[0m\u001b[1;33m\u001b[0m\u001b[1;33m\u001b[0m\u001b[0m\n\u001b[0m\u001b[0;32m     66\u001b[0m \u001b[1;33m\u001b[0m\u001b[0m\n\u001b[0;32m     67\u001b[0m     \u001b[1;32mreturn\u001b[0m \u001b[0mnew_method\u001b[0m\u001b[1;33m\u001b[0m\u001b[1;33m\u001b[0m\u001b[0m\n",
      "\u001b[1;32m~\\anaconda3\\lib\\site-packages\\pandas\\core\\arraylike.py\u001b[0m in \u001b[0;36m__eq__\u001b[1;34m(self, other)\u001b[0m\n\u001b[0;32m     27\u001b[0m     \u001b[1;33m@\u001b[0m\u001b[0munpack_zerodim_and_defer\u001b[0m\u001b[1;33m(\u001b[0m\u001b[1;34m\"__eq__\"\u001b[0m\u001b[1;33m)\u001b[0m\u001b[1;33m\u001b[0m\u001b[1;33m\u001b[0m\u001b[0m\n\u001b[0;32m     28\u001b[0m     \u001b[1;32mdef\u001b[0m \u001b[0m__eq__\u001b[0m\u001b[1;33m(\u001b[0m\u001b[0mself\u001b[0m\u001b[1;33m,\u001b[0m \u001b[0mother\u001b[0m\u001b[1;33m)\u001b[0m\u001b[1;33m:\u001b[0m\u001b[1;33m\u001b[0m\u001b[1;33m\u001b[0m\u001b[0m\n\u001b[1;32m---> 29\u001b[1;33m         \u001b[1;32mreturn\u001b[0m \u001b[0mself\u001b[0m\u001b[1;33m.\u001b[0m\u001b[0m_cmp_method\u001b[0m\u001b[1;33m(\u001b[0m\u001b[0mother\u001b[0m\u001b[1;33m,\u001b[0m \u001b[0moperator\u001b[0m\u001b[1;33m.\u001b[0m\u001b[0meq\u001b[0m\u001b[1;33m)\u001b[0m\u001b[1;33m\u001b[0m\u001b[1;33m\u001b[0m\u001b[0m\n\u001b[0m\u001b[0;32m     30\u001b[0m \u001b[1;33m\u001b[0m\u001b[0m\n\u001b[0;32m     31\u001b[0m     \u001b[1;33m@\u001b[0m\u001b[0munpack_zerodim_and_defer\u001b[0m\u001b[1;33m(\u001b[0m\u001b[1;34m\"__ne__\"\u001b[0m\u001b[1;33m)\u001b[0m\u001b[1;33m\u001b[0m\u001b[1;33m\u001b[0m\u001b[0m\n",
      "\u001b[1;32m~\\anaconda3\\lib\\site-packages\\pandas\\core\\series.py\u001b[0m in \u001b[0;36m_cmp_method\u001b[1;34m(self, other, op)\u001b[0m\n\u001b[0;32m   4976\u001b[0m         \u001b[0mrvalues\u001b[0m \u001b[1;33m=\u001b[0m \u001b[0mextract_array\u001b[0m\u001b[1;33m(\u001b[0m\u001b[0mother\u001b[0m\u001b[1;33m,\u001b[0m \u001b[0mextract_numpy\u001b[0m\u001b[1;33m=\u001b[0m\u001b[1;32mTrue\u001b[0m\u001b[1;33m)\u001b[0m\u001b[1;33m\u001b[0m\u001b[1;33m\u001b[0m\u001b[0m\n\u001b[0;32m   4977\u001b[0m \u001b[1;33m\u001b[0m\u001b[0m\n\u001b[1;32m-> 4978\u001b[1;33m         \u001b[0mres_values\u001b[0m \u001b[1;33m=\u001b[0m \u001b[0mops\u001b[0m\u001b[1;33m.\u001b[0m\u001b[0mcomparison_op\u001b[0m\u001b[1;33m(\u001b[0m\u001b[0mlvalues\u001b[0m\u001b[1;33m,\u001b[0m \u001b[0mrvalues\u001b[0m\u001b[1;33m,\u001b[0m \u001b[0mop\u001b[0m\u001b[1;33m)\u001b[0m\u001b[1;33m\u001b[0m\u001b[1;33m\u001b[0m\u001b[0m\n\u001b[0m\u001b[0;32m   4979\u001b[0m \u001b[1;33m\u001b[0m\u001b[0m\n\u001b[0;32m   4980\u001b[0m         \u001b[1;32mreturn\u001b[0m \u001b[0mself\u001b[0m\u001b[1;33m.\u001b[0m\u001b[0m_construct_result\u001b[0m\u001b[1;33m(\u001b[0m\u001b[0mres_values\u001b[0m\u001b[1;33m,\u001b[0m \u001b[0mname\u001b[0m\u001b[1;33m=\u001b[0m\u001b[0mres_name\u001b[0m\u001b[1;33m)\u001b[0m\u001b[1;33m\u001b[0m\u001b[1;33m\u001b[0m\u001b[0m\n",
      "\u001b[1;32m~\\anaconda3\\lib\\site-packages\\pandas\\core\\ops\\array_ops.py\u001b[0m in \u001b[0;36mcomparison_op\u001b[1;34m(left, right, op)\u001b[0m\n\u001b[0;32m    248\u001b[0m             \u001b[0mwarnings\u001b[0m\u001b[1;33m.\u001b[0m\u001b[0msimplefilter\u001b[0m\u001b[1;33m(\u001b[0m\u001b[1;34m\"ignore\"\u001b[0m\u001b[1;33m,\u001b[0m \u001b[0mDeprecationWarning\u001b[0m\u001b[1;33m)\u001b[0m\u001b[1;33m\u001b[0m\u001b[1;33m\u001b[0m\u001b[0m\n\u001b[0;32m    249\u001b[0m             \u001b[1;32mwith\u001b[0m \u001b[0mnp\u001b[0m\u001b[1;33m.\u001b[0m\u001b[0merrstate\u001b[0m\u001b[1;33m(\u001b[0m\u001b[0mall\u001b[0m\u001b[1;33m=\u001b[0m\u001b[1;34m\"ignore\"\u001b[0m\u001b[1;33m)\u001b[0m\u001b[1;33m:\u001b[0m\u001b[1;33m\u001b[0m\u001b[1;33m\u001b[0m\u001b[0m\n\u001b[1;32m--> 250\u001b[1;33m                 \u001b[0mres_values\u001b[0m \u001b[1;33m=\u001b[0m \u001b[0m_na_arithmetic_op\u001b[0m\u001b[1;33m(\u001b[0m\u001b[0mlvalues\u001b[0m\u001b[1;33m,\u001b[0m \u001b[0mrvalues\u001b[0m\u001b[1;33m,\u001b[0m \u001b[0mop\u001b[0m\u001b[1;33m,\u001b[0m \u001b[0mis_cmp\u001b[0m\u001b[1;33m=\u001b[0m\u001b[1;32mTrue\u001b[0m\u001b[1;33m)\u001b[0m\u001b[1;33m\u001b[0m\u001b[1;33m\u001b[0m\u001b[0m\n\u001b[0m\u001b[0;32m    251\u001b[0m \u001b[1;33m\u001b[0m\u001b[0m\n\u001b[0;32m    252\u001b[0m     \u001b[1;32mreturn\u001b[0m \u001b[0mres_values\u001b[0m\u001b[1;33m\u001b[0m\u001b[1;33m\u001b[0m\u001b[0m\n",
      "\u001b[1;32m~\\anaconda3\\lib\\site-packages\\pandas\\core\\ops\\array_ops.py\u001b[0m in \u001b[0;36m_na_arithmetic_op\u001b[1;34m(left, right, op, is_cmp)\u001b[0m\n\u001b[0;32m    140\u001b[0m \u001b[1;33m\u001b[0m\u001b[0m\n\u001b[0;32m    141\u001b[0m     \u001b[1;32mtry\u001b[0m\u001b[1;33m:\u001b[0m\u001b[1;33m\u001b[0m\u001b[1;33m\u001b[0m\u001b[0m\n\u001b[1;32m--> 142\u001b[1;33m         \u001b[0mresult\u001b[0m \u001b[1;33m=\u001b[0m \u001b[0mexpressions\u001b[0m\u001b[1;33m.\u001b[0m\u001b[0mevaluate\u001b[0m\u001b[1;33m(\u001b[0m\u001b[0mop\u001b[0m\u001b[1;33m,\u001b[0m \u001b[0mleft\u001b[0m\u001b[1;33m,\u001b[0m \u001b[0mright\u001b[0m\u001b[1;33m)\u001b[0m\u001b[1;33m\u001b[0m\u001b[1;33m\u001b[0m\u001b[0m\n\u001b[0m\u001b[0;32m    143\u001b[0m     \u001b[1;32mexcept\u001b[0m \u001b[0mTypeError\u001b[0m\u001b[1;33m:\u001b[0m\u001b[1;33m\u001b[0m\u001b[1;33m\u001b[0m\u001b[0m\n\u001b[0;32m    144\u001b[0m         \u001b[1;32mif\u001b[0m \u001b[0mis_cmp\u001b[0m\u001b[1;33m:\u001b[0m\u001b[1;33m\u001b[0m\u001b[1;33m\u001b[0m\u001b[0m\n",
      "\u001b[1;32m~\\anaconda3\\lib\\site-packages\\pandas\\core\\computation\\expressions.py\u001b[0m in \u001b[0;36mevaluate\u001b[1;34m(op, a, b, use_numexpr)\u001b[0m\n\u001b[0;32m    233\u001b[0m         \u001b[1;32mif\u001b[0m \u001b[0muse_numexpr\u001b[0m\u001b[1;33m:\u001b[0m\u001b[1;33m\u001b[0m\u001b[1;33m\u001b[0m\u001b[0m\n\u001b[0;32m    234\u001b[0m             \u001b[1;31m# error: \"None\" not callable\u001b[0m\u001b[1;33m\u001b[0m\u001b[1;33m\u001b[0m\u001b[1;33m\u001b[0m\u001b[0m\n\u001b[1;32m--> 235\u001b[1;33m             \u001b[1;32mreturn\u001b[0m \u001b[0m_evaluate\u001b[0m\u001b[1;33m(\u001b[0m\u001b[0mop\u001b[0m\u001b[1;33m,\u001b[0m \u001b[0mop_str\u001b[0m\u001b[1;33m,\u001b[0m \u001b[0ma\u001b[0m\u001b[1;33m,\u001b[0m \u001b[0mb\u001b[0m\u001b[1;33m)\u001b[0m  \u001b[1;31m# type: ignore[misc]\u001b[0m\u001b[1;33m\u001b[0m\u001b[1;33m\u001b[0m\u001b[0m\n\u001b[0m\u001b[0;32m    236\u001b[0m     \u001b[1;32mreturn\u001b[0m \u001b[0m_evaluate_standard\u001b[0m\u001b[1;33m(\u001b[0m\u001b[0mop\u001b[0m\u001b[1;33m,\u001b[0m \u001b[0mop_str\u001b[0m\u001b[1;33m,\u001b[0m \u001b[0ma\u001b[0m\u001b[1;33m,\u001b[0m \u001b[0mb\u001b[0m\u001b[1;33m)\u001b[0m\u001b[1;33m\u001b[0m\u001b[1;33m\u001b[0m\u001b[0m\n\u001b[0;32m    237\u001b[0m \u001b[1;33m\u001b[0m\u001b[0m\n",
      "\u001b[1;32m~\\anaconda3\\lib\\site-packages\\pandas\\core\\computation\\expressions.py\u001b[0m in \u001b[0;36m_evaluate_numexpr\u001b[1;34m(op, op_str, a, b)\u001b[0m\n\u001b[0;32m    108\u001b[0m         \u001b[0mb_value\u001b[0m \u001b[1;33m=\u001b[0m \u001b[0mb\u001b[0m\u001b[1;33m\u001b[0m\u001b[1;33m\u001b[0m\u001b[0m\n\u001b[0;32m    109\u001b[0m \u001b[1;33m\u001b[0m\u001b[0m\n\u001b[1;32m--> 110\u001b[1;33m         result = ne.evaluate(\n\u001b[0m\u001b[0;32m    111\u001b[0m             \u001b[1;34mf\"a_value {op_str} b_value\"\u001b[0m\u001b[1;33m,\u001b[0m\u001b[1;33m\u001b[0m\u001b[1;33m\u001b[0m\u001b[0m\n\u001b[0;32m    112\u001b[0m             \u001b[0mlocal_dict\u001b[0m\u001b[1;33m=\u001b[0m\u001b[1;33m{\u001b[0m\u001b[1;34m\"a_value\"\u001b[0m\u001b[1;33m:\u001b[0m \u001b[0ma_value\u001b[0m\u001b[1;33m,\u001b[0m \u001b[1;34m\"b_value\"\u001b[0m\u001b[1;33m:\u001b[0m \u001b[0mb_value\u001b[0m\u001b[1;33m}\u001b[0m\u001b[1;33m,\u001b[0m\u001b[1;33m\u001b[0m\u001b[1;33m\u001b[0m\u001b[0m\n",
      "\u001b[1;32m~\\anaconda3\\lib\\site-packages\\numexpr\\necompiler.py\u001b[0m in \u001b[0;36mevaluate\u001b[1;34m(ex, local_dict, global_dict, out, order, casting, **kwargs)\u001b[0m\n\u001b[0;32m    834\u001b[0m     \u001b[0m_numexpr_last\u001b[0m \u001b[1;33m=\u001b[0m \u001b[0mdict\u001b[0m\u001b[1;33m(\u001b[0m\u001b[0mex\u001b[0m\u001b[1;33m=\u001b[0m\u001b[0mcompiled_ex\u001b[0m\u001b[1;33m,\u001b[0m \u001b[0margnames\u001b[0m\u001b[1;33m=\u001b[0m\u001b[0mnames\u001b[0m\u001b[1;33m,\u001b[0m \u001b[0mkwargs\u001b[0m\u001b[1;33m=\u001b[0m\u001b[0mkwargs\u001b[0m\u001b[1;33m)\u001b[0m\u001b[1;33m\u001b[0m\u001b[1;33m\u001b[0m\u001b[0m\n\u001b[0;32m    835\u001b[0m     \u001b[1;32mwith\u001b[0m \u001b[0mevaluate_lock\u001b[0m\u001b[1;33m:\u001b[0m\u001b[1;33m\u001b[0m\u001b[1;33m\u001b[0m\u001b[0m\n\u001b[1;32m--> 836\u001b[1;33m         \u001b[1;32mreturn\u001b[0m \u001b[0mcompiled_ex\u001b[0m\u001b[1;33m(\u001b[0m\u001b[1;33m*\u001b[0m\u001b[0marguments\u001b[0m\u001b[1;33m,\u001b[0m \u001b[1;33m**\u001b[0m\u001b[0mkwargs\u001b[0m\u001b[1;33m)\u001b[0m\u001b[1;33m\u001b[0m\u001b[1;33m\u001b[0m\u001b[0m\n\u001b[0m\u001b[0;32m    837\u001b[0m \u001b[1;33m\u001b[0m\u001b[0m\n\u001b[0;32m    838\u001b[0m \u001b[1;33m\u001b[0m\u001b[0m\n",
      "\u001b[1;31mKeyboardInterrupt\u001b[0m: "
     ]
    }
   ],
   "source": [
    "for i in l_amt:\n",
    "    \n",
    "    train.loc[(train[\"Loan_amt\"] == i) & \n",
    "             (train[\"Annuity_amt\"].isnull()), \"Annuity_amt\"] = train.loc[(train[\"Loan_amt\"] == i),[\"Annuity_amt\"]].median()[0]"
   ]
  },
  {
   "cell_type": "code",
   "execution_count": null,
   "id": "7df2b253",
   "metadata": {},
   "outputs": [],
   "source": [
    "train[\"Annuity_amt\"].isnull().sum()\n",
    "\n",
    "# null values are left because the loan_amt unique along Annuity_amt null values."
   ]
  },
  {
   "cell_type": "code",
   "execution_count": null,
   "id": "77903dcd",
   "metadata": {},
   "outputs": [],
   "source": [
    "train[\"Annuity_amt\"].fillna(train[\"Annuity_amt\"].median(),inplace = True) \n",
    "\n",
    "#  Impute median in remaining null values.\n",
    "\n",
    "print(train[\"Annuity_amt\"].isnull().sum())"
   ]
  },
  {
   "cell_type": "code",
   "execution_count": null,
   "id": "baff6885",
   "metadata": {},
   "outputs": [],
   "source": [
    "# 3test. density_Ind\n",
    "\n",
    "# In the corresponding of Region we fill density_Ind null values.\n",
    "\n",
    "region_test = test[\"Region\"].value_counts().index\n",
    "region_test"
   ]
  },
  {
   "cell_type": "code",
   "execution_count": null,
   "id": "984d47dd",
   "metadata": {},
   "outputs": [],
   "source": [
    "for i in region_test:\n",
    "    \n",
    "    test.loc[(test[\"Region\"] == i) & \n",
    "             (test[\"density_Ind\"].isnull()), \"density_Ind\"] = test.loc[(test[\"Region\"] == i),[\"density_Ind\"]].median()[0]"
   ]
  },
  {
   "cell_type": "code",
   "execution_count": null,
   "id": "0f252bf8",
   "metadata": {},
   "outputs": [],
   "source": [
    "print(test[\"density_Ind\"].isnull().sum())"
   ]
  },
  {
   "cell_type": "code",
   "execution_count": null,
   "id": "dc1ecc3e",
   "metadata": {},
   "outputs": [],
   "source": [
    "# 3. density_Ind\n",
    "\n",
    "# In the corresponding of Region we fill density_Ind null values.\n",
    "\n",
    "\n",
    "region = train[\"Region\"].value_counts().index\n",
    "region"
   ]
  },
  {
   "cell_type": "code",
   "execution_count": null,
   "id": "97535cd8",
   "metadata": {},
   "outputs": [],
   "source": [
    "for i in region:\n",
    "    \n",
    "    train.loc[(train[\"Region\"] == i) & \n",
    "             (train[\"density_Ind\"].isnull()), \"density_Ind\"] = train.loc[(train[\"Region\"] == i),[\"density_Ind\"]].median()[0]"
   ]
  },
  {
   "cell_type": "code",
   "execution_count": null,
   "id": "1cc4d345",
   "metadata": {},
   "outputs": [],
   "source": [
    "print(train[\"density_Ind\"].isnull().sum())"
   ]
  },
  {
   "cell_type": "code",
   "execution_count": null,
   "id": "56ccc473",
   "metadata": {},
   "outputs": [],
   "source": [
    "# 4test. Home_Appliances\n",
    "\n",
    "# Impute mode on the place null values beacuse appliances are not in half it is absolute value.\n",
    " \n",
    "test[\"Home_Appliances\"].fillna(test[\"Home_Appliances\"].mode()[0], inplace =True)\n",
    "\n",
    "print(test[\"Home_Appliances\"].isna().sum())"
   ]
  },
  {
   "cell_type": "code",
   "execution_count": null,
   "id": "f361796c",
   "metadata": {},
   "outputs": [],
   "source": [
    "# 4. Home_Appliances\n",
    "\n",
    "# Impute mode on the place null values beacuse appliances are not in half it is absolute value.\n",
    " \n",
    "train[\"Home_Appliances\"].fillna(train[\"Home_Appliances\"].mode()[0], inplace =True)\n",
    "\n",
    "print(train[\"Home_Appliances\"].isna().sum())"
   ]
  },
  {
   "cell_type": "code",
   "execution_count": null,
   "id": "09837794",
   "metadata": {},
   "outputs": [],
   "source": [
    "# 5test. Experience\n",
    " \n",
    "# Impute median in the corresponding of age in place of null values.\n",
    " \n",
    "age_test = test[\"Age\"].value_counts().index\n",
    "age_test"
   ]
  },
  {
   "cell_type": "code",
   "execution_count": null,
   "id": "dac9046a",
   "metadata": {},
   "outputs": [],
   "source": [
    "for i in age_test:\n",
    "    \n",
    "    test.loc[(test[\"Age\"] == i) & \n",
    "             (test[\"Experience\"].isnull()), \"Experience\"] = test.loc[(test[\"Age\"] == i),[\"Experience\"]].median()[0]"
   ]
  },
  {
   "cell_type": "code",
   "execution_count": null,
   "id": "5ddd7d5c",
   "metadata": {},
   "outputs": [],
   "source": [
    "print(test[\"Experience\"].isnull().sum())"
   ]
  },
  {
   "cell_type": "code",
   "execution_count": null,
   "id": "83f76401",
   "metadata": {},
   "outputs": [],
   "source": [
    "# 5. Experience\n",
    "\n",
    "# Impute median in the corresponding of age in place of null values.\n",
    " \n",
    "age = train[\"Age\"].value_counts().index\n",
    "age"
   ]
  },
  {
   "cell_type": "code",
   "execution_count": null,
   "id": "10e93fb8",
   "metadata": {},
   "outputs": [],
   "source": [
    "for i in age:\n",
    "    \n",
    "    train.loc[(train[\"Age\"] == i) & \n",
    "             (train[\"Experience\"].isnull()), \"Experience\"] = train.loc[(train[\"Age\"] == i),[\"Experience\"]].median()[0]"
   ]
  },
  {
   "cell_type": "code",
   "execution_count": null,
   "id": "011e1aa6",
   "metadata": {},
   "outputs": [],
   "source": [
    "print(train[\"Experience\"].isnull().sum())"
   ]
  },
  {
   "cell_type": "code",
   "execution_count": null,
   "id": "1bf6f423",
   "metadata": {},
   "outputs": [],
   "source": [
    "# 6test. Company_Rating\n",
    "\n",
    "# Impute median on the place of null values.\n",
    "\n",
    "test[\"Company_Rating\"].fillna(test[\"Company_Rating\"].median(), inplace =True)\n",
    "\n",
    "print(test[\"Company_Rating\"].isna().sum())"
   ]
  },
  {
   "cell_type": "code",
   "execution_count": null,
   "id": "facff055",
   "metadata": {},
   "outputs": [],
   "source": [
    "# 6. Company_Rating\n",
    "\n",
    "# Impute median on the place of null values.\n",
    "\n",
    "train[\"Company_Rating\"].fillna(train[\"Company_Rating\"].median(), inplace =True)\n",
    "\n",
    "print(train[\"Company_Rating\"].isna().sum())"
   ]
  },
  {
   "cell_type": "code",
   "execution_count": null,
   "id": "2c03c828",
   "metadata": {},
   "outputs": [],
   "source": [
    "# 7test. c1_rated\n",
    "\n",
    "# Impute median on the place of null values.\n",
    "\n",
    "test[\"c1_rated\"].fillna(test[\"c1_rated\"].median(), inplace =True)\n",
    "\n",
    "print(test[\"c1_rated\"].isna().sum())"
   ]
  },
  {
   "cell_type": "code",
   "execution_count": null,
   "id": "abf03137",
   "metadata": {},
   "outputs": [],
   "source": [
    "# 7. c1_rated\n",
    "\n",
    "# Impute median on the place of null values.\n",
    "\n",
    "train[\"c1_rated\"].fillna(train[\"c1_rated\"].median(), inplace =True)\n",
    "\n",
    "print(train[\"c1_rated\"].isna().sum())"
   ]
  },
  {
   "cell_type": "code",
   "execution_count": null,
   "id": "c2a5f6cf",
   "metadata": {},
   "outputs": [],
   "source": [
    "# 8test. c2_rated\n",
    "\n",
    "# Impute median on the place of null values.\n",
    "\n",
    "test[\"c2_rated\"].fillna(test[\"c2_rated\"].median(), inplace =True)\n",
    "\n",
    "print(test[\"c2_rated\"].isna().sum())"
   ]
  },
  {
   "cell_type": "code",
   "execution_count": null,
   "id": "bbfcd1e1",
   "metadata": {},
   "outputs": [],
   "source": [
    "# 8. c2_rated\n",
    "\n",
    "# Impute median on the place of null values.\n",
    "\n",
    "train[\"c2_rated\"].fillna(train[\"c2_rated\"].median(), inplace =True)\n",
    "\n",
    "print(train[\"c2_rated\"].isna().sum())"
   ]
  },
  {
   "cell_type": "code",
   "execution_count": null,
   "id": "cbbcafdc",
   "metadata": {},
   "outputs": [],
   "source": [
    "# 9test. Contact_age\n",
    "\n",
    "# Impute median on the place of null values.\n",
    "\n",
    "test[\"Contact_age\"].fillna(test[\"Contact_age\"].median(), inplace =True)\n",
    "print(test[\"Contact_age\"].isna().sum())"
   ]
  },
  {
   "cell_type": "code",
   "execution_count": null,
   "id": "e9db8f86",
   "metadata": {},
   "outputs": [],
   "source": [
    "# 9. Contact_age\n",
    "\n",
    "# Impute median on the place of null values.\n",
    "\n",
    "train[\"Contact_age\"].fillna(train[\"Contact_age\"].median(), inplace =True)\n",
    "print(train[\"Contact_age\"].isna().sum())"
   ]
  },
  {
   "cell_type": "markdown",
   "id": "b661af84",
   "metadata": {},
   "source": [
    "#### Treatment of Categorical columns"
   ]
  },
  {
   "cell_type": "code",
   "execution_count": null,
   "id": "7a051e31",
   "metadata": {},
   "outputs": [],
   "source": [
    "cat_test = test.select_dtypes(include = \"O\").columns\n",
    "print(cat_test)"
   ]
  },
  {
   "cell_type": "code",
   "execution_count": null,
   "id": "a2896bbf",
   "metadata": {
    "scrolled": true
   },
   "outputs": [],
   "source": [
    "for i in cat_test:\n",
    "    print(\"Column :\",i, \"\\n\")\n",
    "    print(\"Number of unique values :\", test[i].nunique())\n",
    "    print(\"Null values :\", test[i].isna().sum())\n",
    "    \n",
    "    print(test[i].unique(), \"\\n\")"
   ]
  },
  {
   "cell_type": "raw",
   "id": "d00c9811",
   "metadata": {},
   "source": [
    "# Null value columns in test dataset.\n",
    "\n",
    "1. Vehicle_Status 3883\n",
    "2. Job_Type       4320\n",
    "3. Prop_List      911\n",
    "4. Credit_Inq     1166\n",
    "5. Income_Alt     3299"
   ]
  },
  {
   "cell_type": "raw",
   "id": "517df3db",
   "metadata": {},
   "source": [
    "# Not null \n",
    "\n",
    "1. Default_hist\n",
    "2. Region_Type\n",
    "3. Education_det\n",
    "4. Marital_Stat\n",
    "5. Gen\n",
    "6. Credit_Lnks\n",
    "7. Day_Process\n",
    "8. Ph.No\n",
    "9. Type_Loan\n",
    "10. Region\n",
    "11. Addr_permanent\n",
    "12. Permanent_Addr_tag"
   ]
  },
  {
   "cell_type": "code",
   "execution_count": null,
   "id": "37789c72",
   "metadata": {},
   "outputs": [],
   "source": [
    "cat = train.select_dtypes(include = \"O\").columns\n",
    "print(cat)"
   ]
  },
  {
   "cell_type": "code",
   "execution_count": null,
   "id": "4f9d3eca",
   "metadata": {
    "scrolled": true
   },
   "outputs": [],
   "source": [
    "for i in cat:\n",
    "    print(\"Column :\",i, \"\\n\")\n",
    "    print(\"Number of unique values :\", train[i].nunique())\n",
    "    print(\"Null values :\", train[i].isna().sum())\n",
    "    \n",
    "    print(train[i].unique(), \"\\n\")"
   ]
  },
  {
   "cell_type": "markdown",
   "id": "50933e6c",
   "metadata": {},
   "source": [
    "#### Summary"
   ]
  },
  {
   "cell_type": "raw",
   "id": "0a1e8edc",
   "metadata": {},
   "source": [
    "Null values\n",
    "\n",
    "1. Vehicle_Status 9104\n",
    "2. Job_Type       10248\n",
    "3. Prop_List      1965\n",
    "4. Credit_Inq     2690\n",
    "5. Income_Alt     7682"
   ]
  },
  {
   "cell_type": "raw",
   "id": "16f280e2",
   "metadata": {},
   "source": [
    "Not Null\n",
    "\n",
    "1.  Default_hist\n",
    "2.  Region_Type\n",
    "3.  Education_det\n",
    "4.  Marital_Stat\n",
    "5.  Gen\n",
    "6.  Credit_Lnks\n",
    "7.  Day_Process\n",
    "8.  Ph.No\n",
    "9.  Type_Loan\n",
    "10. Region\n",
    "11. Addr_permanent\n",
    "12. Permanent_Addr_tag"
   ]
  },
  {
   "cell_type": "code",
   "execution_count": null,
   "id": "e93462d0",
   "metadata": {},
   "outputs": [],
   "source": [
    "# 1test. Vehicle_Status\n",
    "\n",
    "# Impute mode on the place of null values.\n",
    "\n",
    "test[\"Vehicle_Status\"].fillna(test[\"Vehicle_Status\"].mode()[0], inplace = True)\n",
    "test[\"Vehicle_Status\"].isna().sum()"
   ]
  },
  {
   "cell_type": "code",
   "execution_count": null,
   "id": "9d7fe2e8",
   "metadata": {},
   "outputs": [],
   "source": [
    "# 1. Vehicle_Status\n",
    "\n",
    "# Impute mode on the place of null values.\n",
    "\n",
    "train[\"Vehicle_Status\"].fillna(train[\"Vehicle_Status\"].mode()[0], inplace = True)\n",
    "train[\"Vehicle_Status\"].isna().sum()"
   ]
  },
  {
   "cell_type": "code",
   "execution_count": null,
   "id": "ca48cb9e",
   "metadata": {},
   "outputs": [],
   "source": [
    "# 2test. Job_Type\n",
    "\n",
    "# Impute mode on the place of null values.\n",
    "\n",
    "test[\"Job_Type\"].fillna(test[\"Job_Type\"].mode()[0], inplace = True)\n",
    "\n",
    "test[\"Job_Type\"].isna().sum()"
   ]
  },
  {
   "cell_type": "code",
   "execution_count": null,
   "id": "296e9505",
   "metadata": {},
   "outputs": [],
   "source": [
    "# 2. Job_Type\n",
    "\n",
    "# Impute mode on the place of null values.\n",
    "\n",
    "train[\"Job_Type\"].fillna(train[\"Job_Type\"].mode()[0], inplace = True)\n",
    "\n",
    "train[\"Job_Type\"].isna().sum()"
   ]
  },
  {
   "cell_type": "code",
   "execution_count": null,
   "id": "63d5ef12",
   "metadata": {},
   "outputs": [],
   "source": [
    "# 3test. Prop_List\n",
    "\n",
    "# Impute mode on the place of null values.\n",
    "\n",
    "test[\"Prop_List\"].fillna(test[\"Prop_List\"].mode()[0], inplace = True)\n",
    "\n",
    "test[\"Prop_List\"].isna().sum()"
   ]
  },
  {
   "cell_type": "code",
   "execution_count": null,
   "id": "14484fee",
   "metadata": {},
   "outputs": [],
   "source": [
    "# 3. Prop_List\n",
    "\n",
    "# Impute mode on the place of null values.\n",
    "\n",
    "train[\"Prop_List\"].fillna(train[\"Prop_List\"].mode()[0], inplace = True)\n",
    "\n",
    "train[\"Prop_List\"].isna().sum()"
   ]
  },
  {
   "cell_type": "code",
   "execution_count": null,
   "id": "744aaee8",
   "metadata": {},
   "outputs": [],
   "source": [
    "# 4test. Credit_Inq\n",
    "\n",
    "# Impute mode on the place of null values.\n",
    "\n",
    "test[\"Credit_Inq\"].fillna(test[\"Credit_Inq\"].mode()[0], inplace = True)\n",
    "\n",
    "test[\"Credit_Inq\"].isna().sum() "
   ]
  },
  {
   "cell_type": "code",
   "execution_count": null,
   "id": "d2440297",
   "metadata": {},
   "outputs": [],
   "source": [
    "# 4. Credit_Inq\n",
    "\n",
    "# Impute mode on the place of null values.\n",
    "\n",
    "train[\"Credit_Inq\"].fillna(train[\"Credit_Inq\"].mode()[0], inplace = True)\n",
    "\n",
    "train[\"Credit_Inq\"].isna().sum()"
   ]
  },
  {
   "cell_type": "code",
   "execution_count": null,
   "id": "874248a4",
   "metadata": {},
   "outputs": [],
   "source": [
    "# 5test. Income_Alt\n",
    "\n",
    "# Impute mode on the place of null values.\n",
    "\n",
    "test[\"Income_Alt\"].fillna(test[\"Income_Alt\"].mode()[0], inplace = True)\n",
    "\n",
    "test[\"Income_Alt\"].isna().sum()"
   ]
  },
  {
   "cell_type": "code",
   "execution_count": null,
   "id": "ab44c25a",
   "metadata": {},
   "outputs": [],
   "source": [
    "# 5. Income_Alt\n",
    "\n",
    "# Impute mode on the place of null values.\n",
    "\n",
    "train[\"Income_Alt\"].fillna(train[\"Income_Alt\"].mode()[0], inplace = True)\n",
    "\n",
    "train[\"Income_Alt\"].isna().sum()"
   ]
  },
  {
   "cell_type": "code",
   "execution_count": null,
   "id": "768bf6da",
   "metadata": {},
   "outputs": [],
   "source": [
    "test.isna().sum()\n",
    "\n",
    "#  There is no null value present in our data."
   ]
  },
  {
   "cell_type": "code",
   "execution_count": null,
   "id": "8c066be0",
   "metadata": {},
   "outputs": [],
   "source": [
    "train.isna().sum()\n",
    "\n",
    "#  There is no null value present in our data."
   ]
  },
  {
   "cell_type": "markdown",
   "id": "b5b309c3",
   "metadata": {},
   "source": [
    "\n",
    "## 2. Exploratory Data Analyis"
   ]
  },
  {
   "cell_type": "markdown",
   "id": "f833bb77",
   "metadata": {},
   "source": [
    "### Univariate Analysis"
   ]
  },
  {
   "cell_type": "code",
   "execution_count": null,
   "id": "5bf3af3f",
   "metadata": {},
   "outputs": [],
   "source": [
    "#test.  Change the datatypes of numerical values.\n",
    "\n",
    "test[\"Age\"] = test[\"Age\"].astype(\"int\")\n",
    "\n",
    "test[\"hour_Process\"] = test[\"hour_Process\"].astype(\"int\")\n",
    "\n",
    "test[\"Contact_age\"] = test[\"Contact_age\"].astype(\"int\")"
   ]
  },
  {
   "cell_type": "code",
   "execution_count": null,
   "id": "3e274e6c",
   "metadata": {},
   "outputs": [],
   "source": [
    "# Change the datatypes of numerical values.\n",
    "\n",
    "train[\"Age\"] = train[\"Age\"].astype(\"int\")\n",
    "\n",
    "train[\"hour_Process\"] = train[\"hour_Process\"].astype(\"int\")\n",
    "\n",
    "train[\"Contact_age\"] = train[\"Contact_age\"].astype(\"int\")\n",
    " \n",
    "train[\"Default\"] = train[\"Default\"].astype(\"int\")"
   ]
  },
  {
   "cell_type": "code",
   "execution_count": null,
   "id": "985c51b6",
   "metadata": {},
   "outputs": [],
   "source": [
    "# List of Nunerical columns\n",
    "\n",
    "n_test = ['Compensation', 'Loan_amt', 'Annuity_amt', 'density_Ind',\n",
    "        'Experience', 'Age','hour_Process', 'c1_rated', 'c2_rated', 'Contact_age']"
   ]
  },
  {
   "cell_type": "code",
   "execution_count": null,
   "id": "c03b4b72",
   "metadata": {},
   "outputs": [],
   "source": [
    "#  Distplot for numerical columns.\n",
    "\n",
    "a = 4\n",
    "b = 3\n",
    "c= 1\n",
    "plt.figure(figsize=[15,15])\n",
    "for i in n_test:\n",
    "    plt.subplot(a,b,c)\n",
    "    sns.distplot(test[i]) \n",
    "    plt.axvline(x=test[i].mean(),color='red')\n",
    "    plt.axvline(x=test[i].median(),color='green')\n",
    "    c=c+1\n",
    "plt.tight_layout()\n",
    "plt.show()\n",
    "\n",
    "# Red represent mean.\n",
    "# Green represent median."
   ]
  },
  {
   "cell_type": "code",
   "execution_count": null,
   "id": "c407ee93",
   "metadata": {},
   "outputs": [],
   "source": [
    "# List of Nunerical columns\n",
    "\n",
    "n = ['Compensation', 'Loan_amt', 'Annuity_amt', 'density_Ind',\n",
    "        'Experience', 'Age','hour_Process', 'c1_rated', 'c2_rated', 'Contact_age']"
   ]
  },
  {
   "cell_type": "code",
   "execution_count": null,
   "id": "623244d2",
   "metadata": {},
   "outputs": [],
   "source": [
    "#  Distplot for numerical columns.\n",
    "\n",
    "a = 4\n",
    "b = 3\n",
    "c= 1\n",
    "plt.figure(figsize=[15,15])\n",
    "for i in n:\n",
    "    plt.subplot(a,b,c)\n",
    "    sns.distplot(train[i]) \n",
    "    plt.axvline(x=train[i].mean(),color='red')\n",
    "    plt.axvline(x=train[i].median(),color='green')\n",
    "    c=c+1\n",
    "plt.tight_layout()\n",
    "plt.show()\n",
    "\n",
    "# Red represent mean.\n",
    "# Green represent median."
   ]
  },
  {
   "cell_type": "code",
   "execution_count": null,
   "id": "1cc2d317",
   "metadata": {},
   "outputs": [],
   "source": [
    "test.loc[:, n_test].skew()\n",
    "\n",
    "# swew is affected by outliers."
   ]
  },
  {
   "cell_type": "code",
   "execution_count": null,
   "id": "d606671f",
   "metadata": {},
   "outputs": [],
   "source": [
    "for i in n_test:\n",
    "    print(i,\"Mean\",test[i].mean(),\"and Median\", test[i].median(), '\\n')"
   ]
  },
  {
   "cell_type": "code",
   "execution_count": null,
   "id": "c588fcaf",
   "metadata": {},
   "outputs": [],
   "source": [
    "# Compensation, Loan_amt is the positive skew.\n",
    "# density_Ind, Annuity_amt, Experience, Age, hour_Process, c1_rated, c2_rated, Contact_age is quit normal."
   ]
  },
  {
   "cell_type": "code",
   "execution_count": null,
   "id": "52e579e2",
   "metadata": {},
   "outputs": [],
   "source": [
    "test[\"Compensation_log\"]=np.log(test[\"Compensation\"])\n",
    "\n",
    "test[\"Loan_amt_log\"] = np.log(test[\"Loan_amt\"])"
   ]
  },
  {
   "cell_type": "code",
   "execution_count": null,
   "id": "885b9171",
   "metadata": {},
   "outputs": [],
   "source": [
    "train.loc[:, n].skew()\n",
    "\n",
    "# swew is affected by outliers."
   ]
  },
  {
   "cell_type": "code",
   "execution_count": null,
   "id": "204e7802",
   "metadata": {},
   "outputs": [],
   "source": [
    "for i in n:\n",
    "    print(i,\"Mean\",train[i].mean(),\"and Median\", train[i].median(), '\\n')"
   ]
  },
  {
   "cell_type": "code",
   "execution_count": null,
   "id": "f5df766f",
   "metadata": {},
   "outputs": [],
   "source": [
    "# Compensation, Loan_amt is the positive skew.\n",
    "# density_Ind, Experience, Age, hour_Process, c1_rated, c2_rated, Contact_age is quit normal."
   ]
  },
  {
   "cell_type": "code",
   "execution_count": null,
   "id": "a1c6785d",
   "metadata": {},
   "outputs": [],
   "source": [
    "train[\"Compensation_log\"]=np.log(train[\"Compensation\"])\n",
    "\n",
    "train[\"Loan_amt_log\"] = np.log(train[\"Loan_amt\"])"
   ]
  },
  {
   "cell_type": "code",
   "execution_count": null,
   "id": "966992f8",
   "metadata": {},
   "outputs": [],
   "source": [
    "train.head() "
   ]
  },
  {
   "cell_type": "markdown",
   "id": "62a0822c",
   "metadata": {},
   "source": [
    "### Categorical Columns"
   ]
  },
  {
   "cell_type": "code",
   "execution_count": null,
   "id": "085861da",
   "metadata": {},
   "outputs": [],
   "source": [
    "# test. Convert the datatypes\n",
    "\n",
    "test[\"Dependents\"] = test[\"Dependents\"].astype(\"O\")\n",
    "test[\"Company_Rating\"] = test[\"Company_Rating\"].astype(\"O\")\n",
    "test[\"Home_Appliances\"] = test[\"Home_Appliances\"].astype(\"O\")\n",
    "test[\"Product_bought\"] = test[\"Product_bought\"].astype(\"O\")"
   ]
  },
  {
   "cell_type": "code",
   "execution_count": null,
   "id": "8513d483",
   "metadata": {},
   "outputs": [],
   "source": [
    "# Convvert the datatype.\n",
    "\n",
    "train[\"Dependents\"] = train[\"Dependents\"].astype(\"O\")\n",
    "train[\"Company_Rating\"] = train[\"Company_Rating\"].astype(\"O\")\n",
    "train[\"Home_Appliances\"] = train[\"Home_Appliances\"].astype(\"O\")\n",
    "train[\"Product_bought\"] = train[\"Product_bought\"].astype(\"O\")"
   ]
  },
  {
   "cell_type": "code",
   "execution_count": null,
   "id": "24dd6254",
   "metadata": {},
   "outputs": [],
   "source": [
    "cat_test = ['Vehicle_Status', 'Job_Type', 'Default_hist', 'Prop_List',\n",
    "       'Region_Type', 'Credit_Inq', 'Education_det', 'Marital_Stat', 'Gen',\n",
    "       'Credit_Lnks', 'Income_Alt', 'Day_Process', 'Ph.No', 'Type_Loan',\n",
    "       'Region', 'Addr_permanent', 'Permanent_Addr_tag','Dependents', 'Company_Rating']"
   ]
  },
  {
   "cell_type": "code",
   "execution_count": null,
   "id": "a7512d8b",
   "metadata": {},
   "outputs": [],
   "source": [
    "a = 5\n",
    "b = 4\n",
    "c= 1\n",
    "plt.figure(figsize=[15,15])\n",
    "for i in cat_test:\n",
    "    plt.subplot(a,b,c)\n",
    "    plt.xticks(rotation = 90)\n",
    "    sns.countplot(test[i])\n",
    "    c=c+1\n",
    "plt.tight_layout()\n",
    "plt.show()"
   ]
  },
  {
   "cell_type": "code",
   "execution_count": null,
   "id": "6fb3c050",
   "metadata": {},
   "outputs": [],
   "source": [
    "# Test.\n",
    "\n",
    "o = ['Home_Appliances', 'Product_bought']\n",
    "\n",
    "a = 1\n",
    "b = 2\n",
    "c= 1\n",
    "plt.figure(figsize=[8,4])\n",
    "for i in o:\n",
    "    plt.subplot(a,b,c)\n",
    "    plt.xticks(rotation = 90)\n",
    "    plt.title(i)\n",
    "    test[i].value_counts().head(10).plot(kind = \"bar\")\n",
    "    c=c+1\n",
    "plt.tight_layout()\n",
    "plt.show()"
   ]
  },
  {
   "cell_type": "code",
   "execution_count": null,
   "id": "ed4c3c27",
   "metadata": {},
   "outputs": [],
   "source": [
    "# Summary of test Categorical columns\n",
    "\n",
    "test.describe(include =\"O\").T"
   ]
  },
  {
   "cell_type": "code",
   "execution_count": null,
   "id": "b2369c78",
   "metadata": {},
   "outputs": [],
   "source": [
    "cate = ['Vehicle_Status', 'Job_Type', 'Default_hist', 'Prop_List',\n",
    "       'Region_Type', 'Credit_Inq', 'Education_det', 'Marital_Stat', 'Gen',\n",
    "       'Credit_Lnks', 'Income_Alt', 'Day_Process', 'Ph.No', 'Type_Loan',\n",
    "       'Region', 'Addr_permanent', 'Permanent_Addr_tag','Dependents', 'Company_Rating','Default']"
   ]
  },
  {
   "cell_type": "code",
   "execution_count": null,
   "id": "d4346b73",
   "metadata": {},
   "outputs": [],
   "source": [
    "a = 5\n",
    "b = 4\n",
    "c= 1\n",
    "plt.figure(figsize=[15,15])\n",
    "for i in cate:\n",
    "    plt.subplot(a,b,c)\n",
    "    plt.xticks(rotation = 90)\n",
    "    sns.countplot(train[i])\n",
    "    c=c+1\n",
    "plt.tight_layout()\n",
    "plt.show()"
   ]
  },
  {
   "cell_type": "code",
   "execution_count": null,
   "id": "ef31690b",
   "metadata": {},
   "outputs": [],
   "source": [
    "o = ['Home_Appliances', 'Product_bought']\n",
    "\n",
    "a = 1\n",
    "b = 2\n",
    "c= 1\n",
    "plt.figure(figsize=[8,4])\n",
    "for i in o:\n",
    "    plt.subplot(a,b,c)\n",
    "    plt.xticks(rotation = 90)\n",
    "    plt.title(i)\n",
    "    train[i].value_counts().head(10).plot(kind = \"bar\")\n",
    "    c=c+1\n",
    "plt.tight_layout()\n",
    "plt.show()"
   ]
  },
  {
   "cell_type": "code",
   "execution_count": null,
   "id": "e79fae7a",
   "metadata": {},
   "outputs": [],
   "source": [
    "# Summary\n",
    "\n",
    "train.describe(include = \"O\").T"
   ]
  },
  {
   "cell_type": "code",
   "execution_count": null,
   "id": "2c4957aa",
   "metadata": {},
   "outputs": [],
   "source": [
    "train[\"Default\"].value_counts()\n",
    "\n",
    "#  Imbalance class"
   ]
  },
  {
   "cell_type": "markdown",
   "id": "3c07f510",
   "metadata": {},
   "source": [
    "### Multivariate Analysis"
   ]
  },
  {
   "cell_type": "code",
   "execution_count": null,
   "id": "b7cbf823",
   "metadata": {},
   "outputs": [],
   "source": [
    "# sns.pairplot(train, hue = train[\"Default\"])\n",
    "# plt.show()"
   ]
  },
  {
   "cell_type": "code",
   "execution_count": null,
   "id": "9c54fcd6",
   "metadata": {},
   "outputs": [],
   "source": [
    "# Bivariate analysis of test dataset\n",
    "\n",
    "sns.scatterplot(x = test[\"Age\"], y = test[\"Experience\"]) \n",
    "plt.show()\n",
    " \n",
    "# there is apositive correlation between these columns.\n",
    "# There are lot of person have more or equal experience than age. "
   ]
  },
  {
   "cell_type": "code",
   "execution_count": null,
   "id": "76a2c879",
   "metadata": {},
   "outputs": [],
   "source": [
    "sns.scatterplot(x = train[\"Age\"], y = train[\"Experience\"], hue = train[\"Default\"]) \n",
    "plt.show()\n",
    "\n",
    "# There are lot of person have more or equal experience than age. "
   ]
  },
  {
   "cell_type": "code",
   "execution_count": null,
   "id": "9a49be89",
   "metadata": {},
   "outputs": [],
   "source": [
    "#test. Get the whole rows that's Experience and age is equal.\n",
    "\n",
    "test.loc[(test[\"Age\"] == test[\"Experience\"])]"
   ]
  },
  {
   "cell_type": "code",
   "execution_count": null,
   "id": "1957f2ab",
   "metadata": {},
   "outputs": [],
   "source": [
    "# Get the whole rows that's Experience more than age.\n",
    "\n",
    "test.loc[(test[\"Age\"] < test[\"Experience\"])]"
   ]
  },
  {
   "cell_type": "code",
   "execution_count": null,
   "id": "8973e51a",
   "metadata": {},
   "outputs": [],
   "source": [
    "#test. Here, we put median having experience more than there age.\n",
    "\n",
    "test[\"Experience\"] = np.where(test[\"Age\"] < test[\"Experience\"], test[\"Experience\"].median(), test[\"Experience\"])\n",
    "\n",
    "test.loc[(test[\"Age\"] < test[\"Experience\"])]"
   ]
  },
  {
   "cell_type": "code",
   "execution_count": null,
   "id": "5436345d",
   "metadata": {},
   "outputs": [],
   "source": [
    "print(test[\"Age\"].describe(), \"\\n\")\n",
    "print(test[\"Experience\"].describe(), \"\\n\")"
   ]
  },
  {
   "cell_type": "code",
   "execution_count": null,
   "id": "ca5c6f72",
   "metadata": {},
   "outputs": [],
   "source": [
    "# Get the whole rows that's Experience and age is equal.\n",
    "\n",
    "train.loc[(train[\"Age\"] == train[\"Experience\"])]"
   ]
  },
  {
   "cell_type": "code",
   "execution_count": null,
   "id": "f201920c",
   "metadata": {},
   "outputs": [],
   "source": [
    "# Here, we impute median of experience of having same age.\n",
    "\n",
    "train[\"Experience\"] = np.where(train[\"Age\"] == train[\"Experience\"], train.loc[(train[\"Age\"] == 36),\"Experience\"].median(), train[\"Experience\"]) "
   ]
  },
  {
   "cell_type": "code",
   "execution_count": null,
   "id": "784b27a8",
   "metadata": {},
   "outputs": [],
   "source": [
    "train.iloc[27216:27217]\n",
    "\n",
    "#  Now the experience is 4.5 "
   ]
  },
  {
   "cell_type": "code",
   "execution_count": null,
   "id": "51c2c124",
   "metadata": {},
   "outputs": [],
   "source": [
    "train.loc[(train[\"Age\"] == train[\"Experience\"])]"
   ]
  },
  {
   "cell_type": "code",
   "execution_count": null,
   "id": "8822d836",
   "metadata": {},
   "outputs": [],
   "source": [
    "# Get the whole rows that's Experience more than age.\n",
    "\n",
    "train.loc[(train[\"Age\"] < train[\"Experience\"])]"
   ]
  },
  {
   "cell_type": "code",
   "execution_count": null,
   "id": "b4181480",
   "metadata": {},
   "outputs": [],
   "source": [
    "# Here, we put median having experience more than there age.\n",
    "\n",
    "train[\"Experience\"] = np.where(train[\"Age\"] < train[\"Experience\"], train[\"Experience\"].median(), train[\"Experience\"])\n",
    "\n",
    "train.loc[(train[\"Age\"] < train[\"Experience\"])]"
   ]
  },
  {
   "cell_type": "code",
   "execution_count": null,
   "id": "9eb91371",
   "metadata": {},
   "outputs": [],
   "source": [
    " print(train[\"Age\"].describe(), \"\\n\")\n",
    "print(train[\"Experience\"].describe(), \"\\n\")"
   ]
  },
  {
   "cell_type": "code",
   "execution_count": null,
   "id": "f216c7d1",
   "metadata": {},
   "outputs": [],
   "source": [
    "#test. To check the outlier in the data\n",
    "\n",
    "num1_test = ['Annuity_amt', 'density_Ind', 'Age', 'hour_Process', 'c1_rated', 'c2_rated',\n",
    "             'Contact_age', 'Compensation_log', 'Loan_amt_log']\n",
    "\n",
    "a = 5\n",
    "b = 4\n",
    "c = 1\n",
    "\n",
    "plt.figure(figsize = [15,15])\n",
    "for i in num1_test:\n",
    "    plt.subplot(a,b,c)\n",
    "    sns.scatterplot(x = test[i], y = test[i]) \n",
    "    c=c+1\n",
    "plt.tight_layout()\n",
    "plt.show()"
   ]
  },
  {
   "cell_type": "code",
   "execution_count": null,
   "id": "eff0dec8",
   "metadata": {},
   "outputs": [],
   "source": [
    "# To check the outlier in the data\n",
    "num1 = ['Annuity_amt', 'density_Ind', 'Age', 'hour_Process', 'c1_rated', 'c2_rated',\n",
    "        'Contact_age', 'Compensation_log', 'Loan_amt_log']\n",
    "\n",
    "a = 5\n",
    "b = 4\n",
    "c = 1\n",
    "\n",
    "plt.figure(figsize = [15,15])\n",
    "for i in num1:\n",
    "    plt.subplot(a,b,c)\n",
    "    sns.scatterplot(x = train[i], y = train[i], hue = train[\"Default\"]) \n",
    "    c=c+1\n",
    "plt.tight_layout()\n",
    "plt.show()"
   ]
  },
  {
   "cell_type": "code",
   "execution_count": null,
   "id": "db54c348",
   "metadata": {},
   "outputs": [],
   "source": [
    "train.groupby([\"Region\", \"Region_Type\"])[\"Default\"].count()"
   ]
  },
  {
   "cell_type": "markdown",
   "id": "360928db",
   "metadata": {},
   "source": [
    "### Feature engineering techniques for dimensionality reduction"
   ]
  },
  {
   "cell_type": "code",
   "execution_count": null,
   "id": "7558b2af",
   "metadata": {},
   "outputs": [],
   "source": [
    "train.head()"
   ]
  },
  {
   "cell_type": "code",
   "execution_count": null,
   "id": "faa2561c",
   "metadata": {},
   "outputs": [],
   "source": [
    "train.nunique()"
   ]
  },
  {
   "cell_type": "code",
   "execution_count": null,
   "id": "6c7742cb",
   "metadata": {},
   "outputs": [],
   "source": [
    "test.head()"
   ]
  },
  {
   "cell_type": "code",
   "execution_count": null,
   "id": "7873df84",
   "metadata": {},
   "outputs": [],
   "source": [
    "# 1test. Home_Appliances\n",
    "\n",
    "print(sorted(test[\"Home_Appliances\"].unique()),\"\\n\", end= \"\")\n",
    "\n",
    "print(test[\"Home_Appliances\"].value_counts())"
   ]
  },
  {
   "cell_type": "code",
   "execution_count": null,
   "id": "8107e900",
   "metadata": {},
   "outputs": [],
   "source": [
    "test[\"Home_abin\"] = pd.cut(test[\"Home_Appliances\"], bins = [0,3.0, 19.0], labels = [\"<=3\", \">=4\"])\n",
    "\n",
    "test[\"Home_abin\"].value_counts()"
   ]
  },
  {
   "cell_type": "code",
   "execution_count": null,
   "id": "e40a2aba",
   "metadata": {},
   "outputs": [],
   "source": [
    "# 1. Home_Appliances\n",
    "\n",
    "print(sorted(train[\"Home_Appliances\"].unique()),\"\\n\", end= \"\")\n",
    "\n",
    "print(train[\"Home_Appliances\"].value_counts())"
   ]
  },
  {
   "cell_type": "code",
   "execution_count": null,
   "id": "998c5f32",
   "metadata": {},
   "outputs": [],
   "source": [
    "train[\"Home_abin\"] = pd.cut(train[\"Home_Appliances\"], bins = [0,3.0, 19.0], labels = [\"<=3\", \">=4\"])\n",
    "\n",
    "print(train[\"Home_abin\"].value_counts())"
   ]
  },
  {
   "cell_type": "code",
   "execution_count": null,
   "id": "214db2ab",
   "metadata": {
    "scrolled": true
   },
   "outputs": [],
   "source": [
    " # 2test. Experience\n",
    "    \n",
    "print(sorted(test[\"Experience\"].unique()),\"\\n\", end= \"\")\n",
    "print(test[\"Experience\"].value_counts().head(10))"
   ]
  },
  {
   "cell_type": "code",
   "execution_count": null,
   "id": "8a018090",
   "metadata": {},
   "outputs": [],
   "source": [
    "test[\"Experience_bin\"] = pd.cut(test[\"Experience\"], bins = [0, 6.0, 48.1], labels = [\"1to6yrs\", \"7to48yrs\"])\n",
    "\n",
    "print(test[\"Experience_bin\"].value_counts())"
   ]
  },
  {
   "cell_type": "code",
   "execution_count": null,
   "id": "d49d2f60",
   "metadata": {
    "scrolled": true
   },
   "outputs": [],
   "source": [
    "# 2. Experience\n",
    "\n",
    "print(sorted(train[\"Experience\"].unique()),\"\\n\", end= \"\")\n",
    "print(train[\"Experience\"].value_counts().head(10))"
   ]
  },
  {
   "cell_type": "code",
   "execution_count": null,
   "id": "29e2da49",
   "metadata": {},
   "outputs": [],
   "source": [
    "train[\"Experience_bin\"] = pd.cut(train[\"Experience\"], bins = [0, 6.0, 48.1], labels = [\"1to6yrs\", \"7to48yrs\"])\n",
    "\n",
    "print(train[\"Experience_bin\"].value_counts())"
   ]
  },
  {
   "cell_type": "code",
   "execution_count": null,
   "id": "7dc62f39",
   "metadata": {},
   "outputs": [],
   "source": [
    "# 3test. Dependents\n",
    "\n",
    "print(sorted(test[\"Dependents\"].unique()),\"\\n\", end= \"\")\n",
    "print(test[\"Dependents\"].value_counts())"
   ]
  },
  {
   "cell_type": "code",
   "execution_count": null,
   "id": "093e45d2",
   "metadata": {},
   "outputs": [],
   "source": [
    "test[\"Dependents_bin\"] = pd.cut(test[\"Dependents\"], bins = [0.0, 1.0, 2.0, 9.0], labels = [\"1\", \"2\", \">=3\"])\n",
    "\n",
    "print(test[\"Dependents_bin\"].value_counts())"
   ]
  },
  {
   "cell_type": "code",
   "execution_count": null,
   "id": "3e7c49c7",
   "metadata": {},
   "outputs": [],
   "source": [
    "# 3. Dependents\n",
    "\n",
    "print(sorted(train[\"Dependents\"].unique()),\"\\n\", end= \"\")\n",
    "print(train[\"Dependents\"].value_counts())"
   ]
  },
  {
   "cell_type": "code",
   "execution_count": null,
   "id": "b55a6f4c",
   "metadata": {},
   "outputs": [],
   "source": [
    "train[\"Dependents_bin\"] = pd.cut(train[\"Dependents\"], bins = [0.0, 1.0, 2.0, 9.0], labels = [\"1\", \"2\", \">=3\"])\n",
    "\n",
    "print(train[\"Dependents_bin\"].value_counts())"
   ]
  },
  {
   "cell_type": "code",
   "execution_count": null,
   "id": "ce650a18",
   "metadata": {},
   "outputs": [],
   "source": [
    "# 4test. Contact_age\n",
    "\n",
    "# Convert contact age days into years.\n",
    "\n",
    "test[\"Contact_yrs\"] = abs(test[\"Contact_age\"]/365)"
   ]
  },
  {
   "cell_type": "code",
   "execution_count": null,
   "id": "01d510b3",
   "metadata": {},
   "outputs": [],
   "source": [
    "# 4. Contact_age\n",
    "\n",
    "# Convert contact age days into years.\n",
    "\n",
    "train[\"Contact_yrs\"] = abs(train[\"Contact_age\"]/365)"
   ]
  },
  {
   "cell_type": "code",
   "execution_count": null,
   "id": "b0feef1e",
   "metadata": {
    "scrolled": true
   },
   "outputs": [],
   "source": [
    "# 5test. Product_bought\n",
    "\n",
    "print(sorted(test[\"Product_bought\"].unique()),\"\\n\", end= \"\")\n",
    "print(test[\"Product_bought\"].value_counts())"
   ]
  },
  {
   "cell_type": "code",
   "execution_count": null,
   "id": "866c42b6",
   "metadata": {},
   "outputs": [],
   "source": [
    "test[\"Product_bin\"] = pd.cut(test[\"Product_bought\"], bins = [0.0, 3.0,  25.0], labels = [\"0to2\", \"3to25\"])\n",
    "\n",
    "print(test[\"Product_bin\"].value_counts())"
   ]
  },
  {
   "cell_type": "code",
   "execution_count": null,
   "id": "43aac646",
   "metadata": {
    "scrolled": true
   },
   "outputs": [],
   "source": [
    "# 5. Product_bought\n",
    "\n",
    "print(sorted(train[\"Product_bought\"].unique()),\"\\n\", end= \"\")\n",
    "print(train[\"Product_bought\"].value_counts())"
   ]
  },
  {
   "cell_type": "code",
   "execution_count": null,
   "id": "d5e883f3",
   "metadata": {},
   "outputs": [],
   "source": [
    "train[\"Product_bin\"] = pd.cut(train[\"Product_bought\"], bins = [0.0, 3.0, 25.0], labels = [\"0to2\", \"3to25\"])\n",
    "\n",
    "print(train[\"Product_bin\"].value_counts())"
   ]
  },
  {
   "cell_type": "code",
   "execution_count": null,
   "id": "65a35088",
   "metadata": {},
   "outputs": [],
   "source": [
    "# Drop unecessary columns from test\n",
    "\n",
    "test.drop([\"Compensation\", \"Loan_amt\", \"Experience\", \"Home_Appliances\", \"Dependents\", \"Contact_age\", \"Product_bought\"], axis = 1, inplace = True)"
   ]
  },
  {
   "cell_type": "code",
   "execution_count": null,
   "id": "5566be36",
   "metadata": {},
   "outputs": [],
   "source": [
    "# Drop unecessary columns\n",
    "\n",
    "train.drop([\"Compensation\", \"Loan_amt\", \"Experience\", \"Home_Appliances\", \"Dependents\", \"Contact_age\", \"Product_bought\"], axis = 1, inplace = True)"
   ]
  },
  {
   "cell_type": "code",
   "execution_count": null,
   "id": "786fe509",
   "metadata": {},
   "outputs": [],
   "source": [
    "# test boxplot\n",
    "\n",
    "num1_test = test.select_dtypes(include = np.number).columns\n",
    "\n",
    "a = 5\n",
    "b = 3\n",
    "c = 1\n",
    "\n",
    "plt.figure(figsize = [8,15])\n",
    "for i in num1_test:\n",
    "    plt.subplot(a,b,c)\n",
    "    sns.boxplot(test[i]) \n",
    "    c=c+1\n",
    "plt.tight_layout()\n",
    "plt.show()"
   ]
  },
  {
   "cell_type": "code",
   "execution_count": null,
   "id": "8f138aff",
   "metadata": {},
   "outputs": [],
   "source": [
    "num1 = train.select_dtypes(include = np.number).columns\n",
    "\n",
    "a = 5\n",
    "b = 3\n",
    "c = 1\n",
    "\n",
    "plt.figure(figsize = [8,15])\n",
    "for i in num1:\n",
    "    plt.subplot(a,b,c)\n",
    "    sns.boxplot(train[i]) \n",
    "    c=c+1\n",
    "plt.tight_layout()\n",
    "plt.show()"
   ]
  },
  {
   "cell_type": "markdown",
   "id": "752b28a1",
   "metadata": {},
   "source": [
    "#### Remove Outlier"
   ]
  },
  {
   "cell_type": "code",
   "execution_count": null,
   "id": "f4e9ecc5",
   "metadata": {},
   "outputs": [],
   "source": [
    "test.info()"
   ]
  },
  {
   "cell_type": "code",
   "execution_count": null,
   "id": "46f0f9f8",
   "metadata": {},
   "outputs": [],
   "source": [
    "#test. Conveert the datatypes of these category columns.\n",
    "\n",
    "test[\"Home_abin\"]  = test[\"Home_abin\"].astype(\"O\")\n",
    "\n",
    "test[\"Experience_bin\"]  = test[\"Experience_bin\"].astype(\"O\")\n",
    "\n",
    "test[\"Dependents_bin\"]  = test[\"Dependents_bin\"].astype(\"O\")\n",
    "\n",
    "test[\"Product_bin\"]  = test[\"Product_bin\"].astype(\"O\")"
   ]
  },
  {
   "cell_type": "code",
   "execution_count": null,
   "id": "edf06449",
   "metadata": {},
   "outputs": [],
   "source": [
    "clean_test = test.copy()\n",
    "test.shape"
   ]
  },
  {
   "cell_type": "code",
   "execution_count": null,
   "id": "d42d1075",
   "metadata": {},
   "outputs": [],
   "source": [
    "# Remove outlier using capping method from test dataset.\n",
    "\n",
    "clean_test.loc[clean_test['Annuity_amt']>= 15999.61,'Annuity_amt']= 15999.61\n",
    "\n",
    "clean_test.loc[clean_test['density_Ind']>= 0.0414,'density_Ind']= 0.0414\n",
    "\n",
    "clean_test.loc[clean_test['hour_Process']>= 22,'hour_Process']= 22\n",
    "clean_test.loc[clean_test['hour_Process']<= 3,'hour_Process']= 3\n",
    "\n",
    "\n",
    "clean_test.loc[clean_test[\"Compensation_log\"]>=  14.344976368948814,'Compensation_log']=  14.344976368948814\n",
    "clean_test.loc[clean_test[\"Compensation_log\"]<=   12.620728720339923,'Compensation_log']=  12.620728720339923\n",
    "\n",
    "clean_test.loc[clean_test[\"Loan_amt_log\"]>= 14.598352,'Loan_amt_log']= 14.598352\n",
    "clean_test.loc[clean_test[\"Loan_amt_log\"]<= 11.000206383076595,'Loan_amt_log']= 11.000206383076595\n",
    "\n",
    "clean_test.loc[clean_test['Contact_yrs']>=  8.997260273972604,'Contact_yrs']=  8"
   ]
  },
  {
   "cell_type": "code",
   "execution_count": null,
   "id": "3464ac2f",
   "metadata": {},
   "outputs": [],
   "source": [
    " sorted(clean_test['Contact_yrs'], reverse =True)"
   ]
  },
  {
   "cell_type": "code",
   "execution_count": null,
   "id": "13b752bd",
   "metadata": {},
   "outputs": [],
   "source": [
    "# test boxplot\n",
    "\n",
    "n_test = clean_test.select_dtypes(include = np.number).columns\n",
    "\n",
    "a = 5\n",
    "b = 3\n",
    "c = 1\n",
    "\n",
    "plt.figure(figsize = [8,15])\n",
    "for i in n_test:\n",
    "    plt.subplot(a,b,c)\n",
    "    sns.boxplot(clean_test[i]) \n",
    "    c=c+1\n",
    "plt.tight_layout()\n",
    "plt.show()"
   ]
  },
  {
   "cell_type": "code",
   "execution_count": null,
   "id": "4c06437e",
   "metadata": {},
   "outputs": [],
   "source": [
    "train.info()"
   ]
  },
  {
   "cell_type": "code",
   "execution_count": null,
   "id": "5786ff84",
   "metadata": {},
   "outputs": [],
   "source": [
    "# Convert the datatypes of these category columns.\n",
    "\n",
    "train[\"Home_abin\"]  = train[\"Home_abin\"].astype(\"O\")\n",
    "\n",
    "train[\"Experience_bin\"]  = train[\"Experience_bin\"].astype(\"O\")\n",
    "\n",
    "train[\"Dependents_bin\"]  = train[\"Dependents_bin\"].astype(\"O\")\n",
    "\n",
    "train[\"Product_bin\"]  = train[\"Product_bin\"].astype(\"O\")\n",
    "\n",
    "train[\"Default\"]  = train[\"Default\"].astype(\"O\")"
   ]
  },
  {
   "cell_type": "code",
   "execution_count": null,
   "id": "bf1c242a",
   "metadata": {},
   "outputs": [],
   "source": [
    " train.shape"
   ]
  },
  {
   "cell_type": "code",
   "execution_count": null,
   "id": "e26aeeb4",
   "metadata": {},
   "outputs": [],
   "source": [
    "clean_train = train.copy()"
   ]
  },
  {
   "cell_type": "code",
   "execution_count": null,
   "id": "f405c35f",
   "metadata": {},
   "outputs": [],
   "source": [
    "q1 = clean_train.quantile(0.25)\n",
    "q3 = clean_train.quantile(0.75)\n",
    "\n",
    "iqr = q3-q1\n",
    "\n",
    "lower = q1-1.5*iqr\n",
    "upper = q3+1.5*iqr\n",
    "\n",
    "wt_outlier = clean_train[~((clean_train <lower)|(clean_train >upper)).any(axis = 1)]\n",
    "\n",
    "wt_outlier.head()"
   ]
  },
  {
   "cell_type": "code",
   "execution_count": null,
   "id": "ff071896",
   "metadata": {},
   "outputs": [],
   "source": [
    "wt_outlier.shape"
   ]
  },
  {
   "cell_type": "code",
   "execution_count": null,
   "id": "040aaef2",
   "metadata": {},
   "outputs": [],
   "source": [
    "num1 = wt_outlier.select_dtypes(include = np.number).columns\n",
    "\n",
    "a = 5\n",
    "b = 3\n",
    "c = 1\n",
    "\n",
    "plt.figure(figsize = [8,15])\n",
    "for i in num1:\n",
    "    plt.subplot(a,b,c)\n",
    "    sns.boxplot(wt_outlier[i]) \n",
    "    c=c+1\n",
    "plt.tight_layout()\n",
    "plt.show()"
   ]
  },
  {
   "cell_type": "code",
   "execution_count": null,
   "id": "a3d80539",
   "metadata": {},
   "outputs": [],
   "source": [
    "plt.figure(figsize=[12,12])\n",
    "sns.heatmap(wt_outlier.corr(), annot  = True)\n",
    "plt.show()\n",
    "\n",
    "# These  columns has high correlations.\n",
    "\n",
    "# Compensation_log and Annunity _amt correlation is 0.27\n",
    "# Annuity_amt and Loan_amt_log correlation is 0.47\n",
    "# Compensation_log and Loan_amt_log correlation is 35"
   ]
  },
  {
   "cell_type": "code",
   "execution_count": null,
   "id": "c309b351",
   "metadata": {},
   "outputs": [],
   "source": [
    "clean_test.head(2)"
   ]
  },
  {
   "cell_type": "code",
   "execution_count": null,
   "id": "76d11d7d",
   "metadata": {},
   "outputs": [],
   "source": [
    "# test.\n",
    "\n",
    "num_test = clean_test.select_dtypes(include = np.number)\n",
    "num_test.head()"
   ]
  },
  {
   "cell_type": "code",
   "execution_count": null,
   "id": "31270f69",
   "metadata": {},
   "outputs": [],
   "source": [
    " from sklearn.preprocessing import StandardScaler, PowerTransformer\n",
    "\n",
    "sc = StandardScaler()\n",
    "\n",
    "scale_test = pd.DataFrame(sc.fit_transform(num_test), columns = num_test.columns)\n",
    "\n",
    "pt = PowerTransformer()\n",
    "\n",
    "power_test = pd.DataFrame(pt.fit_transform(scale_test), columns = scale_test.columns).reset_index(drop = True)\n",
    "\n",
    "\n",
    "power_test.head()"
   ]
  },
  {
   "cell_type": "code",
   "execution_count": null,
   "id": "5026a896",
   "metadata": {},
   "outputs": [],
   "source": [
    "print(power_test.shape, \"\\n\")\n",
    "print(power_test.isna().sum())"
   ]
  },
  {
   "cell_type": "code",
   "execution_count": null,
   "id": "52548f58",
   "metadata": {},
   "outputs": [],
   "source": [
    "# train dataset.\n",
    "\n",
    "num1 = wt_outlier.select_dtypes(include = np.number)\n",
    "num1.head()"
   ]
  },
  {
   "cell_type": "code",
   "execution_count": null,
   "id": "f47afb96",
   "metadata": {},
   "outputs": [],
   "source": [
    " "
   ]
  },
  {
   "cell_type": "code",
   "execution_count": null,
   "id": "289a8a9b",
   "metadata": {},
   "outputs": [],
   "source": [
    " from sklearn.preprocessing import StandardScaler, PowerTransformer\n",
    "\n",
    "sc = StandardScaler()\n",
    "\n",
    "scale = pd.DataFrame(sc.fit_transform(num1), columns = num1.columns)\n",
    "\n",
    "pt = PowerTransformer()\n",
    "\n",
    "power = pd.DataFrame(pt.fit_transform(scale), columns = scale.columns).reset_index(drop = True)\n",
    "\n",
    "\n",
    "power.head()"
   ]
  },
  {
   "cell_type": "code",
   "execution_count": null,
   "id": "5410bdda",
   "metadata": {},
   "outputs": [],
   "source": [
    "print(power.shape, \"\\n\")\n",
    "print(power.isna().sum())"
   ]
  },
  {
   "cell_type": "code",
   "execution_count": null,
   "id": "d2eb220c",
   "metadata": {},
   "outputs": [],
   "source": [
    "# test.  \n",
    "\n",
    "cat_test = clean_test.select_dtypes(include = \"O\")\n",
    "cat_test.head()"
   ]
  },
  {
   "cell_type": "code",
   "execution_count": null,
   "id": "d248d5ec",
   "metadata": {},
   "outputs": [],
   "source": [
    "dum_test = cat_test.loc[:,['Vehicle_Status', 'Job_Type', 'Default_hist', 'Prop_List',\n",
    "       'Region_Type', 'Education_det', 'Gen',\n",
    "       'Credit_Lnks', 'Income_Alt', 'Ph.No', 'Type_Loan',\n",
    "       'Company_Rating',  'Addr_permanent', 'Permanent_Addr_tag',\n",
    "       'Home_abin', 'Experience_bin', 'Dependents_bin', 'Product_bin']]\n",
    "\n",
    "dum_test.head()"
   ]
  },
  {
   "cell_type": "code",
   "execution_count": null,
   "id": "0f0f1305",
   "metadata": {},
   "outputs": [],
   "source": [
    "dummy_test = pd.get_dummies(dum_test, drop_first = True).reset_index(drop = True)\n",
    "dummy_test.head()"
   ]
  },
  {
   "cell_type": "code",
   "execution_count": null,
   "id": "b3a0e4a9",
   "metadata": {},
   "outputs": [],
   "source": [
    "dummy_test.shape"
   ]
  },
  {
   "cell_type": "code",
   "execution_count": null,
   "id": "8726323f",
   "metadata": {},
   "outputs": [],
   "source": [
    "cat1 = wt_outlier.select_dtypes(include = \"O\")\n",
    "cat1.head()"
   ]
  },
  {
   "cell_type": "code",
   "execution_count": null,
   "id": "5ffa6457",
   "metadata": {},
   "outputs": [],
   "source": [
    "cat1.nunique()"
   ]
  },
  {
   "cell_type": "code",
   "execution_count": null,
   "id": "46a0feed",
   "metadata": {},
   "outputs": [],
   "source": [
    "cat1.columns"
   ]
  },
  {
   "cell_type": "code",
   "execution_count": null,
   "id": "ae98b6f6",
   "metadata": {},
   "outputs": [],
   "source": [
    "dum = cat1.loc[:,['Vehicle_Status', 'Job_Type', 'Default_hist', 'Prop_List',\n",
    "       'Region_Type', 'Education_det', 'Gen',\n",
    "       'Credit_Lnks', 'Income_Alt', 'Ph.No', 'Type_Loan',\n",
    "       'Company_Rating',  'Addr_permanent', 'Permanent_Addr_tag',\n",
    "       'Home_abin', 'Experience_bin', 'Dependents_bin', 'Product_bin' ]]\n",
    "dum.head()"
   ]
  },
  {
   "cell_type": "code",
   "execution_count": null,
   "id": "b1e5481d",
   "metadata": {},
   "outputs": [],
   "source": [
    "dummy = pd.get_dummies(dum, drop_first = True).reset_index(drop = True)\n",
    "dummy.head(2)"
   ]
  },
  {
   "cell_type": "code",
   "execution_count": null,
   "id": "83623148",
   "metadata": {},
   "outputs": [],
   "source": [
    "woe_test = cat_test.loc[:,['Day_Process', 'Credit_Inq', 'Marital_Stat', 'Region']]\n",
    "woe_test.head()"
   ]
  },
  {
   "cell_type": "code",
   "execution_count": null,
   "id": "af7c204c",
   "metadata": {},
   "outputs": [],
   "source": [
    "woe = cat1.loc[:,['Day_Process', 'Credit_Inq', 'Marital_Stat', 'Region']]\n",
    "woe.head()"
   ]
  },
  {
   "cell_type": "code",
   "execution_count": null,
   "id": "ed7f5024",
   "metadata": {},
   "outputs": [],
   "source": [
    " import category_encoders as ce\n",
    "    \n",
    "train_target = cat1[\"Default\"]\n",
    "    \n",
    "columns = woe.columns\n",
    "woe_encoder = ce.WOEEncoder(cols= columns)\n",
    "\n",
    "woe_encoded = woe_encoder.fit_transform( woe[columns], train_target).astype(\"float\").reset_index(drop = True)\n",
    "\n",
    "woe_encoded.head()"
   ]
  },
  {
   "cell_type": "code",
   "execution_count": null,
   "id": "7f05579b",
   "metadata": {},
   "outputs": [],
   "source": [
    "woe_encoded_test = woe_encoder.transform(woe_test)\n",
    "woe_encoded_test.head()"
   ]
  },
  {
   "cell_type": "code",
   "execution_count": null,
   "id": "fbd0f22c",
   "metadata": {},
   "outputs": [],
   "source": [
    "x_of_test = pd.concat([power_test, dummy_test, woe_encoded_test ], axis =1)\n",
    "\n",
    "x_of_test.head()"
   ]
  },
  {
   "cell_type": "code",
   "execution_count": null,
   "id": "a3b0699e",
   "metadata": {},
   "outputs": [],
   "source": [
    "x_of_test.shape"
   ]
  },
  {
   "cell_type": "code",
   "execution_count": null,
   "id": "8dde99ab",
   "metadata": {},
   "outputs": [],
   "source": [
    "x= pd.concat([power, dummy, woe_encoded ], axis =1)\n",
    "x.head()"
   ]
  },
  {
   "cell_type": "code",
   "execution_count": null,
   "id": "e6bf9971",
   "metadata": {},
   "outputs": [],
   "source": [
    "x.shape"
   ]
  },
  {
   "cell_type": "code",
   "execution_count": null,
   "id": "f12a0f14",
   "metadata": {},
   "outputs": [],
   "source": [
    "train_target.value_counts()"
   ]
  },
  {
   "cell_type": "code",
   "execution_count": null,
   "id": "0bd910ff",
   "metadata": {},
   "outputs": [],
   "source": [
    "y = train_target.astype(\"int\")"
   ]
  },
  {
   "cell_type": "markdown",
   "id": "d7d85628",
   "metadata": {},
   "source": [
    "## 3. Model Building"
   ]
  },
  {
   "cell_type": "code",
   "execution_count": null,
   "id": "8c427c9e",
   "metadata": {},
   "outputs": [],
   "source": [
    "from sklearn.model_selection import train_test_split,GridSearchCV\n",
    "\n",
    "xtrain, xtest, ytrain, ytest = train_test_split(x, y, test_size = 0.30, random_state = 10 )"
   ]
  },
  {
   "cell_type": "code",
   "execution_count": null,
   "id": "e8a36cae",
   "metadata": {},
   "outputs": [],
   "source": [
    "print(xtrain.shape, xtest.shape)\n",
    "print(ytrain.shape, ytest.shape)"
   ]
  },
  {
   "cell_type": "code",
   "execution_count": null,
   "id": "97ec36f3",
   "metadata": {},
   "outputs": [],
   "source": [
    "print(ytrain.value_counts())\n",
    "\n",
    "print(ytest.value_counts())"
   ]
  },
  {
   "cell_type": "markdown",
   "id": "620d4fc2",
   "metadata": {},
   "source": [
    "# Model 1"
   ]
  },
  {
   "cell_type": "code",
   "execution_count": null,
   "id": "d8c528b5",
   "metadata": {},
   "outputs": [],
   "source": [
    "from sklearn.linear_model import LogisticRegression\n",
    "import statsmodels.api as sm\n",
    "from sklearn.metrics import classification_report, confusion_matrix, plot_confusion_matrix,f1_score"
   ]
  },
  {
   "cell_type": "code",
   "execution_count": null,
   "id": "2f2ea8f1",
   "metadata": {},
   "outputs": [],
   "source": [
    "model = LogisticRegression(solver='newton-cg',class_weight= \"balanced\")\n",
    "\n",
    "train = model.fit(xtrain, ytrain)\n",
    "pred0 =  train.predict(xtrain) \n",
    "f1_score(ytrain, pred0 ) # F1_score of train"
   ]
  },
  {
   "cell_type": "code",
   "execution_count": null,
   "id": "37f255e4",
   "metadata": {},
   "outputs": [],
   "source": [
    "pred00 =  train.predict(xtest)\n",
    "f1_score( ytest, pred00 ) # Test F1_score"
   ]
  },
  {
   "cell_type": "code",
   "execution_count": null,
   "id": "69a2e574",
   "metadata": {},
   "outputs": [],
   "source": [
    "from sklearn.feature_selection import RFE \n",
    "\n",
    "model  = LogisticRegression(solver='newton-cg', class_weight= \"balanced\")\n",
    "    \n",
    "rfe_model = RFE(estimator = model, n_features_to_select = 5)\n",
    "    \n",
    "rfe_model = rfe_model.fit(xtrain, ytrain)\n",
    "\n",
    "feat_index = pd.DataFrame(data = rfe_model.ranking_, index = xtrain.columns)\n",
    "\n",
    "signi_feat_rfe = feat_index[feat_index == 1].index\n",
    "\n",
    "print(signi_feat_rfe)"
   ]
  },
  {
   "cell_type": "code",
   "execution_count": null,
   "id": "218a3409",
   "metadata": {},
   "outputs": [],
   "source": [
    "imf_xtrain = xtrain.loc[:,['Annuity_amt', 'density_Ind', 'Age', 'hour_Process', 'c1_rated',\n",
    "       'c2_rated', 'Compensation_log', 'Loan_amt_log', 'Contact_yrs',\n",
    "       'Vehicle_Status_Y', 'Job_Type_IT', 'Job_Type_Non-IT',\n",
    "       'Default_hist_ndf', 'Prop_List_None', 'Prop_List_One']]\n"
   ]
  },
  {
   "cell_type": "code",
   "execution_count": null,
   "id": "209d5faf",
   "metadata": {},
   "outputs": [],
   "source": [
    "imf_xtest = xtest.loc[:,['Annuity_amt', 'density_Ind', 'Age', 'hour_Process', 'c1_rated',\n",
    "       'c2_rated', 'Compensation_log', 'Loan_amt_log', 'Contact_yrs',\n",
    "       'Vehicle_Status_Y', 'Job_Type_IT', 'Job_Type_Non-IT',\n",
    "       'Default_hist_ndf', 'Prop_List_None', 'Prop_List_One']] "
   ]
  },
  {
   "cell_type": "code",
   "execution_count": null,
   "id": "1a204709",
   "metadata": {},
   "outputs": [],
   "source": [
    "imfx_of_test = x_of_test.loc[:,['Annuity_amt', 'density_Ind', 'Age', 'hour_Process', 'c1_rated',\n",
    "       'c2_rated', 'Compensation_log', 'Loan_amt_log', 'Contact_yrs',\n",
    "       'Vehicle_Status_Y', 'Job_Type_IT', 'Job_Type_Non-IT',\n",
    "       'Default_hist_ndf', 'Prop_List_None', 'Prop_List_One']] "
   ]
  },
  {
   "cell_type": "markdown",
   "id": "2040b6cf",
   "metadata": {},
   "source": [
    "### Best Model using SMOTE with top 15 improtant features"
   ]
  },
  {
   "cell_type": "code",
   "execution_count": null,
   "id": "32c66b74",
   "metadata": {},
   "outputs": [],
   "source": [
    "from imblearn.over_sampling import SMOTE\n",
    "\n",
    "smt_sm= SMOTE(random_state=1)\n",
    "xtrain_smote,ytrain_smote = smt_sm.fit_resample(imf_xtrain,ytrain)"
   ]
  },
  {
   "cell_type": "code",
   "execution_count": null,
   "id": "829f77ac",
   "metadata": {},
   "outputs": [],
   "source": [
    "ytrain_smote.shape, xtrain_smote.shape"
   ]
  },
  {
   "cell_type": "code",
   "execution_count": null,
   "id": "594cb180",
   "metadata": {},
   "outputs": [],
   "source": [
    "model = LogisticRegression(solver='newton-cg',class_weight= \"balanced\")\n",
    "\n",
    "train0 = model.fit(xtrain_smote, ytrain_smote)  # Train F1_score using SMOTE"
   ]
  },
  {
   "cell_type": "code",
   "execution_count": null,
   "id": "4f742475",
   "metadata": {},
   "outputs": [],
   "source": [
    "pred11 =  train0.predict(imf_xtest)\n",
    "f1_score(pred11, ytest ) # Test F1_score"
   ]
  },
  {
   "cell_type": "code",
   "execution_count": null,
   "id": "494886a7",
   "metadata": {},
   "outputs": [],
   "source": [
    "train0 = train0.fit(xtrain_smote, ytrain_smote)\n",
    "pred1 =  train0.predict(imf_xtrain)\n",
    "f1_score(pred1, ytrain)"
   ]
  },
  {
   "cell_type": "code",
   "execution_count": null,
   "id": "794fb4d7",
   "metadata": {},
   "outputs": [],
   "source": [
    "p = train0.predict(imfx_of_test)\n",
    "\n",
    "s1[\"Default\"] = p\n",
    "\n",
    "s1.to_csv(\"Submission.csv\", index = False)"
   ]
  },
  {
   "cell_type": "markdown",
   "id": "ea85664f",
   "metadata": {},
   "source": [
    "## Model 2 "
   ]
  },
  {
   "cell_type": "code",
   "execution_count": null,
   "id": "755438e0",
   "metadata": {},
   "outputs": [],
   "source": [
    "from sklearn.tree import DecisionTreeClassifier\n",
    " \n",
    "decision = DecisionTreeClassifier(random_state=10)\n",
    " \n",
    "decision_tree = decision.fit(xtrain, ytrain)\n",
    " \n",
    "y_pred = decision_tree.predict(xtest)"
   ]
  },
  {
   "cell_type": "code",
   "execution_count": null,
   "id": "9d27199a",
   "metadata": {},
   "outputs": [],
   "source": [
    "print(f1_score(ytest, y_pred))\n",
    "print(classification_report(ytest, y_pred))"
   ]
  },
  {
   "cell_type": "code",
   "execution_count": null,
   "id": "61937cdc",
   "metadata": {},
   "outputs": [],
   "source": [
    "# Train score\n",
    "\n",
    "y_pred_train = decision_tree.predict(xtrain)\n",
    "print(f1_score(ytest, y_pred))\n",
    "print(classification_report(ytest, y_pred))"
   ]
  },
  {
   "cell_type": "code",
   "execution_count": null,
   "id": "90a46a7b",
   "metadata": {},
   "outputs": [],
   "source": [
    "# Hyper parameter tuning.\n",
    "\n",
    "tuned_paramaters = [{'criterion': ['entropy', 'gini'],\n",
    "                     'max_depth': range(2, 15),\n",
    "                     'min_samples_split': range(2,15)}]\n",
    "\n",
    "decision_tree_model = DecisionTreeClassifier(random_state = 10)\n",
    " \n",
    "tree_grid = GridSearchCV(estimator = decision_tree_model, \n",
    "                         param_grid = tuned_paramaters, \n",
    "                         cv = 5)\n",
    " \n",
    "tree_grid.fit(xtrain, ytrain)\n",
    " \n",
    "print('Best parameters for Decision Tree Classifier: ', tree_grid.best_params_, '\\n')"
   ]
  },
  {
   "cell_type": "raw",
   "id": "c5fb6387",
   "metadata": {},
   "source": [
    "Best parameters for Decision Tree Classifier:  {'criterion': 'entropy', 'max_depth': 2, 'min_samples_split': 2} "
   ]
  },
  {
   "cell_type": "code",
   "execution_count": null,
   "id": "780f0056",
   "metadata": {},
   "outputs": [],
   "source": [
    "# Important parameters.\n",
    "\n",
    "tree_tuned = DecisionTreeClassifier(criterion = \"entropy\", \n",
    "                                                   max_depth = 2, \n",
    "                                                   min_samples_split = 2)\n",
    "\n",
    "decision_tree = tree_tuned.fit(xtrain, ytrain)\n",
    "\n",
    "# predict the attrition for test set\n",
    "y_pred = decision_tree.predict(xtest)\n",
    "\n",
    "# create a dataframe that stores the feature names and their importance\n",
    "important_features = pd.DataFrame({'Features': xtrain.columns, \n",
    "                                   'Importance': decision_tree.feature_importances_})\n",
    " \n",
    "imf = important_features.sort_values(by='Importance', ascending=False)\n",
    "imf.head()"
   ]
  },
  {
   "cell_type": "code",
   "execution_count": null,
   "id": "be7c9e06",
   "metadata": {},
   "outputs": [],
   "source": [
    "imf[\"Features\"].values"
   ]
  },
  {
   "cell_type": "code",
   "execution_count": null,
   "id": "3a5b0fd7",
   "metadata": {},
   "outputs": [],
   "source": [
    "imf_xtrain = xtrain.loc[:,['Age', 'c2_rated', 'Annuity_amt', 'Product_bin_6to25','Company_Rating_3.0',\n",
    "                           'Addr_permanent_Yes', 'Permanent_Addr_tag_Yes', 'Home_abin_>=4',\n",
    "                           'Experience_bin_20to48yrs', 'Experience_bin_6to10yrs' ]]"
   ]
  },
  {
   "cell_type": "code",
   "execution_count": null,
   "id": "bc04adde",
   "metadata": {},
   "outputs": [],
   "source": [
    "imf_xtest = xtest.loc[:,['Age', 'c2_rated', 'Annuity_amt', 'Product_bin_6to25','Company_Rating_3.0',\n",
    "                         'Addr_permanent_Yes', 'Permanent_Addr_tag_Yes', 'Home_abin_>=4',\n",
    "                         'Experience_bin_20to48yrs', 'Experience_bin_6to10yrs' ]]"
   ]
  },
  {
   "cell_type": "code",
   "execution_count": null,
   "id": "d1a339ec",
   "metadata": {},
   "outputs": [],
   "source": [
    "imfx_of_test = x_of_test.loc[:,['Age', 'c2_rated', 'Annuity_amt', 'Product_bin_6to25','Company_Rating_3.0',\n",
    "                                'Addr_permanent_Yes', 'Permanent_Addr_tag_Yes', 'Home_abin_>=4',\n",
    "                                'Experience_bin_20to48yrs', 'Experience_bin_6to10yrs' ]]"
   ]
  },
  {
   "cell_type": "code",
   "execution_count": null,
   "id": "7057bed1",
   "metadata": {},
   "outputs": [],
   "source": [
    "# SMOTE\n",
    "\n",
    "from imblearn.over_sampling import SMOTE\n",
    "\n",
    "smt_sm= SMOTE(random_state=1)\n",
    "xtrain_smote,ytrain_smote = smt_sm.fit_resample(imf_xtrain, ytrain)"
   ]
  },
  {
   "cell_type": "code",
   "execution_count": null,
   "id": "67d85485",
   "metadata": {},
   "outputs": [],
   "source": [
    "tree_tuned = DecisionTreeClassifier(criterion = \"entropy\", \n",
    "                                                   max_depth = 2, \n",
    "                                                   min_samples_split = 2, random_state = 10)\n",
    "\n",
    "train = tree_tuned.fit(xtrain_smote, ytrain_smote)\n",
    "imf_td = train.predict(imf_xtest)"
   ]
  },
  {
   "cell_type": "code",
   "execution_count": null,
   "id": "e6b83c74",
   "metadata": {},
   "outputs": [],
   "source": [
    "print(f1_score(ytest, imf_td))\n",
    "print(classification_report(ytest, y_pred))"
   ]
  },
  {
   "cell_type": "code",
   "execution_count": null,
   "id": "65e44e2d",
   "metadata": {},
   "outputs": [],
   "source": [
    "# Train score\n",
    "\n",
    "y_pred_train = tree_tuned.predict(imf_xtrain)\n",
    "print(f1_score(ytrain, y_pred_train))\n",
    "print(classification_report(ytrain, y_pred_train))"
   ]
  },
  {
   "cell_type": "markdown",
   "id": "e70c81e9",
   "metadata": {},
   "source": [
    "## Model 3"
   ]
  },
  {
   "cell_type": "code",
   "execution_count": null,
   "id": "82927d1f",
   "metadata": {},
   "outputs": [],
   "source": [
    "from sklearn.ensemble import RandomForestClassifier"
   ]
  },
  {
   "cell_type": "code",
   "execution_count": null,
   "id": "6c1ff1e5",
   "metadata": {},
   "outputs": [],
   "source": [
    "rf = RandomForestClassifier(n_estimators = 10, random_state = 10)\n",
    " \n",
    "rf_model = rf.fit(X_train, y_train)\n",
    " \n",
    "y_pred = rf_model.predict(X_test)\n",
    "\n",
    "print(classification_report(ytest, y_pred))"
   ]
  },
  {
   "cell_type": "code",
   "execution_count": null,
   "id": "33d9af73",
   "metadata": {},
   "outputs": [],
   "source": [
    "# It is hard to tune hyperparameter"
   ]
  },
  {
   "cell_type": "markdown",
   "id": "135c1058",
   "metadata": {},
   "source": [
    "## Descriptive Section"
   ]
  },
  {
   "cell_type": "markdown",
   "id": "99111297",
   "metadata": {},
   "source": [
    "### Q) Once you have a mechanism to estimate the “level of default”, please describe how the financial institution must use that mechanism to decide whether to approve or decline the prospect for the loan they are applying for.  "
   ]
  },
  {
   "cell_type": "raw",
   "id": "0e8eb6da",
   "metadata": {},
   "source": [
    "# Things dependes on Business Domain.\n",
    "\n",
    "I thinks, it's all about to choose right labels (\"Default\" or \"Not Default\") for candidates who apply for the loan.\n",
    "\n",
    "The level of diffcult is to select the right person for the loan approval,\n",
    "beacuse CONDITION 1: If algorithm say \"Not Default\" but in furture person may be default for business. it's loss\n",
    "and CONDITION 2: If algorithm say \"Default\", but in actually person is not \"Default\". This is also a loss because we loose\n",
    "fair business, In comparison of CONDITION 1 it is not bad for business.\n",
    "That's why use F1 score to overcome from this problem.     \n",
    "\n",
    "We should go with Logistic Algorithm because we know the origin of output [0, 1]. Also our business cannot take the financial risk.\n",
    "Focus on correct information of all variable atleast important 20 features. That help the algorithm to predict the right label [0,1].\n",
    "\n",
    "In statstics Logistic Regression we change the threshold to slove our problem.\n",
    "\n",
    "It's not the about code of Machine Learning Algorithm, It's about provide the right information to the Algorithm then the output will be more accurate."
   ]
  }
 ],
 "metadata": {
  "kernelspec": {
   "display_name": "Python 3",
   "language": "python",
   "name": "python3"
  },
  "language_info": {
   "codemirror_mode": {
    "name": "ipython",
    "version": 3
   },
   "file_extension": ".py",
   "mimetype": "text/x-python",
   "name": "python",
   "nbconvert_exporter": "python",
   "pygments_lexer": "ipython3",
   "version": "3.8.8"
  }
 },
 "nbformat": 4,
 "nbformat_minor": 5
}
